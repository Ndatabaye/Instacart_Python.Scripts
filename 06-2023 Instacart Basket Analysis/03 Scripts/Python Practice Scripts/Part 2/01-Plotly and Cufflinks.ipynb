{
 "cells": [
  {
   "cell_type": "markdown",
   "metadata": {},
   "source": [
    "___\n",
    "\n",
    "<a href='http://www.pieriandata.com'> <img src='../Pierian_Data_Logo.png' /></a>\n",
    "___\n",
    "# Plotly and Cufflinks"
   ]
  },
  {
   "cell_type": "markdown",
   "metadata": {},
   "source": [
    "Plotly is a library that allows you to create interactive plots that you can use in dashboards or websites (you can save them as html files or static images).\n",
    "\n",
    "## Installation\n",
    "\n",
    "In order for this all to work, you'll need to install plotly and cufflinks to call plots directly off of a pandas dataframe. These libraries are not currently available through **conda** but are available through **pip**. Install the libraries at your command line/terminal using:\n",
    "\n",
    "    pip install plotly\n",
    "    pip install cufflinks\n",
    "\n",
    "** NOTE: Make sure you only have one installation of Python on your computer when you do this, otherwise the installation may not work. **\n",
    "\n",
    "## Imports and Set-up"
   ]
  },
  {
   "cell_type": "code",
   "execution_count": 1,
   "metadata": {},
   "outputs": [
    {
     "name": "stdout",
     "output_type": "stream",
     "text": [
      "Requirement already satisfied: plotly in /Users/guillaumemac/anaconda3/lib/python3.10/site-packages (5.9.0)\n",
      "Requirement already satisfied: tenacity>=6.2.0 in /Users/guillaumemac/anaconda3/lib/python3.10/site-packages (from plotly) (8.0.1)\n",
      "Note: you may need to restart the kernel to use updated packages.\n"
     ]
    }
   ],
   "source": [
    "pip install plotly"
   ]
  },
  {
   "cell_type": "code",
   "execution_count": 2,
   "metadata": {},
   "outputs": [
    {
     "name": "stdout",
     "output_type": "stream",
     "text": [
      "Collecting cufflinks\n",
      "  Downloading cufflinks-0.17.3.tar.gz (81 kB)\n",
      "\u001b[2K     \u001b[90m━━━━━━━━━━━━━━━━━━━━━━━━━━━━━━━━━━━━━━━━\u001b[0m \u001b[32m81.7/81.7 kB\u001b[0m \u001b[31m1.9 MB/s\u001b[0m eta \u001b[36m0:00:00\u001b[0m-:--:--\u001b[0m\n",
      "\u001b[?25h  Preparing metadata (setup.py) ... \u001b[?25ldone\n",
      "\u001b[?25hRequirement already satisfied: numpy>=1.9.2 in /Users/guillaumemac/anaconda3/lib/python3.10/site-packages (from cufflinks) (1.23.5)\n",
      "Requirement already satisfied: pandas>=0.19.2 in /Users/guillaumemac/anaconda3/lib/python3.10/site-packages (from cufflinks) (1.5.3)\n",
      "Requirement already satisfied: plotly>=4.1.1 in /Users/guillaumemac/anaconda3/lib/python3.10/site-packages (from cufflinks) (5.9.0)\n",
      "Requirement already satisfied: six>=1.9.0 in /Users/guillaumemac/anaconda3/lib/python3.10/site-packages (from cufflinks) (1.16.0)\n",
      "Collecting colorlover>=0.2.1\n",
      "  Downloading colorlover-0.3.0-py3-none-any.whl (8.9 kB)\n",
      "Requirement already satisfied: setuptools>=34.4.1 in /Users/guillaumemac/anaconda3/lib/python3.10/site-packages (from cufflinks) (65.6.3)\n",
      "Requirement already satisfied: ipython>=5.3.0 in /Users/guillaumemac/anaconda3/lib/python3.10/site-packages (from cufflinks) (8.10.0)\n",
      "Collecting ipywidgets>=7.0.0\n",
      "  Downloading ipywidgets-8.0.7-py3-none-any.whl (138 kB)\n",
      "\u001b[2K     \u001b[90m━━━━━━━━━━━━━━━━━━━━━━━━━━━━━━━━━━━━━\u001b[0m \u001b[32m138.3/138.3 kB\u001b[0m \u001b[31m996.1 kB/s\u001b[0m eta \u001b[36m0:00:00\u001b[0ma \u001b[36m0:00:01\u001b[0m\n",
      "\u001b[?25hRequirement already satisfied: jedi>=0.16 in /Users/guillaumemac/anaconda3/lib/python3.10/site-packages (from ipython>=5.3.0->cufflinks) (0.18.1)\n",
      "Requirement already satisfied: pexpect>4.3 in /Users/guillaumemac/anaconda3/lib/python3.10/site-packages (from ipython>=5.3.0->cufflinks) (4.8.0)\n",
      "Requirement already satisfied: traitlets>=5 in /Users/guillaumemac/anaconda3/lib/python3.10/site-packages (from ipython>=5.3.0->cufflinks) (5.7.1)\n",
      "Requirement already satisfied: prompt-toolkit<3.1.0,>=3.0.30 in /Users/guillaumemac/anaconda3/lib/python3.10/site-packages (from ipython>=5.3.0->cufflinks) (3.0.36)\n",
      "Requirement already satisfied: decorator in /Users/guillaumemac/anaconda3/lib/python3.10/site-packages (from ipython>=5.3.0->cufflinks) (5.1.1)\n",
      "Requirement already satisfied: stack-data in /Users/guillaumemac/anaconda3/lib/python3.10/site-packages (from ipython>=5.3.0->cufflinks) (0.2.0)\n",
      "Requirement already satisfied: backcall in /Users/guillaumemac/anaconda3/lib/python3.10/site-packages (from ipython>=5.3.0->cufflinks) (0.2.0)\n",
      "Requirement already satisfied: matplotlib-inline in /Users/guillaumemac/anaconda3/lib/python3.10/site-packages (from ipython>=5.3.0->cufflinks) (0.1.6)\n",
      "Requirement already satisfied: appnope in /Users/guillaumemac/anaconda3/lib/python3.10/site-packages (from ipython>=5.3.0->cufflinks) (0.1.2)\n",
      "Requirement already satisfied: pickleshare in /Users/guillaumemac/anaconda3/lib/python3.10/site-packages (from ipython>=5.3.0->cufflinks) (0.7.5)\n",
      "Requirement already satisfied: pygments>=2.4.0 in /Users/guillaumemac/anaconda3/lib/python3.10/site-packages (from ipython>=5.3.0->cufflinks) (2.11.2)\n",
      "Collecting widgetsnbextension~=4.0.7\n",
      "  Downloading widgetsnbextension-4.0.8-py3-none-any.whl (2.3 MB)\n",
      "\u001b[2K     \u001b[90m━━━━━━━━━━━━━━━━━━━━━━━━━━━━━━━━━━━━━━━━\u001b[0m \u001b[32m2.3/2.3 MB\u001b[0m \u001b[31m978.4 kB/s\u001b[0m eta \u001b[36m0:00:00\u001b[0m00:01\u001b[0m00:01\u001b[0m\n",
      "\u001b[?25hRequirement already satisfied: ipykernel>=4.5.1 in /Users/guillaumemac/anaconda3/lib/python3.10/site-packages (from ipywidgets>=7.0.0->cufflinks) (6.19.2)\n",
      "Collecting jupyterlab-widgets~=3.0.7\n",
      "  Downloading jupyterlab_widgets-3.0.8-py3-none-any.whl (214 kB)\n",
      "\u001b[2K     \u001b[90m━━━━━━━━━━━━━━━━━━━━━━━━━━━━━━━━━━━━━━━\u001b[0m \u001b[32m215.0/215.0 kB\u001b[0m \u001b[31m2.2 MB/s\u001b[0m eta \u001b[36m0:00:00\u001b[0ma \u001b[36m0:00:01\u001b[0m\n",
      "\u001b[?25hRequirement already satisfied: python-dateutil>=2.8.1 in /Users/guillaumemac/anaconda3/lib/python3.10/site-packages (from pandas>=0.19.2->cufflinks) (2.8.2)\n",
      "Requirement already satisfied: pytz>=2020.1 in /Users/guillaumemac/anaconda3/lib/python3.10/site-packages (from pandas>=0.19.2->cufflinks) (2022.7)\n",
      "Requirement already satisfied: tenacity>=6.2.0 in /Users/guillaumemac/anaconda3/lib/python3.10/site-packages (from plotly>=4.1.1->cufflinks) (8.0.1)\n",
      "Requirement already satisfied: packaging in /Users/guillaumemac/anaconda3/lib/python3.10/site-packages (from ipykernel>=4.5.1->ipywidgets>=7.0.0->cufflinks) (22.0)\n",
      "Requirement already satisfied: debugpy>=1.0 in /Users/guillaumemac/anaconda3/lib/python3.10/site-packages (from ipykernel>=4.5.1->ipywidgets>=7.0.0->cufflinks) (1.5.1)\n",
      "Requirement already satisfied: pyzmq>=17 in /Users/guillaumemac/anaconda3/lib/python3.10/site-packages (from ipykernel>=4.5.1->ipywidgets>=7.0.0->cufflinks) (23.2.0)\n",
      "Requirement already satisfied: psutil in /Users/guillaumemac/anaconda3/lib/python3.10/site-packages (from ipykernel>=4.5.1->ipywidgets>=7.0.0->cufflinks) (5.9.0)\n",
      "Requirement already satisfied: tornado>=6.1 in /Users/guillaumemac/anaconda3/lib/python3.10/site-packages (from ipykernel>=4.5.1->ipywidgets>=7.0.0->cufflinks) (6.1)\n",
      "Requirement already satisfied: nest-asyncio in /Users/guillaumemac/anaconda3/lib/python3.10/site-packages (from ipykernel>=4.5.1->ipywidgets>=7.0.0->cufflinks) (1.5.6)\n",
      "Requirement already satisfied: comm>=0.1.1 in /Users/guillaumemac/anaconda3/lib/python3.10/site-packages (from ipykernel>=4.5.1->ipywidgets>=7.0.0->cufflinks) (0.1.2)\n",
      "Requirement already satisfied: jupyter-client>=6.1.12 in /Users/guillaumemac/anaconda3/lib/python3.10/site-packages (from ipykernel>=4.5.1->ipywidgets>=7.0.0->cufflinks) (7.3.4)\n",
      "Requirement already satisfied: parso<0.9.0,>=0.8.0 in /Users/guillaumemac/anaconda3/lib/python3.10/site-packages (from jedi>=0.16->ipython>=5.3.0->cufflinks) (0.8.3)\n",
      "Requirement already satisfied: ptyprocess>=0.5 in /Users/guillaumemac/anaconda3/lib/python3.10/site-packages (from pexpect>4.3->ipython>=5.3.0->cufflinks) (0.7.0)\n",
      "Requirement already satisfied: wcwidth in /Users/guillaumemac/anaconda3/lib/python3.10/site-packages (from prompt-toolkit<3.1.0,>=3.0.30->ipython>=5.3.0->cufflinks) (0.2.5)\n",
      "Requirement already satisfied: executing in /Users/guillaumemac/anaconda3/lib/python3.10/site-packages (from stack-data->ipython>=5.3.0->cufflinks) (0.8.3)\n",
      "Requirement already satisfied: pure-eval in /Users/guillaumemac/anaconda3/lib/python3.10/site-packages (from stack-data->ipython>=5.3.0->cufflinks) (0.2.2)\n",
      "Requirement already satisfied: asttokens in /Users/guillaumemac/anaconda3/lib/python3.10/site-packages (from stack-data->ipython>=5.3.0->cufflinks) (2.0.5)\n",
      "Requirement already satisfied: jupyter-core>=4.9.2 in /Users/guillaumemac/anaconda3/lib/python3.10/site-packages (from jupyter-client>=6.1.12->ipykernel>=4.5.1->ipywidgets>=7.0.0->cufflinks) (5.2.0)\n",
      "Requirement already satisfied: entrypoints in /Users/guillaumemac/anaconda3/lib/python3.10/site-packages (from jupyter-client>=6.1.12->ipykernel>=4.5.1->ipywidgets>=7.0.0->cufflinks) (0.4)\n",
      "Requirement already satisfied: platformdirs>=2.5 in /Users/guillaumemac/anaconda3/lib/python3.10/site-packages (from jupyter-core>=4.9.2->jupyter-client>=6.1.12->ipykernel>=4.5.1->ipywidgets>=7.0.0->cufflinks) (2.5.2)\n",
      "Building wheels for collected packages: cufflinks\n",
      "  Building wheel for cufflinks (setup.py) ... \u001b[?25ldone\n",
      "\u001b[?25h  Created wheel for cufflinks: filename=cufflinks-0.17.3-py3-none-any.whl size=67902 sha256=c8f5a3590d62e0aff7002d2bca2e3917be9c1b3433c27c088150985ad31d616c\n",
      "  Stored in directory: /Users/guillaumemac/Library/Caches/pip/wheels/b1/8f/ec/b76ac80a14f3f5f59643cbc2eee7d78690b1bd158279f299dd\n",
      "Successfully built cufflinks\n",
      "Installing collected packages: colorlover, widgetsnbextension, jupyterlab-widgets, ipywidgets, cufflinks\n",
      "Successfully installed colorlover-0.3.0 cufflinks-0.17.3 ipywidgets-8.0.7 jupyterlab-widgets-3.0.8 widgetsnbextension-4.0.8\n",
      "Note: you may need to restart the kernel to use updated packages.\n"
     ]
    }
   ],
   "source": [
    "pip install cufflinks"
   ]
  },
  {
   "cell_type": "code",
   "execution_count": 3,
   "metadata": {},
   "outputs": [],
   "source": [
    "import pandas as pd\n",
    "import numpy as np\n",
    "#%matplotlib inline"
   ]
  },
  {
   "cell_type": "code",
   "execution_count": 4,
   "metadata": {},
   "outputs": [
    {
     "name": "stdout",
     "output_type": "stream",
     "text": [
      "5.9.0\n"
     ]
    }
   ],
   "source": [
    "from plotly import __version__\n",
    "from plotly.offline import download_plotlyjs, init_notebook_mode, plot, iplot\n",
    "\n",
    "print(__version__) # requires version >= 1.9.0"
   ]
  },
  {
   "cell_type": "code",
   "execution_count": 5,
   "metadata": {},
   "outputs": [],
   "source": [
    "import cufflinks as cf"
   ]
  },
  {
   "cell_type": "code",
   "execution_count": 6,
   "metadata": {},
   "outputs": [
    {
     "data": {
      "text/html": [
       "        <script type=\"text/javascript\">\n",
       "        window.PlotlyConfig = {MathJaxConfig: 'local'};\n",
       "        if (window.MathJax && window.MathJax.Hub && window.MathJax.Hub.Config) {window.MathJax.Hub.Config({SVG: {font: \"STIX-Web\"}});}\n",
       "        if (typeof require !== 'undefined') {\n",
       "        require.undef(\"plotly\");\n",
       "        requirejs.config({\n",
       "            paths: {\n",
       "                'plotly': ['https://cdn.plot.ly/plotly-2.12.1.min']\n",
       "            }\n",
       "        });\n",
       "        require(['plotly'], function(Plotly) {\n",
       "            window._Plotly = Plotly;\n",
       "        });\n",
       "        }\n",
       "        </script>\n",
       "        "
      ]
     },
     "metadata": {},
     "output_type": "display_data"
    }
   ],
   "source": [
    "# For Notebooks\n",
    "init_notebook_mode(connected=True)"
   ]
  },
  {
   "cell_type": "code",
   "execution_count": 7,
   "metadata": {},
   "outputs": [
    {
     "data": {
      "text/html": [
       "        <script type=\"text/javascript\">\n",
       "        window.PlotlyConfig = {MathJaxConfig: 'local'};\n",
       "        if (window.MathJax && window.MathJax.Hub && window.MathJax.Hub.Config) {window.MathJax.Hub.Config({SVG: {font: \"STIX-Web\"}});}\n",
       "        if (typeof require !== 'undefined') {\n",
       "        require.undef(\"plotly\");\n",
       "        requirejs.config({\n",
       "            paths: {\n",
       "                'plotly': ['https://cdn.plot.ly/plotly-2.12.1.min']\n",
       "            }\n",
       "        });\n",
       "        require(['plotly'], function(Plotly) {\n",
       "            window._Plotly = Plotly;\n",
       "        });\n",
       "        }\n",
       "        </script>\n",
       "        "
      ]
     },
     "metadata": {},
     "output_type": "display_data"
    }
   ],
   "source": [
    "# For offline use\n",
    "cf.go_offline()"
   ]
  },
  {
   "cell_type": "markdown",
   "metadata": {},
   "source": [
    "### Fake Data"
   ]
  },
  {
   "cell_type": "code",
   "execution_count": 8,
   "metadata": {},
   "outputs": [],
   "source": [
    "df = pd.DataFrame(np.random.randn(100,4),columns='A B C D'.split())"
   ]
  },
  {
   "cell_type": "code",
   "execution_count": 9,
   "metadata": {},
   "outputs": [
    {
     "data": {
      "text/html": [
       "<div>\n",
       "<style scoped>\n",
       "    .dataframe tbody tr th:only-of-type {\n",
       "        vertical-align: middle;\n",
       "    }\n",
       "\n",
       "    .dataframe tbody tr th {\n",
       "        vertical-align: top;\n",
       "    }\n",
       "\n",
       "    .dataframe thead th {\n",
       "        text-align: right;\n",
       "    }\n",
       "</style>\n",
       "<table border=\"1\" class=\"dataframe\">\n",
       "  <thead>\n",
       "    <tr style=\"text-align: right;\">\n",
       "      <th></th>\n",
       "      <th>A</th>\n",
       "      <th>B</th>\n",
       "      <th>C</th>\n",
       "      <th>D</th>\n",
       "    </tr>\n",
       "  </thead>\n",
       "  <tbody>\n",
       "    <tr>\n",
       "      <th>0</th>\n",
       "      <td>0.880959</td>\n",
       "      <td>-1.599128</td>\n",
       "      <td>-0.509051</td>\n",
       "      <td>-0.904352</td>\n",
       "    </tr>\n",
       "    <tr>\n",
       "      <th>1</th>\n",
       "      <td>0.333455</td>\n",
       "      <td>-0.813980</td>\n",
       "      <td>0.467835</td>\n",
       "      <td>1.412652</td>\n",
       "    </tr>\n",
       "    <tr>\n",
       "      <th>2</th>\n",
       "      <td>-0.740945</td>\n",
       "      <td>0.888492</td>\n",
       "      <td>0.514014</td>\n",
       "      <td>0.015609</td>\n",
       "    </tr>\n",
       "    <tr>\n",
       "      <th>3</th>\n",
       "      <td>-1.097725</td>\n",
       "      <td>0.015895</td>\n",
       "      <td>-0.135858</td>\n",
       "      <td>-0.575236</td>\n",
       "    </tr>\n",
       "    <tr>\n",
       "      <th>4</th>\n",
       "      <td>1.426957</td>\n",
       "      <td>-0.632521</td>\n",
       "      <td>-1.112042</td>\n",
       "      <td>-2.272948</td>\n",
       "    </tr>\n",
       "  </tbody>\n",
       "</table>\n",
       "</div>"
      ],
      "text/plain": [
       "          A         B         C         D\n",
       "0  0.880959 -1.599128 -0.509051 -0.904352\n",
       "1  0.333455 -0.813980  0.467835  1.412652\n",
       "2 -0.740945  0.888492  0.514014  0.015609\n",
       "3 -1.097725  0.015895 -0.135858 -0.575236\n",
       "4  1.426957 -0.632521 -1.112042 -2.272948"
      ]
     },
     "execution_count": 9,
     "metadata": {},
     "output_type": "execute_result"
    }
   ],
   "source": [
    "df.head()"
   ]
  },
  {
   "cell_type": "code",
   "execution_count": 10,
   "metadata": {},
   "outputs": [],
   "source": [
    "df2 = pd.DataFrame({'Category':['A','B','C'],'Values':[32,43,50]})"
   ]
  },
  {
   "cell_type": "code",
   "execution_count": 11,
   "metadata": {},
   "outputs": [
    {
     "data": {
      "text/html": [
       "<div>\n",
       "<style scoped>\n",
       "    .dataframe tbody tr th:only-of-type {\n",
       "        vertical-align: middle;\n",
       "    }\n",
       "\n",
       "    .dataframe tbody tr th {\n",
       "        vertical-align: top;\n",
       "    }\n",
       "\n",
       "    .dataframe thead th {\n",
       "        text-align: right;\n",
       "    }\n",
       "</style>\n",
       "<table border=\"1\" class=\"dataframe\">\n",
       "  <thead>\n",
       "    <tr style=\"text-align: right;\">\n",
       "      <th></th>\n",
       "      <th>Category</th>\n",
       "      <th>Values</th>\n",
       "    </tr>\n",
       "  </thead>\n",
       "  <tbody>\n",
       "    <tr>\n",
       "      <th>0</th>\n",
       "      <td>A</td>\n",
       "      <td>32</td>\n",
       "    </tr>\n",
       "    <tr>\n",
       "      <th>1</th>\n",
       "      <td>B</td>\n",
       "      <td>43</td>\n",
       "    </tr>\n",
       "    <tr>\n",
       "      <th>2</th>\n",
       "      <td>C</td>\n",
       "      <td>50</td>\n",
       "    </tr>\n",
       "  </tbody>\n",
       "</table>\n",
       "</div>"
      ],
      "text/plain": [
       "  Category  Values\n",
       "0        A      32\n",
       "1        B      43\n",
       "2        C      50"
      ]
     },
     "execution_count": 11,
     "metadata": {},
     "output_type": "execute_result"
    }
   ],
   "source": [
    "df2.head()"
   ]
  },
  {
   "cell_type": "markdown",
   "metadata": {},
   "source": [
    "## Using Cufflinks and iplot()\n",
    "\n",
    "* scatter\n",
    "* bar\n",
    "* box\n",
    "* spread\n",
    "* ratio\n",
    "* heatmap\n",
    "* surface\n",
    "* histogram\n",
    "* bubble"
   ]
  },
  {
   "cell_type": "markdown",
   "metadata": {},
   "source": [
    "## Scatter"
   ]
  },
  {
   "cell_type": "code",
   "execution_count": 12,
   "metadata": {},
   "outputs": [
    {
     "data": {
      "application/vnd.plotly.v1+json": {
       "config": {
        "linkText": "Export to plot.ly",
        "plotlyServerURL": "https://plot.ly",
        "showLink": true
       },
       "data": [
        {
         "line": {
          "color": "rgba(255, 153, 51, 1.0)",
          "dash": "solid",
          "shape": "linear",
          "width": 1.3
         },
         "marker": {
          "size": 10,
          "symbol": "circle"
         },
         "mode": "markers",
         "name": "B",
         "text": "",
         "type": "scatter",
         "x": [
          0.880959023786186,
          0.33345468870373934,
          -0.7409452183565108,
          -1.0977254619292793,
          1.426956946279641,
          -0.40451770845568713,
          0.7724937627319252,
          0.644782086556282,
          -1.4869968168898273,
          0.37640996305940577,
          0.19241489957125432,
          -1.111594409266069,
          -1.5716846453869657,
          -0.36244462977814346,
          0.9744328917524051,
          0.343809552356227,
          -0.3080270466791063,
          -0.1950077347039267,
          -0.18910257491181054,
          -0.6381781064691867,
          0.5260265822330088,
          0.17218121992761243,
          0.1317493478999784,
          -1.0133952881868464,
          -0.16642802340778293,
          -0.644563294742128,
          0.7660731182339767,
          0.47884529664076686,
          -0.521733455462245,
          0.2847131403623892,
          1.5396458082150322,
          -0.4241727051938035,
          0.8362651765647242,
          -0.9500544906883717,
          1.4845688288335317,
          1.1664130670490056,
          -0.0973424642717085,
          0.10116897363812288,
          1.4395527944343374,
          -0.935803180624831,
          1.191156335436539,
          0.7008093119694427,
          -0.9877741095005993,
          -0.4067540719547818,
          -1.370266828503218,
          -1.5353289076252745,
          0.5156460626883984,
          0.4587356572312894,
          0.09260485165730781,
          -1.6636675799745504,
          -0.7290334138658231,
          2.3527806369229394,
          -0.02979154016277506,
          0.024883854810285724,
          0.1899346163866445,
          0.5236554909988752,
          -0.4997433251662194,
          -1.3642904785357,
          -0.29608229446459455,
          -0.6610346788287468,
          0.33500653513485135,
          1.1434766678809734,
          0.6274696800615975,
          0.16552222232531544,
          -0.20205077372308394,
          0.912181391847108,
          -0.5858661976669097,
          -0.3396202037385737,
          0.893157460815925,
          -0.03964706555960653,
          -1.3103665565452216,
          0.5145396422513303,
          0.4166449293411519,
          1.3876021868735242,
          -0.3566481515000294,
          1.2902317814630657,
          0.8846490176365839,
          -1.5320252852273633,
          0.24356536270953288,
          1.3827634187849156,
          1.1819807080169038,
          -0.9660934499810131,
          -0.14796198765918317,
          -0.29251024584393925,
          -1.2027691265328306,
          1.920477778045479,
          -0.4130477360151552,
          0.5202955950169208,
          1.455326064624853,
          -2.0227300702714315,
          -1.6256166848992932,
          0.07554860674090483,
          1.7989334075269259,
          -1.4357117254331069,
          -1.1162061239030632,
          1.2645613747776647,
          -0.05085065547567881,
          1.3957163268407782,
          0.24453545539482402,
          0.4271283479483513
         ],
         "y": [
          -1.5991275929197728,
          -0.8139801222032823,
          0.8884921961412762,
          0.015894687243417947,
          -0.6325211178813915,
          -1.9991061820032472,
          -0.555553251851912,
          -0.35026738841258764,
          0.46336296385168246,
          -0.33200786419981354,
          -0.014622520917696516,
          -1.2701991072571905,
          2.0392368945542794,
          -0.2820636697677745,
          1.1342694570432095,
          1.561697756976798,
          1.0717177775448286,
          1.1522195478371517,
          0.7570476750581898,
          -0.09291807113560716,
          -1.6674145944274692,
          -0.6686748289046941,
          -0.979060347779246,
          0.8576553382435183,
          0.9156021630201164,
          1.0388677923626626,
          2.336127802368596,
          0.40685339783055247,
          0.5189884359989433,
          0.07478796476990413,
          -0.6238735508899921,
          0.6256175510166899,
          0.5922977782752936,
          -1.1265454524507295,
          1.4698329632388514,
          0.42799339053984825,
          0.8457940003940891,
          -0.1262185339529523,
          -0.25234556078581993,
          -1.1260192157045796,
          0.3835707132779261,
          -0.8314028714113617,
          0.8777179911373496,
          1.4463623493451832,
          3.1034799952860674,
          1.013634913867253,
          1.779853980511546,
          0.10860250518723495,
          0.22796974651343066,
          -1.0458153022900263,
          -1.131689781985826,
          2.7004697893450524,
          1.0334664852867421,
          -0.9288778444152588,
          0.4769366435803124,
          3.0211093187401215,
          1.0593724527376387,
          -0.6087819099103041,
          -0.2575805456381415,
          0.5066594778797082,
          1.4002989836878734,
          1.4411063346739925,
          0.04840543213115739,
          1.896847405157337,
          0.6338012305107075,
          -1.3562240913416577,
          0.4019154283115991,
          0.5629306992560655,
          -0.5792695927028133,
          1.1149305580150437,
          2.1164451210238098,
          -0.6520525930293237,
          -0.6584177578263147,
          0.9868904525143627,
          -0.41216520249140554,
          -0.27287903130401997,
          1.115666369860281,
          -0.39772904944217946,
          -0.4598852585159614,
          -1.7834138468017278,
          -0.2923694109708229,
          -1.8736668007494182,
          -0.36712341162900086,
          -1.0182841444821644,
          -0.3975773402120633,
          0.5562011702221297,
          0.3728989910009789,
          -1.1391381258104147,
          1.8661318239083446,
          1.1281553985958181,
          2.043942601739804,
          0.3751146032127571,
          0.06444449486988196,
          1.4759000232939212,
          -0.8826082038740967,
          -1.8309620572532959,
          -1.9116865067345703,
          1.3435903624112713,
          -0.3510226043980688,
          -1.336307829278521
         ]
        }
       ],
       "layout": {
        "legend": {
         "bgcolor": "#F5F6F9",
         "font": {
          "color": "#4D5663"
         }
        },
        "paper_bgcolor": "#F5F6F9",
        "plot_bgcolor": "#F5F6F9",
        "template": {
         "data": {
          "bar": [
           {
            "error_x": {
             "color": "#2a3f5f"
            },
            "error_y": {
             "color": "#2a3f5f"
            },
            "marker": {
             "line": {
              "color": "#E5ECF6",
              "width": 0.5
             },
             "pattern": {
              "fillmode": "overlay",
              "size": 10,
              "solidity": 0.2
             }
            },
            "type": "bar"
           }
          ],
          "barpolar": [
           {
            "marker": {
             "line": {
              "color": "#E5ECF6",
              "width": 0.5
             },
             "pattern": {
              "fillmode": "overlay",
              "size": 10,
              "solidity": 0.2
             }
            },
            "type": "barpolar"
           }
          ],
          "carpet": [
           {
            "aaxis": {
             "endlinecolor": "#2a3f5f",
             "gridcolor": "white",
             "linecolor": "white",
             "minorgridcolor": "white",
             "startlinecolor": "#2a3f5f"
            },
            "baxis": {
             "endlinecolor": "#2a3f5f",
             "gridcolor": "white",
             "linecolor": "white",
             "minorgridcolor": "white",
             "startlinecolor": "#2a3f5f"
            },
            "type": "carpet"
           }
          ],
          "choropleth": [
           {
            "colorbar": {
             "outlinewidth": 0,
             "ticks": ""
            },
            "type": "choropleth"
           }
          ],
          "contour": [
           {
            "colorbar": {
             "outlinewidth": 0,
             "ticks": ""
            },
            "colorscale": [
             [
              0,
              "#0d0887"
             ],
             [
              0.1111111111111111,
              "#46039f"
             ],
             [
              0.2222222222222222,
              "#7201a8"
             ],
             [
              0.3333333333333333,
              "#9c179e"
             ],
             [
              0.4444444444444444,
              "#bd3786"
             ],
             [
              0.5555555555555556,
              "#d8576b"
             ],
             [
              0.6666666666666666,
              "#ed7953"
             ],
             [
              0.7777777777777778,
              "#fb9f3a"
             ],
             [
              0.8888888888888888,
              "#fdca26"
             ],
             [
              1,
              "#f0f921"
             ]
            ],
            "type": "contour"
           }
          ],
          "contourcarpet": [
           {
            "colorbar": {
             "outlinewidth": 0,
             "ticks": ""
            },
            "type": "contourcarpet"
           }
          ],
          "heatmap": [
           {
            "colorbar": {
             "outlinewidth": 0,
             "ticks": ""
            },
            "colorscale": [
             [
              0,
              "#0d0887"
             ],
             [
              0.1111111111111111,
              "#46039f"
             ],
             [
              0.2222222222222222,
              "#7201a8"
             ],
             [
              0.3333333333333333,
              "#9c179e"
             ],
             [
              0.4444444444444444,
              "#bd3786"
             ],
             [
              0.5555555555555556,
              "#d8576b"
             ],
             [
              0.6666666666666666,
              "#ed7953"
             ],
             [
              0.7777777777777778,
              "#fb9f3a"
             ],
             [
              0.8888888888888888,
              "#fdca26"
             ],
             [
              1,
              "#f0f921"
             ]
            ],
            "type": "heatmap"
           }
          ],
          "heatmapgl": [
           {
            "colorbar": {
             "outlinewidth": 0,
             "ticks": ""
            },
            "colorscale": [
             [
              0,
              "#0d0887"
             ],
             [
              0.1111111111111111,
              "#46039f"
             ],
             [
              0.2222222222222222,
              "#7201a8"
             ],
             [
              0.3333333333333333,
              "#9c179e"
             ],
             [
              0.4444444444444444,
              "#bd3786"
             ],
             [
              0.5555555555555556,
              "#d8576b"
             ],
             [
              0.6666666666666666,
              "#ed7953"
             ],
             [
              0.7777777777777778,
              "#fb9f3a"
             ],
             [
              0.8888888888888888,
              "#fdca26"
             ],
             [
              1,
              "#f0f921"
             ]
            ],
            "type": "heatmapgl"
           }
          ],
          "histogram": [
           {
            "marker": {
             "pattern": {
              "fillmode": "overlay",
              "size": 10,
              "solidity": 0.2
             }
            },
            "type": "histogram"
           }
          ],
          "histogram2d": [
           {
            "colorbar": {
             "outlinewidth": 0,
             "ticks": ""
            },
            "colorscale": [
             [
              0,
              "#0d0887"
             ],
             [
              0.1111111111111111,
              "#46039f"
             ],
             [
              0.2222222222222222,
              "#7201a8"
             ],
             [
              0.3333333333333333,
              "#9c179e"
             ],
             [
              0.4444444444444444,
              "#bd3786"
             ],
             [
              0.5555555555555556,
              "#d8576b"
             ],
             [
              0.6666666666666666,
              "#ed7953"
             ],
             [
              0.7777777777777778,
              "#fb9f3a"
             ],
             [
              0.8888888888888888,
              "#fdca26"
             ],
             [
              1,
              "#f0f921"
             ]
            ],
            "type": "histogram2d"
           }
          ],
          "histogram2dcontour": [
           {
            "colorbar": {
             "outlinewidth": 0,
             "ticks": ""
            },
            "colorscale": [
             [
              0,
              "#0d0887"
             ],
             [
              0.1111111111111111,
              "#46039f"
             ],
             [
              0.2222222222222222,
              "#7201a8"
             ],
             [
              0.3333333333333333,
              "#9c179e"
             ],
             [
              0.4444444444444444,
              "#bd3786"
             ],
             [
              0.5555555555555556,
              "#d8576b"
             ],
             [
              0.6666666666666666,
              "#ed7953"
             ],
             [
              0.7777777777777778,
              "#fb9f3a"
             ],
             [
              0.8888888888888888,
              "#fdca26"
             ],
             [
              1,
              "#f0f921"
             ]
            ],
            "type": "histogram2dcontour"
           }
          ],
          "mesh3d": [
           {
            "colorbar": {
             "outlinewidth": 0,
             "ticks": ""
            },
            "type": "mesh3d"
           }
          ],
          "parcoords": [
           {
            "line": {
             "colorbar": {
              "outlinewidth": 0,
              "ticks": ""
             }
            },
            "type": "parcoords"
           }
          ],
          "pie": [
           {
            "automargin": true,
            "type": "pie"
           }
          ],
          "scatter": [
           {
            "fillpattern": {
             "fillmode": "overlay",
             "size": 10,
             "solidity": 0.2
            },
            "type": "scatter"
           }
          ],
          "scatter3d": [
           {
            "line": {
             "colorbar": {
              "outlinewidth": 0,
              "ticks": ""
             }
            },
            "marker": {
             "colorbar": {
              "outlinewidth": 0,
              "ticks": ""
             }
            },
            "type": "scatter3d"
           }
          ],
          "scattercarpet": [
           {
            "marker": {
             "colorbar": {
              "outlinewidth": 0,
              "ticks": ""
             }
            },
            "type": "scattercarpet"
           }
          ],
          "scattergeo": [
           {
            "marker": {
             "colorbar": {
              "outlinewidth": 0,
              "ticks": ""
             }
            },
            "type": "scattergeo"
           }
          ],
          "scattergl": [
           {
            "marker": {
             "colorbar": {
              "outlinewidth": 0,
              "ticks": ""
             }
            },
            "type": "scattergl"
           }
          ],
          "scattermapbox": [
           {
            "marker": {
             "colorbar": {
              "outlinewidth": 0,
              "ticks": ""
             }
            },
            "type": "scattermapbox"
           }
          ],
          "scatterpolar": [
           {
            "marker": {
             "colorbar": {
              "outlinewidth": 0,
              "ticks": ""
             }
            },
            "type": "scatterpolar"
           }
          ],
          "scatterpolargl": [
           {
            "marker": {
             "colorbar": {
              "outlinewidth": 0,
              "ticks": ""
             }
            },
            "type": "scatterpolargl"
           }
          ],
          "scatterternary": [
           {
            "marker": {
             "colorbar": {
              "outlinewidth": 0,
              "ticks": ""
             }
            },
            "type": "scatterternary"
           }
          ],
          "surface": [
           {
            "colorbar": {
             "outlinewidth": 0,
             "ticks": ""
            },
            "colorscale": [
             [
              0,
              "#0d0887"
             ],
             [
              0.1111111111111111,
              "#46039f"
             ],
             [
              0.2222222222222222,
              "#7201a8"
             ],
             [
              0.3333333333333333,
              "#9c179e"
             ],
             [
              0.4444444444444444,
              "#bd3786"
             ],
             [
              0.5555555555555556,
              "#d8576b"
             ],
             [
              0.6666666666666666,
              "#ed7953"
             ],
             [
              0.7777777777777778,
              "#fb9f3a"
             ],
             [
              0.8888888888888888,
              "#fdca26"
             ],
             [
              1,
              "#f0f921"
             ]
            ],
            "type": "surface"
           }
          ],
          "table": [
           {
            "cells": {
             "fill": {
              "color": "#EBF0F8"
             },
             "line": {
              "color": "white"
             }
            },
            "header": {
             "fill": {
              "color": "#C8D4E3"
             },
             "line": {
              "color": "white"
             }
            },
            "type": "table"
           }
          ]
         },
         "layout": {
          "annotationdefaults": {
           "arrowcolor": "#2a3f5f",
           "arrowhead": 0,
           "arrowwidth": 1
          },
          "autotypenumbers": "strict",
          "coloraxis": {
           "colorbar": {
            "outlinewidth": 0,
            "ticks": ""
           }
          },
          "colorscale": {
           "diverging": [
            [
             0,
             "#8e0152"
            ],
            [
             0.1,
             "#c51b7d"
            ],
            [
             0.2,
             "#de77ae"
            ],
            [
             0.3,
             "#f1b6da"
            ],
            [
             0.4,
             "#fde0ef"
            ],
            [
             0.5,
             "#f7f7f7"
            ],
            [
             0.6,
             "#e6f5d0"
            ],
            [
             0.7,
             "#b8e186"
            ],
            [
             0.8,
             "#7fbc41"
            ],
            [
             0.9,
             "#4d9221"
            ],
            [
             1,
             "#276419"
            ]
           ],
           "sequential": [
            [
             0,
             "#0d0887"
            ],
            [
             0.1111111111111111,
             "#46039f"
            ],
            [
             0.2222222222222222,
             "#7201a8"
            ],
            [
             0.3333333333333333,
             "#9c179e"
            ],
            [
             0.4444444444444444,
             "#bd3786"
            ],
            [
             0.5555555555555556,
             "#d8576b"
            ],
            [
             0.6666666666666666,
             "#ed7953"
            ],
            [
             0.7777777777777778,
             "#fb9f3a"
            ],
            [
             0.8888888888888888,
             "#fdca26"
            ],
            [
             1,
             "#f0f921"
            ]
           ],
           "sequentialminus": [
            [
             0,
             "#0d0887"
            ],
            [
             0.1111111111111111,
             "#46039f"
            ],
            [
             0.2222222222222222,
             "#7201a8"
            ],
            [
             0.3333333333333333,
             "#9c179e"
            ],
            [
             0.4444444444444444,
             "#bd3786"
            ],
            [
             0.5555555555555556,
             "#d8576b"
            ],
            [
             0.6666666666666666,
             "#ed7953"
            ],
            [
             0.7777777777777778,
             "#fb9f3a"
            ],
            [
             0.8888888888888888,
             "#fdca26"
            ],
            [
             1,
             "#f0f921"
            ]
           ]
          },
          "colorway": [
           "#636efa",
           "#EF553B",
           "#00cc96",
           "#ab63fa",
           "#FFA15A",
           "#19d3f3",
           "#FF6692",
           "#B6E880",
           "#FF97FF",
           "#FECB52"
          ],
          "font": {
           "color": "#2a3f5f"
          },
          "geo": {
           "bgcolor": "white",
           "lakecolor": "white",
           "landcolor": "#E5ECF6",
           "showlakes": true,
           "showland": true,
           "subunitcolor": "white"
          },
          "hoverlabel": {
           "align": "left"
          },
          "hovermode": "closest",
          "mapbox": {
           "style": "light"
          },
          "paper_bgcolor": "white",
          "plot_bgcolor": "#E5ECF6",
          "polar": {
           "angularaxis": {
            "gridcolor": "white",
            "linecolor": "white",
            "ticks": ""
           },
           "bgcolor": "#E5ECF6",
           "radialaxis": {
            "gridcolor": "white",
            "linecolor": "white",
            "ticks": ""
           }
          },
          "scene": {
           "xaxis": {
            "backgroundcolor": "#E5ECF6",
            "gridcolor": "white",
            "gridwidth": 2,
            "linecolor": "white",
            "showbackground": true,
            "ticks": "",
            "zerolinecolor": "white"
           },
           "yaxis": {
            "backgroundcolor": "#E5ECF6",
            "gridcolor": "white",
            "gridwidth": 2,
            "linecolor": "white",
            "showbackground": true,
            "ticks": "",
            "zerolinecolor": "white"
           },
           "zaxis": {
            "backgroundcolor": "#E5ECF6",
            "gridcolor": "white",
            "gridwidth": 2,
            "linecolor": "white",
            "showbackground": true,
            "ticks": "",
            "zerolinecolor": "white"
           }
          },
          "shapedefaults": {
           "line": {
            "color": "#2a3f5f"
           }
          },
          "ternary": {
           "aaxis": {
            "gridcolor": "white",
            "linecolor": "white",
            "ticks": ""
           },
           "baxis": {
            "gridcolor": "white",
            "linecolor": "white",
            "ticks": ""
           },
           "bgcolor": "#E5ECF6",
           "caxis": {
            "gridcolor": "white",
            "linecolor": "white",
            "ticks": ""
           }
          },
          "title": {
           "x": 0.05
          },
          "xaxis": {
           "automargin": true,
           "gridcolor": "white",
           "linecolor": "white",
           "ticks": "",
           "title": {
            "standoff": 15
           },
           "zerolinecolor": "white",
           "zerolinewidth": 2
          },
          "yaxis": {
           "automargin": true,
           "gridcolor": "white",
           "linecolor": "white",
           "ticks": "",
           "title": {
            "standoff": 15
           },
           "zerolinecolor": "white",
           "zerolinewidth": 2
          }
         }
        },
        "title": {
         "font": {
          "color": "#4D5663"
         }
        },
        "xaxis": {
         "gridcolor": "#E1E5ED",
         "showgrid": true,
         "tickfont": {
          "color": "#4D5663"
         },
         "title": {
          "font": {
           "color": "#4D5663"
          },
          "text": ""
         },
         "zerolinecolor": "#E1E5ED"
        },
        "yaxis": {
         "gridcolor": "#E1E5ED",
         "showgrid": true,
         "tickfont": {
          "color": "#4D5663"
         },
         "title": {
          "font": {
           "color": "#4D5663"
          },
          "text": ""
         },
         "zerolinecolor": "#E1E5ED"
        }
       }
      },
      "text/html": [
       "<div>                            <div id=\"5e5fb16d-04de-4548-8c13-b52f474643e8\" class=\"plotly-graph-div\" style=\"height:525px; width:100%;\"></div>            <script type=\"text/javascript\">                require([\"plotly\"], function(Plotly) {                    window.PLOTLYENV=window.PLOTLYENV || {};\n",
       "                    window.PLOTLYENV.BASE_URL='https://plot.ly';                                    if (document.getElementById(\"5e5fb16d-04de-4548-8c13-b52f474643e8\")) {                    Plotly.newPlot(                        \"5e5fb16d-04de-4548-8c13-b52f474643e8\",                        [{\"line\":{\"color\":\"rgba(255, 153, 51, 1.0)\",\"dash\":\"solid\",\"shape\":\"linear\",\"width\":1.3},\"marker\":{\"size\":10,\"symbol\":\"circle\"},\"mode\":\"markers\",\"name\":\"B\",\"text\":\"\",\"x\":[0.880959023786186,0.33345468870373934,-0.7409452183565108,-1.0977254619292793,1.426956946279641,-0.40451770845568713,0.7724937627319252,0.644782086556282,-1.4869968168898273,0.37640996305940577,0.19241489957125432,-1.111594409266069,-1.5716846453869657,-0.36244462977814346,0.9744328917524051,0.343809552356227,-0.3080270466791063,-0.1950077347039267,-0.18910257491181054,-0.6381781064691867,0.5260265822330088,0.17218121992761243,0.1317493478999784,-1.0133952881868464,-0.16642802340778293,-0.644563294742128,0.7660731182339767,0.47884529664076686,-0.521733455462245,0.2847131403623892,1.5396458082150322,-0.4241727051938035,0.8362651765647242,-0.9500544906883717,1.4845688288335317,1.1664130670490056,-0.0973424642717085,0.10116897363812288,1.4395527944343374,-0.935803180624831,1.191156335436539,0.7008093119694427,-0.9877741095005993,-0.4067540719547818,-1.370266828503218,-1.5353289076252745,0.5156460626883984,0.4587356572312894,0.09260485165730781,-1.6636675799745504,-0.7290334138658231,2.3527806369229394,-0.02979154016277506,0.024883854810285724,0.1899346163866445,0.5236554909988752,-0.4997433251662194,-1.3642904785357,-0.29608229446459455,-0.6610346788287468,0.33500653513485135,1.1434766678809734,0.6274696800615975,0.16552222232531544,-0.20205077372308394,0.912181391847108,-0.5858661976669097,-0.3396202037385737,0.893157460815925,-0.03964706555960653,-1.3103665565452216,0.5145396422513303,0.4166449293411519,1.3876021868735242,-0.3566481515000294,1.2902317814630657,0.8846490176365839,-1.5320252852273633,0.24356536270953288,1.3827634187849156,1.1819807080169038,-0.9660934499810131,-0.14796198765918317,-0.29251024584393925,-1.2027691265328306,1.920477778045479,-0.4130477360151552,0.5202955950169208,1.455326064624853,-2.0227300702714315,-1.6256166848992932,0.07554860674090483,1.7989334075269259,-1.4357117254331069,-1.1162061239030632,1.2645613747776647,-0.05085065547567881,1.3957163268407782,0.24453545539482402,0.4271283479483513],\"y\":[-1.5991275929197728,-0.8139801222032823,0.8884921961412762,0.015894687243417947,-0.6325211178813915,-1.9991061820032472,-0.555553251851912,-0.35026738841258764,0.46336296385168246,-0.33200786419981354,-0.014622520917696516,-1.2701991072571905,2.0392368945542794,-0.2820636697677745,1.1342694570432095,1.561697756976798,1.0717177775448286,1.1522195478371517,0.7570476750581898,-0.09291807113560716,-1.6674145944274692,-0.6686748289046941,-0.979060347779246,0.8576553382435183,0.9156021630201164,1.0388677923626626,2.336127802368596,0.40685339783055247,0.5189884359989433,0.07478796476990413,-0.6238735508899921,0.6256175510166899,0.5922977782752936,-1.1265454524507295,1.4698329632388514,0.42799339053984825,0.8457940003940891,-0.1262185339529523,-0.25234556078581993,-1.1260192157045796,0.3835707132779261,-0.8314028714113617,0.8777179911373496,1.4463623493451832,3.1034799952860674,1.013634913867253,1.779853980511546,0.10860250518723495,0.22796974651343066,-1.0458153022900263,-1.131689781985826,2.7004697893450524,1.0334664852867421,-0.9288778444152588,0.4769366435803124,3.0211093187401215,1.0593724527376387,-0.6087819099103041,-0.2575805456381415,0.5066594778797082,1.4002989836878734,1.4411063346739925,0.04840543213115739,1.896847405157337,0.6338012305107075,-1.3562240913416577,0.4019154283115991,0.5629306992560655,-0.5792695927028133,1.1149305580150437,2.1164451210238098,-0.6520525930293237,-0.6584177578263147,0.9868904525143627,-0.41216520249140554,-0.27287903130401997,1.115666369860281,-0.39772904944217946,-0.4598852585159614,-1.7834138468017278,-0.2923694109708229,-1.8736668007494182,-0.36712341162900086,-1.0182841444821644,-0.3975773402120633,0.5562011702221297,0.3728989910009789,-1.1391381258104147,1.8661318239083446,1.1281553985958181,2.043942601739804,0.3751146032127571,0.06444449486988196,1.4759000232939212,-0.8826082038740967,-1.8309620572532959,-1.9116865067345703,1.3435903624112713,-0.3510226043980688,-1.336307829278521],\"type\":\"scatter\"}],                        {\"legend\":{\"bgcolor\":\"#F5F6F9\",\"font\":{\"color\":\"#4D5663\"}},\"paper_bgcolor\":\"#F5F6F9\",\"plot_bgcolor\":\"#F5F6F9\",\"template\":{\"data\":{\"barpolar\":[{\"marker\":{\"line\":{\"color\":\"#E5ECF6\",\"width\":0.5},\"pattern\":{\"fillmode\":\"overlay\",\"size\":10,\"solidity\":0.2}},\"type\":\"barpolar\"}],\"bar\":[{\"error_x\":{\"color\":\"#2a3f5f\"},\"error_y\":{\"color\":\"#2a3f5f\"},\"marker\":{\"line\":{\"color\":\"#E5ECF6\",\"width\":0.5},\"pattern\":{\"fillmode\":\"overlay\",\"size\":10,\"solidity\":0.2}},\"type\":\"bar\"}],\"carpet\":[{\"aaxis\":{\"endlinecolor\":\"#2a3f5f\",\"gridcolor\":\"white\",\"linecolor\":\"white\",\"minorgridcolor\":\"white\",\"startlinecolor\":\"#2a3f5f\"},\"baxis\":{\"endlinecolor\":\"#2a3f5f\",\"gridcolor\":\"white\",\"linecolor\":\"white\",\"minorgridcolor\":\"white\",\"startlinecolor\":\"#2a3f5f\"},\"type\":\"carpet\"}],\"choropleth\":[{\"colorbar\":{\"outlinewidth\":0,\"ticks\":\"\"},\"type\":\"choropleth\"}],\"contourcarpet\":[{\"colorbar\":{\"outlinewidth\":0,\"ticks\":\"\"},\"type\":\"contourcarpet\"}],\"contour\":[{\"colorbar\":{\"outlinewidth\":0,\"ticks\":\"\"},\"colorscale\":[[0.0,\"#0d0887\"],[0.1111111111111111,\"#46039f\"],[0.2222222222222222,\"#7201a8\"],[0.3333333333333333,\"#9c179e\"],[0.4444444444444444,\"#bd3786\"],[0.5555555555555556,\"#d8576b\"],[0.6666666666666666,\"#ed7953\"],[0.7777777777777778,\"#fb9f3a\"],[0.8888888888888888,\"#fdca26\"],[1.0,\"#f0f921\"]],\"type\":\"contour\"}],\"heatmapgl\":[{\"colorbar\":{\"outlinewidth\":0,\"ticks\":\"\"},\"colorscale\":[[0.0,\"#0d0887\"],[0.1111111111111111,\"#46039f\"],[0.2222222222222222,\"#7201a8\"],[0.3333333333333333,\"#9c179e\"],[0.4444444444444444,\"#bd3786\"],[0.5555555555555556,\"#d8576b\"],[0.6666666666666666,\"#ed7953\"],[0.7777777777777778,\"#fb9f3a\"],[0.8888888888888888,\"#fdca26\"],[1.0,\"#f0f921\"]],\"type\":\"heatmapgl\"}],\"heatmap\":[{\"colorbar\":{\"outlinewidth\":0,\"ticks\":\"\"},\"colorscale\":[[0.0,\"#0d0887\"],[0.1111111111111111,\"#46039f\"],[0.2222222222222222,\"#7201a8\"],[0.3333333333333333,\"#9c179e\"],[0.4444444444444444,\"#bd3786\"],[0.5555555555555556,\"#d8576b\"],[0.6666666666666666,\"#ed7953\"],[0.7777777777777778,\"#fb9f3a\"],[0.8888888888888888,\"#fdca26\"],[1.0,\"#f0f921\"]],\"type\":\"heatmap\"}],\"histogram2dcontour\":[{\"colorbar\":{\"outlinewidth\":0,\"ticks\":\"\"},\"colorscale\":[[0.0,\"#0d0887\"],[0.1111111111111111,\"#46039f\"],[0.2222222222222222,\"#7201a8\"],[0.3333333333333333,\"#9c179e\"],[0.4444444444444444,\"#bd3786\"],[0.5555555555555556,\"#d8576b\"],[0.6666666666666666,\"#ed7953\"],[0.7777777777777778,\"#fb9f3a\"],[0.8888888888888888,\"#fdca26\"],[1.0,\"#f0f921\"]],\"type\":\"histogram2dcontour\"}],\"histogram2d\":[{\"colorbar\":{\"outlinewidth\":0,\"ticks\":\"\"},\"colorscale\":[[0.0,\"#0d0887\"],[0.1111111111111111,\"#46039f\"],[0.2222222222222222,\"#7201a8\"],[0.3333333333333333,\"#9c179e\"],[0.4444444444444444,\"#bd3786\"],[0.5555555555555556,\"#d8576b\"],[0.6666666666666666,\"#ed7953\"],[0.7777777777777778,\"#fb9f3a\"],[0.8888888888888888,\"#fdca26\"],[1.0,\"#f0f921\"]],\"type\":\"histogram2d\"}],\"histogram\":[{\"marker\":{\"pattern\":{\"fillmode\":\"overlay\",\"size\":10,\"solidity\":0.2}},\"type\":\"histogram\"}],\"mesh3d\":[{\"colorbar\":{\"outlinewidth\":0,\"ticks\":\"\"},\"type\":\"mesh3d\"}],\"parcoords\":[{\"line\":{\"colorbar\":{\"outlinewidth\":0,\"ticks\":\"\"}},\"type\":\"parcoords\"}],\"pie\":[{\"automargin\":true,\"type\":\"pie\"}],\"scatter3d\":[{\"line\":{\"colorbar\":{\"outlinewidth\":0,\"ticks\":\"\"}},\"marker\":{\"colorbar\":{\"outlinewidth\":0,\"ticks\":\"\"}},\"type\":\"scatter3d\"}],\"scattercarpet\":[{\"marker\":{\"colorbar\":{\"outlinewidth\":0,\"ticks\":\"\"}},\"type\":\"scattercarpet\"}],\"scattergeo\":[{\"marker\":{\"colorbar\":{\"outlinewidth\":0,\"ticks\":\"\"}},\"type\":\"scattergeo\"}],\"scattergl\":[{\"marker\":{\"colorbar\":{\"outlinewidth\":0,\"ticks\":\"\"}},\"type\":\"scattergl\"}],\"scattermapbox\":[{\"marker\":{\"colorbar\":{\"outlinewidth\":0,\"ticks\":\"\"}},\"type\":\"scattermapbox\"}],\"scatterpolargl\":[{\"marker\":{\"colorbar\":{\"outlinewidth\":0,\"ticks\":\"\"}},\"type\":\"scatterpolargl\"}],\"scatterpolar\":[{\"marker\":{\"colorbar\":{\"outlinewidth\":0,\"ticks\":\"\"}},\"type\":\"scatterpolar\"}],\"scatter\":[{\"fillpattern\":{\"fillmode\":\"overlay\",\"size\":10,\"solidity\":0.2},\"type\":\"scatter\"}],\"scatterternary\":[{\"marker\":{\"colorbar\":{\"outlinewidth\":0,\"ticks\":\"\"}},\"type\":\"scatterternary\"}],\"surface\":[{\"colorbar\":{\"outlinewidth\":0,\"ticks\":\"\"},\"colorscale\":[[0.0,\"#0d0887\"],[0.1111111111111111,\"#46039f\"],[0.2222222222222222,\"#7201a8\"],[0.3333333333333333,\"#9c179e\"],[0.4444444444444444,\"#bd3786\"],[0.5555555555555556,\"#d8576b\"],[0.6666666666666666,\"#ed7953\"],[0.7777777777777778,\"#fb9f3a\"],[0.8888888888888888,\"#fdca26\"],[1.0,\"#f0f921\"]],\"type\":\"surface\"}],\"table\":[{\"cells\":{\"fill\":{\"color\":\"#EBF0F8\"},\"line\":{\"color\":\"white\"}},\"header\":{\"fill\":{\"color\":\"#C8D4E3\"},\"line\":{\"color\":\"white\"}},\"type\":\"table\"}]},\"layout\":{\"annotationdefaults\":{\"arrowcolor\":\"#2a3f5f\",\"arrowhead\":0,\"arrowwidth\":1},\"autotypenumbers\":\"strict\",\"coloraxis\":{\"colorbar\":{\"outlinewidth\":0,\"ticks\":\"\"}},\"colorscale\":{\"diverging\":[[0,\"#8e0152\"],[0.1,\"#c51b7d\"],[0.2,\"#de77ae\"],[0.3,\"#f1b6da\"],[0.4,\"#fde0ef\"],[0.5,\"#f7f7f7\"],[0.6,\"#e6f5d0\"],[0.7,\"#b8e186\"],[0.8,\"#7fbc41\"],[0.9,\"#4d9221\"],[1,\"#276419\"]],\"sequential\":[[0.0,\"#0d0887\"],[0.1111111111111111,\"#46039f\"],[0.2222222222222222,\"#7201a8\"],[0.3333333333333333,\"#9c179e\"],[0.4444444444444444,\"#bd3786\"],[0.5555555555555556,\"#d8576b\"],[0.6666666666666666,\"#ed7953\"],[0.7777777777777778,\"#fb9f3a\"],[0.8888888888888888,\"#fdca26\"],[1.0,\"#f0f921\"]],\"sequentialminus\":[[0.0,\"#0d0887\"],[0.1111111111111111,\"#46039f\"],[0.2222222222222222,\"#7201a8\"],[0.3333333333333333,\"#9c179e\"],[0.4444444444444444,\"#bd3786\"],[0.5555555555555556,\"#d8576b\"],[0.6666666666666666,\"#ed7953\"],[0.7777777777777778,\"#fb9f3a\"],[0.8888888888888888,\"#fdca26\"],[1.0,\"#f0f921\"]]},\"colorway\":[\"#636efa\",\"#EF553B\",\"#00cc96\",\"#ab63fa\",\"#FFA15A\",\"#19d3f3\",\"#FF6692\",\"#B6E880\",\"#FF97FF\",\"#FECB52\"],\"font\":{\"color\":\"#2a3f5f\"},\"geo\":{\"bgcolor\":\"white\",\"lakecolor\":\"white\",\"landcolor\":\"#E5ECF6\",\"showlakes\":true,\"showland\":true,\"subunitcolor\":\"white\"},\"hoverlabel\":{\"align\":\"left\"},\"hovermode\":\"closest\",\"mapbox\":{\"style\":\"light\"},\"paper_bgcolor\":\"white\",\"plot_bgcolor\":\"#E5ECF6\",\"polar\":{\"angularaxis\":{\"gridcolor\":\"white\",\"linecolor\":\"white\",\"ticks\":\"\"},\"bgcolor\":\"#E5ECF6\",\"radialaxis\":{\"gridcolor\":\"white\",\"linecolor\":\"white\",\"ticks\":\"\"}},\"scene\":{\"xaxis\":{\"backgroundcolor\":\"#E5ECF6\",\"gridcolor\":\"white\",\"gridwidth\":2,\"linecolor\":\"white\",\"showbackground\":true,\"ticks\":\"\",\"zerolinecolor\":\"white\"},\"yaxis\":{\"backgroundcolor\":\"#E5ECF6\",\"gridcolor\":\"white\",\"gridwidth\":2,\"linecolor\":\"white\",\"showbackground\":true,\"ticks\":\"\",\"zerolinecolor\":\"white\"},\"zaxis\":{\"backgroundcolor\":\"#E5ECF6\",\"gridcolor\":\"white\",\"gridwidth\":2,\"linecolor\":\"white\",\"showbackground\":true,\"ticks\":\"\",\"zerolinecolor\":\"white\"}},\"shapedefaults\":{\"line\":{\"color\":\"#2a3f5f\"}},\"ternary\":{\"aaxis\":{\"gridcolor\":\"white\",\"linecolor\":\"white\",\"ticks\":\"\"},\"baxis\":{\"gridcolor\":\"white\",\"linecolor\":\"white\",\"ticks\":\"\"},\"bgcolor\":\"#E5ECF6\",\"caxis\":{\"gridcolor\":\"white\",\"linecolor\":\"white\",\"ticks\":\"\"}},\"title\":{\"x\":0.05},\"xaxis\":{\"automargin\":true,\"gridcolor\":\"white\",\"linecolor\":\"white\",\"ticks\":\"\",\"title\":{\"standoff\":15},\"zerolinecolor\":\"white\",\"zerolinewidth\":2},\"yaxis\":{\"automargin\":true,\"gridcolor\":\"white\",\"linecolor\":\"white\",\"ticks\":\"\",\"title\":{\"standoff\":15},\"zerolinecolor\":\"white\",\"zerolinewidth\":2}}},\"title\":{\"font\":{\"color\":\"#4D5663\"}},\"xaxis\":{\"gridcolor\":\"#E1E5ED\",\"showgrid\":true,\"tickfont\":{\"color\":\"#4D5663\"},\"title\":{\"font\":{\"color\":\"#4D5663\"},\"text\":\"\"},\"zerolinecolor\":\"#E1E5ED\"},\"yaxis\":{\"gridcolor\":\"#E1E5ED\",\"showgrid\":true,\"tickfont\":{\"color\":\"#4D5663\"},\"title\":{\"font\":{\"color\":\"#4D5663\"},\"text\":\"\"},\"zerolinecolor\":\"#E1E5ED\"}},                        {\"showLink\": true, \"linkText\": \"Export to plot.ly\", \"plotlyServerURL\": \"https://plot.ly\", \"responsive\": true}                    ).then(function(){\n",
       "                            \n",
       "var gd = document.getElementById('5e5fb16d-04de-4548-8c13-b52f474643e8');\n",
       "var x = new MutationObserver(function (mutations, observer) {{\n",
       "        var display = window.getComputedStyle(gd).display;\n",
       "        if (!display || display === 'none') {{\n",
       "            console.log([gd, 'removed!']);\n",
       "            Plotly.purge(gd);\n",
       "            observer.disconnect();\n",
       "        }}\n",
       "}});\n",
       "\n",
       "// Listen for the removal of the full notebook cells\n",
       "var notebookContainer = gd.closest('#notebook-container');\n",
       "if (notebookContainer) {{\n",
       "    x.observe(notebookContainer, {childList: true});\n",
       "}}\n",
       "\n",
       "// Listen for the clearing of the current output cell\n",
       "var outputEl = gd.closest('.output');\n",
       "if (outputEl) {{\n",
       "    x.observe(outputEl, {childList: true});\n",
       "}}\n",
       "\n",
       "                        })                };                });            </script>        </div>"
      ]
     },
     "metadata": {},
     "output_type": "display_data"
    }
   ],
   "source": [
    "df.iplot(kind='scatter',x='A',y='B',mode='markers',size=10)"
   ]
  },
  {
   "cell_type": "markdown",
   "metadata": {},
   "source": [
    "## Bar Plots"
   ]
  },
  {
   "cell_type": "code",
   "execution_count": 13,
   "metadata": {},
   "outputs": [
    {
     "data": {
      "application/vnd.plotly.v1+json": {
       "config": {
        "linkText": "Export to plot.ly",
        "plotlyServerURL": "https://plot.ly",
        "showLink": true
       },
       "data": [
        {
         "marker": {
          "color": "rgba(255, 153, 51, 0.6)",
          "line": {
           "color": "rgba(255, 153, 51, 1.0)",
           "width": 1
          }
         },
         "name": "Values",
         "orientation": "v",
         "text": "",
         "type": "bar",
         "x": [
          "A",
          "B",
          "C"
         ],
         "y": [
          32,
          43,
          50
         ]
        }
       ],
       "layout": {
        "legend": {
         "bgcolor": "#F5F6F9",
         "font": {
          "color": "#4D5663"
         }
        },
        "paper_bgcolor": "#F5F6F9",
        "plot_bgcolor": "#F5F6F9",
        "template": {
         "data": {
          "bar": [
           {
            "error_x": {
             "color": "#2a3f5f"
            },
            "error_y": {
             "color": "#2a3f5f"
            },
            "marker": {
             "line": {
              "color": "#E5ECF6",
              "width": 0.5
             },
             "pattern": {
              "fillmode": "overlay",
              "size": 10,
              "solidity": 0.2
             }
            },
            "type": "bar"
           }
          ],
          "barpolar": [
           {
            "marker": {
             "line": {
              "color": "#E5ECF6",
              "width": 0.5
             },
             "pattern": {
              "fillmode": "overlay",
              "size": 10,
              "solidity": 0.2
             }
            },
            "type": "barpolar"
           }
          ],
          "carpet": [
           {
            "aaxis": {
             "endlinecolor": "#2a3f5f",
             "gridcolor": "white",
             "linecolor": "white",
             "minorgridcolor": "white",
             "startlinecolor": "#2a3f5f"
            },
            "baxis": {
             "endlinecolor": "#2a3f5f",
             "gridcolor": "white",
             "linecolor": "white",
             "minorgridcolor": "white",
             "startlinecolor": "#2a3f5f"
            },
            "type": "carpet"
           }
          ],
          "choropleth": [
           {
            "colorbar": {
             "outlinewidth": 0,
             "ticks": ""
            },
            "type": "choropleth"
           }
          ],
          "contour": [
           {
            "colorbar": {
             "outlinewidth": 0,
             "ticks": ""
            },
            "colorscale": [
             [
              0,
              "#0d0887"
             ],
             [
              0.1111111111111111,
              "#46039f"
             ],
             [
              0.2222222222222222,
              "#7201a8"
             ],
             [
              0.3333333333333333,
              "#9c179e"
             ],
             [
              0.4444444444444444,
              "#bd3786"
             ],
             [
              0.5555555555555556,
              "#d8576b"
             ],
             [
              0.6666666666666666,
              "#ed7953"
             ],
             [
              0.7777777777777778,
              "#fb9f3a"
             ],
             [
              0.8888888888888888,
              "#fdca26"
             ],
             [
              1,
              "#f0f921"
             ]
            ],
            "type": "contour"
           }
          ],
          "contourcarpet": [
           {
            "colorbar": {
             "outlinewidth": 0,
             "ticks": ""
            },
            "type": "contourcarpet"
           }
          ],
          "heatmap": [
           {
            "colorbar": {
             "outlinewidth": 0,
             "ticks": ""
            },
            "colorscale": [
             [
              0,
              "#0d0887"
             ],
             [
              0.1111111111111111,
              "#46039f"
             ],
             [
              0.2222222222222222,
              "#7201a8"
             ],
             [
              0.3333333333333333,
              "#9c179e"
             ],
             [
              0.4444444444444444,
              "#bd3786"
             ],
             [
              0.5555555555555556,
              "#d8576b"
             ],
             [
              0.6666666666666666,
              "#ed7953"
             ],
             [
              0.7777777777777778,
              "#fb9f3a"
             ],
             [
              0.8888888888888888,
              "#fdca26"
             ],
             [
              1,
              "#f0f921"
             ]
            ],
            "type": "heatmap"
           }
          ],
          "heatmapgl": [
           {
            "colorbar": {
             "outlinewidth": 0,
             "ticks": ""
            },
            "colorscale": [
             [
              0,
              "#0d0887"
             ],
             [
              0.1111111111111111,
              "#46039f"
             ],
             [
              0.2222222222222222,
              "#7201a8"
             ],
             [
              0.3333333333333333,
              "#9c179e"
             ],
             [
              0.4444444444444444,
              "#bd3786"
             ],
             [
              0.5555555555555556,
              "#d8576b"
             ],
             [
              0.6666666666666666,
              "#ed7953"
             ],
             [
              0.7777777777777778,
              "#fb9f3a"
             ],
             [
              0.8888888888888888,
              "#fdca26"
             ],
             [
              1,
              "#f0f921"
             ]
            ],
            "type": "heatmapgl"
           }
          ],
          "histogram": [
           {
            "marker": {
             "pattern": {
              "fillmode": "overlay",
              "size": 10,
              "solidity": 0.2
             }
            },
            "type": "histogram"
           }
          ],
          "histogram2d": [
           {
            "colorbar": {
             "outlinewidth": 0,
             "ticks": ""
            },
            "colorscale": [
             [
              0,
              "#0d0887"
             ],
             [
              0.1111111111111111,
              "#46039f"
             ],
             [
              0.2222222222222222,
              "#7201a8"
             ],
             [
              0.3333333333333333,
              "#9c179e"
             ],
             [
              0.4444444444444444,
              "#bd3786"
             ],
             [
              0.5555555555555556,
              "#d8576b"
             ],
             [
              0.6666666666666666,
              "#ed7953"
             ],
             [
              0.7777777777777778,
              "#fb9f3a"
             ],
             [
              0.8888888888888888,
              "#fdca26"
             ],
             [
              1,
              "#f0f921"
             ]
            ],
            "type": "histogram2d"
           }
          ],
          "histogram2dcontour": [
           {
            "colorbar": {
             "outlinewidth": 0,
             "ticks": ""
            },
            "colorscale": [
             [
              0,
              "#0d0887"
             ],
             [
              0.1111111111111111,
              "#46039f"
             ],
             [
              0.2222222222222222,
              "#7201a8"
             ],
             [
              0.3333333333333333,
              "#9c179e"
             ],
             [
              0.4444444444444444,
              "#bd3786"
             ],
             [
              0.5555555555555556,
              "#d8576b"
             ],
             [
              0.6666666666666666,
              "#ed7953"
             ],
             [
              0.7777777777777778,
              "#fb9f3a"
             ],
             [
              0.8888888888888888,
              "#fdca26"
             ],
             [
              1,
              "#f0f921"
             ]
            ],
            "type": "histogram2dcontour"
           }
          ],
          "mesh3d": [
           {
            "colorbar": {
             "outlinewidth": 0,
             "ticks": ""
            },
            "type": "mesh3d"
           }
          ],
          "parcoords": [
           {
            "line": {
             "colorbar": {
              "outlinewidth": 0,
              "ticks": ""
             }
            },
            "type": "parcoords"
           }
          ],
          "pie": [
           {
            "automargin": true,
            "type": "pie"
           }
          ],
          "scatter": [
           {
            "fillpattern": {
             "fillmode": "overlay",
             "size": 10,
             "solidity": 0.2
            },
            "type": "scatter"
           }
          ],
          "scatter3d": [
           {
            "line": {
             "colorbar": {
              "outlinewidth": 0,
              "ticks": ""
             }
            },
            "marker": {
             "colorbar": {
              "outlinewidth": 0,
              "ticks": ""
             }
            },
            "type": "scatter3d"
           }
          ],
          "scattercarpet": [
           {
            "marker": {
             "colorbar": {
              "outlinewidth": 0,
              "ticks": ""
             }
            },
            "type": "scattercarpet"
           }
          ],
          "scattergeo": [
           {
            "marker": {
             "colorbar": {
              "outlinewidth": 0,
              "ticks": ""
             }
            },
            "type": "scattergeo"
           }
          ],
          "scattergl": [
           {
            "marker": {
             "colorbar": {
              "outlinewidth": 0,
              "ticks": ""
             }
            },
            "type": "scattergl"
           }
          ],
          "scattermapbox": [
           {
            "marker": {
             "colorbar": {
              "outlinewidth": 0,
              "ticks": ""
             }
            },
            "type": "scattermapbox"
           }
          ],
          "scatterpolar": [
           {
            "marker": {
             "colorbar": {
              "outlinewidth": 0,
              "ticks": ""
             }
            },
            "type": "scatterpolar"
           }
          ],
          "scatterpolargl": [
           {
            "marker": {
             "colorbar": {
              "outlinewidth": 0,
              "ticks": ""
             }
            },
            "type": "scatterpolargl"
           }
          ],
          "scatterternary": [
           {
            "marker": {
             "colorbar": {
              "outlinewidth": 0,
              "ticks": ""
             }
            },
            "type": "scatterternary"
           }
          ],
          "surface": [
           {
            "colorbar": {
             "outlinewidth": 0,
             "ticks": ""
            },
            "colorscale": [
             [
              0,
              "#0d0887"
             ],
             [
              0.1111111111111111,
              "#46039f"
             ],
             [
              0.2222222222222222,
              "#7201a8"
             ],
             [
              0.3333333333333333,
              "#9c179e"
             ],
             [
              0.4444444444444444,
              "#bd3786"
             ],
             [
              0.5555555555555556,
              "#d8576b"
             ],
             [
              0.6666666666666666,
              "#ed7953"
             ],
             [
              0.7777777777777778,
              "#fb9f3a"
             ],
             [
              0.8888888888888888,
              "#fdca26"
             ],
             [
              1,
              "#f0f921"
             ]
            ],
            "type": "surface"
           }
          ],
          "table": [
           {
            "cells": {
             "fill": {
              "color": "#EBF0F8"
             },
             "line": {
              "color": "white"
             }
            },
            "header": {
             "fill": {
              "color": "#C8D4E3"
             },
             "line": {
              "color": "white"
             }
            },
            "type": "table"
           }
          ]
         },
         "layout": {
          "annotationdefaults": {
           "arrowcolor": "#2a3f5f",
           "arrowhead": 0,
           "arrowwidth": 1
          },
          "autotypenumbers": "strict",
          "coloraxis": {
           "colorbar": {
            "outlinewidth": 0,
            "ticks": ""
           }
          },
          "colorscale": {
           "diverging": [
            [
             0,
             "#8e0152"
            ],
            [
             0.1,
             "#c51b7d"
            ],
            [
             0.2,
             "#de77ae"
            ],
            [
             0.3,
             "#f1b6da"
            ],
            [
             0.4,
             "#fde0ef"
            ],
            [
             0.5,
             "#f7f7f7"
            ],
            [
             0.6,
             "#e6f5d0"
            ],
            [
             0.7,
             "#b8e186"
            ],
            [
             0.8,
             "#7fbc41"
            ],
            [
             0.9,
             "#4d9221"
            ],
            [
             1,
             "#276419"
            ]
           ],
           "sequential": [
            [
             0,
             "#0d0887"
            ],
            [
             0.1111111111111111,
             "#46039f"
            ],
            [
             0.2222222222222222,
             "#7201a8"
            ],
            [
             0.3333333333333333,
             "#9c179e"
            ],
            [
             0.4444444444444444,
             "#bd3786"
            ],
            [
             0.5555555555555556,
             "#d8576b"
            ],
            [
             0.6666666666666666,
             "#ed7953"
            ],
            [
             0.7777777777777778,
             "#fb9f3a"
            ],
            [
             0.8888888888888888,
             "#fdca26"
            ],
            [
             1,
             "#f0f921"
            ]
           ],
           "sequentialminus": [
            [
             0,
             "#0d0887"
            ],
            [
             0.1111111111111111,
             "#46039f"
            ],
            [
             0.2222222222222222,
             "#7201a8"
            ],
            [
             0.3333333333333333,
             "#9c179e"
            ],
            [
             0.4444444444444444,
             "#bd3786"
            ],
            [
             0.5555555555555556,
             "#d8576b"
            ],
            [
             0.6666666666666666,
             "#ed7953"
            ],
            [
             0.7777777777777778,
             "#fb9f3a"
            ],
            [
             0.8888888888888888,
             "#fdca26"
            ],
            [
             1,
             "#f0f921"
            ]
           ]
          },
          "colorway": [
           "#636efa",
           "#EF553B",
           "#00cc96",
           "#ab63fa",
           "#FFA15A",
           "#19d3f3",
           "#FF6692",
           "#B6E880",
           "#FF97FF",
           "#FECB52"
          ],
          "font": {
           "color": "#2a3f5f"
          },
          "geo": {
           "bgcolor": "white",
           "lakecolor": "white",
           "landcolor": "#E5ECF6",
           "showlakes": true,
           "showland": true,
           "subunitcolor": "white"
          },
          "hoverlabel": {
           "align": "left"
          },
          "hovermode": "closest",
          "mapbox": {
           "style": "light"
          },
          "paper_bgcolor": "white",
          "plot_bgcolor": "#E5ECF6",
          "polar": {
           "angularaxis": {
            "gridcolor": "white",
            "linecolor": "white",
            "ticks": ""
           },
           "bgcolor": "#E5ECF6",
           "radialaxis": {
            "gridcolor": "white",
            "linecolor": "white",
            "ticks": ""
           }
          },
          "scene": {
           "xaxis": {
            "backgroundcolor": "#E5ECF6",
            "gridcolor": "white",
            "gridwidth": 2,
            "linecolor": "white",
            "showbackground": true,
            "ticks": "",
            "zerolinecolor": "white"
           },
           "yaxis": {
            "backgroundcolor": "#E5ECF6",
            "gridcolor": "white",
            "gridwidth": 2,
            "linecolor": "white",
            "showbackground": true,
            "ticks": "",
            "zerolinecolor": "white"
           },
           "zaxis": {
            "backgroundcolor": "#E5ECF6",
            "gridcolor": "white",
            "gridwidth": 2,
            "linecolor": "white",
            "showbackground": true,
            "ticks": "",
            "zerolinecolor": "white"
           }
          },
          "shapedefaults": {
           "line": {
            "color": "#2a3f5f"
           }
          },
          "ternary": {
           "aaxis": {
            "gridcolor": "white",
            "linecolor": "white",
            "ticks": ""
           },
           "baxis": {
            "gridcolor": "white",
            "linecolor": "white",
            "ticks": ""
           },
           "bgcolor": "#E5ECF6",
           "caxis": {
            "gridcolor": "white",
            "linecolor": "white",
            "ticks": ""
           }
          },
          "title": {
           "x": 0.05
          },
          "xaxis": {
           "automargin": true,
           "gridcolor": "white",
           "linecolor": "white",
           "ticks": "",
           "title": {
            "standoff": 15
           },
           "zerolinecolor": "white",
           "zerolinewidth": 2
          },
          "yaxis": {
           "automargin": true,
           "gridcolor": "white",
           "linecolor": "white",
           "ticks": "",
           "title": {
            "standoff": 15
           },
           "zerolinecolor": "white",
           "zerolinewidth": 2
          }
         }
        },
        "title": {
         "font": {
          "color": "#4D5663"
         }
        },
        "xaxis": {
         "gridcolor": "#E1E5ED",
         "showgrid": true,
         "tickfont": {
          "color": "#4D5663"
         },
         "title": {
          "font": {
           "color": "#4D5663"
          },
          "text": ""
         },
         "zerolinecolor": "#E1E5ED"
        },
        "yaxis": {
         "gridcolor": "#E1E5ED",
         "showgrid": true,
         "tickfont": {
          "color": "#4D5663"
         },
         "title": {
          "font": {
           "color": "#4D5663"
          },
          "text": ""
         },
         "zerolinecolor": "#E1E5ED"
        }
       }
      },
      "text/html": [
       "<div>                            <div id=\"6ecaa780-778f-4418-b6e2-223605f5c76b\" class=\"plotly-graph-div\" style=\"height:525px; width:100%;\"></div>            <script type=\"text/javascript\">                require([\"plotly\"], function(Plotly) {                    window.PLOTLYENV=window.PLOTLYENV || {};\n",
       "                    window.PLOTLYENV.BASE_URL='https://plot.ly';                                    if (document.getElementById(\"6ecaa780-778f-4418-b6e2-223605f5c76b\")) {                    Plotly.newPlot(                        \"6ecaa780-778f-4418-b6e2-223605f5c76b\",                        [{\"marker\":{\"color\":\"rgba(255, 153, 51, 0.6)\",\"line\":{\"color\":\"rgba(255, 153, 51, 1.0)\",\"width\":1}},\"name\":\"Values\",\"orientation\":\"v\",\"text\":\"\",\"x\":[\"A\",\"B\",\"C\"],\"y\":[32,43,50],\"type\":\"bar\"}],                        {\"legend\":{\"bgcolor\":\"#F5F6F9\",\"font\":{\"color\":\"#4D5663\"}},\"paper_bgcolor\":\"#F5F6F9\",\"plot_bgcolor\":\"#F5F6F9\",\"template\":{\"data\":{\"barpolar\":[{\"marker\":{\"line\":{\"color\":\"#E5ECF6\",\"width\":0.5},\"pattern\":{\"fillmode\":\"overlay\",\"size\":10,\"solidity\":0.2}},\"type\":\"barpolar\"}],\"bar\":[{\"error_x\":{\"color\":\"#2a3f5f\"},\"error_y\":{\"color\":\"#2a3f5f\"},\"marker\":{\"line\":{\"color\":\"#E5ECF6\",\"width\":0.5},\"pattern\":{\"fillmode\":\"overlay\",\"size\":10,\"solidity\":0.2}},\"type\":\"bar\"}],\"carpet\":[{\"aaxis\":{\"endlinecolor\":\"#2a3f5f\",\"gridcolor\":\"white\",\"linecolor\":\"white\",\"minorgridcolor\":\"white\",\"startlinecolor\":\"#2a3f5f\"},\"baxis\":{\"endlinecolor\":\"#2a3f5f\",\"gridcolor\":\"white\",\"linecolor\":\"white\",\"minorgridcolor\":\"white\",\"startlinecolor\":\"#2a3f5f\"},\"type\":\"carpet\"}],\"choropleth\":[{\"colorbar\":{\"outlinewidth\":0,\"ticks\":\"\"},\"type\":\"choropleth\"}],\"contourcarpet\":[{\"colorbar\":{\"outlinewidth\":0,\"ticks\":\"\"},\"type\":\"contourcarpet\"}],\"contour\":[{\"colorbar\":{\"outlinewidth\":0,\"ticks\":\"\"},\"colorscale\":[[0.0,\"#0d0887\"],[0.1111111111111111,\"#46039f\"],[0.2222222222222222,\"#7201a8\"],[0.3333333333333333,\"#9c179e\"],[0.4444444444444444,\"#bd3786\"],[0.5555555555555556,\"#d8576b\"],[0.6666666666666666,\"#ed7953\"],[0.7777777777777778,\"#fb9f3a\"],[0.8888888888888888,\"#fdca26\"],[1.0,\"#f0f921\"]],\"type\":\"contour\"}],\"heatmapgl\":[{\"colorbar\":{\"outlinewidth\":0,\"ticks\":\"\"},\"colorscale\":[[0.0,\"#0d0887\"],[0.1111111111111111,\"#46039f\"],[0.2222222222222222,\"#7201a8\"],[0.3333333333333333,\"#9c179e\"],[0.4444444444444444,\"#bd3786\"],[0.5555555555555556,\"#d8576b\"],[0.6666666666666666,\"#ed7953\"],[0.7777777777777778,\"#fb9f3a\"],[0.8888888888888888,\"#fdca26\"],[1.0,\"#f0f921\"]],\"type\":\"heatmapgl\"}],\"heatmap\":[{\"colorbar\":{\"outlinewidth\":0,\"ticks\":\"\"},\"colorscale\":[[0.0,\"#0d0887\"],[0.1111111111111111,\"#46039f\"],[0.2222222222222222,\"#7201a8\"],[0.3333333333333333,\"#9c179e\"],[0.4444444444444444,\"#bd3786\"],[0.5555555555555556,\"#d8576b\"],[0.6666666666666666,\"#ed7953\"],[0.7777777777777778,\"#fb9f3a\"],[0.8888888888888888,\"#fdca26\"],[1.0,\"#f0f921\"]],\"type\":\"heatmap\"}],\"histogram2dcontour\":[{\"colorbar\":{\"outlinewidth\":0,\"ticks\":\"\"},\"colorscale\":[[0.0,\"#0d0887\"],[0.1111111111111111,\"#46039f\"],[0.2222222222222222,\"#7201a8\"],[0.3333333333333333,\"#9c179e\"],[0.4444444444444444,\"#bd3786\"],[0.5555555555555556,\"#d8576b\"],[0.6666666666666666,\"#ed7953\"],[0.7777777777777778,\"#fb9f3a\"],[0.8888888888888888,\"#fdca26\"],[1.0,\"#f0f921\"]],\"type\":\"histogram2dcontour\"}],\"histogram2d\":[{\"colorbar\":{\"outlinewidth\":0,\"ticks\":\"\"},\"colorscale\":[[0.0,\"#0d0887\"],[0.1111111111111111,\"#46039f\"],[0.2222222222222222,\"#7201a8\"],[0.3333333333333333,\"#9c179e\"],[0.4444444444444444,\"#bd3786\"],[0.5555555555555556,\"#d8576b\"],[0.6666666666666666,\"#ed7953\"],[0.7777777777777778,\"#fb9f3a\"],[0.8888888888888888,\"#fdca26\"],[1.0,\"#f0f921\"]],\"type\":\"histogram2d\"}],\"histogram\":[{\"marker\":{\"pattern\":{\"fillmode\":\"overlay\",\"size\":10,\"solidity\":0.2}},\"type\":\"histogram\"}],\"mesh3d\":[{\"colorbar\":{\"outlinewidth\":0,\"ticks\":\"\"},\"type\":\"mesh3d\"}],\"parcoords\":[{\"line\":{\"colorbar\":{\"outlinewidth\":0,\"ticks\":\"\"}},\"type\":\"parcoords\"}],\"pie\":[{\"automargin\":true,\"type\":\"pie\"}],\"scatter3d\":[{\"line\":{\"colorbar\":{\"outlinewidth\":0,\"ticks\":\"\"}},\"marker\":{\"colorbar\":{\"outlinewidth\":0,\"ticks\":\"\"}},\"type\":\"scatter3d\"}],\"scattercarpet\":[{\"marker\":{\"colorbar\":{\"outlinewidth\":0,\"ticks\":\"\"}},\"type\":\"scattercarpet\"}],\"scattergeo\":[{\"marker\":{\"colorbar\":{\"outlinewidth\":0,\"ticks\":\"\"}},\"type\":\"scattergeo\"}],\"scattergl\":[{\"marker\":{\"colorbar\":{\"outlinewidth\":0,\"ticks\":\"\"}},\"type\":\"scattergl\"}],\"scattermapbox\":[{\"marker\":{\"colorbar\":{\"outlinewidth\":0,\"ticks\":\"\"}},\"type\":\"scattermapbox\"}],\"scatterpolargl\":[{\"marker\":{\"colorbar\":{\"outlinewidth\":0,\"ticks\":\"\"}},\"type\":\"scatterpolargl\"}],\"scatterpolar\":[{\"marker\":{\"colorbar\":{\"outlinewidth\":0,\"ticks\":\"\"}},\"type\":\"scatterpolar\"}],\"scatter\":[{\"fillpattern\":{\"fillmode\":\"overlay\",\"size\":10,\"solidity\":0.2},\"type\":\"scatter\"}],\"scatterternary\":[{\"marker\":{\"colorbar\":{\"outlinewidth\":0,\"ticks\":\"\"}},\"type\":\"scatterternary\"}],\"surface\":[{\"colorbar\":{\"outlinewidth\":0,\"ticks\":\"\"},\"colorscale\":[[0.0,\"#0d0887\"],[0.1111111111111111,\"#46039f\"],[0.2222222222222222,\"#7201a8\"],[0.3333333333333333,\"#9c179e\"],[0.4444444444444444,\"#bd3786\"],[0.5555555555555556,\"#d8576b\"],[0.6666666666666666,\"#ed7953\"],[0.7777777777777778,\"#fb9f3a\"],[0.8888888888888888,\"#fdca26\"],[1.0,\"#f0f921\"]],\"type\":\"surface\"}],\"table\":[{\"cells\":{\"fill\":{\"color\":\"#EBF0F8\"},\"line\":{\"color\":\"white\"}},\"header\":{\"fill\":{\"color\":\"#C8D4E3\"},\"line\":{\"color\":\"white\"}},\"type\":\"table\"}]},\"layout\":{\"annotationdefaults\":{\"arrowcolor\":\"#2a3f5f\",\"arrowhead\":0,\"arrowwidth\":1},\"autotypenumbers\":\"strict\",\"coloraxis\":{\"colorbar\":{\"outlinewidth\":0,\"ticks\":\"\"}},\"colorscale\":{\"diverging\":[[0,\"#8e0152\"],[0.1,\"#c51b7d\"],[0.2,\"#de77ae\"],[0.3,\"#f1b6da\"],[0.4,\"#fde0ef\"],[0.5,\"#f7f7f7\"],[0.6,\"#e6f5d0\"],[0.7,\"#b8e186\"],[0.8,\"#7fbc41\"],[0.9,\"#4d9221\"],[1,\"#276419\"]],\"sequential\":[[0.0,\"#0d0887\"],[0.1111111111111111,\"#46039f\"],[0.2222222222222222,\"#7201a8\"],[0.3333333333333333,\"#9c179e\"],[0.4444444444444444,\"#bd3786\"],[0.5555555555555556,\"#d8576b\"],[0.6666666666666666,\"#ed7953\"],[0.7777777777777778,\"#fb9f3a\"],[0.8888888888888888,\"#fdca26\"],[1.0,\"#f0f921\"]],\"sequentialminus\":[[0.0,\"#0d0887\"],[0.1111111111111111,\"#46039f\"],[0.2222222222222222,\"#7201a8\"],[0.3333333333333333,\"#9c179e\"],[0.4444444444444444,\"#bd3786\"],[0.5555555555555556,\"#d8576b\"],[0.6666666666666666,\"#ed7953\"],[0.7777777777777778,\"#fb9f3a\"],[0.8888888888888888,\"#fdca26\"],[1.0,\"#f0f921\"]]},\"colorway\":[\"#636efa\",\"#EF553B\",\"#00cc96\",\"#ab63fa\",\"#FFA15A\",\"#19d3f3\",\"#FF6692\",\"#B6E880\",\"#FF97FF\",\"#FECB52\"],\"font\":{\"color\":\"#2a3f5f\"},\"geo\":{\"bgcolor\":\"white\",\"lakecolor\":\"white\",\"landcolor\":\"#E5ECF6\",\"showlakes\":true,\"showland\":true,\"subunitcolor\":\"white\"},\"hoverlabel\":{\"align\":\"left\"},\"hovermode\":\"closest\",\"mapbox\":{\"style\":\"light\"},\"paper_bgcolor\":\"white\",\"plot_bgcolor\":\"#E5ECF6\",\"polar\":{\"angularaxis\":{\"gridcolor\":\"white\",\"linecolor\":\"white\",\"ticks\":\"\"},\"bgcolor\":\"#E5ECF6\",\"radialaxis\":{\"gridcolor\":\"white\",\"linecolor\":\"white\",\"ticks\":\"\"}},\"scene\":{\"xaxis\":{\"backgroundcolor\":\"#E5ECF6\",\"gridcolor\":\"white\",\"gridwidth\":2,\"linecolor\":\"white\",\"showbackground\":true,\"ticks\":\"\",\"zerolinecolor\":\"white\"},\"yaxis\":{\"backgroundcolor\":\"#E5ECF6\",\"gridcolor\":\"white\",\"gridwidth\":2,\"linecolor\":\"white\",\"showbackground\":true,\"ticks\":\"\",\"zerolinecolor\":\"white\"},\"zaxis\":{\"backgroundcolor\":\"#E5ECF6\",\"gridcolor\":\"white\",\"gridwidth\":2,\"linecolor\":\"white\",\"showbackground\":true,\"ticks\":\"\",\"zerolinecolor\":\"white\"}},\"shapedefaults\":{\"line\":{\"color\":\"#2a3f5f\"}},\"ternary\":{\"aaxis\":{\"gridcolor\":\"white\",\"linecolor\":\"white\",\"ticks\":\"\"},\"baxis\":{\"gridcolor\":\"white\",\"linecolor\":\"white\",\"ticks\":\"\"},\"bgcolor\":\"#E5ECF6\",\"caxis\":{\"gridcolor\":\"white\",\"linecolor\":\"white\",\"ticks\":\"\"}},\"title\":{\"x\":0.05},\"xaxis\":{\"automargin\":true,\"gridcolor\":\"white\",\"linecolor\":\"white\",\"ticks\":\"\",\"title\":{\"standoff\":15},\"zerolinecolor\":\"white\",\"zerolinewidth\":2},\"yaxis\":{\"automargin\":true,\"gridcolor\":\"white\",\"linecolor\":\"white\",\"ticks\":\"\",\"title\":{\"standoff\":15},\"zerolinecolor\":\"white\",\"zerolinewidth\":2}}},\"title\":{\"font\":{\"color\":\"#4D5663\"}},\"xaxis\":{\"gridcolor\":\"#E1E5ED\",\"showgrid\":true,\"tickfont\":{\"color\":\"#4D5663\"},\"title\":{\"font\":{\"color\":\"#4D5663\"},\"text\":\"\"},\"zerolinecolor\":\"#E1E5ED\"},\"yaxis\":{\"gridcolor\":\"#E1E5ED\",\"showgrid\":true,\"tickfont\":{\"color\":\"#4D5663\"},\"title\":{\"font\":{\"color\":\"#4D5663\"},\"text\":\"\"},\"zerolinecolor\":\"#E1E5ED\"}},                        {\"showLink\": true, \"linkText\": \"Export to plot.ly\", \"plotlyServerURL\": \"https://plot.ly\", \"responsive\": true}                    ).then(function(){\n",
       "                            \n",
       "var gd = document.getElementById('6ecaa780-778f-4418-b6e2-223605f5c76b');\n",
       "var x = new MutationObserver(function (mutations, observer) {{\n",
       "        var display = window.getComputedStyle(gd).display;\n",
       "        if (!display || display === 'none') {{\n",
       "            console.log([gd, 'removed!']);\n",
       "            Plotly.purge(gd);\n",
       "            observer.disconnect();\n",
       "        }}\n",
       "}});\n",
       "\n",
       "// Listen for the removal of the full notebook cells\n",
       "var notebookContainer = gd.closest('#notebook-container');\n",
       "if (notebookContainer) {{\n",
       "    x.observe(notebookContainer, {childList: true});\n",
       "}}\n",
       "\n",
       "// Listen for the clearing of the current output cell\n",
       "var outputEl = gd.closest('.output');\n",
       "if (outputEl) {{\n",
       "    x.observe(outputEl, {childList: true});\n",
       "}}\n",
       "\n",
       "                        })                };                });            </script>        </div>"
      ]
     },
     "metadata": {},
     "output_type": "display_data"
    }
   ],
   "source": [
    "df2.iplot(kind='bar',x='Category',y='Values')"
   ]
  },
  {
   "cell_type": "code",
   "execution_count": 14,
   "metadata": {},
   "outputs": [
    {
     "data": {
      "application/vnd.plotly.v1+json": {
       "config": {
        "linkText": "Export to plot.ly",
        "plotlyServerURL": "https://plot.ly",
        "showLink": true
       },
       "data": [
        {
         "marker": {
          "color": "rgba(255, 153, 51, 0.6)",
          "line": {
           "color": "rgba(255, 153, 51, 1.0)",
           "width": 1
          }
         },
         "name": "None",
         "orientation": "v",
         "text": "",
         "type": "bar",
         "x": [
          "A",
          "B",
          "C",
          "D"
         ],
         "y": [
          100,
          100,
          100,
          100
         ]
        }
       ],
       "layout": {
        "legend": {
         "bgcolor": "#F5F6F9",
         "font": {
          "color": "#4D5663"
         }
        },
        "paper_bgcolor": "#F5F6F9",
        "plot_bgcolor": "#F5F6F9",
        "template": {
         "data": {
          "bar": [
           {
            "error_x": {
             "color": "#2a3f5f"
            },
            "error_y": {
             "color": "#2a3f5f"
            },
            "marker": {
             "line": {
              "color": "#E5ECF6",
              "width": 0.5
             },
             "pattern": {
              "fillmode": "overlay",
              "size": 10,
              "solidity": 0.2
             }
            },
            "type": "bar"
           }
          ],
          "barpolar": [
           {
            "marker": {
             "line": {
              "color": "#E5ECF6",
              "width": 0.5
             },
             "pattern": {
              "fillmode": "overlay",
              "size": 10,
              "solidity": 0.2
             }
            },
            "type": "barpolar"
           }
          ],
          "carpet": [
           {
            "aaxis": {
             "endlinecolor": "#2a3f5f",
             "gridcolor": "white",
             "linecolor": "white",
             "minorgridcolor": "white",
             "startlinecolor": "#2a3f5f"
            },
            "baxis": {
             "endlinecolor": "#2a3f5f",
             "gridcolor": "white",
             "linecolor": "white",
             "minorgridcolor": "white",
             "startlinecolor": "#2a3f5f"
            },
            "type": "carpet"
           }
          ],
          "choropleth": [
           {
            "colorbar": {
             "outlinewidth": 0,
             "ticks": ""
            },
            "type": "choropleth"
           }
          ],
          "contour": [
           {
            "colorbar": {
             "outlinewidth": 0,
             "ticks": ""
            },
            "colorscale": [
             [
              0,
              "#0d0887"
             ],
             [
              0.1111111111111111,
              "#46039f"
             ],
             [
              0.2222222222222222,
              "#7201a8"
             ],
             [
              0.3333333333333333,
              "#9c179e"
             ],
             [
              0.4444444444444444,
              "#bd3786"
             ],
             [
              0.5555555555555556,
              "#d8576b"
             ],
             [
              0.6666666666666666,
              "#ed7953"
             ],
             [
              0.7777777777777778,
              "#fb9f3a"
             ],
             [
              0.8888888888888888,
              "#fdca26"
             ],
             [
              1,
              "#f0f921"
             ]
            ],
            "type": "contour"
           }
          ],
          "contourcarpet": [
           {
            "colorbar": {
             "outlinewidth": 0,
             "ticks": ""
            },
            "type": "contourcarpet"
           }
          ],
          "heatmap": [
           {
            "colorbar": {
             "outlinewidth": 0,
             "ticks": ""
            },
            "colorscale": [
             [
              0,
              "#0d0887"
             ],
             [
              0.1111111111111111,
              "#46039f"
             ],
             [
              0.2222222222222222,
              "#7201a8"
             ],
             [
              0.3333333333333333,
              "#9c179e"
             ],
             [
              0.4444444444444444,
              "#bd3786"
             ],
             [
              0.5555555555555556,
              "#d8576b"
             ],
             [
              0.6666666666666666,
              "#ed7953"
             ],
             [
              0.7777777777777778,
              "#fb9f3a"
             ],
             [
              0.8888888888888888,
              "#fdca26"
             ],
             [
              1,
              "#f0f921"
             ]
            ],
            "type": "heatmap"
           }
          ],
          "heatmapgl": [
           {
            "colorbar": {
             "outlinewidth": 0,
             "ticks": ""
            },
            "colorscale": [
             [
              0,
              "#0d0887"
             ],
             [
              0.1111111111111111,
              "#46039f"
             ],
             [
              0.2222222222222222,
              "#7201a8"
             ],
             [
              0.3333333333333333,
              "#9c179e"
             ],
             [
              0.4444444444444444,
              "#bd3786"
             ],
             [
              0.5555555555555556,
              "#d8576b"
             ],
             [
              0.6666666666666666,
              "#ed7953"
             ],
             [
              0.7777777777777778,
              "#fb9f3a"
             ],
             [
              0.8888888888888888,
              "#fdca26"
             ],
             [
              1,
              "#f0f921"
             ]
            ],
            "type": "heatmapgl"
           }
          ],
          "histogram": [
           {
            "marker": {
             "pattern": {
              "fillmode": "overlay",
              "size": 10,
              "solidity": 0.2
             }
            },
            "type": "histogram"
           }
          ],
          "histogram2d": [
           {
            "colorbar": {
             "outlinewidth": 0,
             "ticks": ""
            },
            "colorscale": [
             [
              0,
              "#0d0887"
             ],
             [
              0.1111111111111111,
              "#46039f"
             ],
             [
              0.2222222222222222,
              "#7201a8"
             ],
             [
              0.3333333333333333,
              "#9c179e"
             ],
             [
              0.4444444444444444,
              "#bd3786"
             ],
             [
              0.5555555555555556,
              "#d8576b"
             ],
             [
              0.6666666666666666,
              "#ed7953"
             ],
             [
              0.7777777777777778,
              "#fb9f3a"
             ],
             [
              0.8888888888888888,
              "#fdca26"
             ],
             [
              1,
              "#f0f921"
             ]
            ],
            "type": "histogram2d"
           }
          ],
          "histogram2dcontour": [
           {
            "colorbar": {
             "outlinewidth": 0,
             "ticks": ""
            },
            "colorscale": [
             [
              0,
              "#0d0887"
             ],
             [
              0.1111111111111111,
              "#46039f"
             ],
             [
              0.2222222222222222,
              "#7201a8"
             ],
             [
              0.3333333333333333,
              "#9c179e"
             ],
             [
              0.4444444444444444,
              "#bd3786"
             ],
             [
              0.5555555555555556,
              "#d8576b"
             ],
             [
              0.6666666666666666,
              "#ed7953"
             ],
             [
              0.7777777777777778,
              "#fb9f3a"
             ],
             [
              0.8888888888888888,
              "#fdca26"
             ],
             [
              1,
              "#f0f921"
             ]
            ],
            "type": "histogram2dcontour"
           }
          ],
          "mesh3d": [
           {
            "colorbar": {
             "outlinewidth": 0,
             "ticks": ""
            },
            "type": "mesh3d"
           }
          ],
          "parcoords": [
           {
            "line": {
             "colorbar": {
              "outlinewidth": 0,
              "ticks": ""
             }
            },
            "type": "parcoords"
           }
          ],
          "pie": [
           {
            "automargin": true,
            "type": "pie"
           }
          ],
          "scatter": [
           {
            "fillpattern": {
             "fillmode": "overlay",
             "size": 10,
             "solidity": 0.2
            },
            "type": "scatter"
           }
          ],
          "scatter3d": [
           {
            "line": {
             "colorbar": {
              "outlinewidth": 0,
              "ticks": ""
             }
            },
            "marker": {
             "colorbar": {
              "outlinewidth": 0,
              "ticks": ""
             }
            },
            "type": "scatter3d"
           }
          ],
          "scattercarpet": [
           {
            "marker": {
             "colorbar": {
              "outlinewidth": 0,
              "ticks": ""
             }
            },
            "type": "scattercarpet"
           }
          ],
          "scattergeo": [
           {
            "marker": {
             "colorbar": {
              "outlinewidth": 0,
              "ticks": ""
             }
            },
            "type": "scattergeo"
           }
          ],
          "scattergl": [
           {
            "marker": {
             "colorbar": {
              "outlinewidth": 0,
              "ticks": ""
             }
            },
            "type": "scattergl"
           }
          ],
          "scattermapbox": [
           {
            "marker": {
             "colorbar": {
              "outlinewidth": 0,
              "ticks": ""
             }
            },
            "type": "scattermapbox"
           }
          ],
          "scatterpolar": [
           {
            "marker": {
             "colorbar": {
              "outlinewidth": 0,
              "ticks": ""
             }
            },
            "type": "scatterpolar"
           }
          ],
          "scatterpolargl": [
           {
            "marker": {
             "colorbar": {
              "outlinewidth": 0,
              "ticks": ""
             }
            },
            "type": "scatterpolargl"
           }
          ],
          "scatterternary": [
           {
            "marker": {
             "colorbar": {
              "outlinewidth": 0,
              "ticks": ""
             }
            },
            "type": "scatterternary"
           }
          ],
          "surface": [
           {
            "colorbar": {
             "outlinewidth": 0,
             "ticks": ""
            },
            "colorscale": [
             [
              0,
              "#0d0887"
             ],
             [
              0.1111111111111111,
              "#46039f"
             ],
             [
              0.2222222222222222,
              "#7201a8"
             ],
             [
              0.3333333333333333,
              "#9c179e"
             ],
             [
              0.4444444444444444,
              "#bd3786"
             ],
             [
              0.5555555555555556,
              "#d8576b"
             ],
             [
              0.6666666666666666,
              "#ed7953"
             ],
             [
              0.7777777777777778,
              "#fb9f3a"
             ],
             [
              0.8888888888888888,
              "#fdca26"
             ],
             [
              1,
              "#f0f921"
             ]
            ],
            "type": "surface"
           }
          ],
          "table": [
           {
            "cells": {
             "fill": {
              "color": "#EBF0F8"
             },
             "line": {
              "color": "white"
             }
            },
            "header": {
             "fill": {
              "color": "#C8D4E3"
             },
             "line": {
              "color": "white"
             }
            },
            "type": "table"
           }
          ]
         },
         "layout": {
          "annotationdefaults": {
           "arrowcolor": "#2a3f5f",
           "arrowhead": 0,
           "arrowwidth": 1
          },
          "autotypenumbers": "strict",
          "coloraxis": {
           "colorbar": {
            "outlinewidth": 0,
            "ticks": ""
           }
          },
          "colorscale": {
           "diverging": [
            [
             0,
             "#8e0152"
            ],
            [
             0.1,
             "#c51b7d"
            ],
            [
             0.2,
             "#de77ae"
            ],
            [
             0.3,
             "#f1b6da"
            ],
            [
             0.4,
             "#fde0ef"
            ],
            [
             0.5,
             "#f7f7f7"
            ],
            [
             0.6,
             "#e6f5d0"
            ],
            [
             0.7,
             "#b8e186"
            ],
            [
             0.8,
             "#7fbc41"
            ],
            [
             0.9,
             "#4d9221"
            ],
            [
             1,
             "#276419"
            ]
           ],
           "sequential": [
            [
             0,
             "#0d0887"
            ],
            [
             0.1111111111111111,
             "#46039f"
            ],
            [
             0.2222222222222222,
             "#7201a8"
            ],
            [
             0.3333333333333333,
             "#9c179e"
            ],
            [
             0.4444444444444444,
             "#bd3786"
            ],
            [
             0.5555555555555556,
             "#d8576b"
            ],
            [
             0.6666666666666666,
             "#ed7953"
            ],
            [
             0.7777777777777778,
             "#fb9f3a"
            ],
            [
             0.8888888888888888,
             "#fdca26"
            ],
            [
             1,
             "#f0f921"
            ]
           ],
           "sequentialminus": [
            [
             0,
             "#0d0887"
            ],
            [
             0.1111111111111111,
             "#46039f"
            ],
            [
             0.2222222222222222,
             "#7201a8"
            ],
            [
             0.3333333333333333,
             "#9c179e"
            ],
            [
             0.4444444444444444,
             "#bd3786"
            ],
            [
             0.5555555555555556,
             "#d8576b"
            ],
            [
             0.6666666666666666,
             "#ed7953"
            ],
            [
             0.7777777777777778,
             "#fb9f3a"
            ],
            [
             0.8888888888888888,
             "#fdca26"
            ],
            [
             1,
             "#f0f921"
            ]
           ]
          },
          "colorway": [
           "#636efa",
           "#EF553B",
           "#00cc96",
           "#ab63fa",
           "#FFA15A",
           "#19d3f3",
           "#FF6692",
           "#B6E880",
           "#FF97FF",
           "#FECB52"
          ],
          "font": {
           "color": "#2a3f5f"
          },
          "geo": {
           "bgcolor": "white",
           "lakecolor": "white",
           "landcolor": "#E5ECF6",
           "showlakes": true,
           "showland": true,
           "subunitcolor": "white"
          },
          "hoverlabel": {
           "align": "left"
          },
          "hovermode": "closest",
          "mapbox": {
           "style": "light"
          },
          "paper_bgcolor": "white",
          "plot_bgcolor": "#E5ECF6",
          "polar": {
           "angularaxis": {
            "gridcolor": "white",
            "linecolor": "white",
            "ticks": ""
           },
           "bgcolor": "#E5ECF6",
           "radialaxis": {
            "gridcolor": "white",
            "linecolor": "white",
            "ticks": ""
           }
          },
          "scene": {
           "xaxis": {
            "backgroundcolor": "#E5ECF6",
            "gridcolor": "white",
            "gridwidth": 2,
            "linecolor": "white",
            "showbackground": true,
            "ticks": "",
            "zerolinecolor": "white"
           },
           "yaxis": {
            "backgroundcolor": "#E5ECF6",
            "gridcolor": "white",
            "gridwidth": 2,
            "linecolor": "white",
            "showbackground": true,
            "ticks": "",
            "zerolinecolor": "white"
           },
           "zaxis": {
            "backgroundcolor": "#E5ECF6",
            "gridcolor": "white",
            "gridwidth": 2,
            "linecolor": "white",
            "showbackground": true,
            "ticks": "",
            "zerolinecolor": "white"
           }
          },
          "shapedefaults": {
           "line": {
            "color": "#2a3f5f"
           }
          },
          "ternary": {
           "aaxis": {
            "gridcolor": "white",
            "linecolor": "white",
            "ticks": ""
           },
           "baxis": {
            "gridcolor": "white",
            "linecolor": "white",
            "ticks": ""
           },
           "bgcolor": "#E5ECF6",
           "caxis": {
            "gridcolor": "white",
            "linecolor": "white",
            "ticks": ""
           }
          },
          "title": {
           "x": 0.05
          },
          "xaxis": {
           "automargin": true,
           "gridcolor": "white",
           "linecolor": "white",
           "ticks": "",
           "title": {
            "standoff": 15
           },
           "zerolinecolor": "white",
           "zerolinewidth": 2
          },
          "yaxis": {
           "automargin": true,
           "gridcolor": "white",
           "linecolor": "white",
           "ticks": "",
           "title": {
            "standoff": 15
           },
           "zerolinecolor": "white",
           "zerolinewidth": 2
          }
         }
        },
        "title": {
         "font": {
          "color": "#4D5663"
         }
        },
        "xaxis": {
         "gridcolor": "#E1E5ED",
         "showgrid": true,
         "tickfont": {
          "color": "#4D5663"
         },
         "title": {
          "font": {
           "color": "#4D5663"
          },
          "text": ""
         },
         "zerolinecolor": "#E1E5ED"
        },
        "yaxis": {
         "gridcolor": "#E1E5ED",
         "showgrid": true,
         "tickfont": {
          "color": "#4D5663"
         },
         "title": {
          "font": {
           "color": "#4D5663"
          },
          "text": ""
         },
         "zerolinecolor": "#E1E5ED"
        }
       }
      },
      "text/html": [
       "<div>                            <div id=\"5fd648d2-dbc5-443d-857a-bfa063fc7e5f\" class=\"plotly-graph-div\" style=\"height:525px; width:100%;\"></div>            <script type=\"text/javascript\">                require([\"plotly\"], function(Plotly) {                    window.PLOTLYENV=window.PLOTLYENV || {};\n",
       "                    window.PLOTLYENV.BASE_URL='https://plot.ly';                                    if (document.getElementById(\"5fd648d2-dbc5-443d-857a-bfa063fc7e5f\")) {                    Plotly.newPlot(                        \"5fd648d2-dbc5-443d-857a-bfa063fc7e5f\",                        [{\"marker\":{\"color\":\"rgba(255, 153, 51, 0.6)\",\"line\":{\"color\":\"rgba(255, 153, 51, 1.0)\",\"width\":1}},\"name\":\"None\",\"orientation\":\"v\",\"text\":\"\",\"x\":[\"A\",\"B\",\"C\",\"D\"],\"y\":[100,100,100,100],\"type\":\"bar\"}],                        {\"legend\":{\"bgcolor\":\"#F5F6F9\",\"font\":{\"color\":\"#4D5663\"}},\"paper_bgcolor\":\"#F5F6F9\",\"plot_bgcolor\":\"#F5F6F9\",\"template\":{\"data\":{\"barpolar\":[{\"marker\":{\"line\":{\"color\":\"#E5ECF6\",\"width\":0.5},\"pattern\":{\"fillmode\":\"overlay\",\"size\":10,\"solidity\":0.2}},\"type\":\"barpolar\"}],\"bar\":[{\"error_x\":{\"color\":\"#2a3f5f\"},\"error_y\":{\"color\":\"#2a3f5f\"},\"marker\":{\"line\":{\"color\":\"#E5ECF6\",\"width\":0.5},\"pattern\":{\"fillmode\":\"overlay\",\"size\":10,\"solidity\":0.2}},\"type\":\"bar\"}],\"carpet\":[{\"aaxis\":{\"endlinecolor\":\"#2a3f5f\",\"gridcolor\":\"white\",\"linecolor\":\"white\",\"minorgridcolor\":\"white\",\"startlinecolor\":\"#2a3f5f\"},\"baxis\":{\"endlinecolor\":\"#2a3f5f\",\"gridcolor\":\"white\",\"linecolor\":\"white\",\"minorgridcolor\":\"white\",\"startlinecolor\":\"#2a3f5f\"},\"type\":\"carpet\"}],\"choropleth\":[{\"colorbar\":{\"outlinewidth\":0,\"ticks\":\"\"},\"type\":\"choropleth\"}],\"contourcarpet\":[{\"colorbar\":{\"outlinewidth\":0,\"ticks\":\"\"},\"type\":\"contourcarpet\"}],\"contour\":[{\"colorbar\":{\"outlinewidth\":0,\"ticks\":\"\"},\"colorscale\":[[0.0,\"#0d0887\"],[0.1111111111111111,\"#46039f\"],[0.2222222222222222,\"#7201a8\"],[0.3333333333333333,\"#9c179e\"],[0.4444444444444444,\"#bd3786\"],[0.5555555555555556,\"#d8576b\"],[0.6666666666666666,\"#ed7953\"],[0.7777777777777778,\"#fb9f3a\"],[0.8888888888888888,\"#fdca26\"],[1.0,\"#f0f921\"]],\"type\":\"contour\"}],\"heatmapgl\":[{\"colorbar\":{\"outlinewidth\":0,\"ticks\":\"\"},\"colorscale\":[[0.0,\"#0d0887\"],[0.1111111111111111,\"#46039f\"],[0.2222222222222222,\"#7201a8\"],[0.3333333333333333,\"#9c179e\"],[0.4444444444444444,\"#bd3786\"],[0.5555555555555556,\"#d8576b\"],[0.6666666666666666,\"#ed7953\"],[0.7777777777777778,\"#fb9f3a\"],[0.8888888888888888,\"#fdca26\"],[1.0,\"#f0f921\"]],\"type\":\"heatmapgl\"}],\"heatmap\":[{\"colorbar\":{\"outlinewidth\":0,\"ticks\":\"\"},\"colorscale\":[[0.0,\"#0d0887\"],[0.1111111111111111,\"#46039f\"],[0.2222222222222222,\"#7201a8\"],[0.3333333333333333,\"#9c179e\"],[0.4444444444444444,\"#bd3786\"],[0.5555555555555556,\"#d8576b\"],[0.6666666666666666,\"#ed7953\"],[0.7777777777777778,\"#fb9f3a\"],[0.8888888888888888,\"#fdca26\"],[1.0,\"#f0f921\"]],\"type\":\"heatmap\"}],\"histogram2dcontour\":[{\"colorbar\":{\"outlinewidth\":0,\"ticks\":\"\"},\"colorscale\":[[0.0,\"#0d0887\"],[0.1111111111111111,\"#46039f\"],[0.2222222222222222,\"#7201a8\"],[0.3333333333333333,\"#9c179e\"],[0.4444444444444444,\"#bd3786\"],[0.5555555555555556,\"#d8576b\"],[0.6666666666666666,\"#ed7953\"],[0.7777777777777778,\"#fb9f3a\"],[0.8888888888888888,\"#fdca26\"],[1.0,\"#f0f921\"]],\"type\":\"histogram2dcontour\"}],\"histogram2d\":[{\"colorbar\":{\"outlinewidth\":0,\"ticks\":\"\"},\"colorscale\":[[0.0,\"#0d0887\"],[0.1111111111111111,\"#46039f\"],[0.2222222222222222,\"#7201a8\"],[0.3333333333333333,\"#9c179e\"],[0.4444444444444444,\"#bd3786\"],[0.5555555555555556,\"#d8576b\"],[0.6666666666666666,\"#ed7953\"],[0.7777777777777778,\"#fb9f3a\"],[0.8888888888888888,\"#fdca26\"],[1.0,\"#f0f921\"]],\"type\":\"histogram2d\"}],\"histogram\":[{\"marker\":{\"pattern\":{\"fillmode\":\"overlay\",\"size\":10,\"solidity\":0.2}},\"type\":\"histogram\"}],\"mesh3d\":[{\"colorbar\":{\"outlinewidth\":0,\"ticks\":\"\"},\"type\":\"mesh3d\"}],\"parcoords\":[{\"line\":{\"colorbar\":{\"outlinewidth\":0,\"ticks\":\"\"}},\"type\":\"parcoords\"}],\"pie\":[{\"automargin\":true,\"type\":\"pie\"}],\"scatter3d\":[{\"line\":{\"colorbar\":{\"outlinewidth\":0,\"ticks\":\"\"}},\"marker\":{\"colorbar\":{\"outlinewidth\":0,\"ticks\":\"\"}},\"type\":\"scatter3d\"}],\"scattercarpet\":[{\"marker\":{\"colorbar\":{\"outlinewidth\":0,\"ticks\":\"\"}},\"type\":\"scattercarpet\"}],\"scattergeo\":[{\"marker\":{\"colorbar\":{\"outlinewidth\":0,\"ticks\":\"\"}},\"type\":\"scattergeo\"}],\"scattergl\":[{\"marker\":{\"colorbar\":{\"outlinewidth\":0,\"ticks\":\"\"}},\"type\":\"scattergl\"}],\"scattermapbox\":[{\"marker\":{\"colorbar\":{\"outlinewidth\":0,\"ticks\":\"\"}},\"type\":\"scattermapbox\"}],\"scatterpolargl\":[{\"marker\":{\"colorbar\":{\"outlinewidth\":0,\"ticks\":\"\"}},\"type\":\"scatterpolargl\"}],\"scatterpolar\":[{\"marker\":{\"colorbar\":{\"outlinewidth\":0,\"ticks\":\"\"}},\"type\":\"scatterpolar\"}],\"scatter\":[{\"fillpattern\":{\"fillmode\":\"overlay\",\"size\":10,\"solidity\":0.2},\"type\":\"scatter\"}],\"scatterternary\":[{\"marker\":{\"colorbar\":{\"outlinewidth\":0,\"ticks\":\"\"}},\"type\":\"scatterternary\"}],\"surface\":[{\"colorbar\":{\"outlinewidth\":0,\"ticks\":\"\"},\"colorscale\":[[0.0,\"#0d0887\"],[0.1111111111111111,\"#46039f\"],[0.2222222222222222,\"#7201a8\"],[0.3333333333333333,\"#9c179e\"],[0.4444444444444444,\"#bd3786\"],[0.5555555555555556,\"#d8576b\"],[0.6666666666666666,\"#ed7953\"],[0.7777777777777778,\"#fb9f3a\"],[0.8888888888888888,\"#fdca26\"],[1.0,\"#f0f921\"]],\"type\":\"surface\"}],\"table\":[{\"cells\":{\"fill\":{\"color\":\"#EBF0F8\"},\"line\":{\"color\":\"white\"}},\"header\":{\"fill\":{\"color\":\"#C8D4E3\"},\"line\":{\"color\":\"white\"}},\"type\":\"table\"}]},\"layout\":{\"annotationdefaults\":{\"arrowcolor\":\"#2a3f5f\",\"arrowhead\":0,\"arrowwidth\":1},\"autotypenumbers\":\"strict\",\"coloraxis\":{\"colorbar\":{\"outlinewidth\":0,\"ticks\":\"\"}},\"colorscale\":{\"diverging\":[[0,\"#8e0152\"],[0.1,\"#c51b7d\"],[0.2,\"#de77ae\"],[0.3,\"#f1b6da\"],[0.4,\"#fde0ef\"],[0.5,\"#f7f7f7\"],[0.6,\"#e6f5d0\"],[0.7,\"#b8e186\"],[0.8,\"#7fbc41\"],[0.9,\"#4d9221\"],[1,\"#276419\"]],\"sequential\":[[0.0,\"#0d0887\"],[0.1111111111111111,\"#46039f\"],[0.2222222222222222,\"#7201a8\"],[0.3333333333333333,\"#9c179e\"],[0.4444444444444444,\"#bd3786\"],[0.5555555555555556,\"#d8576b\"],[0.6666666666666666,\"#ed7953\"],[0.7777777777777778,\"#fb9f3a\"],[0.8888888888888888,\"#fdca26\"],[1.0,\"#f0f921\"]],\"sequentialminus\":[[0.0,\"#0d0887\"],[0.1111111111111111,\"#46039f\"],[0.2222222222222222,\"#7201a8\"],[0.3333333333333333,\"#9c179e\"],[0.4444444444444444,\"#bd3786\"],[0.5555555555555556,\"#d8576b\"],[0.6666666666666666,\"#ed7953\"],[0.7777777777777778,\"#fb9f3a\"],[0.8888888888888888,\"#fdca26\"],[1.0,\"#f0f921\"]]},\"colorway\":[\"#636efa\",\"#EF553B\",\"#00cc96\",\"#ab63fa\",\"#FFA15A\",\"#19d3f3\",\"#FF6692\",\"#B6E880\",\"#FF97FF\",\"#FECB52\"],\"font\":{\"color\":\"#2a3f5f\"},\"geo\":{\"bgcolor\":\"white\",\"lakecolor\":\"white\",\"landcolor\":\"#E5ECF6\",\"showlakes\":true,\"showland\":true,\"subunitcolor\":\"white\"},\"hoverlabel\":{\"align\":\"left\"},\"hovermode\":\"closest\",\"mapbox\":{\"style\":\"light\"},\"paper_bgcolor\":\"white\",\"plot_bgcolor\":\"#E5ECF6\",\"polar\":{\"angularaxis\":{\"gridcolor\":\"white\",\"linecolor\":\"white\",\"ticks\":\"\"},\"bgcolor\":\"#E5ECF6\",\"radialaxis\":{\"gridcolor\":\"white\",\"linecolor\":\"white\",\"ticks\":\"\"}},\"scene\":{\"xaxis\":{\"backgroundcolor\":\"#E5ECF6\",\"gridcolor\":\"white\",\"gridwidth\":2,\"linecolor\":\"white\",\"showbackground\":true,\"ticks\":\"\",\"zerolinecolor\":\"white\"},\"yaxis\":{\"backgroundcolor\":\"#E5ECF6\",\"gridcolor\":\"white\",\"gridwidth\":2,\"linecolor\":\"white\",\"showbackground\":true,\"ticks\":\"\",\"zerolinecolor\":\"white\"},\"zaxis\":{\"backgroundcolor\":\"#E5ECF6\",\"gridcolor\":\"white\",\"gridwidth\":2,\"linecolor\":\"white\",\"showbackground\":true,\"ticks\":\"\",\"zerolinecolor\":\"white\"}},\"shapedefaults\":{\"line\":{\"color\":\"#2a3f5f\"}},\"ternary\":{\"aaxis\":{\"gridcolor\":\"white\",\"linecolor\":\"white\",\"ticks\":\"\"},\"baxis\":{\"gridcolor\":\"white\",\"linecolor\":\"white\",\"ticks\":\"\"},\"bgcolor\":\"#E5ECF6\",\"caxis\":{\"gridcolor\":\"white\",\"linecolor\":\"white\",\"ticks\":\"\"}},\"title\":{\"x\":0.05},\"xaxis\":{\"automargin\":true,\"gridcolor\":\"white\",\"linecolor\":\"white\",\"ticks\":\"\",\"title\":{\"standoff\":15},\"zerolinecolor\":\"white\",\"zerolinewidth\":2},\"yaxis\":{\"automargin\":true,\"gridcolor\":\"white\",\"linecolor\":\"white\",\"ticks\":\"\",\"title\":{\"standoff\":15},\"zerolinecolor\":\"white\",\"zerolinewidth\":2}}},\"title\":{\"font\":{\"color\":\"#4D5663\"}},\"xaxis\":{\"gridcolor\":\"#E1E5ED\",\"showgrid\":true,\"tickfont\":{\"color\":\"#4D5663\"},\"title\":{\"font\":{\"color\":\"#4D5663\"},\"text\":\"\"},\"zerolinecolor\":\"#E1E5ED\"},\"yaxis\":{\"gridcolor\":\"#E1E5ED\",\"showgrid\":true,\"tickfont\":{\"color\":\"#4D5663\"},\"title\":{\"font\":{\"color\":\"#4D5663\"},\"text\":\"\"},\"zerolinecolor\":\"#E1E5ED\"}},                        {\"showLink\": true, \"linkText\": \"Export to plot.ly\", \"plotlyServerURL\": \"https://plot.ly\", \"responsive\": true}                    ).then(function(){\n",
       "                            \n",
       "var gd = document.getElementById('5fd648d2-dbc5-443d-857a-bfa063fc7e5f');\n",
       "var x = new MutationObserver(function (mutations, observer) {{\n",
       "        var display = window.getComputedStyle(gd).display;\n",
       "        if (!display || display === 'none') {{\n",
       "            console.log([gd, 'removed!']);\n",
       "            Plotly.purge(gd);\n",
       "            observer.disconnect();\n",
       "        }}\n",
       "}});\n",
       "\n",
       "// Listen for the removal of the full notebook cells\n",
       "var notebookContainer = gd.closest('#notebook-container');\n",
       "if (notebookContainer) {{\n",
       "    x.observe(notebookContainer, {childList: true});\n",
       "}}\n",
       "\n",
       "// Listen for the clearing of the current output cell\n",
       "var outputEl = gd.closest('.output');\n",
       "if (outputEl) {{\n",
       "    x.observe(outputEl, {childList: true});\n",
       "}}\n",
       "\n",
       "                        })                };                });            </script>        </div>"
      ]
     },
     "metadata": {},
     "output_type": "display_data"
    }
   ],
   "source": [
    "df.count().iplot(kind='bar')"
   ]
  },
  {
   "cell_type": "markdown",
   "metadata": {},
   "source": [
    "## Boxplots"
   ]
  },
  {
   "cell_type": "code",
   "execution_count": 15,
   "metadata": {},
   "outputs": [
    {
     "data": {
      "application/vnd.plotly.v1+json": {
       "config": {
        "linkText": "Export to plot.ly",
        "plotlyServerURL": "https://plot.ly",
        "showLink": true
       },
       "data": [
        {
         "boxpoints": false,
         "line": {
          "width": 1.3
         },
         "marker": {
          "color": "rgba(255, 153, 51, 1.0)"
         },
         "name": "A",
         "orientation": "v",
         "type": "box",
         "y": [
          0.880959023786186,
          0.33345468870373934,
          -0.7409452183565108,
          -1.0977254619292793,
          1.426956946279641,
          -0.40451770845568713,
          0.7724937627319252,
          0.644782086556282,
          -1.4869968168898273,
          0.37640996305940577,
          0.19241489957125432,
          -1.111594409266069,
          -1.5716846453869657,
          -0.36244462977814346,
          0.9744328917524051,
          0.343809552356227,
          -0.3080270466791063,
          -0.1950077347039267,
          -0.18910257491181054,
          -0.6381781064691867,
          0.5260265822330088,
          0.17218121992761243,
          0.1317493478999784,
          -1.0133952881868464,
          -0.16642802340778293,
          -0.644563294742128,
          0.7660731182339767,
          0.47884529664076686,
          -0.521733455462245,
          0.2847131403623892,
          1.5396458082150322,
          -0.4241727051938035,
          0.8362651765647242,
          -0.9500544906883717,
          1.4845688288335317,
          1.1664130670490056,
          -0.0973424642717085,
          0.10116897363812288,
          1.4395527944343374,
          -0.935803180624831,
          1.191156335436539,
          0.7008093119694427,
          -0.9877741095005993,
          -0.4067540719547818,
          -1.370266828503218,
          -1.5353289076252745,
          0.5156460626883984,
          0.4587356572312894,
          0.09260485165730781,
          -1.6636675799745504,
          -0.7290334138658231,
          2.3527806369229394,
          -0.02979154016277506,
          0.024883854810285724,
          0.1899346163866445,
          0.5236554909988752,
          -0.4997433251662194,
          -1.3642904785357,
          -0.29608229446459455,
          -0.6610346788287468,
          0.33500653513485135,
          1.1434766678809734,
          0.6274696800615975,
          0.16552222232531544,
          -0.20205077372308394,
          0.912181391847108,
          -0.5858661976669097,
          -0.3396202037385737,
          0.893157460815925,
          -0.03964706555960653,
          -1.3103665565452216,
          0.5145396422513303,
          0.4166449293411519,
          1.3876021868735242,
          -0.3566481515000294,
          1.2902317814630657,
          0.8846490176365839,
          -1.5320252852273633,
          0.24356536270953288,
          1.3827634187849156,
          1.1819807080169038,
          -0.9660934499810131,
          -0.14796198765918317,
          -0.29251024584393925,
          -1.2027691265328306,
          1.920477778045479,
          -0.4130477360151552,
          0.5202955950169208,
          1.455326064624853,
          -2.0227300702714315,
          -1.6256166848992932,
          0.07554860674090483,
          1.7989334075269259,
          -1.4357117254331069,
          -1.1162061239030632,
          1.2645613747776647,
          -0.05085065547567881,
          1.3957163268407782,
          0.24453545539482402,
          0.4271283479483513
         ]
        },
        {
         "boxpoints": false,
         "line": {
          "width": 1.3
         },
         "marker": {
          "color": "rgba(55, 128, 191, 1.0)"
         },
         "name": "B",
         "orientation": "v",
         "type": "box",
         "y": [
          -1.5991275929197728,
          -0.8139801222032823,
          0.8884921961412762,
          0.015894687243417947,
          -0.6325211178813915,
          -1.9991061820032472,
          -0.555553251851912,
          -0.35026738841258764,
          0.46336296385168246,
          -0.33200786419981354,
          -0.014622520917696516,
          -1.2701991072571905,
          2.0392368945542794,
          -0.2820636697677745,
          1.1342694570432095,
          1.561697756976798,
          1.0717177775448286,
          1.1522195478371517,
          0.7570476750581898,
          -0.09291807113560716,
          -1.6674145944274692,
          -0.6686748289046941,
          -0.979060347779246,
          0.8576553382435183,
          0.9156021630201164,
          1.0388677923626626,
          2.336127802368596,
          0.40685339783055247,
          0.5189884359989433,
          0.07478796476990413,
          -0.6238735508899921,
          0.6256175510166899,
          0.5922977782752936,
          -1.1265454524507295,
          1.4698329632388514,
          0.42799339053984825,
          0.8457940003940891,
          -0.1262185339529523,
          -0.25234556078581993,
          -1.1260192157045796,
          0.3835707132779261,
          -0.8314028714113617,
          0.8777179911373496,
          1.4463623493451832,
          3.1034799952860674,
          1.013634913867253,
          1.779853980511546,
          0.10860250518723495,
          0.22796974651343066,
          -1.0458153022900263,
          -1.131689781985826,
          2.7004697893450524,
          1.0334664852867421,
          -0.9288778444152588,
          0.4769366435803124,
          3.0211093187401215,
          1.0593724527376387,
          -0.6087819099103041,
          -0.2575805456381415,
          0.5066594778797082,
          1.4002989836878734,
          1.4411063346739925,
          0.04840543213115739,
          1.896847405157337,
          0.6338012305107075,
          -1.3562240913416577,
          0.4019154283115991,
          0.5629306992560655,
          -0.5792695927028133,
          1.1149305580150437,
          2.1164451210238098,
          -0.6520525930293237,
          -0.6584177578263147,
          0.9868904525143627,
          -0.41216520249140554,
          -0.27287903130401997,
          1.115666369860281,
          -0.39772904944217946,
          -0.4598852585159614,
          -1.7834138468017278,
          -0.2923694109708229,
          -1.8736668007494182,
          -0.36712341162900086,
          -1.0182841444821644,
          -0.3975773402120633,
          0.5562011702221297,
          0.3728989910009789,
          -1.1391381258104147,
          1.8661318239083446,
          1.1281553985958181,
          2.043942601739804,
          0.3751146032127571,
          0.06444449486988196,
          1.4759000232939212,
          -0.8826082038740967,
          -1.8309620572532959,
          -1.9116865067345703,
          1.3435903624112713,
          -0.3510226043980688,
          -1.336307829278521
         ]
        },
        {
         "boxpoints": false,
         "line": {
          "width": 1.3
         },
         "marker": {
          "color": "rgba(50, 171, 96, 1.0)"
         },
         "name": "C",
         "orientation": "v",
         "type": "box",
         "y": [
          -0.5090506193568138,
          0.46783502064920096,
          0.5140140169099323,
          -0.135858190534951,
          -1.1120422809221553,
          0.19036939224164473,
          -0.03979712243952682,
          0.33296567649967906,
          -1.9898009642441512,
          -0.902537575842969,
          0.512370114531166,
          0.7457231798874311,
          -0.4599139337077797,
          -0.08329035539728351,
          0.2939914814897891,
          1.0397367809010714,
          0.26753779808456957,
          -0.6578224852206888,
          0.14082629103879815,
          0.41566371267221724,
          1.022721310170276,
          -1.860838307387713,
          1.5944326598969125,
          -1.2678740218410052,
          -0.5803517829706125,
          1.7185130952373155,
          -0.2770565620613567,
          -0.2174035320063592,
          -0.4464487113666228,
          -0.5193387558854705,
          1.0241756496954264,
          -0.2740642183840163,
          0.7501035573720817,
          0.8091131638344188,
          -1.3863291423546382,
          1.6225906991723393,
          0.40853475087480695,
          0.03205088916471121,
          -0.005833144026442187,
          0.34601231685819017,
          0.7348236411311267,
          0.6277203931914014,
          -0.2633724364374913,
          -0.920502242018471,
          -2.2069563296162458,
          -0.194494195736623,
          0.9327130181865532,
          -0.1733931402852244,
          1.0158625618450354,
          1.539902082125618,
          -0.05376573178868323,
          -0.6922588647787197,
          0.3037962419061943,
          1.1048652730300073,
          0.3038662067981688,
          -0.9185307726746565,
          0.25712963151031315,
          0.43889657467445065,
          -0.690794329118379,
          -0.9957969810098548,
          -0.49164947058854075,
          -0.6454940127383348,
          1.4888193820944833,
          -0.7290828678415429,
          1.083106495091023,
          1.521053498546015,
          -0.584366558587681,
          0.017737965521257622,
          -1.8226790982330792,
          0.5083992619503088,
          0.25765616875605013,
          1.8496015765740905,
          1.4472779923578751,
          0.29558928507376103,
          -0.12266302408527396,
          -0.3736704215085696,
          0.5045060169757424,
          0.36557750268798883,
          0.594394718574478,
          0.49295114743440466,
          2.9070038770508537,
          0.6185281046185005,
          1.3096511147374101,
          1.6268644901970832,
          -0.7709033259032211,
          0.8822290039516804,
          0.14807768446328531,
          1.943252534898724,
          0.8686695792913697,
          -0.9677240710412516,
          0.10579717107376764,
          0.03778346688749221,
          1.5544957242622193,
          0.21052048722692912,
          0.8376124681460906,
          -1.8103708705905752,
          0.45736288915641055,
          0.8671009267301292,
          -0.7153945627548396,
          0.4486740570690812
         ]
        },
        {
         "boxpoints": false,
         "line": {
          "width": 1.3
         },
         "marker": {
          "color": "rgba(128, 0, 128, 1.0)"
         },
         "name": "D",
         "orientation": "v",
         "type": "box",
         "y": [
          -0.9043521089077933,
          1.4126520248446917,
          0.015608708201911856,
          -0.5752355462883069,
          -2.272948276746747,
          1.3203900706416196,
          -2.230898899533376,
          0.22438129820470562,
          1.2490549803105375,
          -2.336596765497704,
          0.8174101824978081,
          -0.5956833597847471,
          0.8306951075365935,
          0.6042093052059592,
          -2.246940809702541,
          -0.15470726706638446,
          -0.008964251377927451,
          -0.3817142443178131,
          -0.6427627753846652,
          -1.2838575393277776,
          -0.3710064429112497,
          2.0522660728201556,
          1.005876636145941,
          2.0659670213503434,
          1.6234730288753514,
          0.09396042799024812,
          1.6479324559722837,
          -0.8313293070258346,
          -0.20041110399305048,
          -0.09722610598308987,
          0.5834894535754519,
          1.5753609002860787,
          -1.613499300383705,
          -0.1840892030742178,
          -1.4749279129444293,
          1.4013197965998834,
          -1.1976061033697114,
          -0.4129822037963091,
          -0.35850380531896736,
          0.0786530598906968,
          1.1528999573851861,
          0.2604220892617955,
          0.8379367990965246,
          -1.5454548756177453,
          0.01618998838375046,
          -1.7976039960822157,
          -0.21383226753443652,
          -0.8045216598108752,
          -2.144450573040715,
          1.2929354398268258,
          1.3515023005457099,
          0.32337749541065963,
          0.5050674795041893,
          0.3496208302770857,
          -0.8078009040674193,
          -0.9025483984595123,
          -0.5968115500744454,
          -2.105802710422677,
          0.5295346725256338,
          -0.2925482620132626,
          -1.7637327493020316,
          -0.7070451788823175,
          -0.02329149612738796,
          -0.3792157889939141,
          0.4584818326350015,
          -0.21035490252607428,
          0.3442686223433735,
          0.1089620955177308,
          1.4261858797405715,
          -1.1865870770467335,
          -2.075989907618423,
          1.4904877173585762,
          -1.3901437070696612,
          0.8769390701250268,
          -0.611487167754324,
          -0.2872921122157759,
          -0.46287543436419715,
          1.7926490254086715,
          1.1382122118892304,
          0.7531920375512052,
          0.15841147444526504,
          -1.27417087521861,
          -1.0103307940191708,
          0.6563776711573666,
          -0.07729188687001957,
          0.08087899046242757,
          -0.9297047164787704,
          -0.8404764747434706,
          0.03888362063569858,
          -1.0422470626956135,
          0.4037991563406125,
          -1.0989862827713213,
          0.799790414892631,
          1.3946745259718174,
          0.5085292317321647,
          -0.9797594818992357,
          0.5447244843241852,
          -0.5147254239232565,
          -0.31319707513158007,
          0.12620707747039064
         ]
        }
       ],
       "layout": {
        "legend": {
         "bgcolor": "#F5F6F9",
         "font": {
          "color": "#4D5663"
         }
        },
        "paper_bgcolor": "#F5F6F9",
        "plot_bgcolor": "#F5F6F9",
        "template": {
         "data": {
          "bar": [
           {
            "error_x": {
             "color": "#2a3f5f"
            },
            "error_y": {
             "color": "#2a3f5f"
            },
            "marker": {
             "line": {
              "color": "#E5ECF6",
              "width": 0.5
             },
             "pattern": {
              "fillmode": "overlay",
              "size": 10,
              "solidity": 0.2
             }
            },
            "type": "bar"
           }
          ],
          "barpolar": [
           {
            "marker": {
             "line": {
              "color": "#E5ECF6",
              "width": 0.5
             },
             "pattern": {
              "fillmode": "overlay",
              "size": 10,
              "solidity": 0.2
             }
            },
            "type": "barpolar"
           }
          ],
          "carpet": [
           {
            "aaxis": {
             "endlinecolor": "#2a3f5f",
             "gridcolor": "white",
             "linecolor": "white",
             "minorgridcolor": "white",
             "startlinecolor": "#2a3f5f"
            },
            "baxis": {
             "endlinecolor": "#2a3f5f",
             "gridcolor": "white",
             "linecolor": "white",
             "minorgridcolor": "white",
             "startlinecolor": "#2a3f5f"
            },
            "type": "carpet"
           }
          ],
          "choropleth": [
           {
            "colorbar": {
             "outlinewidth": 0,
             "ticks": ""
            },
            "type": "choropleth"
           }
          ],
          "contour": [
           {
            "colorbar": {
             "outlinewidth": 0,
             "ticks": ""
            },
            "colorscale": [
             [
              0,
              "#0d0887"
             ],
             [
              0.1111111111111111,
              "#46039f"
             ],
             [
              0.2222222222222222,
              "#7201a8"
             ],
             [
              0.3333333333333333,
              "#9c179e"
             ],
             [
              0.4444444444444444,
              "#bd3786"
             ],
             [
              0.5555555555555556,
              "#d8576b"
             ],
             [
              0.6666666666666666,
              "#ed7953"
             ],
             [
              0.7777777777777778,
              "#fb9f3a"
             ],
             [
              0.8888888888888888,
              "#fdca26"
             ],
             [
              1,
              "#f0f921"
             ]
            ],
            "type": "contour"
           }
          ],
          "contourcarpet": [
           {
            "colorbar": {
             "outlinewidth": 0,
             "ticks": ""
            },
            "type": "contourcarpet"
           }
          ],
          "heatmap": [
           {
            "colorbar": {
             "outlinewidth": 0,
             "ticks": ""
            },
            "colorscale": [
             [
              0,
              "#0d0887"
             ],
             [
              0.1111111111111111,
              "#46039f"
             ],
             [
              0.2222222222222222,
              "#7201a8"
             ],
             [
              0.3333333333333333,
              "#9c179e"
             ],
             [
              0.4444444444444444,
              "#bd3786"
             ],
             [
              0.5555555555555556,
              "#d8576b"
             ],
             [
              0.6666666666666666,
              "#ed7953"
             ],
             [
              0.7777777777777778,
              "#fb9f3a"
             ],
             [
              0.8888888888888888,
              "#fdca26"
             ],
             [
              1,
              "#f0f921"
             ]
            ],
            "type": "heatmap"
           }
          ],
          "heatmapgl": [
           {
            "colorbar": {
             "outlinewidth": 0,
             "ticks": ""
            },
            "colorscale": [
             [
              0,
              "#0d0887"
             ],
             [
              0.1111111111111111,
              "#46039f"
             ],
             [
              0.2222222222222222,
              "#7201a8"
             ],
             [
              0.3333333333333333,
              "#9c179e"
             ],
             [
              0.4444444444444444,
              "#bd3786"
             ],
             [
              0.5555555555555556,
              "#d8576b"
             ],
             [
              0.6666666666666666,
              "#ed7953"
             ],
             [
              0.7777777777777778,
              "#fb9f3a"
             ],
             [
              0.8888888888888888,
              "#fdca26"
             ],
             [
              1,
              "#f0f921"
             ]
            ],
            "type": "heatmapgl"
           }
          ],
          "histogram": [
           {
            "marker": {
             "pattern": {
              "fillmode": "overlay",
              "size": 10,
              "solidity": 0.2
             }
            },
            "type": "histogram"
           }
          ],
          "histogram2d": [
           {
            "colorbar": {
             "outlinewidth": 0,
             "ticks": ""
            },
            "colorscale": [
             [
              0,
              "#0d0887"
             ],
             [
              0.1111111111111111,
              "#46039f"
             ],
             [
              0.2222222222222222,
              "#7201a8"
             ],
             [
              0.3333333333333333,
              "#9c179e"
             ],
             [
              0.4444444444444444,
              "#bd3786"
             ],
             [
              0.5555555555555556,
              "#d8576b"
             ],
             [
              0.6666666666666666,
              "#ed7953"
             ],
             [
              0.7777777777777778,
              "#fb9f3a"
             ],
             [
              0.8888888888888888,
              "#fdca26"
             ],
             [
              1,
              "#f0f921"
             ]
            ],
            "type": "histogram2d"
           }
          ],
          "histogram2dcontour": [
           {
            "colorbar": {
             "outlinewidth": 0,
             "ticks": ""
            },
            "colorscale": [
             [
              0,
              "#0d0887"
             ],
             [
              0.1111111111111111,
              "#46039f"
             ],
             [
              0.2222222222222222,
              "#7201a8"
             ],
             [
              0.3333333333333333,
              "#9c179e"
             ],
             [
              0.4444444444444444,
              "#bd3786"
             ],
             [
              0.5555555555555556,
              "#d8576b"
             ],
             [
              0.6666666666666666,
              "#ed7953"
             ],
             [
              0.7777777777777778,
              "#fb9f3a"
             ],
             [
              0.8888888888888888,
              "#fdca26"
             ],
             [
              1,
              "#f0f921"
             ]
            ],
            "type": "histogram2dcontour"
           }
          ],
          "mesh3d": [
           {
            "colorbar": {
             "outlinewidth": 0,
             "ticks": ""
            },
            "type": "mesh3d"
           }
          ],
          "parcoords": [
           {
            "line": {
             "colorbar": {
              "outlinewidth": 0,
              "ticks": ""
             }
            },
            "type": "parcoords"
           }
          ],
          "pie": [
           {
            "automargin": true,
            "type": "pie"
           }
          ],
          "scatter": [
           {
            "fillpattern": {
             "fillmode": "overlay",
             "size": 10,
             "solidity": 0.2
            },
            "type": "scatter"
           }
          ],
          "scatter3d": [
           {
            "line": {
             "colorbar": {
              "outlinewidth": 0,
              "ticks": ""
             }
            },
            "marker": {
             "colorbar": {
              "outlinewidth": 0,
              "ticks": ""
             }
            },
            "type": "scatter3d"
           }
          ],
          "scattercarpet": [
           {
            "marker": {
             "colorbar": {
              "outlinewidth": 0,
              "ticks": ""
             }
            },
            "type": "scattercarpet"
           }
          ],
          "scattergeo": [
           {
            "marker": {
             "colorbar": {
              "outlinewidth": 0,
              "ticks": ""
             }
            },
            "type": "scattergeo"
           }
          ],
          "scattergl": [
           {
            "marker": {
             "colorbar": {
              "outlinewidth": 0,
              "ticks": ""
             }
            },
            "type": "scattergl"
           }
          ],
          "scattermapbox": [
           {
            "marker": {
             "colorbar": {
              "outlinewidth": 0,
              "ticks": ""
             }
            },
            "type": "scattermapbox"
           }
          ],
          "scatterpolar": [
           {
            "marker": {
             "colorbar": {
              "outlinewidth": 0,
              "ticks": ""
             }
            },
            "type": "scatterpolar"
           }
          ],
          "scatterpolargl": [
           {
            "marker": {
             "colorbar": {
              "outlinewidth": 0,
              "ticks": ""
             }
            },
            "type": "scatterpolargl"
           }
          ],
          "scatterternary": [
           {
            "marker": {
             "colorbar": {
              "outlinewidth": 0,
              "ticks": ""
             }
            },
            "type": "scatterternary"
           }
          ],
          "surface": [
           {
            "colorbar": {
             "outlinewidth": 0,
             "ticks": ""
            },
            "colorscale": [
             [
              0,
              "#0d0887"
             ],
             [
              0.1111111111111111,
              "#46039f"
             ],
             [
              0.2222222222222222,
              "#7201a8"
             ],
             [
              0.3333333333333333,
              "#9c179e"
             ],
             [
              0.4444444444444444,
              "#bd3786"
             ],
             [
              0.5555555555555556,
              "#d8576b"
             ],
             [
              0.6666666666666666,
              "#ed7953"
             ],
             [
              0.7777777777777778,
              "#fb9f3a"
             ],
             [
              0.8888888888888888,
              "#fdca26"
             ],
             [
              1,
              "#f0f921"
             ]
            ],
            "type": "surface"
           }
          ],
          "table": [
           {
            "cells": {
             "fill": {
              "color": "#EBF0F8"
             },
             "line": {
              "color": "white"
             }
            },
            "header": {
             "fill": {
              "color": "#C8D4E3"
             },
             "line": {
              "color": "white"
             }
            },
            "type": "table"
           }
          ]
         },
         "layout": {
          "annotationdefaults": {
           "arrowcolor": "#2a3f5f",
           "arrowhead": 0,
           "arrowwidth": 1
          },
          "autotypenumbers": "strict",
          "coloraxis": {
           "colorbar": {
            "outlinewidth": 0,
            "ticks": ""
           }
          },
          "colorscale": {
           "diverging": [
            [
             0,
             "#8e0152"
            ],
            [
             0.1,
             "#c51b7d"
            ],
            [
             0.2,
             "#de77ae"
            ],
            [
             0.3,
             "#f1b6da"
            ],
            [
             0.4,
             "#fde0ef"
            ],
            [
             0.5,
             "#f7f7f7"
            ],
            [
             0.6,
             "#e6f5d0"
            ],
            [
             0.7,
             "#b8e186"
            ],
            [
             0.8,
             "#7fbc41"
            ],
            [
             0.9,
             "#4d9221"
            ],
            [
             1,
             "#276419"
            ]
           ],
           "sequential": [
            [
             0,
             "#0d0887"
            ],
            [
             0.1111111111111111,
             "#46039f"
            ],
            [
             0.2222222222222222,
             "#7201a8"
            ],
            [
             0.3333333333333333,
             "#9c179e"
            ],
            [
             0.4444444444444444,
             "#bd3786"
            ],
            [
             0.5555555555555556,
             "#d8576b"
            ],
            [
             0.6666666666666666,
             "#ed7953"
            ],
            [
             0.7777777777777778,
             "#fb9f3a"
            ],
            [
             0.8888888888888888,
             "#fdca26"
            ],
            [
             1,
             "#f0f921"
            ]
           ],
           "sequentialminus": [
            [
             0,
             "#0d0887"
            ],
            [
             0.1111111111111111,
             "#46039f"
            ],
            [
             0.2222222222222222,
             "#7201a8"
            ],
            [
             0.3333333333333333,
             "#9c179e"
            ],
            [
             0.4444444444444444,
             "#bd3786"
            ],
            [
             0.5555555555555556,
             "#d8576b"
            ],
            [
             0.6666666666666666,
             "#ed7953"
            ],
            [
             0.7777777777777778,
             "#fb9f3a"
            ],
            [
             0.8888888888888888,
             "#fdca26"
            ],
            [
             1,
             "#f0f921"
            ]
           ]
          },
          "colorway": [
           "#636efa",
           "#EF553B",
           "#00cc96",
           "#ab63fa",
           "#FFA15A",
           "#19d3f3",
           "#FF6692",
           "#B6E880",
           "#FF97FF",
           "#FECB52"
          ],
          "font": {
           "color": "#2a3f5f"
          },
          "geo": {
           "bgcolor": "white",
           "lakecolor": "white",
           "landcolor": "#E5ECF6",
           "showlakes": true,
           "showland": true,
           "subunitcolor": "white"
          },
          "hoverlabel": {
           "align": "left"
          },
          "hovermode": "closest",
          "mapbox": {
           "style": "light"
          },
          "paper_bgcolor": "white",
          "plot_bgcolor": "#E5ECF6",
          "polar": {
           "angularaxis": {
            "gridcolor": "white",
            "linecolor": "white",
            "ticks": ""
           },
           "bgcolor": "#E5ECF6",
           "radialaxis": {
            "gridcolor": "white",
            "linecolor": "white",
            "ticks": ""
           }
          },
          "scene": {
           "xaxis": {
            "backgroundcolor": "#E5ECF6",
            "gridcolor": "white",
            "gridwidth": 2,
            "linecolor": "white",
            "showbackground": true,
            "ticks": "",
            "zerolinecolor": "white"
           },
           "yaxis": {
            "backgroundcolor": "#E5ECF6",
            "gridcolor": "white",
            "gridwidth": 2,
            "linecolor": "white",
            "showbackground": true,
            "ticks": "",
            "zerolinecolor": "white"
           },
           "zaxis": {
            "backgroundcolor": "#E5ECF6",
            "gridcolor": "white",
            "gridwidth": 2,
            "linecolor": "white",
            "showbackground": true,
            "ticks": "",
            "zerolinecolor": "white"
           }
          },
          "shapedefaults": {
           "line": {
            "color": "#2a3f5f"
           }
          },
          "ternary": {
           "aaxis": {
            "gridcolor": "white",
            "linecolor": "white",
            "ticks": ""
           },
           "baxis": {
            "gridcolor": "white",
            "linecolor": "white",
            "ticks": ""
           },
           "bgcolor": "#E5ECF6",
           "caxis": {
            "gridcolor": "white",
            "linecolor": "white",
            "ticks": ""
           }
          },
          "title": {
           "x": 0.05
          },
          "xaxis": {
           "automargin": true,
           "gridcolor": "white",
           "linecolor": "white",
           "ticks": "",
           "title": {
            "standoff": 15
           },
           "zerolinecolor": "white",
           "zerolinewidth": 2
          },
          "yaxis": {
           "automargin": true,
           "gridcolor": "white",
           "linecolor": "white",
           "ticks": "",
           "title": {
            "standoff": 15
           },
           "zerolinecolor": "white",
           "zerolinewidth": 2
          }
         }
        },
        "title": {
         "font": {
          "color": "#4D5663"
         }
        },
        "xaxis": {
         "gridcolor": "#E1E5ED",
         "showgrid": true,
         "tickfont": {
          "color": "#4D5663"
         },
         "title": {
          "font": {
           "color": "#4D5663"
          },
          "text": ""
         },
         "zerolinecolor": "#E1E5ED"
        },
        "yaxis": {
         "gridcolor": "#E1E5ED",
         "showgrid": true,
         "tickfont": {
          "color": "#4D5663"
         },
         "title": {
          "font": {
           "color": "#4D5663"
          },
          "text": ""
         },
         "zerolinecolor": "#E1E5ED"
        }
       }
      },
      "text/html": [
       "<div>                            <div id=\"411df0b1-c9f0-4008-8e0a-2a88d5f7df84\" class=\"plotly-graph-div\" style=\"height:525px; width:100%;\"></div>            <script type=\"text/javascript\">                require([\"plotly\"], function(Plotly) {                    window.PLOTLYENV=window.PLOTLYENV || {};\n",
       "                    window.PLOTLYENV.BASE_URL='https://plot.ly';                                    if (document.getElementById(\"411df0b1-c9f0-4008-8e0a-2a88d5f7df84\")) {                    Plotly.newPlot(                        \"411df0b1-c9f0-4008-8e0a-2a88d5f7df84\",                        [{\"boxpoints\":false,\"line\":{\"width\":1.3},\"marker\":{\"color\":\"rgba(255, 153, 51, 1.0)\"},\"name\":\"A\",\"orientation\":\"v\",\"y\":[0.880959023786186,0.33345468870373934,-0.7409452183565108,-1.0977254619292793,1.426956946279641,-0.40451770845568713,0.7724937627319252,0.644782086556282,-1.4869968168898273,0.37640996305940577,0.19241489957125432,-1.111594409266069,-1.5716846453869657,-0.36244462977814346,0.9744328917524051,0.343809552356227,-0.3080270466791063,-0.1950077347039267,-0.18910257491181054,-0.6381781064691867,0.5260265822330088,0.17218121992761243,0.1317493478999784,-1.0133952881868464,-0.16642802340778293,-0.644563294742128,0.7660731182339767,0.47884529664076686,-0.521733455462245,0.2847131403623892,1.5396458082150322,-0.4241727051938035,0.8362651765647242,-0.9500544906883717,1.4845688288335317,1.1664130670490056,-0.0973424642717085,0.10116897363812288,1.4395527944343374,-0.935803180624831,1.191156335436539,0.7008093119694427,-0.9877741095005993,-0.4067540719547818,-1.370266828503218,-1.5353289076252745,0.5156460626883984,0.4587356572312894,0.09260485165730781,-1.6636675799745504,-0.7290334138658231,2.3527806369229394,-0.02979154016277506,0.024883854810285724,0.1899346163866445,0.5236554909988752,-0.4997433251662194,-1.3642904785357,-0.29608229446459455,-0.6610346788287468,0.33500653513485135,1.1434766678809734,0.6274696800615975,0.16552222232531544,-0.20205077372308394,0.912181391847108,-0.5858661976669097,-0.3396202037385737,0.893157460815925,-0.03964706555960653,-1.3103665565452216,0.5145396422513303,0.4166449293411519,1.3876021868735242,-0.3566481515000294,1.2902317814630657,0.8846490176365839,-1.5320252852273633,0.24356536270953288,1.3827634187849156,1.1819807080169038,-0.9660934499810131,-0.14796198765918317,-0.29251024584393925,-1.2027691265328306,1.920477778045479,-0.4130477360151552,0.5202955950169208,1.455326064624853,-2.0227300702714315,-1.6256166848992932,0.07554860674090483,1.7989334075269259,-1.4357117254331069,-1.1162061239030632,1.2645613747776647,-0.05085065547567881,1.3957163268407782,0.24453545539482402,0.4271283479483513],\"type\":\"box\"},{\"boxpoints\":false,\"line\":{\"width\":1.3},\"marker\":{\"color\":\"rgba(55, 128, 191, 1.0)\"},\"name\":\"B\",\"orientation\":\"v\",\"y\":[-1.5991275929197728,-0.8139801222032823,0.8884921961412762,0.015894687243417947,-0.6325211178813915,-1.9991061820032472,-0.555553251851912,-0.35026738841258764,0.46336296385168246,-0.33200786419981354,-0.014622520917696516,-1.2701991072571905,2.0392368945542794,-0.2820636697677745,1.1342694570432095,1.561697756976798,1.0717177775448286,1.1522195478371517,0.7570476750581898,-0.09291807113560716,-1.6674145944274692,-0.6686748289046941,-0.979060347779246,0.8576553382435183,0.9156021630201164,1.0388677923626626,2.336127802368596,0.40685339783055247,0.5189884359989433,0.07478796476990413,-0.6238735508899921,0.6256175510166899,0.5922977782752936,-1.1265454524507295,1.4698329632388514,0.42799339053984825,0.8457940003940891,-0.1262185339529523,-0.25234556078581993,-1.1260192157045796,0.3835707132779261,-0.8314028714113617,0.8777179911373496,1.4463623493451832,3.1034799952860674,1.013634913867253,1.779853980511546,0.10860250518723495,0.22796974651343066,-1.0458153022900263,-1.131689781985826,2.7004697893450524,1.0334664852867421,-0.9288778444152588,0.4769366435803124,3.0211093187401215,1.0593724527376387,-0.6087819099103041,-0.2575805456381415,0.5066594778797082,1.4002989836878734,1.4411063346739925,0.04840543213115739,1.896847405157337,0.6338012305107075,-1.3562240913416577,0.4019154283115991,0.5629306992560655,-0.5792695927028133,1.1149305580150437,2.1164451210238098,-0.6520525930293237,-0.6584177578263147,0.9868904525143627,-0.41216520249140554,-0.27287903130401997,1.115666369860281,-0.39772904944217946,-0.4598852585159614,-1.7834138468017278,-0.2923694109708229,-1.8736668007494182,-0.36712341162900086,-1.0182841444821644,-0.3975773402120633,0.5562011702221297,0.3728989910009789,-1.1391381258104147,1.8661318239083446,1.1281553985958181,2.043942601739804,0.3751146032127571,0.06444449486988196,1.4759000232939212,-0.8826082038740967,-1.8309620572532959,-1.9116865067345703,1.3435903624112713,-0.3510226043980688,-1.336307829278521],\"type\":\"box\"},{\"boxpoints\":false,\"line\":{\"width\":1.3},\"marker\":{\"color\":\"rgba(50, 171, 96, 1.0)\"},\"name\":\"C\",\"orientation\":\"v\",\"y\":[-0.5090506193568138,0.46783502064920096,0.5140140169099323,-0.135858190534951,-1.1120422809221553,0.19036939224164473,-0.03979712243952682,0.33296567649967906,-1.9898009642441512,-0.902537575842969,0.512370114531166,0.7457231798874311,-0.4599139337077797,-0.08329035539728351,0.2939914814897891,1.0397367809010714,0.26753779808456957,-0.6578224852206888,0.14082629103879815,0.41566371267221724,1.022721310170276,-1.860838307387713,1.5944326598969125,-1.2678740218410052,-0.5803517829706125,1.7185130952373155,-0.2770565620613567,-0.2174035320063592,-0.4464487113666228,-0.5193387558854705,1.0241756496954264,-0.2740642183840163,0.7501035573720817,0.8091131638344188,-1.3863291423546382,1.6225906991723393,0.40853475087480695,0.03205088916471121,-0.005833144026442187,0.34601231685819017,0.7348236411311267,0.6277203931914014,-0.2633724364374913,-0.920502242018471,-2.2069563296162458,-0.194494195736623,0.9327130181865532,-0.1733931402852244,1.0158625618450354,1.539902082125618,-0.05376573178868323,-0.6922588647787197,0.3037962419061943,1.1048652730300073,0.3038662067981688,-0.9185307726746565,0.25712963151031315,0.43889657467445065,-0.690794329118379,-0.9957969810098548,-0.49164947058854075,-0.6454940127383348,1.4888193820944833,-0.7290828678415429,1.083106495091023,1.521053498546015,-0.584366558587681,0.017737965521257622,-1.8226790982330792,0.5083992619503088,0.25765616875605013,1.8496015765740905,1.4472779923578751,0.29558928507376103,-0.12266302408527396,-0.3736704215085696,0.5045060169757424,0.36557750268798883,0.594394718574478,0.49295114743440466,2.9070038770508537,0.6185281046185005,1.3096511147374101,1.6268644901970832,-0.7709033259032211,0.8822290039516804,0.14807768446328531,1.943252534898724,0.8686695792913697,-0.9677240710412516,0.10579717107376764,0.03778346688749221,1.5544957242622193,0.21052048722692912,0.8376124681460906,-1.8103708705905752,0.45736288915641055,0.8671009267301292,-0.7153945627548396,0.4486740570690812],\"type\":\"box\"},{\"boxpoints\":false,\"line\":{\"width\":1.3},\"marker\":{\"color\":\"rgba(128, 0, 128, 1.0)\"},\"name\":\"D\",\"orientation\":\"v\",\"y\":[-0.9043521089077933,1.4126520248446917,0.015608708201911856,-0.5752355462883069,-2.272948276746747,1.3203900706416196,-2.230898899533376,0.22438129820470562,1.2490549803105375,-2.336596765497704,0.8174101824978081,-0.5956833597847471,0.8306951075365935,0.6042093052059592,-2.246940809702541,-0.15470726706638446,-0.008964251377927451,-0.3817142443178131,-0.6427627753846652,-1.2838575393277776,-0.3710064429112497,2.0522660728201556,1.005876636145941,2.0659670213503434,1.6234730288753514,0.09396042799024812,1.6479324559722837,-0.8313293070258346,-0.20041110399305048,-0.09722610598308987,0.5834894535754519,1.5753609002860787,-1.613499300383705,-0.1840892030742178,-1.4749279129444293,1.4013197965998834,-1.1976061033697114,-0.4129822037963091,-0.35850380531896736,0.0786530598906968,1.1528999573851861,0.2604220892617955,0.8379367990965246,-1.5454548756177453,0.01618998838375046,-1.7976039960822157,-0.21383226753443652,-0.8045216598108752,-2.144450573040715,1.2929354398268258,1.3515023005457099,0.32337749541065963,0.5050674795041893,0.3496208302770857,-0.8078009040674193,-0.9025483984595123,-0.5968115500744454,-2.105802710422677,0.5295346725256338,-0.2925482620132626,-1.7637327493020316,-0.7070451788823175,-0.02329149612738796,-0.3792157889939141,0.4584818326350015,-0.21035490252607428,0.3442686223433735,0.1089620955177308,1.4261858797405715,-1.1865870770467335,-2.075989907618423,1.4904877173585762,-1.3901437070696612,0.8769390701250268,-0.611487167754324,-0.2872921122157759,-0.46287543436419715,1.7926490254086715,1.1382122118892304,0.7531920375512052,0.15841147444526504,-1.27417087521861,-1.0103307940191708,0.6563776711573666,-0.07729188687001957,0.08087899046242757,-0.9297047164787704,-0.8404764747434706,0.03888362063569858,-1.0422470626956135,0.4037991563406125,-1.0989862827713213,0.799790414892631,1.3946745259718174,0.5085292317321647,-0.9797594818992357,0.5447244843241852,-0.5147254239232565,-0.31319707513158007,0.12620707747039064],\"type\":\"box\"}],                        {\"legend\":{\"bgcolor\":\"#F5F6F9\",\"font\":{\"color\":\"#4D5663\"}},\"paper_bgcolor\":\"#F5F6F9\",\"plot_bgcolor\":\"#F5F6F9\",\"template\":{\"data\":{\"barpolar\":[{\"marker\":{\"line\":{\"color\":\"#E5ECF6\",\"width\":0.5},\"pattern\":{\"fillmode\":\"overlay\",\"size\":10,\"solidity\":0.2}},\"type\":\"barpolar\"}],\"bar\":[{\"error_x\":{\"color\":\"#2a3f5f\"},\"error_y\":{\"color\":\"#2a3f5f\"},\"marker\":{\"line\":{\"color\":\"#E5ECF6\",\"width\":0.5},\"pattern\":{\"fillmode\":\"overlay\",\"size\":10,\"solidity\":0.2}},\"type\":\"bar\"}],\"carpet\":[{\"aaxis\":{\"endlinecolor\":\"#2a3f5f\",\"gridcolor\":\"white\",\"linecolor\":\"white\",\"minorgridcolor\":\"white\",\"startlinecolor\":\"#2a3f5f\"},\"baxis\":{\"endlinecolor\":\"#2a3f5f\",\"gridcolor\":\"white\",\"linecolor\":\"white\",\"minorgridcolor\":\"white\",\"startlinecolor\":\"#2a3f5f\"},\"type\":\"carpet\"}],\"choropleth\":[{\"colorbar\":{\"outlinewidth\":0,\"ticks\":\"\"},\"type\":\"choropleth\"}],\"contourcarpet\":[{\"colorbar\":{\"outlinewidth\":0,\"ticks\":\"\"},\"type\":\"contourcarpet\"}],\"contour\":[{\"colorbar\":{\"outlinewidth\":0,\"ticks\":\"\"},\"colorscale\":[[0.0,\"#0d0887\"],[0.1111111111111111,\"#46039f\"],[0.2222222222222222,\"#7201a8\"],[0.3333333333333333,\"#9c179e\"],[0.4444444444444444,\"#bd3786\"],[0.5555555555555556,\"#d8576b\"],[0.6666666666666666,\"#ed7953\"],[0.7777777777777778,\"#fb9f3a\"],[0.8888888888888888,\"#fdca26\"],[1.0,\"#f0f921\"]],\"type\":\"contour\"}],\"heatmapgl\":[{\"colorbar\":{\"outlinewidth\":0,\"ticks\":\"\"},\"colorscale\":[[0.0,\"#0d0887\"],[0.1111111111111111,\"#46039f\"],[0.2222222222222222,\"#7201a8\"],[0.3333333333333333,\"#9c179e\"],[0.4444444444444444,\"#bd3786\"],[0.5555555555555556,\"#d8576b\"],[0.6666666666666666,\"#ed7953\"],[0.7777777777777778,\"#fb9f3a\"],[0.8888888888888888,\"#fdca26\"],[1.0,\"#f0f921\"]],\"type\":\"heatmapgl\"}],\"heatmap\":[{\"colorbar\":{\"outlinewidth\":0,\"ticks\":\"\"},\"colorscale\":[[0.0,\"#0d0887\"],[0.1111111111111111,\"#46039f\"],[0.2222222222222222,\"#7201a8\"],[0.3333333333333333,\"#9c179e\"],[0.4444444444444444,\"#bd3786\"],[0.5555555555555556,\"#d8576b\"],[0.6666666666666666,\"#ed7953\"],[0.7777777777777778,\"#fb9f3a\"],[0.8888888888888888,\"#fdca26\"],[1.0,\"#f0f921\"]],\"type\":\"heatmap\"}],\"histogram2dcontour\":[{\"colorbar\":{\"outlinewidth\":0,\"ticks\":\"\"},\"colorscale\":[[0.0,\"#0d0887\"],[0.1111111111111111,\"#46039f\"],[0.2222222222222222,\"#7201a8\"],[0.3333333333333333,\"#9c179e\"],[0.4444444444444444,\"#bd3786\"],[0.5555555555555556,\"#d8576b\"],[0.6666666666666666,\"#ed7953\"],[0.7777777777777778,\"#fb9f3a\"],[0.8888888888888888,\"#fdca26\"],[1.0,\"#f0f921\"]],\"type\":\"histogram2dcontour\"}],\"histogram2d\":[{\"colorbar\":{\"outlinewidth\":0,\"ticks\":\"\"},\"colorscale\":[[0.0,\"#0d0887\"],[0.1111111111111111,\"#46039f\"],[0.2222222222222222,\"#7201a8\"],[0.3333333333333333,\"#9c179e\"],[0.4444444444444444,\"#bd3786\"],[0.5555555555555556,\"#d8576b\"],[0.6666666666666666,\"#ed7953\"],[0.7777777777777778,\"#fb9f3a\"],[0.8888888888888888,\"#fdca26\"],[1.0,\"#f0f921\"]],\"type\":\"histogram2d\"}],\"histogram\":[{\"marker\":{\"pattern\":{\"fillmode\":\"overlay\",\"size\":10,\"solidity\":0.2}},\"type\":\"histogram\"}],\"mesh3d\":[{\"colorbar\":{\"outlinewidth\":0,\"ticks\":\"\"},\"type\":\"mesh3d\"}],\"parcoords\":[{\"line\":{\"colorbar\":{\"outlinewidth\":0,\"ticks\":\"\"}},\"type\":\"parcoords\"}],\"pie\":[{\"automargin\":true,\"type\":\"pie\"}],\"scatter3d\":[{\"line\":{\"colorbar\":{\"outlinewidth\":0,\"ticks\":\"\"}},\"marker\":{\"colorbar\":{\"outlinewidth\":0,\"ticks\":\"\"}},\"type\":\"scatter3d\"}],\"scattercarpet\":[{\"marker\":{\"colorbar\":{\"outlinewidth\":0,\"ticks\":\"\"}},\"type\":\"scattercarpet\"}],\"scattergeo\":[{\"marker\":{\"colorbar\":{\"outlinewidth\":0,\"ticks\":\"\"}},\"type\":\"scattergeo\"}],\"scattergl\":[{\"marker\":{\"colorbar\":{\"outlinewidth\":0,\"ticks\":\"\"}},\"type\":\"scattergl\"}],\"scattermapbox\":[{\"marker\":{\"colorbar\":{\"outlinewidth\":0,\"ticks\":\"\"}},\"type\":\"scattermapbox\"}],\"scatterpolargl\":[{\"marker\":{\"colorbar\":{\"outlinewidth\":0,\"ticks\":\"\"}},\"type\":\"scatterpolargl\"}],\"scatterpolar\":[{\"marker\":{\"colorbar\":{\"outlinewidth\":0,\"ticks\":\"\"}},\"type\":\"scatterpolar\"}],\"scatter\":[{\"fillpattern\":{\"fillmode\":\"overlay\",\"size\":10,\"solidity\":0.2},\"type\":\"scatter\"}],\"scatterternary\":[{\"marker\":{\"colorbar\":{\"outlinewidth\":0,\"ticks\":\"\"}},\"type\":\"scatterternary\"}],\"surface\":[{\"colorbar\":{\"outlinewidth\":0,\"ticks\":\"\"},\"colorscale\":[[0.0,\"#0d0887\"],[0.1111111111111111,\"#46039f\"],[0.2222222222222222,\"#7201a8\"],[0.3333333333333333,\"#9c179e\"],[0.4444444444444444,\"#bd3786\"],[0.5555555555555556,\"#d8576b\"],[0.6666666666666666,\"#ed7953\"],[0.7777777777777778,\"#fb9f3a\"],[0.8888888888888888,\"#fdca26\"],[1.0,\"#f0f921\"]],\"type\":\"surface\"}],\"table\":[{\"cells\":{\"fill\":{\"color\":\"#EBF0F8\"},\"line\":{\"color\":\"white\"}},\"header\":{\"fill\":{\"color\":\"#C8D4E3\"},\"line\":{\"color\":\"white\"}},\"type\":\"table\"}]},\"layout\":{\"annotationdefaults\":{\"arrowcolor\":\"#2a3f5f\",\"arrowhead\":0,\"arrowwidth\":1},\"autotypenumbers\":\"strict\",\"coloraxis\":{\"colorbar\":{\"outlinewidth\":0,\"ticks\":\"\"}},\"colorscale\":{\"diverging\":[[0,\"#8e0152\"],[0.1,\"#c51b7d\"],[0.2,\"#de77ae\"],[0.3,\"#f1b6da\"],[0.4,\"#fde0ef\"],[0.5,\"#f7f7f7\"],[0.6,\"#e6f5d0\"],[0.7,\"#b8e186\"],[0.8,\"#7fbc41\"],[0.9,\"#4d9221\"],[1,\"#276419\"]],\"sequential\":[[0.0,\"#0d0887\"],[0.1111111111111111,\"#46039f\"],[0.2222222222222222,\"#7201a8\"],[0.3333333333333333,\"#9c179e\"],[0.4444444444444444,\"#bd3786\"],[0.5555555555555556,\"#d8576b\"],[0.6666666666666666,\"#ed7953\"],[0.7777777777777778,\"#fb9f3a\"],[0.8888888888888888,\"#fdca26\"],[1.0,\"#f0f921\"]],\"sequentialminus\":[[0.0,\"#0d0887\"],[0.1111111111111111,\"#46039f\"],[0.2222222222222222,\"#7201a8\"],[0.3333333333333333,\"#9c179e\"],[0.4444444444444444,\"#bd3786\"],[0.5555555555555556,\"#d8576b\"],[0.6666666666666666,\"#ed7953\"],[0.7777777777777778,\"#fb9f3a\"],[0.8888888888888888,\"#fdca26\"],[1.0,\"#f0f921\"]]},\"colorway\":[\"#636efa\",\"#EF553B\",\"#00cc96\",\"#ab63fa\",\"#FFA15A\",\"#19d3f3\",\"#FF6692\",\"#B6E880\",\"#FF97FF\",\"#FECB52\"],\"font\":{\"color\":\"#2a3f5f\"},\"geo\":{\"bgcolor\":\"white\",\"lakecolor\":\"white\",\"landcolor\":\"#E5ECF6\",\"showlakes\":true,\"showland\":true,\"subunitcolor\":\"white\"},\"hoverlabel\":{\"align\":\"left\"},\"hovermode\":\"closest\",\"mapbox\":{\"style\":\"light\"},\"paper_bgcolor\":\"white\",\"plot_bgcolor\":\"#E5ECF6\",\"polar\":{\"angularaxis\":{\"gridcolor\":\"white\",\"linecolor\":\"white\",\"ticks\":\"\"},\"bgcolor\":\"#E5ECF6\",\"radialaxis\":{\"gridcolor\":\"white\",\"linecolor\":\"white\",\"ticks\":\"\"}},\"scene\":{\"xaxis\":{\"backgroundcolor\":\"#E5ECF6\",\"gridcolor\":\"white\",\"gridwidth\":2,\"linecolor\":\"white\",\"showbackground\":true,\"ticks\":\"\",\"zerolinecolor\":\"white\"},\"yaxis\":{\"backgroundcolor\":\"#E5ECF6\",\"gridcolor\":\"white\",\"gridwidth\":2,\"linecolor\":\"white\",\"showbackground\":true,\"ticks\":\"\",\"zerolinecolor\":\"white\"},\"zaxis\":{\"backgroundcolor\":\"#E5ECF6\",\"gridcolor\":\"white\",\"gridwidth\":2,\"linecolor\":\"white\",\"showbackground\":true,\"ticks\":\"\",\"zerolinecolor\":\"white\"}},\"shapedefaults\":{\"line\":{\"color\":\"#2a3f5f\"}},\"ternary\":{\"aaxis\":{\"gridcolor\":\"white\",\"linecolor\":\"white\",\"ticks\":\"\"},\"baxis\":{\"gridcolor\":\"white\",\"linecolor\":\"white\",\"ticks\":\"\"},\"bgcolor\":\"#E5ECF6\",\"caxis\":{\"gridcolor\":\"white\",\"linecolor\":\"white\",\"ticks\":\"\"}},\"title\":{\"x\":0.05},\"xaxis\":{\"automargin\":true,\"gridcolor\":\"white\",\"linecolor\":\"white\",\"ticks\":\"\",\"title\":{\"standoff\":15},\"zerolinecolor\":\"white\",\"zerolinewidth\":2},\"yaxis\":{\"automargin\":true,\"gridcolor\":\"white\",\"linecolor\":\"white\",\"ticks\":\"\",\"title\":{\"standoff\":15},\"zerolinecolor\":\"white\",\"zerolinewidth\":2}}},\"title\":{\"font\":{\"color\":\"#4D5663\"}},\"xaxis\":{\"gridcolor\":\"#E1E5ED\",\"showgrid\":true,\"tickfont\":{\"color\":\"#4D5663\"},\"title\":{\"font\":{\"color\":\"#4D5663\"},\"text\":\"\"},\"zerolinecolor\":\"#E1E5ED\"},\"yaxis\":{\"gridcolor\":\"#E1E5ED\",\"showgrid\":true,\"tickfont\":{\"color\":\"#4D5663\"},\"title\":{\"font\":{\"color\":\"#4D5663\"},\"text\":\"\"},\"zerolinecolor\":\"#E1E5ED\"}},                        {\"showLink\": true, \"linkText\": \"Export to plot.ly\", \"plotlyServerURL\": \"https://plot.ly\", \"responsive\": true}                    ).then(function(){\n",
       "                            \n",
       "var gd = document.getElementById('411df0b1-c9f0-4008-8e0a-2a88d5f7df84');\n",
       "var x = new MutationObserver(function (mutations, observer) {{\n",
       "        var display = window.getComputedStyle(gd).display;\n",
       "        if (!display || display === 'none') {{\n",
       "            console.log([gd, 'removed!']);\n",
       "            Plotly.purge(gd);\n",
       "            observer.disconnect();\n",
       "        }}\n",
       "}});\n",
       "\n",
       "// Listen for the removal of the full notebook cells\n",
       "var notebookContainer = gd.closest('#notebook-container');\n",
       "if (notebookContainer) {{\n",
       "    x.observe(notebookContainer, {childList: true});\n",
       "}}\n",
       "\n",
       "// Listen for the clearing of the current output cell\n",
       "var outputEl = gd.closest('.output');\n",
       "if (outputEl) {{\n",
       "    x.observe(outputEl, {childList: true});\n",
       "}}\n",
       "\n",
       "                        })                };                });            </script>        </div>"
      ]
     },
     "metadata": {},
     "output_type": "display_data"
    }
   ],
   "source": [
    "df.iplot(kind='box')"
   ]
  },
  {
   "cell_type": "markdown",
   "metadata": {},
   "source": [
    "## 3d Surface"
   ]
  },
  {
   "cell_type": "code",
   "execution_count": 16,
   "metadata": {},
   "outputs": [
    {
     "data": {
      "application/vnd.plotly.v1+json": {
       "config": {
        "linkText": "Export to plot.ly",
        "plotlyServerURL": "https://plot.ly",
        "showLink": true
       },
       "data": [
        {
         "colorscale": [
          [
           0,
           "rgb(165,0,38)"
          ],
          [
           0.1,
           "rgb(215,48,39)"
          ],
          [
           0.2,
           "rgb(244,109,67)"
          ],
          [
           0.3,
           "rgb(253,174,97)"
          ],
          [
           0.4,
           "rgb(254,224,144)"
          ],
          [
           0.5,
           "rgb(255,255,191)"
          ],
          [
           0.6,
           "rgb(224,243,248)"
          ],
          [
           0.7,
           "rgb(171,217,233)"
          ],
          [
           0.8,
           "rgb(116,173,209)"
          ],
          [
           0.9,
           "rgb(69,117,180)"
          ],
          [
           1,
           "rgb(49,54,149)"
          ]
         ],
         "type": "surface",
         "x": [
          0,
          1,
          2,
          3,
          4
         ],
         "y": [
          "x",
          "y",
          "z"
         ],
         "z": [
          [
           1,
           2,
           3,
           4,
           5
          ],
          [
           10,
           20,
           30,
           20,
           10
          ],
          [
           5,
           4,
           3,
           2,
           1
          ]
         ]
        }
       ],
       "layout": {
        "legend": {
         "bgcolor": "#F5F6F9",
         "font": {
          "color": "#4D5663"
         }
        },
        "paper_bgcolor": "#F5F6F9",
        "plot_bgcolor": "#F5F6F9",
        "template": {
         "data": {
          "bar": [
           {
            "error_x": {
             "color": "#2a3f5f"
            },
            "error_y": {
             "color": "#2a3f5f"
            },
            "marker": {
             "line": {
              "color": "#E5ECF6",
              "width": 0.5
             },
             "pattern": {
              "fillmode": "overlay",
              "size": 10,
              "solidity": 0.2
             }
            },
            "type": "bar"
           }
          ],
          "barpolar": [
           {
            "marker": {
             "line": {
              "color": "#E5ECF6",
              "width": 0.5
             },
             "pattern": {
              "fillmode": "overlay",
              "size": 10,
              "solidity": 0.2
             }
            },
            "type": "barpolar"
           }
          ],
          "carpet": [
           {
            "aaxis": {
             "endlinecolor": "#2a3f5f",
             "gridcolor": "white",
             "linecolor": "white",
             "minorgridcolor": "white",
             "startlinecolor": "#2a3f5f"
            },
            "baxis": {
             "endlinecolor": "#2a3f5f",
             "gridcolor": "white",
             "linecolor": "white",
             "minorgridcolor": "white",
             "startlinecolor": "#2a3f5f"
            },
            "type": "carpet"
           }
          ],
          "choropleth": [
           {
            "colorbar": {
             "outlinewidth": 0,
             "ticks": ""
            },
            "type": "choropleth"
           }
          ],
          "contour": [
           {
            "colorbar": {
             "outlinewidth": 0,
             "ticks": ""
            },
            "colorscale": [
             [
              0,
              "#0d0887"
             ],
             [
              0.1111111111111111,
              "#46039f"
             ],
             [
              0.2222222222222222,
              "#7201a8"
             ],
             [
              0.3333333333333333,
              "#9c179e"
             ],
             [
              0.4444444444444444,
              "#bd3786"
             ],
             [
              0.5555555555555556,
              "#d8576b"
             ],
             [
              0.6666666666666666,
              "#ed7953"
             ],
             [
              0.7777777777777778,
              "#fb9f3a"
             ],
             [
              0.8888888888888888,
              "#fdca26"
             ],
             [
              1,
              "#f0f921"
             ]
            ],
            "type": "contour"
           }
          ],
          "contourcarpet": [
           {
            "colorbar": {
             "outlinewidth": 0,
             "ticks": ""
            },
            "type": "contourcarpet"
           }
          ],
          "heatmap": [
           {
            "colorbar": {
             "outlinewidth": 0,
             "ticks": ""
            },
            "colorscale": [
             [
              0,
              "#0d0887"
             ],
             [
              0.1111111111111111,
              "#46039f"
             ],
             [
              0.2222222222222222,
              "#7201a8"
             ],
             [
              0.3333333333333333,
              "#9c179e"
             ],
             [
              0.4444444444444444,
              "#bd3786"
             ],
             [
              0.5555555555555556,
              "#d8576b"
             ],
             [
              0.6666666666666666,
              "#ed7953"
             ],
             [
              0.7777777777777778,
              "#fb9f3a"
             ],
             [
              0.8888888888888888,
              "#fdca26"
             ],
             [
              1,
              "#f0f921"
             ]
            ],
            "type": "heatmap"
           }
          ],
          "heatmapgl": [
           {
            "colorbar": {
             "outlinewidth": 0,
             "ticks": ""
            },
            "colorscale": [
             [
              0,
              "#0d0887"
             ],
             [
              0.1111111111111111,
              "#46039f"
             ],
             [
              0.2222222222222222,
              "#7201a8"
             ],
             [
              0.3333333333333333,
              "#9c179e"
             ],
             [
              0.4444444444444444,
              "#bd3786"
             ],
             [
              0.5555555555555556,
              "#d8576b"
             ],
             [
              0.6666666666666666,
              "#ed7953"
             ],
             [
              0.7777777777777778,
              "#fb9f3a"
             ],
             [
              0.8888888888888888,
              "#fdca26"
             ],
             [
              1,
              "#f0f921"
             ]
            ],
            "type": "heatmapgl"
           }
          ],
          "histogram": [
           {
            "marker": {
             "pattern": {
              "fillmode": "overlay",
              "size": 10,
              "solidity": 0.2
             }
            },
            "type": "histogram"
           }
          ],
          "histogram2d": [
           {
            "colorbar": {
             "outlinewidth": 0,
             "ticks": ""
            },
            "colorscale": [
             [
              0,
              "#0d0887"
             ],
             [
              0.1111111111111111,
              "#46039f"
             ],
             [
              0.2222222222222222,
              "#7201a8"
             ],
             [
              0.3333333333333333,
              "#9c179e"
             ],
             [
              0.4444444444444444,
              "#bd3786"
             ],
             [
              0.5555555555555556,
              "#d8576b"
             ],
             [
              0.6666666666666666,
              "#ed7953"
             ],
             [
              0.7777777777777778,
              "#fb9f3a"
             ],
             [
              0.8888888888888888,
              "#fdca26"
             ],
             [
              1,
              "#f0f921"
             ]
            ],
            "type": "histogram2d"
           }
          ],
          "histogram2dcontour": [
           {
            "colorbar": {
             "outlinewidth": 0,
             "ticks": ""
            },
            "colorscale": [
             [
              0,
              "#0d0887"
             ],
             [
              0.1111111111111111,
              "#46039f"
             ],
             [
              0.2222222222222222,
              "#7201a8"
             ],
             [
              0.3333333333333333,
              "#9c179e"
             ],
             [
              0.4444444444444444,
              "#bd3786"
             ],
             [
              0.5555555555555556,
              "#d8576b"
             ],
             [
              0.6666666666666666,
              "#ed7953"
             ],
             [
              0.7777777777777778,
              "#fb9f3a"
             ],
             [
              0.8888888888888888,
              "#fdca26"
             ],
             [
              1,
              "#f0f921"
             ]
            ],
            "type": "histogram2dcontour"
           }
          ],
          "mesh3d": [
           {
            "colorbar": {
             "outlinewidth": 0,
             "ticks": ""
            },
            "type": "mesh3d"
           }
          ],
          "parcoords": [
           {
            "line": {
             "colorbar": {
              "outlinewidth": 0,
              "ticks": ""
             }
            },
            "type": "parcoords"
           }
          ],
          "pie": [
           {
            "automargin": true,
            "type": "pie"
           }
          ],
          "scatter": [
           {
            "fillpattern": {
             "fillmode": "overlay",
             "size": 10,
             "solidity": 0.2
            },
            "type": "scatter"
           }
          ],
          "scatter3d": [
           {
            "line": {
             "colorbar": {
              "outlinewidth": 0,
              "ticks": ""
             }
            },
            "marker": {
             "colorbar": {
              "outlinewidth": 0,
              "ticks": ""
             }
            },
            "type": "scatter3d"
           }
          ],
          "scattercarpet": [
           {
            "marker": {
             "colorbar": {
              "outlinewidth": 0,
              "ticks": ""
             }
            },
            "type": "scattercarpet"
           }
          ],
          "scattergeo": [
           {
            "marker": {
             "colorbar": {
              "outlinewidth": 0,
              "ticks": ""
             }
            },
            "type": "scattergeo"
           }
          ],
          "scattergl": [
           {
            "marker": {
             "colorbar": {
              "outlinewidth": 0,
              "ticks": ""
             }
            },
            "type": "scattergl"
           }
          ],
          "scattermapbox": [
           {
            "marker": {
             "colorbar": {
              "outlinewidth": 0,
              "ticks": ""
             }
            },
            "type": "scattermapbox"
           }
          ],
          "scatterpolar": [
           {
            "marker": {
             "colorbar": {
              "outlinewidth": 0,
              "ticks": ""
             }
            },
            "type": "scatterpolar"
           }
          ],
          "scatterpolargl": [
           {
            "marker": {
             "colorbar": {
              "outlinewidth": 0,
              "ticks": ""
             }
            },
            "type": "scatterpolargl"
           }
          ],
          "scatterternary": [
           {
            "marker": {
             "colorbar": {
              "outlinewidth": 0,
              "ticks": ""
             }
            },
            "type": "scatterternary"
           }
          ],
          "surface": [
           {
            "colorbar": {
             "outlinewidth": 0,
             "ticks": ""
            },
            "colorscale": [
             [
              0,
              "#0d0887"
             ],
             [
              0.1111111111111111,
              "#46039f"
             ],
             [
              0.2222222222222222,
              "#7201a8"
             ],
             [
              0.3333333333333333,
              "#9c179e"
             ],
             [
              0.4444444444444444,
              "#bd3786"
             ],
             [
              0.5555555555555556,
              "#d8576b"
             ],
             [
              0.6666666666666666,
              "#ed7953"
             ],
             [
              0.7777777777777778,
              "#fb9f3a"
             ],
             [
              0.8888888888888888,
              "#fdca26"
             ],
             [
              1,
              "#f0f921"
             ]
            ],
            "type": "surface"
           }
          ],
          "table": [
           {
            "cells": {
             "fill": {
              "color": "#EBF0F8"
             },
             "line": {
              "color": "white"
             }
            },
            "header": {
             "fill": {
              "color": "#C8D4E3"
             },
             "line": {
              "color": "white"
             }
            },
            "type": "table"
           }
          ]
         },
         "layout": {
          "annotationdefaults": {
           "arrowcolor": "#2a3f5f",
           "arrowhead": 0,
           "arrowwidth": 1
          },
          "autotypenumbers": "strict",
          "coloraxis": {
           "colorbar": {
            "outlinewidth": 0,
            "ticks": ""
           }
          },
          "colorscale": {
           "diverging": [
            [
             0,
             "#8e0152"
            ],
            [
             0.1,
             "#c51b7d"
            ],
            [
             0.2,
             "#de77ae"
            ],
            [
             0.3,
             "#f1b6da"
            ],
            [
             0.4,
             "#fde0ef"
            ],
            [
             0.5,
             "#f7f7f7"
            ],
            [
             0.6,
             "#e6f5d0"
            ],
            [
             0.7,
             "#b8e186"
            ],
            [
             0.8,
             "#7fbc41"
            ],
            [
             0.9,
             "#4d9221"
            ],
            [
             1,
             "#276419"
            ]
           ],
           "sequential": [
            [
             0,
             "#0d0887"
            ],
            [
             0.1111111111111111,
             "#46039f"
            ],
            [
             0.2222222222222222,
             "#7201a8"
            ],
            [
             0.3333333333333333,
             "#9c179e"
            ],
            [
             0.4444444444444444,
             "#bd3786"
            ],
            [
             0.5555555555555556,
             "#d8576b"
            ],
            [
             0.6666666666666666,
             "#ed7953"
            ],
            [
             0.7777777777777778,
             "#fb9f3a"
            ],
            [
             0.8888888888888888,
             "#fdca26"
            ],
            [
             1,
             "#f0f921"
            ]
           ],
           "sequentialminus": [
            [
             0,
             "#0d0887"
            ],
            [
             0.1111111111111111,
             "#46039f"
            ],
            [
             0.2222222222222222,
             "#7201a8"
            ],
            [
             0.3333333333333333,
             "#9c179e"
            ],
            [
             0.4444444444444444,
             "#bd3786"
            ],
            [
             0.5555555555555556,
             "#d8576b"
            ],
            [
             0.6666666666666666,
             "#ed7953"
            ],
            [
             0.7777777777777778,
             "#fb9f3a"
            ],
            [
             0.8888888888888888,
             "#fdca26"
            ],
            [
             1,
             "#f0f921"
            ]
           ]
          },
          "colorway": [
           "#636efa",
           "#EF553B",
           "#00cc96",
           "#ab63fa",
           "#FFA15A",
           "#19d3f3",
           "#FF6692",
           "#B6E880",
           "#FF97FF",
           "#FECB52"
          ],
          "font": {
           "color": "#2a3f5f"
          },
          "geo": {
           "bgcolor": "white",
           "lakecolor": "white",
           "landcolor": "#E5ECF6",
           "showlakes": true,
           "showland": true,
           "subunitcolor": "white"
          },
          "hoverlabel": {
           "align": "left"
          },
          "hovermode": "closest",
          "mapbox": {
           "style": "light"
          },
          "paper_bgcolor": "white",
          "plot_bgcolor": "#E5ECF6",
          "polar": {
           "angularaxis": {
            "gridcolor": "white",
            "linecolor": "white",
            "ticks": ""
           },
           "bgcolor": "#E5ECF6",
           "radialaxis": {
            "gridcolor": "white",
            "linecolor": "white",
            "ticks": ""
           }
          },
          "scene": {
           "xaxis": {
            "backgroundcolor": "#E5ECF6",
            "gridcolor": "white",
            "gridwidth": 2,
            "linecolor": "white",
            "showbackground": true,
            "ticks": "",
            "zerolinecolor": "white"
           },
           "yaxis": {
            "backgroundcolor": "#E5ECF6",
            "gridcolor": "white",
            "gridwidth": 2,
            "linecolor": "white",
            "showbackground": true,
            "ticks": "",
            "zerolinecolor": "white"
           },
           "zaxis": {
            "backgroundcolor": "#E5ECF6",
            "gridcolor": "white",
            "gridwidth": 2,
            "linecolor": "white",
            "showbackground": true,
            "ticks": "",
            "zerolinecolor": "white"
           }
          },
          "shapedefaults": {
           "line": {
            "color": "#2a3f5f"
           }
          },
          "ternary": {
           "aaxis": {
            "gridcolor": "white",
            "linecolor": "white",
            "ticks": ""
           },
           "baxis": {
            "gridcolor": "white",
            "linecolor": "white",
            "ticks": ""
           },
           "bgcolor": "#E5ECF6",
           "caxis": {
            "gridcolor": "white",
            "linecolor": "white",
            "ticks": ""
           }
          },
          "title": {
           "x": 0.05
          },
          "xaxis": {
           "automargin": true,
           "gridcolor": "white",
           "linecolor": "white",
           "ticks": "",
           "title": {
            "standoff": 15
           },
           "zerolinecolor": "white",
           "zerolinewidth": 2
          },
          "yaxis": {
           "automargin": true,
           "gridcolor": "white",
           "linecolor": "white",
           "ticks": "",
           "title": {
            "standoff": 15
           },
           "zerolinecolor": "white",
           "zerolinewidth": 2
          }
         }
        },
        "title": {
         "font": {
          "color": "#4D5663"
         }
        },
        "xaxis": {
         "gridcolor": "#E1E5ED",
         "showgrid": true,
         "tickfont": {
          "color": "#4D5663"
         },
         "title": {
          "font": {
           "color": "#4D5663"
          },
          "text": ""
         },
         "zerolinecolor": "#E1E5ED"
        },
        "yaxis": {
         "gridcolor": "#E1E5ED",
         "showgrid": true,
         "tickfont": {
          "color": "#4D5663"
         },
         "title": {
          "font": {
           "color": "#4D5663"
          },
          "text": ""
         },
         "zerolinecolor": "#E1E5ED"
        }
       }
      },
      "text/html": [
       "<div>                            <div id=\"24c6185f-256f-4952-8078-6eb7750cfa0c\" class=\"plotly-graph-div\" style=\"height:525px; width:100%;\"></div>            <script type=\"text/javascript\">                require([\"plotly\"], function(Plotly) {                    window.PLOTLYENV=window.PLOTLYENV || {};\n",
       "                    window.PLOTLYENV.BASE_URL='https://plot.ly';                                    if (document.getElementById(\"24c6185f-256f-4952-8078-6eb7750cfa0c\")) {                    Plotly.newPlot(                        \"24c6185f-256f-4952-8078-6eb7750cfa0c\",                        [{\"colorscale\":[[0.0,\"rgb(165,0,38)\"],[0.1,\"rgb(215,48,39)\"],[0.2,\"rgb(244,109,67)\"],[0.3,\"rgb(253,174,97)\"],[0.4,\"rgb(254,224,144)\"],[0.5,\"rgb(255,255,191)\"],[0.6,\"rgb(224,243,248)\"],[0.7,\"rgb(171,217,233)\"],[0.8,\"rgb(116,173,209)\"],[0.9,\"rgb(69,117,180)\"],[1.0,\"rgb(49,54,149)\"]],\"x\":[0,1,2,3,4],\"y\":[\"x\",\"y\",\"z\"],\"z\":[[1,2,3,4,5],[10,20,30,20,10],[5,4,3,2,1]],\"type\":\"surface\"}],                        {\"legend\":{\"bgcolor\":\"#F5F6F9\",\"font\":{\"color\":\"#4D5663\"}},\"paper_bgcolor\":\"#F5F6F9\",\"plot_bgcolor\":\"#F5F6F9\",\"template\":{\"data\":{\"barpolar\":[{\"marker\":{\"line\":{\"color\":\"#E5ECF6\",\"width\":0.5},\"pattern\":{\"fillmode\":\"overlay\",\"size\":10,\"solidity\":0.2}},\"type\":\"barpolar\"}],\"bar\":[{\"error_x\":{\"color\":\"#2a3f5f\"},\"error_y\":{\"color\":\"#2a3f5f\"},\"marker\":{\"line\":{\"color\":\"#E5ECF6\",\"width\":0.5},\"pattern\":{\"fillmode\":\"overlay\",\"size\":10,\"solidity\":0.2}},\"type\":\"bar\"}],\"carpet\":[{\"aaxis\":{\"endlinecolor\":\"#2a3f5f\",\"gridcolor\":\"white\",\"linecolor\":\"white\",\"minorgridcolor\":\"white\",\"startlinecolor\":\"#2a3f5f\"},\"baxis\":{\"endlinecolor\":\"#2a3f5f\",\"gridcolor\":\"white\",\"linecolor\":\"white\",\"minorgridcolor\":\"white\",\"startlinecolor\":\"#2a3f5f\"},\"type\":\"carpet\"}],\"choropleth\":[{\"colorbar\":{\"outlinewidth\":0,\"ticks\":\"\"},\"type\":\"choropleth\"}],\"contourcarpet\":[{\"colorbar\":{\"outlinewidth\":0,\"ticks\":\"\"},\"type\":\"contourcarpet\"}],\"contour\":[{\"colorbar\":{\"outlinewidth\":0,\"ticks\":\"\"},\"colorscale\":[[0.0,\"#0d0887\"],[0.1111111111111111,\"#46039f\"],[0.2222222222222222,\"#7201a8\"],[0.3333333333333333,\"#9c179e\"],[0.4444444444444444,\"#bd3786\"],[0.5555555555555556,\"#d8576b\"],[0.6666666666666666,\"#ed7953\"],[0.7777777777777778,\"#fb9f3a\"],[0.8888888888888888,\"#fdca26\"],[1.0,\"#f0f921\"]],\"type\":\"contour\"}],\"heatmapgl\":[{\"colorbar\":{\"outlinewidth\":0,\"ticks\":\"\"},\"colorscale\":[[0.0,\"#0d0887\"],[0.1111111111111111,\"#46039f\"],[0.2222222222222222,\"#7201a8\"],[0.3333333333333333,\"#9c179e\"],[0.4444444444444444,\"#bd3786\"],[0.5555555555555556,\"#d8576b\"],[0.6666666666666666,\"#ed7953\"],[0.7777777777777778,\"#fb9f3a\"],[0.8888888888888888,\"#fdca26\"],[1.0,\"#f0f921\"]],\"type\":\"heatmapgl\"}],\"heatmap\":[{\"colorbar\":{\"outlinewidth\":0,\"ticks\":\"\"},\"colorscale\":[[0.0,\"#0d0887\"],[0.1111111111111111,\"#46039f\"],[0.2222222222222222,\"#7201a8\"],[0.3333333333333333,\"#9c179e\"],[0.4444444444444444,\"#bd3786\"],[0.5555555555555556,\"#d8576b\"],[0.6666666666666666,\"#ed7953\"],[0.7777777777777778,\"#fb9f3a\"],[0.8888888888888888,\"#fdca26\"],[1.0,\"#f0f921\"]],\"type\":\"heatmap\"}],\"histogram2dcontour\":[{\"colorbar\":{\"outlinewidth\":0,\"ticks\":\"\"},\"colorscale\":[[0.0,\"#0d0887\"],[0.1111111111111111,\"#46039f\"],[0.2222222222222222,\"#7201a8\"],[0.3333333333333333,\"#9c179e\"],[0.4444444444444444,\"#bd3786\"],[0.5555555555555556,\"#d8576b\"],[0.6666666666666666,\"#ed7953\"],[0.7777777777777778,\"#fb9f3a\"],[0.8888888888888888,\"#fdca26\"],[1.0,\"#f0f921\"]],\"type\":\"histogram2dcontour\"}],\"histogram2d\":[{\"colorbar\":{\"outlinewidth\":0,\"ticks\":\"\"},\"colorscale\":[[0.0,\"#0d0887\"],[0.1111111111111111,\"#46039f\"],[0.2222222222222222,\"#7201a8\"],[0.3333333333333333,\"#9c179e\"],[0.4444444444444444,\"#bd3786\"],[0.5555555555555556,\"#d8576b\"],[0.6666666666666666,\"#ed7953\"],[0.7777777777777778,\"#fb9f3a\"],[0.8888888888888888,\"#fdca26\"],[1.0,\"#f0f921\"]],\"type\":\"histogram2d\"}],\"histogram\":[{\"marker\":{\"pattern\":{\"fillmode\":\"overlay\",\"size\":10,\"solidity\":0.2}},\"type\":\"histogram\"}],\"mesh3d\":[{\"colorbar\":{\"outlinewidth\":0,\"ticks\":\"\"},\"type\":\"mesh3d\"}],\"parcoords\":[{\"line\":{\"colorbar\":{\"outlinewidth\":0,\"ticks\":\"\"}},\"type\":\"parcoords\"}],\"pie\":[{\"automargin\":true,\"type\":\"pie\"}],\"scatter3d\":[{\"line\":{\"colorbar\":{\"outlinewidth\":0,\"ticks\":\"\"}},\"marker\":{\"colorbar\":{\"outlinewidth\":0,\"ticks\":\"\"}},\"type\":\"scatter3d\"}],\"scattercarpet\":[{\"marker\":{\"colorbar\":{\"outlinewidth\":0,\"ticks\":\"\"}},\"type\":\"scattercarpet\"}],\"scattergeo\":[{\"marker\":{\"colorbar\":{\"outlinewidth\":0,\"ticks\":\"\"}},\"type\":\"scattergeo\"}],\"scattergl\":[{\"marker\":{\"colorbar\":{\"outlinewidth\":0,\"ticks\":\"\"}},\"type\":\"scattergl\"}],\"scattermapbox\":[{\"marker\":{\"colorbar\":{\"outlinewidth\":0,\"ticks\":\"\"}},\"type\":\"scattermapbox\"}],\"scatterpolargl\":[{\"marker\":{\"colorbar\":{\"outlinewidth\":0,\"ticks\":\"\"}},\"type\":\"scatterpolargl\"}],\"scatterpolar\":[{\"marker\":{\"colorbar\":{\"outlinewidth\":0,\"ticks\":\"\"}},\"type\":\"scatterpolar\"}],\"scatter\":[{\"fillpattern\":{\"fillmode\":\"overlay\",\"size\":10,\"solidity\":0.2},\"type\":\"scatter\"}],\"scatterternary\":[{\"marker\":{\"colorbar\":{\"outlinewidth\":0,\"ticks\":\"\"}},\"type\":\"scatterternary\"}],\"surface\":[{\"colorbar\":{\"outlinewidth\":0,\"ticks\":\"\"},\"colorscale\":[[0.0,\"#0d0887\"],[0.1111111111111111,\"#46039f\"],[0.2222222222222222,\"#7201a8\"],[0.3333333333333333,\"#9c179e\"],[0.4444444444444444,\"#bd3786\"],[0.5555555555555556,\"#d8576b\"],[0.6666666666666666,\"#ed7953\"],[0.7777777777777778,\"#fb9f3a\"],[0.8888888888888888,\"#fdca26\"],[1.0,\"#f0f921\"]],\"type\":\"surface\"}],\"table\":[{\"cells\":{\"fill\":{\"color\":\"#EBF0F8\"},\"line\":{\"color\":\"white\"}},\"header\":{\"fill\":{\"color\":\"#C8D4E3\"},\"line\":{\"color\":\"white\"}},\"type\":\"table\"}]},\"layout\":{\"annotationdefaults\":{\"arrowcolor\":\"#2a3f5f\",\"arrowhead\":0,\"arrowwidth\":1},\"autotypenumbers\":\"strict\",\"coloraxis\":{\"colorbar\":{\"outlinewidth\":0,\"ticks\":\"\"}},\"colorscale\":{\"diverging\":[[0,\"#8e0152\"],[0.1,\"#c51b7d\"],[0.2,\"#de77ae\"],[0.3,\"#f1b6da\"],[0.4,\"#fde0ef\"],[0.5,\"#f7f7f7\"],[0.6,\"#e6f5d0\"],[0.7,\"#b8e186\"],[0.8,\"#7fbc41\"],[0.9,\"#4d9221\"],[1,\"#276419\"]],\"sequential\":[[0.0,\"#0d0887\"],[0.1111111111111111,\"#46039f\"],[0.2222222222222222,\"#7201a8\"],[0.3333333333333333,\"#9c179e\"],[0.4444444444444444,\"#bd3786\"],[0.5555555555555556,\"#d8576b\"],[0.6666666666666666,\"#ed7953\"],[0.7777777777777778,\"#fb9f3a\"],[0.8888888888888888,\"#fdca26\"],[1.0,\"#f0f921\"]],\"sequentialminus\":[[0.0,\"#0d0887\"],[0.1111111111111111,\"#46039f\"],[0.2222222222222222,\"#7201a8\"],[0.3333333333333333,\"#9c179e\"],[0.4444444444444444,\"#bd3786\"],[0.5555555555555556,\"#d8576b\"],[0.6666666666666666,\"#ed7953\"],[0.7777777777777778,\"#fb9f3a\"],[0.8888888888888888,\"#fdca26\"],[1.0,\"#f0f921\"]]},\"colorway\":[\"#636efa\",\"#EF553B\",\"#00cc96\",\"#ab63fa\",\"#FFA15A\",\"#19d3f3\",\"#FF6692\",\"#B6E880\",\"#FF97FF\",\"#FECB52\"],\"font\":{\"color\":\"#2a3f5f\"},\"geo\":{\"bgcolor\":\"white\",\"lakecolor\":\"white\",\"landcolor\":\"#E5ECF6\",\"showlakes\":true,\"showland\":true,\"subunitcolor\":\"white\"},\"hoverlabel\":{\"align\":\"left\"},\"hovermode\":\"closest\",\"mapbox\":{\"style\":\"light\"},\"paper_bgcolor\":\"white\",\"plot_bgcolor\":\"#E5ECF6\",\"polar\":{\"angularaxis\":{\"gridcolor\":\"white\",\"linecolor\":\"white\",\"ticks\":\"\"},\"bgcolor\":\"#E5ECF6\",\"radialaxis\":{\"gridcolor\":\"white\",\"linecolor\":\"white\",\"ticks\":\"\"}},\"scene\":{\"xaxis\":{\"backgroundcolor\":\"#E5ECF6\",\"gridcolor\":\"white\",\"gridwidth\":2,\"linecolor\":\"white\",\"showbackground\":true,\"ticks\":\"\",\"zerolinecolor\":\"white\"},\"yaxis\":{\"backgroundcolor\":\"#E5ECF6\",\"gridcolor\":\"white\",\"gridwidth\":2,\"linecolor\":\"white\",\"showbackground\":true,\"ticks\":\"\",\"zerolinecolor\":\"white\"},\"zaxis\":{\"backgroundcolor\":\"#E5ECF6\",\"gridcolor\":\"white\",\"gridwidth\":2,\"linecolor\":\"white\",\"showbackground\":true,\"ticks\":\"\",\"zerolinecolor\":\"white\"}},\"shapedefaults\":{\"line\":{\"color\":\"#2a3f5f\"}},\"ternary\":{\"aaxis\":{\"gridcolor\":\"white\",\"linecolor\":\"white\",\"ticks\":\"\"},\"baxis\":{\"gridcolor\":\"white\",\"linecolor\":\"white\",\"ticks\":\"\"},\"bgcolor\":\"#E5ECF6\",\"caxis\":{\"gridcolor\":\"white\",\"linecolor\":\"white\",\"ticks\":\"\"}},\"title\":{\"x\":0.05},\"xaxis\":{\"automargin\":true,\"gridcolor\":\"white\",\"linecolor\":\"white\",\"ticks\":\"\",\"title\":{\"standoff\":15},\"zerolinecolor\":\"white\",\"zerolinewidth\":2},\"yaxis\":{\"automargin\":true,\"gridcolor\":\"white\",\"linecolor\":\"white\",\"ticks\":\"\",\"title\":{\"standoff\":15},\"zerolinecolor\":\"white\",\"zerolinewidth\":2}}},\"title\":{\"font\":{\"color\":\"#4D5663\"}},\"xaxis\":{\"gridcolor\":\"#E1E5ED\",\"showgrid\":true,\"tickfont\":{\"color\":\"#4D5663\"},\"title\":{\"font\":{\"color\":\"#4D5663\"},\"text\":\"\"},\"zerolinecolor\":\"#E1E5ED\"},\"yaxis\":{\"gridcolor\":\"#E1E5ED\",\"showgrid\":true,\"tickfont\":{\"color\":\"#4D5663\"},\"title\":{\"font\":{\"color\":\"#4D5663\"},\"text\":\"\"},\"zerolinecolor\":\"#E1E5ED\"}},                        {\"showLink\": true, \"linkText\": \"Export to plot.ly\", \"plotlyServerURL\": \"https://plot.ly\", \"responsive\": true}                    ).then(function(){\n",
       "                            \n",
       "var gd = document.getElementById('24c6185f-256f-4952-8078-6eb7750cfa0c');\n",
       "var x = new MutationObserver(function (mutations, observer) {{\n",
       "        var display = window.getComputedStyle(gd).display;\n",
       "        if (!display || display === 'none') {{\n",
       "            console.log([gd, 'removed!']);\n",
       "            Plotly.purge(gd);\n",
       "            observer.disconnect();\n",
       "        }}\n",
       "}});\n",
       "\n",
       "// Listen for the removal of the full notebook cells\n",
       "var notebookContainer = gd.closest('#notebook-container');\n",
       "if (notebookContainer) {{\n",
       "    x.observe(notebookContainer, {childList: true});\n",
       "}}\n",
       "\n",
       "// Listen for the clearing of the current output cell\n",
       "var outputEl = gd.closest('.output');\n",
       "if (outputEl) {{\n",
       "    x.observe(outputEl, {childList: true});\n",
       "}}\n",
       "\n",
       "                        })                };                });            </script>        </div>"
      ]
     },
     "metadata": {},
     "output_type": "display_data"
    }
   ],
   "source": [
    "df3 = pd.DataFrame({'x':[1,2,3,4,5],'y':[10,20,30,20,10],'z':[5,4,3,2,1]})\n",
    "df3.iplot(kind='surface',colorscale='rdylbu')"
   ]
  },
  {
   "cell_type": "markdown",
   "metadata": {},
   "source": [
    "## Spread"
   ]
  },
  {
   "cell_type": "code",
   "execution_count": 17,
   "metadata": {},
   "outputs": [
    {
     "name": "stderr",
     "output_type": "stream",
     "text": [
      "/Users/guillaumemac/anaconda3/lib/python3.10/site-packages/cufflinks/plotlytools.py:849: FutureWarning:\n",
      "\n",
      "The pandas.np module is deprecated and will be removed from pandas in a future version. Import numpy directly instead.\n",
      "\n",
      "/Users/guillaumemac/anaconda3/lib/python3.10/site-packages/cufflinks/plotlytools.py:850: FutureWarning:\n",
      "\n",
      "The pandas.np module is deprecated and will be removed from pandas in a future version. Import numpy directly instead.\n",
      "\n"
     ]
    },
    {
     "data": {
      "application/vnd.plotly.v1+json": {
       "config": {
        "linkText": "Export to plot.ly",
        "plotlyServerURL": "https://plot.ly",
        "showLink": true
       },
       "data": [
        {
         "line": {
          "color": "rgba(255, 153, 51, 1.0)",
          "dash": "solid",
          "shape": "linear",
          "width": 1.3
         },
         "mode": "lines",
         "name": "A",
         "text": "",
         "type": "scatter",
         "x": [
          0,
          1,
          2,
          3,
          4,
          5,
          6,
          7,
          8,
          9,
          10,
          11,
          12,
          13,
          14,
          15,
          16,
          17,
          18,
          19,
          20,
          21,
          22,
          23,
          24,
          25,
          26,
          27,
          28,
          29,
          30,
          31,
          32,
          33,
          34,
          35,
          36,
          37,
          38,
          39,
          40,
          41,
          42,
          43,
          44,
          45,
          46,
          47,
          48,
          49,
          50,
          51,
          52,
          53,
          54,
          55,
          56,
          57,
          58,
          59,
          60,
          61,
          62,
          63,
          64,
          65,
          66,
          67,
          68,
          69,
          70,
          71,
          72,
          73,
          74,
          75,
          76,
          77,
          78,
          79,
          80,
          81,
          82,
          83,
          84,
          85,
          86,
          87,
          88,
          89,
          90,
          91,
          92,
          93,
          94,
          95,
          96,
          97,
          98,
          99
         ],
         "y": [
          0.880959023786186,
          0.33345468870373934,
          -0.7409452183565108,
          -1.0977254619292793,
          1.426956946279641,
          -0.40451770845568713,
          0.7724937627319252,
          0.644782086556282,
          -1.4869968168898273,
          0.37640996305940577,
          0.19241489957125432,
          -1.111594409266069,
          -1.5716846453869657,
          -0.36244462977814346,
          0.9744328917524051,
          0.343809552356227,
          -0.3080270466791063,
          -0.1950077347039267,
          -0.18910257491181054,
          -0.6381781064691867,
          0.5260265822330088,
          0.17218121992761243,
          0.1317493478999784,
          -1.0133952881868464,
          -0.16642802340778293,
          -0.644563294742128,
          0.7660731182339767,
          0.47884529664076686,
          -0.521733455462245,
          0.2847131403623892,
          1.5396458082150322,
          -0.4241727051938035,
          0.8362651765647242,
          -0.9500544906883717,
          1.4845688288335317,
          1.1664130670490056,
          -0.0973424642717085,
          0.10116897363812288,
          1.4395527944343374,
          -0.935803180624831,
          1.191156335436539,
          0.7008093119694427,
          -0.9877741095005993,
          -0.4067540719547818,
          -1.370266828503218,
          -1.5353289076252745,
          0.5156460626883984,
          0.4587356572312894,
          0.09260485165730781,
          -1.6636675799745504,
          -0.7290334138658231,
          2.3527806369229394,
          -0.02979154016277506,
          0.024883854810285724,
          0.1899346163866445,
          0.5236554909988752,
          -0.4997433251662194,
          -1.3642904785357,
          -0.29608229446459455,
          -0.6610346788287468,
          0.33500653513485135,
          1.1434766678809734,
          0.6274696800615975,
          0.16552222232531544,
          -0.20205077372308394,
          0.912181391847108,
          -0.5858661976669097,
          -0.3396202037385737,
          0.893157460815925,
          -0.03964706555960653,
          -1.3103665565452216,
          0.5145396422513303,
          0.4166449293411519,
          1.3876021868735242,
          -0.3566481515000294,
          1.2902317814630657,
          0.8846490176365839,
          -1.5320252852273633,
          0.24356536270953288,
          1.3827634187849156,
          1.1819807080169038,
          -0.9660934499810131,
          -0.14796198765918317,
          -0.29251024584393925,
          -1.2027691265328306,
          1.920477778045479,
          -0.4130477360151552,
          0.5202955950169208,
          1.455326064624853,
          -2.0227300702714315,
          -1.6256166848992932,
          0.07554860674090483,
          1.7989334075269259,
          -1.4357117254331069,
          -1.1162061239030632,
          1.2645613747776647,
          -0.05085065547567881,
          1.3957163268407782,
          0.24453545539482402,
          0.4271283479483513
         ]
        },
        {
         "line": {
          "color": "rgba(55, 128, 191, 1.0)",
          "dash": "solid",
          "shape": "linear",
          "width": 1.3
         },
         "mode": "lines",
         "name": "B",
         "text": "",
         "type": "scatter",
         "x": [
          0,
          1,
          2,
          3,
          4,
          5,
          6,
          7,
          8,
          9,
          10,
          11,
          12,
          13,
          14,
          15,
          16,
          17,
          18,
          19,
          20,
          21,
          22,
          23,
          24,
          25,
          26,
          27,
          28,
          29,
          30,
          31,
          32,
          33,
          34,
          35,
          36,
          37,
          38,
          39,
          40,
          41,
          42,
          43,
          44,
          45,
          46,
          47,
          48,
          49,
          50,
          51,
          52,
          53,
          54,
          55,
          56,
          57,
          58,
          59,
          60,
          61,
          62,
          63,
          64,
          65,
          66,
          67,
          68,
          69,
          70,
          71,
          72,
          73,
          74,
          75,
          76,
          77,
          78,
          79,
          80,
          81,
          82,
          83,
          84,
          85,
          86,
          87,
          88,
          89,
          90,
          91,
          92,
          93,
          94,
          95,
          96,
          97,
          98,
          99
         ],
         "y": [
          -1.5991275929197728,
          -0.8139801222032823,
          0.8884921961412762,
          0.015894687243417947,
          -0.6325211178813915,
          -1.9991061820032472,
          -0.555553251851912,
          -0.35026738841258764,
          0.46336296385168246,
          -0.33200786419981354,
          -0.014622520917696516,
          -1.2701991072571905,
          2.0392368945542794,
          -0.2820636697677745,
          1.1342694570432095,
          1.561697756976798,
          1.0717177775448286,
          1.1522195478371517,
          0.7570476750581898,
          -0.09291807113560716,
          -1.6674145944274692,
          -0.6686748289046941,
          -0.979060347779246,
          0.8576553382435183,
          0.9156021630201164,
          1.0388677923626626,
          2.336127802368596,
          0.40685339783055247,
          0.5189884359989433,
          0.07478796476990413,
          -0.6238735508899921,
          0.6256175510166899,
          0.5922977782752936,
          -1.1265454524507295,
          1.4698329632388514,
          0.42799339053984825,
          0.8457940003940891,
          -0.1262185339529523,
          -0.25234556078581993,
          -1.1260192157045796,
          0.3835707132779261,
          -0.8314028714113617,
          0.8777179911373496,
          1.4463623493451832,
          3.1034799952860674,
          1.013634913867253,
          1.779853980511546,
          0.10860250518723495,
          0.22796974651343066,
          -1.0458153022900263,
          -1.131689781985826,
          2.7004697893450524,
          1.0334664852867421,
          -0.9288778444152588,
          0.4769366435803124,
          3.0211093187401215,
          1.0593724527376387,
          -0.6087819099103041,
          -0.2575805456381415,
          0.5066594778797082,
          1.4002989836878734,
          1.4411063346739925,
          0.04840543213115739,
          1.896847405157337,
          0.6338012305107075,
          -1.3562240913416577,
          0.4019154283115991,
          0.5629306992560655,
          -0.5792695927028133,
          1.1149305580150437,
          2.1164451210238098,
          -0.6520525930293237,
          -0.6584177578263147,
          0.9868904525143627,
          -0.41216520249140554,
          -0.27287903130401997,
          1.115666369860281,
          -0.39772904944217946,
          -0.4598852585159614,
          -1.7834138468017278,
          -0.2923694109708229,
          -1.8736668007494182,
          -0.36712341162900086,
          -1.0182841444821644,
          -0.3975773402120633,
          0.5562011702221297,
          0.3728989910009789,
          -1.1391381258104147,
          1.8661318239083446,
          1.1281553985958181,
          2.043942601739804,
          0.3751146032127571,
          0.06444449486988196,
          1.4759000232939212,
          -0.8826082038740967,
          -1.8309620572532959,
          -1.9116865067345703,
          1.3435903624112713,
          -0.3510226043980688,
          -1.336307829278521
         ]
        },
        {
         "connectgaps": false,
         "fill": "tozeroy",
         "line": {
          "color": "green",
          "dash": "solid",
          "shape": "linear",
          "width": 0.5
         },
         "mode": "lines",
         "name": "Spread",
         "showlegend": false,
         "type": "scatter",
         "x": [
          0,
          1,
          2,
          3,
          4,
          5,
          6,
          7,
          8,
          9,
          10,
          11,
          12,
          13,
          14,
          15,
          16,
          17,
          18,
          19,
          20,
          21,
          22,
          23,
          24,
          25,
          26,
          27,
          28,
          29,
          30,
          31,
          32,
          33,
          34,
          35,
          36,
          37,
          38,
          39,
          40,
          41,
          42,
          43,
          44,
          45,
          46,
          47,
          48,
          49,
          50,
          51,
          52,
          53,
          54,
          55,
          56,
          57,
          58,
          59,
          60,
          61,
          62,
          63,
          64,
          65,
          66,
          67,
          68,
          69,
          70,
          71,
          72,
          73,
          74,
          75,
          76,
          77,
          78,
          79,
          80,
          81,
          82,
          83,
          84,
          85,
          86,
          87,
          88,
          89,
          90,
          91,
          92,
          93,
          94,
          95,
          96,
          97,
          98,
          99
         ],
         "xaxis": "x2",
         "y": [
          2.4800866167059588,
          1.1474348109070216,
          "",
          "",
          2.0594780641610324,
          1.5945884735475602,
          1.328047014583837,
          0.9950494749688696,
          "",
          0.7084178272592193,
          0.20703742048895085,
          0.15860469799112153,
          "",
          "",
          "",
          "",
          "",
          "",
          "",
          "",
          2.193441176660478,
          0.8408560488323065,
          1.1108096956792244,
          "",
          "",
          "",
          "",
          0.0719918988102144,
          "",
          0.20992517559248508,
          2.1635193591050244,
          "",
          0.2439673982894306,
          0.1764909617623578,
          0.01473586559468032,
          0.7384196765091573,
          "",
          0.22738750759107518,
          1.6918983552201574,
          0.1902160350797486,
          0.8075856221586131,
          1.5322121833808044,
          "",
          "",
          "",
          "",
          "",
          0.35013315204405443,
          "",
          "",
          0.40265636812000294,
          "",
          "",
          0.9537616992255445,
          "",
          "",
          "",
          "",
          "",
          "",
          "",
          "",
          0.5790642479304402,
          "",
          "",
          2.268405483188766,
          "",
          "",
          1.4724270535187383,
          "",
          "",
          1.1665922352806541,
          1.0750626871674667,
          0.4007117343591615,
          0.05551705099137616,
          1.5631108127670856,
          "",
          "",
          0.7034506212254943,
          3.1661772655866436,
          1.4743501189877266,
          0.9075733507684051,
          0.2191614239698177,
          0.7257738986382252,
          "",
          1.3642766078233493,
          "",
          1.6594337208273355,
          "",
          "",
          "",
          "",
          1.734488912657044,
          "",
          "",
          3.0955234320309604,
          1.8608358512588914,
          0.0521259644295069,
          0.5955580597928929,
          1.7634361772268723
         ],
         "yaxis": "y2"
        },
        {
         "connectgaps": false,
         "fill": "tozeroy",
         "line": {
          "color": "red",
          "dash": "solid",
          "shape": "linear",
          "width": 0.5
         },
         "mode": "lines",
         "name": "Spread",
         "showlegend": false,
         "type": "scatter",
         "x": [
          0,
          1,
          2,
          3,
          4,
          5,
          6,
          7,
          8,
          9,
          10,
          11,
          12,
          13,
          14,
          15,
          16,
          17,
          18,
          19,
          20,
          21,
          22,
          23,
          24,
          25,
          26,
          27,
          28,
          29,
          30,
          31,
          32,
          33,
          34,
          35,
          36,
          37,
          38,
          39,
          40,
          41,
          42,
          43,
          44,
          45,
          46,
          47,
          48,
          49,
          50,
          51,
          52,
          53,
          54,
          55,
          56,
          57,
          58,
          59,
          60,
          61,
          62,
          63,
          64,
          65,
          66,
          67,
          68,
          69,
          70,
          71,
          72,
          73,
          74,
          75,
          76,
          77,
          78,
          79,
          80,
          81,
          82,
          83,
          84,
          85,
          86,
          87,
          88,
          89,
          90,
          91,
          92,
          93,
          94,
          95,
          96,
          97,
          98,
          99
         ],
         "xaxis": "x2",
         "y": [
          "",
          "",
          -1.629437414497787,
          -1.1136201491726974,
          "",
          "",
          "",
          "",
          -1.9503597807415098,
          "",
          "",
          "",
          -3.610921539941245,
          -0.08038096001036893,
          -0.15983656529080437,
          -1.217888204620571,
          -1.379744824223935,
          -1.3472272825410785,
          -0.9461502499700003,
          -0.5452600353335796,
          "",
          "",
          "",
          -1.8710506264303648,
          -1.0820301864278994,
          -1.6834310871047906,
          -1.570054684134619,
          "",
          -1.0407218914611884,
          "",
          "",
          -1.0497902562104935,
          "",
          "",
          "",
          "",
          -0.9431364646657976,
          "",
          "",
          "",
          "",
          "",
          -1.8654921006379488,
          -1.853116421299965,
          -4.473746823789286,
          -2.5489638214925274,
          -1.2642079178231476,
          "",
          -0.13536489485612285,
          -0.6178522776845241,
          "",
          -0.34768915242211307,
          -1.0632580254495172,
          "",
          -0.2870020271936679,
          -2.4974538277412464,
          -1.559115777903858,
          -0.7555085686253958,
          -0.038501748826453075,
          -1.167694156708455,
          -1.0652924485530222,
          -0.29762966679301917,
          "",
          -1.7313251828320215,
          -0.8358520042337914,
          "",
          -0.9877816259785088,
          -0.9025509029946392,
          "",
          -1.1545776235746503,
          -3.4268116775690314,
          "",
          "",
          "",
          "",
          "",
          -0.23101735222369701,
          -1.1342962357851838,
          "",
          "",
          "",
          "",
          "",
          "",
          -0.8051917863207674,
          "",
          -0.7859467270161341,
          "",
          -0.4108057592834917,
          -3.1508854688672496,
          -3.6695592866390974,
          -0.2995659964718522,
          "",
          -2.911611748727028,
          -0.2335979200289665,
          "",
          "",
          "",
          "",
          ""
         ],
         "yaxis": "y2"
        }
       ],
       "layout": {
        "hovermode": "x",
        "legend": {
         "bgcolor": "#F5F6F9",
         "font": {
          "color": "#4D5663"
         }
        },
        "paper_bgcolor": "#F5F6F9",
        "plot_bgcolor": "#F5F6F9",
        "template": {
         "data": {
          "bar": [
           {
            "error_x": {
             "color": "#2a3f5f"
            },
            "error_y": {
             "color": "#2a3f5f"
            },
            "marker": {
             "line": {
              "color": "#E5ECF6",
              "width": 0.5
             },
             "pattern": {
              "fillmode": "overlay",
              "size": 10,
              "solidity": 0.2
             }
            },
            "type": "bar"
           }
          ],
          "barpolar": [
           {
            "marker": {
             "line": {
              "color": "#E5ECF6",
              "width": 0.5
             },
             "pattern": {
              "fillmode": "overlay",
              "size": 10,
              "solidity": 0.2
             }
            },
            "type": "barpolar"
           }
          ],
          "carpet": [
           {
            "aaxis": {
             "endlinecolor": "#2a3f5f",
             "gridcolor": "white",
             "linecolor": "white",
             "minorgridcolor": "white",
             "startlinecolor": "#2a3f5f"
            },
            "baxis": {
             "endlinecolor": "#2a3f5f",
             "gridcolor": "white",
             "linecolor": "white",
             "minorgridcolor": "white",
             "startlinecolor": "#2a3f5f"
            },
            "type": "carpet"
           }
          ],
          "choropleth": [
           {
            "colorbar": {
             "outlinewidth": 0,
             "ticks": ""
            },
            "type": "choropleth"
           }
          ],
          "contour": [
           {
            "colorbar": {
             "outlinewidth": 0,
             "ticks": ""
            },
            "colorscale": [
             [
              0,
              "#0d0887"
             ],
             [
              0.1111111111111111,
              "#46039f"
             ],
             [
              0.2222222222222222,
              "#7201a8"
             ],
             [
              0.3333333333333333,
              "#9c179e"
             ],
             [
              0.4444444444444444,
              "#bd3786"
             ],
             [
              0.5555555555555556,
              "#d8576b"
             ],
             [
              0.6666666666666666,
              "#ed7953"
             ],
             [
              0.7777777777777778,
              "#fb9f3a"
             ],
             [
              0.8888888888888888,
              "#fdca26"
             ],
             [
              1,
              "#f0f921"
             ]
            ],
            "type": "contour"
           }
          ],
          "contourcarpet": [
           {
            "colorbar": {
             "outlinewidth": 0,
             "ticks": ""
            },
            "type": "contourcarpet"
           }
          ],
          "heatmap": [
           {
            "colorbar": {
             "outlinewidth": 0,
             "ticks": ""
            },
            "colorscale": [
             [
              0,
              "#0d0887"
             ],
             [
              0.1111111111111111,
              "#46039f"
             ],
             [
              0.2222222222222222,
              "#7201a8"
             ],
             [
              0.3333333333333333,
              "#9c179e"
             ],
             [
              0.4444444444444444,
              "#bd3786"
             ],
             [
              0.5555555555555556,
              "#d8576b"
             ],
             [
              0.6666666666666666,
              "#ed7953"
             ],
             [
              0.7777777777777778,
              "#fb9f3a"
             ],
             [
              0.8888888888888888,
              "#fdca26"
             ],
             [
              1,
              "#f0f921"
             ]
            ],
            "type": "heatmap"
           }
          ],
          "heatmapgl": [
           {
            "colorbar": {
             "outlinewidth": 0,
             "ticks": ""
            },
            "colorscale": [
             [
              0,
              "#0d0887"
             ],
             [
              0.1111111111111111,
              "#46039f"
             ],
             [
              0.2222222222222222,
              "#7201a8"
             ],
             [
              0.3333333333333333,
              "#9c179e"
             ],
             [
              0.4444444444444444,
              "#bd3786"
             ],
             [
              0.5555555555555556,
              "#d8576b"
             ],
             [
              0.6666666666666666,
              "#ed7953"
             ],
             [
              0.7777777777777778,
              "#fb9f3a"
             ],
             [
              0.8888888888888888,
              "#fdca26"
             ],
             [
              1,
              "#f0f921"
             ]
            ],
            "type": "heatmapgl"
           }
          ],
          "histogram": [
           {
            "marker": {
             "pattern": {
              "fillmode": "overlay",
              "size": 10,
              "solidity": 0.2
             }
            },
            "type": "histogram"
           }
          ],
          "histogram2d": [
           {
            "colorbar": {
             "outlinewidth": 0,
             "ticks": ""
            },
            "colorscale": [
             [
              0,
              "#0d0887"
             ],
             [
              0.1111111111111111,
              "#46039f"
             ],
             [
              0.2222222222222222,
              "#7201a8"
             ],
             [
              0.3333333333333333,
              "#9c179e"
             ],
             [
              0.4444444444444444,
              "#bd3786"
             ],
             [
              0.5555555555555556,
              "#d8576b"
             ],
             [
              0.6666666666666666,
              "#ed7953"
             ],
             [
              0.7777777777777778,
              "#fb9f3a"
             ],
             [
              0.8888888888888888,
              "#fdca26"
             ],
             [
              1,
              "#f0f921"
             ]
            ],
            "type": "histogram2d"
           }
          ],
          "histogram2dcontour": [
           {
            "colorbar": {
             "outlinewidth": 0,
             "ticks": ""
            },
            "colorscale": [
             [
              0,
              "#0d0887"
             ],
             [
              0.1111111111111111,
              "#46039f"
             ],
             [
              0.2222222222222222,
              "#7201a8"
             ],
             [
              0.3333333333333333,
              "#9c179e"
             ],
             [
              0.4444444444444444,
              "#bd3786"
             ],
             [
              0.5555555555555556,
              "#d8576b"
             ],
             [
              0.6666666666666666,
              "#ed7953"
             ],
             [
              0.7777777777777778,
              "#fb9f3a"
             ],
             [
              0.8888888888888888,
              "#fdca26"
             ],
             [
              1,
              "#f0f921"
             ]
            ],
            "type": "histogram2dcontour"
           }
          ],
          "mesh3d": [
           {
            "colorbar": {
             "outlinewidth": 0,
             "ticks": ""
            },
            "type": "mesh3d"
           }
          ],
          "parcoords": [
           {
            "line": {
             "colorbar": {
              "outlinewidth": 0,
              "ticks": ""
             }
            },
            "type": "parcoords"
           }
          ],
          "pie": [
           {
            "automargin": true,
            "type": "pie"
           }
          ],
          "scatter": [
           {
            "fillpattern": {
             "fillmode": "overlay",
             "size": 10,
             "solidity": 0.2
            },
            "type": "scatter"
           }
          ],
          "scatter3d": [
           {
            "line": {
             "colorbar": {
              "outlinewidth": 0,
              "ticks": ""
             }
            },
            "marker": {
             "colorbar": {
              "outlinewidth": 0,
              "ticks": ""
             }
            },
            "type": "scatter3d"
           }
          ],
          "scattercarpet": [
           {
            "marker": {
             "colorbar": {
              "outlinewidth": 0,
              "ticks": ""
             }
            },
            "type": "scattercarpet"
           }
          ],
          "scattergeo": [
           {
            "marker": {
             "colorbar": {
              "outlinewidth": 0,
              "ticks": ""
             }
            },
            "type": "scattergeo"
           }
          ],
          "scattergl": [
           {
            "marker": {
             "colorbar": {
              "outlinewidth": 0,
              "ticks": ""
             }
            },
            "type": "scattergl"
           }
          ],
          "scattermapbox": [
           {
            "marker": {
             "colorbar": {
              "outlinewidth": 0,
              "ticks": ""
             }
            },
            "type": "scattermapbox"
           }
          ],
          "scatterpolar": [
           {
            "marker": {
             "colorbar": {
              "outlinewidth": 0,
              "ticks": ""
             }
            },
            "type": "scatterpolar"
           }
          ],
          "scatterpolargl": [
           {
            "marker": {
             "colorbar": {
              "outlinewidth": 0,
              "ticks": ""
             }
            },
            "type": "scatterpolargl"
           }
          ],
          "scatterternary": [
           {
            "marker": {
             "colorbar": {
              "outlinewidth": 0,
              "ticks": ""
             }
            },
            "type": "scatterternary"
           }
          ],
          "surface": [
           {
            "colorbar": {
             "outlinewidth": 0,
             "ticks": ""
            },
            "colorscale": [
             [
              0,
              "#0d0887"
             ],
             [
              0.1111111111111111,
              "#46039f"
             ],
             [
              0.2222222222222222,
              "#7201a8"
             ],
             [
              0.3333333333333333,
              "#9c179e"
             ],
             [
              0.4444444444444444,
              "#bd3786"
             ],
             [
              0.5555555555555556,
              "#d8576b"
             ],
             [
              0.6666666666666666,
              "#ed7953"
             ],
             [
              0.7777777777777778,
              "#fb9f3a"
             ],
             [
              0.8888888888888888,
              "#fdca26"
             ],
             [
              1,
              "#f0f921"
             ]
            ],
            "type": "surface"
           }
          ],
          "table": [
           {
            "cells": {
             "fill": {
              "color": "#EBF0F8"
             },
             "line": {
              "color": "white"
             }
            },
            "header": {
             "fill": {
              "color": "#C8D4E3"
             },
             "line": {
              "color": "white"
             }
            },
            "type": "table"
           }
          ]
         },
         "layout": {
          "annotationdefaults": {
           "arrowcolor": "#2a3f5f",
           "arrowhead": 0,
           "arrowwidth": 1
          },
          "autotypenumbers": "strict",
          "coloraxis": {
           "colorbar": {
            "outlinewidth": 0,
            "ticks": ""
           }
          },
          "colorscale": {
           "diverging": [
            [
             0,
             "#8e0152"
            ],
            [
             0.1,
             "#c51b7d"
            ],
            [
             0.2,
             "#de77ae"
            ],
            [
             0.3,
             "#f1b6da"
            ],
            [
             0.4,
             "#fde0ef"
            ],
            [
             0.5,
             "#f7f7f7"
            ],
            [
             0.6,
             "#e6f5d0"
            ],
            [
             0.7,
             "#b8e186"
            ],
            [
             0.8,
             "#7fbc41"
            ],
            [
             0.9,
             "#4d9221"
            ],
            [
             1,
             "#276419"
            ]
           ],
           "sequential": [
            [
             0,
             "#0d0887"
            ],
            [
             0.1111111111111111,
             "#46039f"
            ],
            [
             0.2222222222222222,
             "#7201a8"
            ],
            [
             0.3333333333333333,
             "#9c179e"
            ],
            [
             0.4444444444444444,
             "#bd3786"
            ],
            [
             0.5555555555555556,
             "#d8576b"
            ],
            [
             0.6666666666666666,
             "#ed7953"
            ],
            [
             0.7777777777777778,
             "#fb9f3a"
            ],
            [
             0.8888888888888888,
             "#fdca26"
            ],
            [
             1,
             "#f0f921"
            ]
           ],
           "sequentialminus": [
            [
             0,
             "#0d0887"
            ],
            [
             0.1111111111111111,
             "#46039f"
            ],
            [
             0.2222222222222222,
             "#7201a8"
            ],
            [
             0.3333333333333333,
             "#9c179e"
            ],
            [
             0.4444444444444444,
             "#bd3786"
            ],
            [
             0.5555555555555556,
             "#d8576b"
            ],
            [
             0.6666666666666666,
             "#ed7953"
            ],
            [
             0.7777777777777778,
             "#fb9f3a"
            ],
            [
             0.8888888888888888,
             "#fdca26"
            ],
            [
             1,
             "#f0f921"
            ]
           ]
          },
          "colorway": [
           "#636efa",
           "#EF553B",
           "#00cc96",
           "#ab63fa",
           "#FFA15A",
           "#19d3f3",
           "#FF6692",
           "#B6E880",
           "#FF97FF",
           "#FECB52"
          ],
          "font": {
           "color": "#2a3f5f"
          },
          "geo": {
           "bgcolor": "white",
           "lakecolor": "white",
           "landcolor": "#E5ECF6",
           "showlakes": true,
           "showland": true,
           "subunitcolor": "white"
          },
          "hoverlabel": {
           "align": "left"
          },
          "hovermode": "closest",
          "mapbox": {
           "style": "light"
          },
          "paper_bgcolor": "white",
          "plot_bgcolor": "#E5ECF6",
          "polar": {
           "angularaxis": {
            "gridcolor": "white",
            "linecolor": "white",
            "ticks": ""
           },
           "bgcolor": "#E5ECF6",
           "radialaxis": {
            "gridcolor": "white",
            "linecolor": "white",
            "ticks": ""
           }
          },
          "scene": {
           "xaxis": {
            "backgroundcolor": "#E5ECF6",
            "gridcolor": "white",
            "gridwidth": 2,
            "linecolor": "white",
            "showbackground": true,
            "ticks": "",
            "zerolinecolor": "white"
           },
           "yaxis": {
            "backgroundcolor": "#E5ECF6",
            "gridcolor": "white",
            "gridwidth": 2,
            "linecolor": "white",
            "showbackground": true,
            "ticks": "",
            "zerolinecolor": "white"
           },
           "zaxis": {
            "backgroundcolor": "#E5ECF6",
            "gridcolor": "white",
            "gridwidth": 2,
            "linecolor": "white",
            "showbackground": true,
            "ticks": "",
            "zerolinecolor": "white"
           }
          },
          "shapedefaults": {
           "line": {
            "color": "#2a3f5f"
           }
          },
          "ternary": {
           "aaxis": {
            "gridcolor": "white",
            "linecolor": "white",
            "ticks": ""
           },
           "baxis": {
            "gridcolor": "white",
            "linecolor": "white",
            "ticks": ""
           },
           "bgcolor": "#E5ECF6",
           "caxis": {
            "gridcolor": "white",
            "linecolor": "white",
            "ticks": ""
           }
          },
          "title": {
           "x": 0.05
          },
          "xaxis": {
           "automargin": true,
           "gridcolor": "white",
           "linecolor": "white",
           "ticks": "",
           "title": {
            "standoff": 15
           },
           "zerolinecolor": "white",
           "zerolinewidth": 2
          },
          "yaxis": {
           "automargin": true,
           "gridcolor": "white",
           "linecolor": "white",
           "ticks": "",
           "title": {
            "standoff": 15
           },
           "zerolinecolor": "white",
           "zerolinewidth": 2
          }
         }
        },
        "title": {
         "font": {
          "color": "#4D5663"
         }
        },
        "xaxis": {
         "gridcolor": "#E1E5ED",
         "showgrid": true,
         "tickfont": {
          "color": "#4D5663"
         },
         "title": {
          "font": {
           "color": "#4D5663"
          },
          "text": ""
         },
         "zerolinecolor": "#E1E5ED"
        },
        "xaxis2": {
         "anchor": "y2",
         "gridcolor": "#E1E5ED",
         "showgrid": true,
         "showticklabels": false,
         "tickfont": {
          "color": "#4D5663"
         },
         "title": {
          "font": {
           "color": "#4D5663"
          },
          "text": ""
         },
         "zerolinecolor": "#E1E5ED"
        },
        "yaxis": {
         "domain": [
          0.3,
          1
         ],
         "gridcolor": "#E1E5ED",
         "showgrid": true,
         "tickfont": {
          "color": "#4D5663"
         },
         "title": {
          "font": {
           "color": "#4D5663"
          },
          "text": ""
         },
         "zerolinecolor": "#E1E5ED"
        },
        "yaxis2": {
         "domain": [
          0,
          0.25
         ],
         "gridcolor": "#E1E5ED",
         "showgrid": true,
         "tickfont": {
          "color": "#4D5663"
         },
         "title": {
          "font": {
           "color": "#4D5663"
          },
          "text": "Spread"
         },
         "zerolinecolor": "#E1E5ED"
        }
       }
      },
      "text/html": [
       "<div>                            <div id=\"285fb1a6-074b-42a5-af76-f9caf25cbdd7\" class=\"plotly-graph-div\" style=\"height:525px; width:100%;\"></div>            <script type=\"text/javascript\">                require([\"plotly\"], function(Plotly) {                    window.PLOTLYENV=window.PLOTLYENV || {};\n",
       "                    window.PLOTLYENV.BASE_URL='https://plot.ly';                                    if (document.getElementById(\"285fb1a6-074b-42a5-af76-f9caf25cbdd7\")) {                    Plotly.newPlot(                        \"285fb1a6-074b-42a5-af76-f9caf25cbdd7\",                        [{\"line\":{\"color\":\"rgba(255, 153, 51, 1.0)\",\"dash\":\"solid\",\"shape\":\"linear\",\"width\":1.3},\"mode\":\"lines\",\"name\":\"A\",\"text\":\"\",\"x\":[0,1,2,3,4,5,6,7,8,9,10,11,12,13,14,15,16,17,18,19,20,21,22,23,24,25,26,27,28,29,30,31,32,33,34,35,36,37,38,39,40,41,42,43,44,45,46,47,48,49,50,51,52,53,54,55,56,57,58,59,60,61,62,63,64,65,66,67,68,69,70,71,72,73,74,75,76,77,78,79,80,81,82,83,84,85,86,87,88,89,90,91,92,93,94,95,96,97,98,99],\"y\":[0.880959023786186,0.33345468870373934,-0.7409452183565108,-1.0977254619292793,1.426956946279641,-0.40451770845568713,0.7724937627319252,0.644782086556282,-1.4869968168898273,0.37640996305940577,0.19241489957125432,-1.111594409266069,-1.5716846453869657,-0.36244462977814346,0.9744328917524051,0.343809552356227,-0.3080270466791063,-0.1950077347039267,-0.18910257491181054,-0.6381781064691867,0.5260265822330088,0.17218121992761243,0.1317493478999784,-1.0133952881868464,-0.16642802340778293,-0.644563294742128,0.7660731182339767,0.47884529664076686,-0.521733455462245,0.2847131403623892,1.5396458082150322,-0.4241727051938035,0.8362651765647242,-0.9500544906883717,1.4845688288335317,1.1664130670490056,-0.0973424642717085,0.10116897363812288,1.4395527944343374,-0.935803180624831,1.191156335436539,0.7008093119694427,-0.9877741095005993,-0.4067540719547818,-1.370266828503218,-1.5353289076252745,0.5156460626883984,0.4587356572312894,0.09260485165730781,-1.6636675799745504,-0.7290334138658231,2.3527806369229394,-0.02979154016277506,0.024883854810285724,0.1899346163866445,0.5236554909988752,-0.4997433251662194,-1.3642904785357,-0.29608229446459455,-0.6610346788287468,0.33500653513485135,1.1434766678809734,0.6274696800615975,0.16552222232531544,-0.20205077372308394,0.912181391847108,-0.5858661976669097,-0.3396202037385737,0.893157460815925,-0.03964706555960653,-1.3103665565452216,0.5145396422513303,0.4166449293411519,1.3876021868735242,-0.3566481515000294,1.2902317814630657,0.8846490176365839,-1.5320252852273633,0.24356536270953288,1.3827634187849156,1.1819807080169038,-0.9660934499810131,-0.14796198765918317,-0.29251024584393925,-1.2027691265328306,1.920477778045479,-0.4130477360151552,0.5202955950169208,1.455326064624853,-2.0227300702714315,-1.6256166848992932,0.07554860674090483,1.7989334075269259,-1.4357117254331069,-1.1162061239030632,1.2645613747776647,-0.05085065547567881,1.3957163268407782,0.24453545539482402,0.4271283479483513],\"type\":\"scatter\"},{\"line\":{\"color\":\"rgba(55, 128, 191, 1.0)\",\"dash\":\"solid\",\"shape\":\"linear\",\"width\":1.3},\"mode\":\"lines\",\"name\":\"B\",\"text\":\"\",\"x\":[0,1,2,3,4,5,6,7,8,9,10,11,12,13,14,15,16,17,18,19,20,21,22,23,24,25,26,27,28,29,30,31,32,33,34,35,36,37,38,39,40,41,42,43,44,45,46,47,48,49,50,51,52,53,54,55,56,57,58,59,60,61,62,63,64,65,66,67,68,69,70,71,72,73,74,75,76,77,78,79,80,81,82,83,84,85,86,87,88,89,90,91,92,93,94,95,96,97,98,99],\"y\":[-1.5991275929197728,-0.8139801222032823,0.8884921961412762,0.015894687243417947,-0.6325211178813915,-1.9991061820032472,-0.555553251851912,-0.35026738841258764,0.46336296385168246,-0.33200786419981354,-0.014622520917696516,-1.2701991072571905,2.0392368945542794,-0.2820636697677745,1.1342694570432095,1.561697756976798,1.0717177775448286,1.1522195478371517,0.7570476750581898,-0.09291807113560716,-1.6674145944274692,-0.6686748289046941,-0.979060347779246,0.8576553382435183,0.9156021630201164,1.0388677923626626,2.336127802368596,0.40685339783055247,0.5189884359989433,0.07478796476990413,-0.6238735508899921,0.6256175510166899,0.5922977782752936,-1.1265454524507295,1.4698329632388514,0.42799339053984825,0.8457940003940891,-0.1262185339529523,-0.25234556078581993,-1.1260192157045796,0.3835707132779261,-0.8314028714113617,0.8777179911373496,1.4463623493451832,3.1034799952860674,1.013634913867253,1.779853980511546,0.10860250518723495,0.22796974651343066,-1.0458153022900263,-1.131689781985826,2.7004697893450524,1.0334664852867421,-0.9288778444152588,0.4769366435803124,3.0211093187401215,1.0593724527376387,-0.6087819099103041,-0.2575805456381415,0.5066594778797082,1.4002989836878734,1.4411063346739925,0.04840543213115739,1.896847405157337,0.6338012305107075,-1.3562240913416577,0.4019154283115991,0.5629306992560655,-0.5792695927028133,1.1149305580150437,2.1164451210238098,-0.6520525930293237,-0.6584177578263147,0.9868904525143627,-0.41216520249140554,-0.27287903130401997,1.115666369860281,-0.39772904944217946,-0.4598852585159614,-1.7834138468017278,-0.2923694109708229,-1.8736668007494182,-0.36712341162900086,-1.0182841444821644,-0.3975773402120633,0.5562011702221297,0.3728989910009789,-1.1391381258104147,1.8661318239083446,1.1281553985958181,2.043942601739804,0.3751146032127571,0.06444449486988196,1.4759000232939212,-0.8826082038740967,-1.8309620572532959,-1.9116865067345703,1.3435903624112713,-0.3510226043980688,-1.336307829278521],\"type\":\"scatter\"},{\"connectgaps\":false,\"fill\":\"tozeroy\",\"line\":{\"color\":\"green\",\"dash\":\"solid\",\"shape\":\"linear\",\"width\":0.5},\"mode\":\"lines\",\"name\":\"Spread\",\"showlegend\":false,\"x\":[0,1,2,3,4,5,6,7,8,9,10,11,12,13,14,15,16,17,18,19,20,21,22,23,24,25,26,27,28,29,30,31,32,33,34,35,36,37,38,39,40,41,42,43,44,45,46,47,48,49,50,51,52,53,54,55,56,57,58,59,60,61,62,63,64,65,66,67,68,69,70,71,72,73,74,75,76,77,78,79,80,81,82,83,84,85,86,87,88,89,90,91,92,93,94,95,96,97,98,99],\"xaxis\":\"x2\",\"y\":[2.4800866167059588,1.1474348109070216,\"\",\"\",2.0594780641610324,1.5945884735475602,1.328047014583837,0.9950494749688696,\"\",0.7084178272592193,0.20703742048895085,0.15860469799112153,\"\",\"\",\"\",\"\",\"\",\"\",\"\",\"\",2.193441176660478,0.8408560488323065,1.1108096956792244,\"\",\"\",\"\",\"\",0.0719918988102144,\"\",0.20992517559248508,2.1635193591050244,\"\",0.2439673982894306,0.1764909617623578,0.01473586559468032,0.7384196765091573,\"\",0.22738750759107518,1.6918983552201574,0.1902160350797486,0.8075856221586131,1.5322121833808044,\"\",\"\",\"\",\"\",\"\",0.35013315204405443,\"\",\"\",0.40265636812000294,\"\",\"\",0.9537616992255445,\"\",\"\",\"\",\"\",\"\",\"\",\"\",\"\",0.5790642479304402,\"\",\"\",2.268405483188766,\"\",\"\",1.4724270535187383,\"\",\"\",1.1665922352806541,1.0750626871674667,0.4007117343591615,0.05551705099137616,1.5631108127670856,\"\",\"\",0.7034506212254943,3.1661772655866436,1.4743501189877266,0.9075733507684051,0.2191614239698177,0.7257738986382252,\"\",1.3642766078233493,\"\",1.6594337208273355,\"\",\"\",\"\",\"\",1.734488912657044,\"\",\"\",3.0955234320309604,1.8608358512588914,0.0521259644295069,0.5955580597928929,1.7634361772268723],\"yaxis\":\"y2\",\"type\":\"scatter\"},{\"connectgaps\":false,\"fill\":\"tozeroy\",\"line\":{\"color\":\"red\",\"dash\":\"solid\",\"shape\":\"linear\",\"width\":0.5},\"mode\":\"lines\",\"name\":\"Spread\",\"showlegend\":false,\"x\":[0,1,2,3,4,5,6,7,8,9,10,11,12,13,14,15,16,17,18,19,20,21,22,23,24,25,26,27,28,29,30,31,32,33,34,35,36,37,38,39,40,41,42,43,44,45,46,47,48,49,50,51,52,53,54,55,56,57,58,59,60,61,62,63,64,65,66,67,68,69,70,71,72,73,74,75,76,77,78,79,80,81,82,83,84,85,86,87,88,89,90,91,92,93,94,95,96,97,98,99],\"xaxis\":\"x2\",\"y\":[\"\",\"\",-1.629437414497787,-1.1136201491726974,\"\",\"\",\"\",\"\",-1.9503597807415098,\"\",\"\",\"\",-3.610921539941245,-0.08038096001036893,-0.15983656529080437,-1.217888204620571,-1.379744824223935,-1.3472272825410785,-0.9461502499700003,-0.5452600353335796,\"\",\"\",\"\",-1.8710506264303648,-1.0820301864278994,-1.6834310871047906,-1.570054684134619,\"\",-1.0407218914611884,\"\",\"\",-1.0497902562104935,\"\",\"\",\"\",\"\",-0.9431364646657976,\"\",\"\",\"\",\"\",\"\",-1.8654921006379488,-1.853116421299965,-4.473746823789286,-2.5489638214925274,-1.2642079178231476,\"\",-0.13536489485612285,-0.6178522776845241,\"\",-0.34768915242211307,-1.0632580254495172,\"\",-0.2870020271936679,-2.4974538277412464,-1.559115777903858,-0.7555085686253958,-0.038501748826453075,-1.167694156708455,-1.0652924485530222,-0.29762966679301917,\"\",-1.7313251828320215,-0.8358520042337914,\"\",-0.9877816259785088,-0.9025509029946392,\"\",-1.1545776235746503,-3.4268116775690314,\"\",\"\",\"\",\"\",\"\",-0.23101735222369701,-1.1342962357851838,\"\",\"\",\"\",\"\",\"\",\"\",-0.8051917863207674,\"\",-0.7859467270161341,\"\",-0.4108057592834917,-3.1508854688672496,-3.6695592866390974,-0.2995659964718522,\"\",-2.911611748727028,-0.2335979200289665,\"\",\"\",\"\",\"\",\"\"],\"yaxis\":\"y2\",\"type\":\"scatter\"}],                        {\"hovermode\":\"x\",\"legend\":{\"bgcolor\":\"#F5F6F9\",\"font\":{\"color\":\"#4D5663\"}},\"paper_bgcolor\":\"#F5F6F9\",\"plot_bgcolor\":\"#F5F6F9\",\"template\":{\"data\":{\"barpolar\":[{\"marker\":{\"line\":{\"color\":\"#E5ECF6\",\"width\":0.5},\"pattern\":{\"fillmode\":\"overlay\",\"size\":10,\"solidity\":0.2}},\"type\":\"barpolar\"}],\"bar\":[{\"error_x\":{\"color\":\"#2a3f5f\"},\"error_y\":{\"color\":\"#2a3f5f\"},\"marker\":{\"line\":{\"color\":\"#E5ECF6\",\"width\":0.5},\"pattern\":{\"fillmode\":\"overlay\",\"size\":10,\"solidity\":0.2}},\"type\":\"bar\"}],\"carpet\":[{\"aaxis\":{\"endlinecolor\":\"#2a3f5f\",\"gridcolor\":\"white\",\"linecolor\":\"white\",\"minorgridcolor\":\"white\",\"startlinecolor\":\"#2a3f5f\"},\"baxis\":{\"endlinecolor\":\"#2a3f5f\",\"gridcolor\":\"white\",\"linecolor\":\"white\",\"minorgridcolor\":\"white\",\"startlinecolor\":\"#2a3f5f\"},\"type\":\"carpet\"}],\"choropleth\":[{\"colorbar\":{\"outlinewidth\":0,\"ticks\":\"\"},\"type\":\"choropleth\"}],\"contourcarpet\":[{\"colorbar\":{\"outlinewidth\":0,\"ticks\":\"\"},\"type\":\"contourcarpet\"}],\"contour\":[{\"colorbar\":{\"outlinewidth\":0,\"ticks\":\"\"},\"colorscale\":[[0.0,\"#0d0887\"],[0.1111111111111111,\"#46039f\"],[0.2222222222222222,\"#7201a8\"],[0.3333333333333333,\"#9c179e\"],[0.4444444444444444,\"#bd3786\"],[0.5555555555555556,\"#d8576b\"],[0.6666666666666666,\"#ed7953\"],[0.7777777777777778,\"#fb9f3a\"],[0.8888888888888888,\"#fdca26\"],[1.0,\"#f0f921\"]],\"type\":\"contour\"}],\"heatmapgl\":[{\"colorbar\":{\"outlinewidth\":0,\"ticks\":\"\"},\"colorscale\":[[0.0,\"#0d0887\"],[0.1111111111111111,\"#46039f\"],[0.2222222222222222,\"#7201a8\"],[0.3333333333333333,\"#9c179e\"],[0.4444444444444444,\"#bd3786\"],[0.5555555555555556,\"#d8576b\"],[0.6666666666666666,\"#ed7953\"],[0.7777777777777778,\"#fb9f3a\"],[0.8888888888888888,\"#fdca26\"],[1.0,\"#f0f921\"]],\"type\":\"heatmapgl\"}],\"heatmap\":[{\"colorbar\":{\"outlinewidth\":0,\"ticks\":\"\"},\"colorscale\":[[0.0,\"#0d0887\"],[0.1111111111111111,\"#46039f\"],[0.2222222222222222,\"#7201a8\"],[0.3333333333333333,\"#9c179e\"],[0.4444444444444444,\"#bd3786\"],[0.5555555555555556,\"#d8576b\"],[0.6666666666666666,\"#ed7953\"],[0.7777777777777778,\"#fb9f3a\"],[0.8888888888888888,\"#fdca26\"],[1.0,\"#f0f921\"]],\"type\":\"heatmap\"}],\"histogram2dcontour\":[{\"colorbar\":{\"outlinewidth\":0,\"ticks\":\"\"},\"colorscale\":[[0.0,\"#0d0887\"],[0.1111111111111111,\"#46039f\"],[0.2222222222222222,\"#7201a8\"],[0.3333333333333333,\"#9c179e\"],[0.4444444444444444,\"#bd3786\"],[0.5555555555555556,\"#d8576b\"],[0.6666666666666666,\"#ed7953\"],[0.7777777777777778,\"#fb9f3a\"],[0.8888888888888888,\"#fdca26\"],[1.0,\"#f0f921\"]],\"type\":\"histogram2dcontour\"}],\"histogram2d\":[{\"colorbar\":{\"outlinewidth\":0,\"ticks\":\"\"},\"colorscale\":[[0.0,\"#0d0887\"],[0.1111111111111111,\"#46039f\"],[0.2222222222222222,\"#7201a8\"],[0.3333333333333333,\"#9c179e\"],[0.4444444444444444,\"#bd3786\"],[0.5555555555555556,\"#d8576b\"],[0.6666666666666666,\"#ed7953\"],[0.7777777777777778,\"#fb9f3a\"],[0.8888888888888888,\"#fdca26\"],[1.0,\"#f0f921\"]],\"type\":\"histogram2d\"}],\"histogram\":[{\"marker\":{\"pattern\":{\"fillmode\":\"overlay\",\"size\":10,\"solidity\":0.2}},\"type\":\"histogram\"}],\"mesh3d\":[{\"colorbar\":{\"outlinewidth\":0,\"ticks\":\"\"},\"type\":\"mesh3d\"}],\"parcoords\":[{\"line\":{\"colorbar\":{\"outlinewidth\":0,\"ticks\":\"\"}},\"type\":\"parcoords\"}],\"pie\":[{\"automargin\":true,\"type\":\"pie\"}],\"scatter3d\":[{\"line\":{\"colorbar\":{\"outlinewidth\":0,\"ticks\":\"\"}},\"marker\":{\"colorbar\":{\"outlinewidth\":0,\"ticks\":\"\"}},\"type\":\"scatter3d\"}],\"scattercarpet\":[{\"marker\":{\"colorbar\":{\"outlinewidth\":0,\"ticks\":\"\"}},\"type\":\"scattercarpet\"}],\"scattergeo\":[{\"marker\":{\"colorbar\":{\"outlinewidth\":0,\"ticks\":\"\"}},\"type\":\"scattergeo\"}],\"scattergl\":[{\"marker\":{\"colorbar\":{\"outlinewidth\":0,\"ticks\":\"\"}},\"type\":\"scattergl\"}],\"scattermapbox\":[{\"marker\":{\"colorbar\":{\"outlinewidth\":0,\"ticks\":\"\"}},\"type\":\"scattermapbox\"}],\"scatterpolargl\":[{\"marker\":{\"colorbar\":{\"outlinewidth\":0,\"ticks\":\"\"}},\"type\":\"scatterpolargl\"}],\"scatterpolar\":[{\"marker\":{\"colorbar\":{\"outlinewidth\":0,\"ticks\":\"\"}},\"type\":\"scatterpolar\"}],\"scatter\":[{\"fillpattern\":{\"fillmode\":\"overlay\",\"size\":10,\"solidity\":0.2},\"type\":\"scatter\"}],\"scatterternary\":[{\"marker\":{\"colorbar\":{\"outlinewidth\":0,\"ticks\":\"\"}},\"type\":\"scatterternary\"}],\"surface\":[{\"colorbar\":{\"outlinewidth\":0,\"ticks\":\"\"},\"colorscale\":[[0.0,\"#0d0887\"],[0.1111111111111111,\"#46039f\"],[0.2222222222222222,\"#7201a8\"],[0.3333333333333333,\"#9c179e\"],[0.4444444444444444,\"#bd3786\"],[0.5555555555555556,\"#d8576b\"],[0.6666666666666666,\"#ed7953\"],[0.7777777777777778,\"#fb9f3a\"],[0.8888888888888888,\"#fdca26\"],[1.0,\"#f0f921\"]],\"type\":\"surface\"}],\"table\":[{\"cells\":{\"fill\":{\"color\":\"#EBF0F8\"},\"line\":{\"color\":\"white\"}},\"header\":{\"fill\":{\"color\":\"#C8D4E3\"},\"line\":{\"color\":\"white\"}},\"type\":\"table\"}]},\"layout\":{\"annotationdefaults\":{\"arrowcolor\":\"#2a3f5f\",\"arrowhead\":0,\"arrowwidth\":1},\"autotypenumbers\":\"strict\",\"coloraxis\":{\"colorbar\":{\"outlinewidth\":0,\"ticks\":\"\"}},\"colorscale\":{\"diverging\":[[0,\"#8e0152\"],[0.1,\"#c51b7d\"],[0.2,\"#de77ae\"],[0.3,\"#f1b6da\"],[0.4,\"#fde0ef\"],[0.5,\"#f7f7f7\"],[0.6,\"#e6f5d0\"],[0.7,\"#b8e186\"],[0.8,\"#7fbc41\"],[0.9,\"#4d9221\"],[1,\"#276419\"]],\"sequential\":[[0.0,\"#0d0887\"],[0.1111111111111111,\"#46039f\"],[0.2222222222222222,\"#7201a8\"],[0.3333333333333333,\"#9c179e\"],[0.4444444444444444,\"#bd3786\"],[0.5555555555555556,\"#d8576b\"],[0.6666666666666666,\"#ed7953\"],[0.7777777777777778,\"#fb9f3a\"],[0.8888888888888888,\"#fdca26\"],[1.0,\"#f0f921\"]],\"sequentialminus\":[[0.0,\"#0d0887\"],[0.1111111111111111,\"#46039f\"],[0.2222222222222222,\"#7201a8\"],[0.3333333333333333,\"#9c179e\"],[0.4444444444444444,\"#bd3786\"],[0.5555555555555556,\"#d8576b\"],[0.6666666666666666,\"#ed7953\"],[0.7777777777777778,\"#fb9f3a\"],[0.8888888888888888,\"#fdca26\"],[1.0,\"#f0f921\"]]},\"colorway\":[\"#636efa\",\"#EF553B\",\"#00cc96\",\"#ab63fa\",\"#FFA15A\",\"#19d3f3\",\"#FF6692\",\"#B6E880\",\"#FF97FF\",\"#FECB52\"],\"font\":{\"color\":\"#2a3f5f\"},\"geo\":{\"bgcolor\":\"white\",\"lakecolor\":\"white\",\"landcolor\":\"#E5ECF6\",\"showlakes\":true,\"showland\":true,\"subunitcolor\":\"white\"},\"hoverlabel\":{\"align\":\"left\"},\"hovermode\":\"closest\",\"mapbox\":{\"style\":\"light\"},\"paper_bgcolor\":\"white\",\"plot_bgcolor\":\"#E5ECF6\",\"polar\":{\"angularaxis\":{\"gridcolor\":\"white\",\"linecolor\":\"white\",\"ticks\":\"\"},\"bgcolor\":\"#E5ECF6\",\"radialaxis\":{\"gridcolor\":\"white\",\"linecolor\":\"white\",\"ticks\":\"\"}},\"scene\":{\"xaxis\":{\"backgroundcolor\":\"#E5ECF6\",\"gridcolor\":\"white\",\"gridwidth\":2,\"linecolor\":\"white\",\"showbackground\":true,\"ticks\":\"\",\"zerolinecolor\":\"white\"},\"yaxis\":{\"backgroundcolor\":\"#E5ECF6\",\"gridcolor\":\"white\",\"gridwidth\":2,\"linecolor\":\"white\",\"showbackground\":true,\"ticks\":\"\",\"zerolinecolor\":\"white\"},\"zaxis\":{\"backgroundcolor\":\"#E5ECF6\",\"gridcolor\":\"white\",\"gridwidth\":2,\"linecolor\":\"white\",\"showbackground\":true,\"ticks\":\"\",\"zerolinecolor\":\"white\"}},\"shapedefaults\":{\"line\":{\"color\":\"#2a3f5f\"}},\"ternary\":{\"aaxis\":{\"gridcolor\":\"white\",\"linecolor\":\"white\",\"ticks\":\"\"},\"baxis\":{\"gridcolor\":\"white\",\"linecolor\":\"white\",\"ticks\":\"\"},\"bgcolor\":\"#E5ECF6\",\"caxis\":{\"gridcolor\":\"white\",\"linecolor\":\"white\",\"ticks\":\"\"}},\"title\":{\"x\":0.05},\"xaxis\":{\"automargin\":true,\"gridcolor\":\"white\",\"linecolor\":\"white\",\"ticks\":\"\",\"title\":{\"standoff\":15},\"zerolinecolor\":\"white\",\"zerolinewidth\":2},\"yaxis\":{\"automargin\":true,\"gridcolor\":\"white\",\"linecolor\":\"white\",\"ticks\":\"\",\"title\":{\"standoff\":15},\"zerolinecolor\":\"white\",\"zerolinewidth\":2}}},\"title\":{\"font\":{\"color\":\"#4D5663\"}},\"xaxis\":{\"gridcolor\":\"#E1E5ED\",\"showgrid\":true,\"tickfont\":{\"color\":\"#4D5663\"},\"title\":{\"font\":{\"color\":\"#4D5663\"},\"text\":\"\"},\"zerolinecolor\":\"#E1E5ED\"},\"yaxis\":{\"domain\":[0.3,1],\"gridcolor\":\"#E1E5ED\",\"showgrid\":true,\"tickfont\":{\"color\":\"#4D5663\"},\"title\":{\"font\":{\"color\":\"#4D5663\"},\"text\":\"\"},\"zerolinecolor\":\"#E1E5ED\"},\"yaxis2\":{\"domain\":[0,0.25],\"gridcolor\":\"#E1E5ED\",\"showgrid\":true,\"tickfont\":{\"color\":\"#4D5663\"},\"title\":{\"font\":{\"color\":\"#4D5663\"},\"text\":\"Spread\"},\"zerolinecolor\":\"#E1E5ED\"},\"xaxis2\":{\"anchor\":\"y2\",\"gridcolor\":\"#E1E5ED\",\"showgrid\":true,\"showticklabels\":false,\"tickfont\":{\"color\":\"#4D5663\"},\"title\":{\"font\":{\"color\":\"#4D5663\"},\"text\":\"\"},\"zerolinecolor\":\"#E1E5ED\"}},                        {\"showLink\": true, \"linkText\": \"Export to plot.ly\", \"plotlyServerURL\": \"https://plot.ly\", \"responsive\": true}                    ).then(function(){\n",
       "                            \n",
       "var gd = document.getElementById('285fb1a6-074b-42a5-af76-f9caf25cbdd7');\n",
       "var x = new MutationObserver(function (mutations, observer) {{\n",
       "        var display = window.getComputedStyle(gd).display;\n",
       "        if (!display || display === 'none') {{\n",
       "            console.log([gd, 'removed!']);\n",
       "            Plotly.purge(gd);\n",
       "            observer.disconnect();\n",
       "        }}\n",
       "}});\n",
       "\n",
       "// Listen for the removal of the full notebook cells\n",
       "var notebookContainer = gd.closest('#notebook-container');\n",
       "if (notebookContainer) {{\n",
       "    x.observe(notebookContainer, {childList: true});\n",
       "}}\n",
       "\n",
       "// Listen for the clearing of the current output cell\n",
       "var outputEl = gd.closest('.output');\n",
       "if (outputEl) {{\n",
       "    x.observe(outputEl, {childList: true});\n",
       "}}\n",
       "\n",
       "                        })                };                });            </script>        </div>"
      ]
     },
     "metadata": {},
     "output_type": "display_data"
    }
   ],
   "source": [
    "df[['A','B']].iplot(kind='spread')"
   ]
  },
  {
   "cell_type": "markdown",
   "metadata": {},
   "source": [
    "## histogram"
   ]
  },
  {
   "cell_type": "code",
   "execution_count": 18,
   "metadata": {},
   "outputs": [
    {
     "data": {
      "application/vnd.plotly.v1+json": {
       "config": {
        "linkText": "Export to plot.ly",
        "plotlyServerURL": "https://plot.ly",
        "showLink": true
       },
       "data": [
        {
         "histfunc": "count",
         "histnorm": "",
         "marker": {
          "color": "rgba(255, 153, 51, 1.0)",
          "line": {
           "color": "#4D5663",
           "width": 1.3
          }
         },
         "name": "A",
         "nbinsx": 25,
         "opacity": 0.8,
         "orientation": "v",
         "type": "histogram",
         "x": [
          0.880959023786186,
          0.33345468870373934,
          -0.7409452183565108,
          -1.0977254619292793,
          1.426956946279641,
          -0.40451770845568713,
          0.7724937627319252,
          0.644782086556282,
          -1.4869968168898273,
          0.37640996305940577,
          0.19241489957125432,
          -1.111594409266069,
          -1.5716846453869657,
          -0.36244462977814346,
          0.9744328917524051,
          0.343809552356227,
          -0.3080270466791063,
          -0.1950077347039267,
          -0.18910257491181054,
          -0.6381781064691867,
          0.5260265822330088,
          0.17218121992761243,
          0.1317493478999784,
          -1.0133952881868464,
          -0.16642802340778293,
          -0.644563294742128,
          0.7660731182339767,
          0.47884529664076686,
          -0.521733455462245,
          0.2847131403623892,
          1.5396458082150322,
          -0.4241727051938035,
          0.8362651765647242,
          -0.9500544906883717,
          1.4845688288335317,
          1.1664130670490056,
          -0.0973424642717085,
          0.10116897363812288,
          1.4395527944343374,
          -0.935803180624831,
          1.191156335436539,
          0.7008093119694427,
          -0.9877741095005993,
          -0.4067540719547818,
          -1.370266828503218,
          -1.5353289076252745,
          0.5156460626883984,
          0.4587356572312894,
          0.09260485165730781,
          -1.6636675799745504,
          -0.7290334138658231,
          2.3527806369229394,
          -0.02979154016277506,
          0.024883854810285724,
          0.1899346163866445,
          0.5236554909988752,
          -0.4997433251662194,
          -1.3642904785357,
          -0.29608229446459455,
          -0.6610346788287468,
          0.33500653513485135,
          1.1434766678809734,
          0.6274696800615975,
          0.16552222232531544,
          -0.20205077372308394,
          0.912181391847108,
          -0.5858661976669097,
          -0.3396202037385737,
          0.893157460815925,
          -0.03964706555960653,
          -1.3103665565452216,
          0.5145396422513303,
          0.4166449293411519,
          1.3876021868735242,
          -0.3566481515000294,
          1.2902317814630657,
          0.8846490176365839,
          -1.5320252852273633,
          0.24356536270953288,
          1.3827634187849156,
          1.1819807080169038,
          -0.9660934499810131,
          -0.14796198765918317,
          -0.29251024584393925,
          -1.2027691265328306,
          1.920477778045479,
          -0.4130477360151552,
          0.5202955950169208,
          1.455326064624853,
          -2.0227300702714315,
          -1.6256166848992932,
          0.07554860674090483,
          1.7989334075269259,
          -1.4357117254331069,
          -1.1162061239030632,
          1.2645613747776647,
          -0.05085065547567881,
          1.3957163268407782,
          0.24453545539482402,
          0.4271283479483513
         ]
        }
       ],
       "layout": {
        "barmode": "overlay",
        "legend": {
         "bgcolor": "#F5F6F9",
         "font": {
          "color": "#4D5663"
         }
        },
        "paper_bgcolor": "#F5F6F9",
        "plot_bgcolor": "#F5F6F9",
        "template": {
         "data": {
          "bar": [
           {
            "error_x": {
             "color": "#2a3f5f"
            },
            "error_y": {
             "color": "#2a3f5f"
            },
            "marker": {
             "line": {
              "color": "#E5ECF6",
              "width": 0.5
             },
             "pattern": {
              "fillmode": "overlay",
              "size": 10,
              "solidity": 0.2
             }
            },
            "type": "bar"
           }
          ],
          "barpolar": [
           {
            "marker": {
             "line": {
              "color": "#E5ECF6",
              "width": 0.5
             },
             "pattern": {
              "fillmode": "overlay",
              "size": 10,
              "solidity": 0.2
             }
            },
            "type": "barpolar"
           }
          ],
          "carpet": [
           {
            "aaxis": {
             "endlinecolor": "#2a3f5f",
             "gridcolor": "white",
             "linecolor": "white",
             "minorgridcolor": "white",
             "startlinecolor": "#2a3f5f"
            },
            "baxis": {
             "endlinecolor": "#2a3f5f",
             "gridcolor": "white",
             "linecolor": "white",
             "minorgridcolor": "white",
             "startlinecolor": "#2a3f5f"
            },
            "type": "carpet"
           }
          ],
          "choropleth": [
           {
            "colorbar": {
             "outlinewidth": 0,
             "ticks": ""
            },
            "type": "choropleth"
           }
          ],
          "contour": [
           {
            "colorbar": {
             "outlinewidth": 0,
             "ticks": ""
            },
            "colorscale": [
             [
              0,
              "#0d0887"
             ],
             [
              0.1111111111111111,
              "#46039f"
             ],
             [
              0.2222222222222222,
              "#7201a8"
             ],
             [
              0.3333333333333333,
              "#9c179e"
             ],
             [
              0.4444444444444444,
              "#bd3786"
             ],
             [
              0.5555555555555556,
              "#d8576b"
             ],
             [
              0.6666666666666666,
              "#ed7953"
             ],
             [
              0.7777777777777778,
              "#fb9f3a"
             ],
             [
              0.8888888888888888,
              "#fdca26"
             ],
             [
              1,
              "#f0f921"
             ]
            ],
            "type": "contour"
           }
          ],
          "contourcarpet": [
           {
            "colorbar": {
             "outlinewidth": 0,
             "ticks": ""
            },
            "type": "contourcarpet"
           }
          ],
          "heatmap": [
           {
            "colorbar": {
             "outlinewidth": 0,
             "ticks": ""
            },
            "colorscale": [
             [
              0,
              "#0d0887"
             ],
             [
              0.1111111111111111,
              "#46039f"
             ],
             [
              0.2222222222222222,
              "#7201a8"
             ],
             [
              0.3333333333333333,
              "#9c179e"
             ],
             [
              0.4444444444444444,
              "#bd3786"
             ],
             [
              0.5555555555555556,
              "#d8576b"
             ],
             [
              0.6666666666666666,
              "#ed7953"
             ],
             [
              0.7777777777777778,
              "#fb9f3a"
             ],
             [
              0.8888888888888888,
              "#fdca26"
             ],
             [
              1,
              "#f0f921"
             ]
            ],
            "type": "heatmap"
           }
          ],
          "heatmapgl": [
           {
            "colorbar": {
             "outlinewidth": 0,
             "ticks": ""
            },
            "colorscale": [
             [
              0,
              "#0d0887"
             ],
             [
              0.1111111111111111,
              "#46039f"
             ],
             [
              0.2222222222222222,
              "#7201a8"
             ],
             [
              0.3333333333333333,
              "#9c179e"
             ],
             [
              0.4444444444444444,
              "#bd3786"
             ],
             [
              0.5555555555555556,
              "#d8576b"
             ],
             [
              0.6666666666666666,
              "#ed7953"
             ],
             [
              0.7777777777777778,
              "#fb9f3a"
             ],
             [
              0.8888888888888888,
              "#fdca26"
             ],
             [
              1,
              "#f0f921"
             ]
            ],
            "type": "heatmapgl"
           }
          ],
          "histogram": [
           {
            "marker": {
             "pattern": {
              "fillmode": "overlay",
              "size": 10,
              "solidity": 0.2
             }
            },
            "type": "histogram"
           }
          ],
          "histogram2d": [
           {
            "colorbar": {
             "outlinewidth": 0,
             "ticks": ""
            },
            "colorscale": [
             [
              0,
              "#0d0887"
             ],
             [
              0.1111111111111111,
              "#46039f"
             ],
             [
              0.2222222222222222,
              "#7201a8"
             ],
             [
              0.3333333333333333,
              "#9c179e"
             ],
             [
              0.4444444444444444,
              "#bd3786"
             ],
             [
              0.5555555555555556,
              "#d8576b"
             ],
             [
              0.6666666666666666,
              "#ed7953"
             ],
             [
              0.7777777777777778,
              "#fb9f3a"
             ],
             [
              0.8888888888888888,
              "#fdca26"
             ],
             [
              1,
              "#f0f921"
             ]
            ],
            "type": "histogram2d"
           }
          ],
          "histogram2dcontour": [
           {
            "colorbar": {
             "outlinewidth": 0,
             "ticks": ""
            },
            "colorscale": [
             [
              0,
              "#0d0887"
             ],
             [
              0.1111111111111111,
              "#46039f"
             ],
             [
              0.2222222222222222,
              "#7201a8"
             ],
             [
              0.3333333333333333,
              "#9c179e"
             ],
             [
              0.4444444444444444,
              "#bd3786"
             ],
             [
              0.5555555555555556,
              "#d8576b"
             ],
             [
              0.6666666666666666,
              "#ed7953"
             ],
             [
              0.7777777777777778,
              "#fb9f3a"
             ],
             [
              0.8888888888888888,
              "#fdca26"
             ],
             [
              1,
              "#f0f921"
             ]
            ],
            "type": "histogram2dcontour"
           }
          ],
          "mesh3d": [
           {
            "colorbar": {
             "outlinewidth": 0,
             "ticks": ""
            },
            "type": "mesh3d"
           }
          ],
          "parcoords": [
           {
            "line": {
             "colorbar": {
              "outlinewidth": 0,
              "ticks": ""
             }
            },
            "type": "parcoords"
           }
          ],
          "pie": [
           {
            "automargin": true,
            "type": "pie"
           }
          ],
          "scatter": [
           {
            "fillpattern": {
             "fillmode": "overlay",
             "size": 10,
             "solidity": 0.2
            },
            "type": "scatter"
           }
          ],
          "scatter3d": [
           {
            "line": {
             "colorbar": {
              "outlinewidth": 0,
              "ticks": ""
             }
            },
            "marker": {
             "colorbar": {
              "outlinewidth": 0,
              "ticks": ""
             }
            },
            "type": "scatter3d"
           }
          ],
          "scattercarpet": [
           {
            "marker": {
             "colorbar": {
              "outlinewidth": 0,
              "ticks": ""
             }
            },
            "type": "scattercarpet"
           }
          ],
          "scattergeo": [
           {
            "marker": {
             "colorbar": {
              "outlinewidth": 0,
              "ticks": ""
             }
            },
            "type": "scattergeo"
           }
          ],
          "scattergl": [
           {
            "marker": {
             "colorbar": {
              "outlinewidth": 0,
              "ticks": ""
             }
            },
            "type": "scattergl"
           }
          ],
          "scattermapbox": [
           {
            "marker": {
             "colorbar": {
              "outlinewidth": 0,
              "ticks": ""
             }
            },
            "type": "scattermapbox"
           }
          ],
          "scatterpolar": [
           {
            "marker": {
             "colorbar": {
              "outlinewidth": 0,
              "ticks": ""
             }
            },
            "type": "scatterpolar"
           }
          ],
          "scatterpolargl": [
           {
            "marker": {
             "colorbar": {
              "outlinewidth": 0,
              "ticks": ""
             }
            },
            "type": "scatterpolargl"
           }
          ],
          "scatterternary": [
           {
            "marker": {
             "colorbar": {
              "outlinewidth": 0,
              "ticks": ""
             }
            },
            "type": "scatterternary"
           }
          ],
          "surface": [
           {
            "colorbar": {
             "outlinewidth": 0,
             "ticks": ""
            },
            "colorscale": [
             [
              0,
              "#0d0887"
             ],
             [
              0.1111111111111111,
              "#46039f"
             ],
             [
              0.2222222222222222,
              "#7201a8"
             ],
             [
              0.3333333333333333,
              "#9c179e"
             ],
             [
              0.4444444444444444,
              "#bd3786"
             ],
             [
              0.5555555555555556,
              "#d8576b"
             ],
             [
              0.6666666666666666,
              "#ed7953"
             ],
             [
              0.7777777777777778,
              "#fb9f3a"
             ],
             [
              0.8888888888888888,
              "#fdca26"
             ],
             [
              1,
              "#f0f921"
             ]
            ],
            "type": "surface"
           }
          ],
          "table": [
           {
            "cells": {
             "fill": {
              "color": "#EBF0F8"
             },
             "line": {
              "color": "white"
             }
            },
            "header": {
             "fill": {
              "color": "#C8D4E3"
             },
             "line": {
              "color": "white"
             }
            },
            "type": "table"
           }
          ]
         },
         "layout": {
          "annotationdefaults": {
           "arrowcolor": "#2a3f5f",
           "arrowhead": 0,
           "arrowwidth": 1
          },
          "autotypenumbers": "strict",
          "coloraxis": {
           "colorbar": {
            "outlinewidth": 0,
            "ticks": ""
           }
          },
          "colorscale": {
           "diverging": [
            [
             0,
             "#8e0152"
            ],
            [
             0.1,
             "#c51b7d"
            ],
            [
             0.2,
             "#de77ae"
            ],
            [
             0.3,
             "#f1b6da"
            ],
            [
             0.4,
             "#fde0ef"
            ],
            [
             0.5,
             "#f7f7f7"
            ],
            [
             0.6,
             "#e6f5d0"
            ],
            [
             0.7,
             "#b8e186"
            ],
            [
             0.8,
             "#7fbc41"
            ],
            [
             0.9,
             "#4d9221"
            ],
            [
             1,
             "#276419"
            ]
           ],
           "sequential": [
            [
             0,
             "#0d0887"
            ],
            [
             0.1111111111111111,
             "#46039f"
            ],
            [
             0.2222222222222222,
             "#7201a8"
            ],
            [
             0.3333333333333333,
             "#9c179e"
            ],
            [
             0.4444444444444444,
             "#bd3786"
            ],
            [
             0.5555555555555556,
             "#d8576b"
            ],
            [
             0.6666666666666666,
             "#ed7953"
            ],
            [
             0.7777777777777778,
             "#fb9f3a"
            ],
            [
             0.8888888888888888,
             "#fdca26"
            ],
            [
             1,
             "#f0f921"
            ]
           ],
           "sequentialminus": [
            [
             0,
             "#0d0887"
            ],
            [
             0.1111111111111111,
             "#46039f"
            ],
            [
             0.2222222222222222,
             "#7201a8"
            ],
            [
             0.3333333333333333,
             "#9c179e"
            ],
            [
             0.4444444444444444,
             "#bd3786"
            ],
            [
             0.5555555555555556,
             "#d8576b"
            ],
            [
             0.6666666666666666,
             "#ed7953"
            ],
            [
             0.7777777777777778,
             "#fb9f3a"
            ],
            [
             0.8888888888888888,
             "#fdca26"
            ],
            [
             1,
             "#f0f921"
            ]
           ]
          },
          "colorway": [
           "#636efa",
           "#EF553B",
           "#00cc96",
           "#ab63fa",
           "#FFA15A",
           "#19d3f3",
           "#FF6692",
           "#B6E880",
           "#FF97FF",
           "#FECB52"
          ],
          "font": {
           "color": "#2a3f5f"
          },
          "geo": {
           "bgcolor": "white",
           "lakecolor": "white",
           "landcolor": "#E5ECF6",
           "showlakes": true,
           "showland": true,
           "subunitcolor": "white"
          },
          "hoverlabel": {
           "align": "left"
          },
          "hovermode": "closest",
          "mapbox": {
           "style": "light"
          },
          "paper_bgcolor": "white",
          "plot_bgcolor": "#E5ECF6",
          "polar": {
           "angularaxis": {
            "gridcolor": "white",
            "linecolor": "white",
            "ticks": ""
           },
           "bgcolor": "#E5ECF6",
           "radialaxis": {
            "gridcolor": "white",
            "linecolor": "white",
            "ticks": ""
           }
          },
          "scene": {
           "xaxis": {
            "backgroundcolor": "#E5ECF6",
            "gridcolor": "white",
            "gridwidth": 2,
            "linecolor": "white",
            "showbackground": true,
            "ticks": "",
            "zerolinecolor": "white"
           },
           "yaxis": {
            "backgroundcolor": "#E5ECF6",
            "gridcolor": "white",
            "gridwidth": 2,
            "linecolor": "white",
            "showbackground": true,
            "ticks": "",
            "zerolinecolor": "white"
           },
           "zaxis": {
            "backgroundcolor": "#E5ECF6",
            "gridcolor": "white",
            "gridwidth": 2,
            "linecolor": "white",
            "showbackground": true,
            "ticks": "",
            "zerolinecolor": "white"
           }
          },
          "shapedefaults": {
           "line": {
            "color": "#2a3f5f"
           }
          },
          "ternary": {
           "aaxis": {
            "gridcolor": "white",
            "linecolor": "white",
            "ticks": ""
           },
           "baxis": {
            "gridcolor": "white",
            "linecolor": "white",
            "ticks": ""
           },
           "bgcolor": "#E5ECF6",
           "caxis": {
            "gridcolor": "white",
            "linecolor": "white",
            "ticks": ""
           }
          },
          "title": {
           "x": 0.05
          },
          "xaxis": {
           "automargin": true,
           "gridcolor": "white",
           "linecolor": "white",
           "ticks": "",
           "title": {
            "standoff": 15
           },
           "zerolinecolor": "white",
           "zerolinewidth": 2
          },
          "yaxis": {
           "automargin": true,
           "gridcolor": "white",
           "linecolor": "white",
           "ticks": "",
           "title": {
            "standoff": 15
           },
           "zerolinecolor": "white",
           "zerolinewidth": 2
          }
         }
        },
        "title": {
         "font": {
          "color": "#4D5663"
         }
        },
        "xaxis": {
         "gridcolor": "#E1E5ED",
         "showgrid": true,
         "tickfont": {
          "color": "#4D5663"
         },
         "title": {
          "font": {
           "color": "#4D5663"
          },
          "text": ""
         },
         "zerolinecolor": "#E1E5ED"
        },
        "yaxis": {
         "gridcolor": "#E1E5ED",
         "showgrid": true,
         "tickfont": {
          "color": "#4D5663"
         },
         "title": {
          "font": {
           "color": "#4D5663"
          },
          "text": ""
         },
         "zerolinecolor": "#E1E5ED"
        }
       }
      },
      "text/html": [
       "<div>                            <div id=\"6fd1bd51-6fc6-4dd3-82f1-349320590fef\" class=\"plotly-graph-div\" style=\"height:525px; width:100%;\"></div>            <script type=\"text/javascript\">                require([\"plotly\"], function(Plotly) {                    window.PLOTLYENV=window.PLOTLYENV || {};\n",
       "                    window.PLOTLYENV.BASE_URL='https://plot.ly';                                    if (document.getElementById(\"6fd1bd51-6fc6-4dd3-82f1-349320590fef\")) {                    Plotly.newPlot(                        \"6fd1bd51-6fc6-4dd3-82f1-349320590fef\",                        [{\"histfunc\":\"count\",\"histnorm\":\"\",\"marker\":{\"color\":\"rgba(255, 153, 51, 1.0)\",\"line\":{\"color\":\"#4D5663\",\"width\":1.3}},\"name\":\"A\",\"nbinsx\":25,\"opacity\":0.8,\"orientation\":\"v\",\"x\":[0.880959023786186,0.33345468870373934,-0.7409452183565108,-1.0977254619292793,1.426956946279641,-0.40451770845568713,0.7724937627319252,0.644782086556282,-1.4869968168898273,0.37640996305940577,0.19241489957125432,-1.111594409266069,-1.5716846453869657,-0.36244462977814346,0.9744328917524051,0.343809552356227,-0.3080270466791063,-0.1950077347039267,-0.18910257491181054,-0.6381781064691867,0.5260265822330088,0.17218121992761243,0.1317493478999784,-1.0133952881868464,-0.16642802340778293,-0.644563294742128,0.7660731182339767,0.47884529664076686,-0.521733455462245,0.2847131403623892,1.5396458082150322,-0.4241727051938035,0.8362651765647242,-0.9500544906883717,1.4845688288335317,1.1664130670490056,-0.0973424642717085,0.10116897363812288,1.4395527944343374,-0.935803180624831,1.191156335436539,0.7008093119694427,-0.9877741095005993,-0.4067540719547818,-1.370266828503218,-1.5353289076252745,0.5156460626883984,0.4587356572312894,0.09260485165730781,-1.6636675799745504,-0.7290334138658231,2.3527806369229394,-0.02979154016277506,0.024883854810285724,0.1899346163866445,0.5236554909988752,-0.4997433251662194,-1.3642904785357,-0.29608229446459455,-0.6610346788287468,0.33500653513485135,1.1434766678809734,0.6274696800615975,0.16552222232531544,-0.20205077372308394,0.912181391847108,-0.5858661976669097,-0.3396202037385737,0.893157460815925,-0.03964706555960653,-1.3103665565452216,0.5145396422513303,0.4166449293411519,1.3876021868735242,-0.3566481515000294,1.2902317814630657,0.8846490176365839,-1.5320252852273633,0.24356536270953288,1.3827634187849156,1.1819807080169038,-0.9660934499810131,-0.14796198765918317,-0.29251024584393925,-1.2027691265328306,1.920477778045479,-0.4130477360151552,0.5202955950169208,1.455326064624853,-2.0227300702714315,-1.6256166848992932,0.07554860674090483,1.7989334075269259,-1.4357117254331069,-1.1162061239030632,1.2645613747776647,-0.05085065547567881,1.3957163268407782,0.24453545539482402,0.4271283479483513],\"type\":\"histogram\"}],                        {\"barmode\":\"overlay\",\"legend\":{\"bgcolor\":\"#F5F6F9\",\"font\":{\"color\":\"#4D5663\"}},\"paper_bgcolor\":\"#F5F6F9\",\"plot_bgcolor\":\"#F5F6F9\",\"template\":{\"data\":{\"barpolar\":[{\"marker\":{\"line\":{\"color\":\"#E5ECF6\",\"width\":0.5},\"pattern\":{\"fillmode\":\"overlay\",\"size\":10,\"solidity\":0.2}},\"type\":\"barpolar\"}],\"bar\":[{\"error_x\":{\"color\":\"#2a3f5f\"},\"error_y\":{\"color\":\"#2a3f5f\"},\"marker\":{\"line\":{\"color\":\"#E5ECF6\",\"width\":0.5},\"pattern\":{\"fillmode\":\"overlay\",\"size\":10,\"solidity\":0.2}},\"type\":\"bar\"}],\"carpet\":[{\"aaxis\":{\"endlinecolor\":\"#2a3f5f\",\"gridcolor\":\"white\",\"linecolor\":\"white\",\"minorgridcolor\":\"white\",\"startlinecolor\":\"#2a3f5f\"},\"baxis\":{\"endlinecolor\":\"#2a3f5f\",\"gridcolor\":\"white\",\"linecolor\":\"white\",\"minorgridcolor\":\"white\",\"startlinecolor\":\"#2a3f5f\"},\"type\":\"carpet\"}],\"choropleth\":[{\"colorbar\":{\"outlinewidth\":0,\"ticks\":\"\"},\"type\":\"choropleth\"}],\"contourcarpet\":[{\"colorbar\":{\"outlinewidth\":0,\"ticks\":\"\"},\"type\":\"contourcarpet\"}],\"contour\":[{\"colorbar\":{\"outlinewidth\":0,\"ticks\":\"\"},\"colorscale\":[[0.0,\"#0d0887\"],[0.1111111111111111,\"#46039f\"],[0.2222222222222222,\"#7201a8\"],[0.3333333333333333,\"#9c179e\"],[0.4444444444444444,\"#bd3786\"],[0.5555555555555556,\"#d8576b\"],[0.6666666666666666,\"#ed7953\"],[0.7777777777777778,\"#fb9f3a\"],[0.8888888888888888,\"#fdca26\"],[1.0,\"#f0f921\"]],\"type\":\"contour\"}],\"heatmapgl\":[{\"colorbar\":{\"outlinewidth\":0,\"ticks\":\"\"},\"colorscale\":[[0.0,\"#0d0887\"],[0.1111111111111111,\"#46039f\"],[0.2222222222222222,\"#7201a8\"],[0.3333333333333333,\"#9c179e\"],[0.4444444444444444,\"#bd3786\"],[0.5555555555555556,\"#d8576b\"],[0.6666666666666666,\"#ed7953\"],[0.7777777777777778,\"#fb9f3a\"],[0.8888888888888888,\"#fdca26\"],[1.0,\"#f0f921\"]],\"type\":\"heatmapgl\"}],\"heatmap\":[{\"colorbar\":{\"outlinewidth\":0,\"ticks\":\"\"},\"colorscale\":[[0.0,\"#0d0887\"],[0.1111111111111111,\"#46039f\"],[0.2222222222222222,\"#7201a8\"],[0.3333333333333333,\"#9c179e\"],[0.4444444444444444,\"#bd3786\"],[0.5555555555555556,\"#d8576b\"],[0.6666666666666666,\"#ed7953\"],[0.7777777777777778,\"#fb9f3a\"],[0.8888888888888888,\"#fdca26\"],[1.0,\"#f0f921\"]],\"type\":\"heatmap\"}],\"histogram2dcontour\":[{\"colorbar\":{\"outlinewidth\":0,\"ticks\":\"\"},\"colorscale\":[[0.0,\"#0d0887\"],[0.1111111111111111,\"#46039f\"],[0.2222222222222222,\"#7201a8\"],[0.3333333333333333,\"#9c179e\"],[0.4444444444444444,\"#bd3786\"],[0.5555555555555556,\"#d8576b\"],[0.6666666666666666,\"#ed7953\"],[0.7777777777777778,\"#fb9f3a\"],[0.8888888888888888,\"#fdca26\"],[1.0,\"#f0f921\"]],\"type\":\"histogram2dcontour\"}],\"histogram2d\":[{\"colorbar\":{\"outlinewidth\":0,\"ticks\":\"\"},\"colorscale\":[[0.0,\"#0d0887\"],[0.1111111111111111,\"#46039f\"],[0.2222222222222222,\"#7201a8\"],[0.3333333333333333,\"#9c179e\"],[0.4444444444444444,\"#bd3786\"],[0.5555555555555556,\"#d8576b\"],[0.6666666666666666,\"#ed7953\"],[0.7777777777777778,\"#fb9f3a\"],[0.8888888888888888,\"#fdca26\"],[1.0,\"#f0f921\"]],\"type\":\"histogram2d\"}],\"histogram\":[{\"marker\":{\"pattern\":{\"fillmode\":\"overlay\",\"size\":10,\"solidity\":0.2}},\"type\":\"histogram\"}],\"mesh3d\":[{\"colorbar\":{\"outlinewidth\":0,\"ticks\":\"\"},\"type\":\"mesh3d\"}],\"parcoords\":[{\"line\":{\"colorbar\":{\"outlinewidth\":0,\"ticks\":\"\"}},\"type\":\"parcoords\"}],\"pie\":[{\"automargin\":true,\"type\":\"pie\"}],\"scatter3d\":[{\"line\":{\"colorbar\":{\"outlinewidth\":0,\"ticks\":\"\"}},\"marker\":{\"colorbar\":{\"outlinewidth\":0,\"ticks\":\"\"}},\"type\":\"scatter3d\"}],\"scattercarpet\":[{\"marker\":{\"colorbar\":{\"outlinewidth\":0,\"ticks\":\"\"}},\"type\":\"scattercarpet\"}],\"scattergeo\":[{\"marker\":{\"colorbar\":{\"outlinewidth\":0,\"ticks\":\"\"}},\"type\":\"scattergeo\"}],\"scattergl\":[{\"marker\":{\"colorbar\":{\"outlinewidth\":0,\"ticks\":\"\"}},\"type\":\"scattergl\"}],\"scattermapbox\":[{\"marker\":{\"colorbar\":{\"outlinewidth\":0,\"ticks\":\"\"}},\"type\":\"scattermapbox\"}],\"scatterpolargl\":[{\"marker\":{\"colorbar\":{\"outlinewidth\":0,\"ticks\":\"\"}},\"type\":\"scatterpolargl\"}],\"scatterpolar\":[{\"marker\":{\"colorbar\":{\"outlinewidth\":0,\"ticks\":\"\"}},\"type\":\"scatterpolar\"}],\"scatter\":[{\"fillpattern\":{\"fillmode\":\"overlay\",\"size\":10,\"solidity\":0.2},\"type\":\"scatter\"}],\"scatterternary\":[{\"marker\":{\"colorbar\":{\"outlinewidth\":0,\"ticks\":\"\"}},\"type\":\"scatterternary\"}],\"surface\":[{\"colorbar\":{\"outlinewidth\":0,\"ticks\":\"\"},\"colorscale\":[[0.0,\"#0d0887\"],[0.1111111111111111,\"#46039f\"],[0.2222222222222222,\"#7201a8\"],[0.3333333333333333,\"#9c179e\"],[0.4444444444444444,\"#bd3786\"],[0.5555555555555556,\"#d8576b\"],[0.6666666666666666,\"#ed7953\"],[0.7777777777777778,\"#fb9f3a\"],[0.8888888888888888,\"#fdca26\"],[1.0,\"#f0f921\"]],\"type\":\"surface\"}],\"table\":[{\"cells\":{\"fill\":{\"color\":\"#EBF0F8\"},\"line\":{\"color\":\"white\"}},\"header\":{\"fill\":{\"color\":\"#C8D4E3\"},\"line\":{\"color\":\"white\"}},\"type\":\"table\"}]},\"layout\":{\"annotationdefaults\":{\"arrowcolor\":\"#2a3f5f\",\"arrowhead\":0,\"arrowwidth\":1},\"autotypenumbers\":\"strict\",\"coloraxis\":{\"colorbar\":{\"outlinewidth\":0,\"ticks\":\"\"}},\"colorscale\":{\"diverging\":[[0,\"#8e0152\"],[0.1,\"#c51b7d\"],[0.2,\"#de77ae\"],[0.3,\"#f1b6da\"],[0.4,\"#fde0ef\"],[0.5,\"#f7f7f7\"],[0.6,\"#e6f5d0\"],[0.7,\"#b8e186\"],[0.8,\"#7fbc41\"],[0.9,\"#4d9221\"],[1,\"#276419\"]],\"sequential\":[[0.0,\"#0d0887\"],[0.1111111111111111,\"#46039f\"],[0.2222222222222222,\"#7201a8\"],[0.3333333333333333,\"#9c179e\"],[0.4444444444444444,\"#bd3786\"],[0.5555555555555556,\"#d8576b\"],[0.6666666666666666,\"#ed7953\"],[0.7777777777777778,\"#fb9f3a\"],[0.8888888888888888,\"#fdca26\"],[1.0,\"#f0f921\"]],\"sequentialminus\":[[0.0,\"#0d0887\"],[0.1111111111111111,\"#46039f\"],[0.2222222222222222,\"#7201a8\"],[0.3333333333333333,\"#9c179e\"],[0.4444444444444444,\"#bd3786\"],[0.5555555555555556,\"#d8576b\"],[0.6666666666666666,\"#ed7953\"],[0.7777777777777778,\"#fb9f3a\"],[0.8888888888888888,\"#fdca26\"],[1.0,\"#f0f921\"]]},\"colorway\":[\"#636efa\",\"#EF553B\",\"#00cc96\",\"#ab63fa\",\"#FFA15A\",\"#19d3f3\",\"#FF6692\",\"#B6E880\",\"#FF97FF\",\"#FECB52\"],\"font\":{\"color\":\"#2a3f5f\"},\"geo\":{\"bgcolor\":\"white\",\"lakecolor\":\"white\",\"landcolor\":\"#E5ECF6\",\"showlakes\":true,\"showland\":true,\"subunitcolor\":\"white\"},\"hoverlabel\":{\"align\":\"left\"},\"hovermode\":\"closest\",\"mapbox\":{\"style\":\"light\"},\"paper_bgcolor\":\"white\",\"plot_bgcolor\":\"#E5ECF6\",\"polar\":{\"angularaxis\":{\"gridcolor\":\"white\",\"linecolor\":\"white\",\"ticks\":\"\"},\"bgcolor\":\"#E5ECF6\",\"radialaxis\":{\"gridcolor\":\"white\",\"linecolor\":\"white\",\"ticks\":\"\"}},\"scene\":{\"xaxis\":{\"backgroundcolor\":\"#E5ECF6\",\"gridcolor\":\"white\",\"gridwidth\":2,\"linecolor\":\"white\",\"showbackground\":true,\"ticks\":\"\",\"zerolinecolor\":\"white\"},\"yaxis\":{\"backgroundcolor\":\"#E5ECF6\",\"gridcolor\":\"white\",\"gridwidth\":2,\"linecolor\":\"white\",\"showbackground\":true,\"ticks\":\"\",\"zerolinecolor\":\"white\"},\"zaxis\":{\"backgroundcolor\":\"#E5ECF6\",\"gridcolor\":\"white\",\"gridwidth\":2,\"linecolor\":\"white\",\"showbackground\":true,\"ticks\":\"\",\"zerolinecolor\":\"white\"}},\"shapedefaults\":{\"line\":{\"color\":\"#2a3f5f\"}},\"ternary\":{\"aaxis\":{\"gridcolor\":\"white\",\"linecolor\":\"white\",\"ticks\":\"\"},\"baxis\":{\"gridcolor\":\"white\",\"linecolor\":\"white\",\"ticks\":\"\"},\"bgcolor\":\"#E5ECF6\",\"caxis\":{\"gridcolor\":\"white\",\"linecolor\":\"white\",\"ticks\":\"\"}},\"title\":{\"x\":0.05},\"xaxis\":{\"automargin\":true,\"gridcolor\":\"white\",\"linecolor\":\"white\",\"ticks\":\"\",\"title\":{\"standoff\":15},\"zerolinecolor\":\"white\",\"zerolinewidth\":2},\"yaxis\":{\"automargin\":true,\"gridcolor\":\"white\",\"linecolor\":\"white\",\"ticks\":\"\",\"title\":{\"standoff\":15},\"zerolinecolor\":\"white\",\"zerolinewidth\":2}}},\"title\":{\"font\":{\"color\":\"#4D5663\"}},\"xaxis\":{\"gridcolor\":\"#E1E5ED\",\"showgrid\":true,\"tickfont\":{\"color\":\"#4D5663\"},\"title\":{\"font\":{\"color\":\"#4D5663\"},\"text\":\"\"},\"zerolinecolor\":\"#E1E5ED\"},\"yaxis\":{\"gridcolor\":\"#E1E5ED\",\"showgrid\":true,\"tickfont\":{\"color\":\"#4D5663\"},\"title\":{\"font\":{\"color\":\"#4D5663\"},\"text\":\"\"},\"zerolinecolor\":\"#E1E5ED\"}},                        {\"showLink\": true, \"linkText\": \"Export to plot.ly\", \"plotlyServerURL\": \"https://plot.ly\", \"responsive\": true}                    ).then(function(){\n",
       "                            \n",
       "var gd = document.getElementById('6fd1bd51-6fc6-4dd3-82f1-349320590fef');\n",
       "var x = new MutationObserver(function (mutations, observer) {{\n",
       "        var display = window.getComputedStyle(gd).display;\n",
       "        if (!display || display === 'none') {{\n",
       "            console.log([gd, 'removed!']);\n",
       "            Plotly.purge(gd);\n",
       "            observer.disconnect();\n",
       "        }}\n",
       "}});\n",
       "\n",
       "// Listen for the removal of the full notebook cells\n",
       "var notebookContainer = gd.closest('#notebook-container');\n",
       "if (notebookContainer) {{\n",
       "    x.observe(notebookContainer, {childList: true});\n",
       "}}\n",
       "\n",
       "// Listen for the clearing of the current output cell\n",
       "var outputEl = gd.closest('.output');\n",
       "if (outputEl) {{\n",
       "    x.observe(outputEl, {childList: true});\n",
       "}}\n",
       "\n",
       "                        })                };                });            </script>        </div>"
      ]
     },
     "metadata": {},
     "output_type": "display_data"
    }
   ],
   "source": [
    "df['A'].iplot(kind='hist',bins=25)"
   ]
  },
  {
   "cell_type": "code",
   "execution_count": 19,
   "metadata": {},
   "outputs": [
    {
     "data": {
      "application/vnd.plotly.v1+json": {
       "config": {
        "linkText": "Export to plot.ly",
        "plotlyServerURL": "https://plot.ly",
        "showLink": true
       },
       "data": [
        {
         "marker": {
          "color": [
           "rgb(255, 153, 51)",
           "rgb(55, 128, 191)",
           "rgb(50, 171, 96)",
           "rgb(128, 0, 128)",
           "rgb(219, 64, 82)",
           "rgb(0, 128, 128)",
           "rgb(255, 255, 51)",
           "rgb(128, 128, 0)",
           "rgb(251, 128, 114)",
           "rgb(128, 177, 211)"
          ],
          "line": {
           "width": 1.3
          },
          "size": [
           45,
           64,
           65,
           52,
           33,
           58,
           54,
           61,
           16,
           37,
           65,
           69,
           46,
           53,
           60,
           75,
           60,
           42,
           57,
           63,
           75,
           18,
           86,
           30,
           43,
           88,
           49,
           50,
           46,
           45,
           75,
           49,
           69,
           70,
           28,
           86,
           63,
           55,
           55,
           61,
           69,
           67,
           50,
           37,
           12,
           51,
           73,
           51,
           75,
           85,
           54,
           41,
           61,
           76,
           61,
           37,
           60,
           63,
           41,
           35,
           45,
           42,
           84,
           40,
           76,
           84,
           43,
           55,
           19,
           65,
           60,
           91,
           83,
           60,
           52,
           47,
           65,
           62,
           66,
           64,
           112,
           67,
           80,
           86,
           40,
           72,
           58,
           93,
           72,
           36,
           57,
           55,
           85,
           59,
           71,
           19,
           64,
           72,
           41,
           63
          ],
          "symbol": "circle"
         },
         "mode": "markers",
         "text": "",
         "type": "scatter",
         "x": [
          0.880959023786186,
          0.33345468870373934,
          -0.7409452183565108,
          -1.0977254619292793,
          1.426956946279641,
          -0.40451770845568713,
          0.7724937627319252,
          0.644782086556282,
          -1.4869968168898273,
          0.37640996305940577,
          0.19241489957125432,
          -1.111594409266069,
          -1.5716846453869657,
          -0.36244462977814346,
          0.9744328917524051,
          0.343809552356227,
          -0.3080270466791063,
          -0.1950077347039267,
          -0.18910257491181054,
          -0.6381781064691867,
          0.5260265822330088,
          0.17218121992761243,
          0.1317493478999784,
          -1.0133952881868464,
          -0.16642802340778293,
          -0.644563294742128,
          0.7660731182339767,
          0.47884529664076686,
          -0.521733455462245,
          0.2847131403623892,
          1.5396458082150322,
          -0.4241727051938035,
          0.8362651765647242,
          -0.9500544906883717,
          1.4845688288335317,
          1.1664130670490056,
          -0.0973424642717085,
          0.10116897363812288,
          1.4395527944343374,
          -0.935803180624831,
          1.191156335436539,
          0.7008093119694427,
          -0.9877741095005993,
          -0.4067540719547818,
          -1.370266828503218,
          -1.5353289076252745,
          0.5156460626883984,
          0.4587356572312894,
          0.09260485165730781,
          -1.6636675799745504,
          -0.7290334138658231,
          2.3527806369229394,
          -0.02979154016277506,
          0.024883854810285724,
          0.1899346163866445,
          0.5236554909988752,
          -0.4997433251662194,
          -1.3642904785357,
          -0.29608229446459455,
          -0.6610346788287468,
          0.33500653513485135,
          1.1434766678809734,
          0.6274696800615975,
          0.16552222232531544,
          -0.20205077372308394,
          0.912181391847108,
          -0.5858661976669097,
          -0.3396202037385737,
          0.893157460815925,
          -0.03964706555960653,
          -1.3103665565452216,
          0.5145396422513303,
          0.4166449293411519,
          1.3876021868735242,
          -0.3566481515000294,
          1.2902317814630657,
          0.8846490176365839,
          -1.5320252852273633,
          0.24356536270953288,
          1.3827634187849156,
          1.1819807080169038,
          -0.9660934499810131,
          -0.14796198765918317,
          -0.29251024584393925,
          -1.2027691265328306,
          1.920477778045479,
          -0.4130477360151552,
          0.5202955950169208,
          1.455326064624853,
          -2.0227300702714315,
          -1.6256166848992932,
          0.07554860674090483,
          1.7989334075269259,
          -1.4357117254331069,
          -1.1162061239030632,
          1.2645613747776647,
          -0.05085065547567881,
          1.3957163268407782,
          0.24453545539482402,
          0.4271283479483513
         ],
         "y": [
          -1.5991275929197728,
          -0.8139801222032823,
          0.8884921961412762,
          0.015894687243417947,
          -0.6325211178813915,
          -1.9991061820032472,
          -0.555553251851912,
          -0.35026738841258764,
          0.46336296385168246,
          -0.33200786419981354,
          -0.014622520917696516,
          -1.2701991072571905,
          2.0392368945542794,
          -0.2820636697677745,
          1.1342694570432095,
          1.561697756976798,
          1.0717177775448286,
          1.1522195478371517,
          0.7570476750581898,
          -0.09291807113560716,
          -1.6674145944274692,
          -0.6686748289046941,
          -0.979060347779246,
          0.8576553382435183,
          0.9156021630201164,
          1.0388677923626626,
          2.336127802368596,
          0.40685339783055247,
          0.5189884359989433,
          0.07478796476990413,
          -0.6238735508899921,
          0.6256175510166899,
          0.5922977782752936,
          -1.1265454524507295,
          1.4698329632388514,
          0.42799339053984825,
          0.8457940003940891,
          -0.1262185339529523,
          -0.25234556078581993,
          -1.1260192157045796,
          0.3835707132779261,
          -0.8314028714113617,
          0.8777179911373496,
          1.4463623493451832,
          3.1034799952860674,
          1.013634913867253,
          1.779853980511546,
          0.10860250518723495,
          0.22796974651343066,
          -1.0458153022900263,
          -1.131689781985826,
          2.7004697893450524,
          1.0334664852867421,
          -0.9288778444152588,
          0.4769366435803124,
          3.0211093187401215,
          1.0593724527376387,
          -0.6087819099103041,
          -0.2575805456381415,
          0.5066594778797082,
          1.4002989836878734,
          1.4411063346739925,
          0.04840543213115739,
          1.896847405157337,
          0.6338012305107075,
          -1.3562240913416577,
          0.4019154283115991,
          0.5629306992560655,
          -0.5792695927028133,
          1.1149305580150437,
          2.1164451210238098,
          -0.6520525930293237,
          -0.6584177578263147,
          0.9868904525143627,
          -0.41216520249140554,
          -0.27287903130401997,
          1.115666369860281,
          -0.39772904944217946,
          -0.4598852585159614,
          -1.7834138468017278,
          -0.2923694109708229,
          -1.8736668007494182,
          -0.36712341162900086,
          -1.0182841444821644,
          -0.3975773402120633,
          0.5562011702221297,
          0.3728989910009789,
          -1.1391381258104147,
          1.8661318239083446,
          1.1281553985958181,
          2.043942601739804,
          0.3751146032127571,
          0.06444449486988196,
          1.4759000232939212,
          -0.8826082038740967,
          -1.8309620572532959,
          -1.9116865067345703,
          1.3435903624112713,
          -0.3510226043980688,
          -1.336307829278521
         ]
        }
       ],
       "layout": {
        "legend": {
         "bgcolor": "#F5F6F9",
         "font": {
          "color": "#4D5663"
         }
        },
        "paper_bgcolor": "#F5F6F9",
        "plot_bgcolor": "#F5F6F9",
        "template": {
         "data": {
          "bar": [
           {
            "error_x": {
             "color": "#2a3f5f"
            },
            "error_y": {
             "color": "#2a3f5f"
            },
            "marker": {
             "line": {
              "color": "#E5ECF6",
              "width": 0.5
             },
             "pattern": {
              "fillmode": "overlay",
              "size": 10,
              "solidity": 0.2
             }
            },
            "type": "bar"
           }
          ],
          "barpolar": [
           {
            "marker": {
             "line": {
              "color": "#E5ECF6",
              "width": 0.5
             },
             "pattern": {
              "fillmode": "overlay",
              "size": 10,
              "solidity": 0.2
             }
            },
            "type": "barpolar"
           }
          ],
          "carpet": [
           {
            "aaxis": {
             "endlinecolor": "#2a3f5f",
             "gridcolor": "white",
             "linecolor": "white",
             "minorgridcolor": "white",
             "startlinecolor": "#2a3f5f"
            },
            "baxis": {
             "endlinecolor": "#2a3f5f",
             "gridcolor": "white",
             "linecolor": "white",
             "minorgridcolor": "white",
             "startlinecolor": "#2a3f5f"
            },
            "type": "carpet"
           }
          ],
          "choropleth": [
           {
            "colorbar": {
             "outlinewidth": 0,
             "ticks": ""
            },
            "type": "choropleth"
           }
          ],
          "contour": [
           {
            "colorbar": {
             "outlinewidth": 0,
             "ticks": ""
            },
            "colorscale": [
             [
              0,
              "#0d0887"
             ],
             [
              0.1111111111111111,
              "#46039f"
             ],
             [
              0.2222222222222222,
              "#7201a8"
             ],
             [
              0.3333333333333333,
              "#9c179e"
             ],
             [
              0.4444444444444444,
              "#bd3786"
             ],
             [
              0.5555555555555556,
              "#d8576b"
             ],
             [
              0.6666666666666666,
              "#ed7953"
             ],
             [
              0.7777777777777778,
              "#fb9f3a"
             ],
             [
              0.8888888888888888,
              "#fdca26"
             ],
             [
              1,
              "#f0f921"
             ]
            ],
            "type": "contour"
           }
          ],
          "contourcarpet": [
           {
            "colorbar": {
             "outlinewidth": 0,
             "ticks": ""
            },
            "type": "contourcarpet"
           }
          ],
          "heatmap": [
           {
            "colorbar": {
             "outlinewidth": 0,
             "ticks": ""
            },
            "colorscale": [
             [
              0,
              "#0d0887"
             ],
             [
              0.1111111111111111,
              "#46039f"
             ],
             [
              0.2222222222222222,
              "#7201a8"
             ],
             [
              0.3333333333333333,
              "#9c179e"
             ],
             [
              0.4444444444444444,
              "#bd3786"
             ],
             [
              0.5555555555555556,
              "#d8576b"
             ],
             [
              0.6666666666666666,
              "#ed7953"
             ],
             [
              0.7777777777777778,
              "#fb9f3a"
             ],
             [
              0.8888888888888888,
              "#fdca26"
             ],
             [
              1,
              "#f0f921"
             ]
            ],
            "type": "heatmap"
           }
          ],
          "heatmapgl": [
           {
            "colorbar": {
             "outlinewidth": 0,
             "ticks": ""
            },
            "colorscale": [
             [
              0,
              "#0d0887"
             ],
             [
              0.1111111111111111,
              "#46039f"
             ],
             [
              0.2222222222222222,
              "#7201a8"
             ],
             [
              0.3333333333333333,
              "#9c179e"
             ],
             [
              0.4444444444444444,
              "#bd3786"
             ],
             [
              0.5555555555555556,
              "#d8576b"
             ],
             [
              0.6666666666666666,
              "#ed7953"
             ],
             [
              0.7777777777777778,
              "#fb9f3a"
             ],
             [
              0.8888888888888888,
              "#fdca26"
             ],
             [
              1,
              "#f0f921"
             ]
            ],
            "type": "heatmapgl"
           }
          ],
          "histogram": [
           {
            "marker": {
             "pattern": {
              "fillmode": "overlay",
              "size": 10,
              "solidity": 0.2
             }
            },
            "type": "histogram"
           }
          ],
          "histogram2d": [
           {
            "colorbar": {
             "outlinewidth": 0,
             "ticks": ""
            },
            "colorscale": [
             [
              0,
              "#0d0887"
             ],
             [
              0.1111111111111111,
              "#46039f"
             ],
             [
              0.2222222222222222,
              "#7201a8"
             ],
             [
              0.3333333333333333,
              "#9c179e"
             ],
             [
              0.4444444444444444,
              "#bd3786"
             ],
             [
              0.5555555555555556,
              "#d8576b"
             ],
             [
              0.6666666666666666,
              "#ed7953"
             ],
             [
              0.7777777777777778,
              "#fb9f3a"
             ],
             [
              0.8888888888888888,
              "#fdca26"
             ],
             [
              1,
              "#f0f921"
             ]
            ],
            "type": "histogram2d"
           }
          ],
          "histogram2dcontour": [
           {
            "colorbar": {
             "outlinewidth": 0,
             "ticks": ""
            },
            "colorscale": [
             [
              0,
              "#0d0887"
             ],
             [
              0.1111111111111111,
              "#46039f"
             ],
             [
              0.2222222222222222,
              "#7201a8"
             ],
             [
              0.3333333333333333,
              "#9c179e"
             ],
             [
              0.4444444444444444,
              "#bd3786"
             ],
             [
              0.5555555555555556,
              "#d8576b"
             ],
             [
              0.6666666666666666,
              "#ed7953"
             ],
             [
              0.7777777777777778,
              "#fb9f3a"
             ],
             [
              0.8888888888888888,
              "#fdca26"
             ],
             [
              1,
              "#f0f921"
             ]
            ],
            "type": "histogram2dcontour"
           }
          ],
          "mesh3d": [
           {
            "colorbar": {
             "outlinewidth": 0,
             "ticks": ""
            },
            "type": "mesh3d"
           }
          ],
          "parcoords": [
           {
            "line": {
             "colorbar": {
              "outlinewidth": 0,
              "ticks": ""
             }
            },
            "type": "parcoords"
           }
          ],
          "pie": [
           {
            "automargin": true,
            "type": "pie"
           }
          ],
          "scatter": [
           {
            "fillpattern": {
             "fillmode": "overlay",
             "size": 10,
             "solidity": 0.2
            },
            "type": "scatter"
           }
          ],
          "scatter3d": [
           {
            "line": {
             "colorbar": {
              "outlinewidth": 0,
              "ticks": ""
             }
            },
            "marker": {
             "colorbar": {
              "outlinewidth": 0,
              "ticks": ""
             }
            },
            "type": "scatter3d"
           }
          ],
          "scattercarpet": [
           {
            "marker": {
             "colorbar": {
              "outlinewidth": 0,
              "ticks": ""
             }
            },
            "type": "scattercarpet"
           }
          ],
          "scattergeo": [
           {
            "marker": {
             "colorbar": {
              "outlinewidth": 0,
              "ticks": ""
             }
            },
            "type": "scattergeo"
           }
          ],
          "scattergl": [
           {
            "marker": {
             "colorbar": {
              "outlinewidth": 0,
              "ticks": ""
             }
            },
            "type": "scattergl"
           }
          ],
          "scattermapbox": [
           {
            "marker": {
             "colorbar": {
              "outlinewidth": 0,
              "ticks": ""
             }
            },
            "type": "scattermapbox"
           }
          ],
          "scatterpolar": [
           {
            "marker": {
             "colorbar": {
              "outlinewidth": 0,
              "ticks": ""
             }
            },
            "type": "scatterpolar"
           }
          ],
          "scatterpolargl": [
           {
            "marker": {
             "colorbar": {
              "outlinewidth": 0,
              "ticks": ""
             }
            },
            "type": "scatterpolargl"
           }
          ],
          "scatterternary": [
           {
            "marker": {
             "colorbar": {
              "outlinewidth": 0,
              "ticks": ""
             }
            },
            "type": "scatterternary"
           }
          ],
          "surface": [
           {
            "colorbar": {
             "outlinewidth": 0,
             "ticks": ""
            },
            "colorscale": [
             [
              0,
              "#0d0887"
             ],
             [
              0.1111111111111111,
              "#46039f"
             ],
             [
              0.2222222222222222,
              "#7201a8"
             ],
             [
              0.3333333333333333,
              "#9c179e"
             ],
             [
              0.4444444444444444,
              "#bd3786"
             ],
             [
              0.5555555555555556,
              "#d8576b"
             ],
             [
              0.6666666666666666,
              "#ed7953"
             ],
             [
              0.7777777777777778,
              "#fb9f3a"
             ],
             [
              0.8888888888888888,
              "#fdca26"
             ],
             [
              1,
              "#f0f921"
             ]
            ],
            "type": "surface"
           }
          ],
          "table": [
           {
            "cells": {
             "fill": {
              "color": "#EBF0F8"
             },
             "line": {
              "color": "white"
             }
            },
            "header": {
             "fill": {
              "color": "#C8D4E3"
             },
             "line": {
              "color": "white"
             }
            },
            "type": "table"
           }
          ]
         },
         "layout": {
          "annotationdefaults": {
           "arrowcolor": "#2a3f5f",
           "arrowhead": 0,
           "arrowwidth": 1
          },
          "autotypenumbers": "strict",
          "coloraxis": {
           "colorbar": {
            "outlinewidth": 0,
            "ticks": ""
           }
          },
          "colorscale": {
           "diverging": [
            [
             0,
             "#8e0152"
            ],
            [
             0.1,
             "#c51b7d"
            ],
            [
             0.2,
             "#de77ae"
            ],
            [
             0.3,
             "#f1b6da"
            ],
            [
             0.4,
             "#fde0ef"
            ],
            [
             0.5,
             "#f7f7f7"
            ],
            [
             0.6,
             "#e6f5d0"
            ],
            [
             0.7,
             "#b8e186"
            ],
            [
             0.8,
             "#7fbc41"
            ],
            [
             0.9,
             "#4d9221"
            ],
            [
             1,
             "#276419"
            ]
           ],
           "sequential": [
            [
             0,
             "#0d0887"
            ],
            [
             0.1111111111111111,
             "#46039f"
            ],
            [
             0.2222222222222222,
             "#7201a8"
            ],
            [
             0.3333333333333333,
             "#9c179e"
            ],
            [
             0.4444444444444444,
             "#bd3786"
            ],
            [
             0.5555555555555556,
             "#d8576b"
            ],
            [
             0.6666666666666666,
             "#ed7953"
            ],
            [
             0.7777777777777778,
             "#fb9f3a"
            ],
            [
             0.8888888888888888,
             "#fdca26"
            ],
            [
             1,
             "#f0f921"
            ]
           ],
           "sequentialminus": [
            [
             0,
             "#0d0887"
            ],
            [
             0.1111111111111111,
             "#46039f"
            ],
            [
             0.2222222222222222,
             "#7201a8"
            ],
            [
             0.3333333333333333,
             "#9c179e"
            ],
            [
             0.4444444444444444,
             "#bd3786"
            ],
            [
             0.5555555555555556,
             "#d8576b"
            ],
            [
             0.6666666666666666,
             "#ed7953"
            ],
            [
             0.7777777777777778,
             "#fb9f3a"
            ],
            [
             0.8888888888888888,
             "#fdca26"
            ],
            [
             1,
             "#f0f921"
            ]
           ]
          },
          "colorway": [
           "#636efa",
           "#EF553B",
           "#00cc96",
           "#ab63fa",
           "#FFA15A",
           "#19d3f3",
           "#FF6692",
           "#B6E880",
           "#FF97FF",
           "#FECB52"
          ],
          "font": {
           "color": "#2a3f5f"
          },
          "geo": {
           "bgcolor": "white",
           "lakecolor": "white",
           "landcolor": "#E5ECF6",
           "showlakes": true,
           "showland": true,
           "subunitcolor": "white"
          },
          "hoverlabel": {
           "align": "left"
          },
          "hovermode": "closest",
          "mapbox": {
           "style": "light"
          },
          "paper_bgcolor": "white",
          "plot_bgcolor": "#E5ECF6",
          "polar": {
           "angularaxis": {
            "gridcolor": "white",
            "linecolor": "white",
            "ticks": ""
           },
           "bgcolor": "#E5ECF6",
           "radialaxis": {
            "gridcolor": "white",
            "linecolor": "white",
            "ticks": ""
           }
          },
          "scene": {
           "xaxis": {
            "backgroundcolor": "#E5ECF6",
            "gridcolor": "white",
            "gridwidth": 2,
            "linecolor": "white",
            "showbackground": true,
            "ticks": "",
            "zerolinecolor": "white"
           },
           "yaxis": {
            "backgroundcolor": "#E5ECF6",
            "gridcolor": "white",
            "gridwidth": 2,
            "linecolor": "white",
            "showbackground": true,
            "ticks": "",
            "zerolinecolor": "white"
           },
           "zaxis": {
            "backgroundcolor": "#E5ECF6",
            "gridcolor": "white",
            "gridwidth": 2,
            "linecolor": "white",
            "showbackground": true,
            "ticks": "",
            "zerolinecolor": "white"
           }
          },
          "shapedefaults": {
           "line": {
            "color": "#2a3f5f"
           }
          },
          "ternary": {
           "aaxis": {
            "gridcolor": "white",
            "linecolor": "white",
            "ticks": ""
           },
           "baxis": {
            "gridcolor": "white",
            "linecolor": "white",
            "ticks": ""
           },
           "bgcolor": "#E5ECF6",
           "caxis": {
            "gridcolor": "white",
            "linecolor": "white",
            "ticks": ""
           }
          },
          "title": {
           "x": 0.05
          },
          "xaxis": {
           "automargin": true,
           "gridcolor": "white",
           "linecolor": "white",
           "ticks": "",
           "title": {
            "standoff": 15
           },
           "zerolinecolor": "white",
           "zerolinewidth": 2
          },
          "yaxis": {
           "automargin": true,
           "gridcolor": "white",
           "linecolor": "white",
           "ticks": "",
           "title": {
            "standoff": 15
           },
           "zerolinecolor": "white",
           "zerolinewidth": 2
          }
         }
        },
        "title": {
         "font": {
          "color": "#4D5663"
         }
        },
        "xaxis": {
         "gridcolor": "#E1E5ED",
         "showgrid": true,
         "tickfont": {
          "color": "#4D5663"
         },
         "title": {
          "font": {
           "color": "#4D5663"
          },
          "text": ""
         },
         "zerolinecolor": "#E1E5ED"
        },
        "yaxis": {
         "gridcolor": "#E1E5ED",
         "showgrid": true,
         "tickfont": {
          "color": "#4D5663"
         },
         "title": {
          "font": {
           "color": "#4D5663"
          },
          "text": ""
         },
         "zerolinecolor": "#E1E5ED"
        }
       }
      },
      "text/html": [
       "<div>                            <div id=\"c058f52e-b16a-42fb-9b0a-a1aa5f952987\" class=\"plotly-graph-div\" style=\"height:525px; width:100%;\"></div>            <script type=\"text/javascript\">                require([\"plotly\"], function(Plotly) {                    window.PLOTLYENV=window.PLOTLYENV || {};\n",
       "                    window.PLOTLYENV.BASE_URL='https://plot.ly';                                    if (document.getElementById(\"c058f52e-b16a-42fb-9b0a-a1aa5f952987\")) {                    Plotly.newPlot(                        \"c058f52e-b16a-42fb-9b0a-a1aa5f952987\",                        [{\"marker\":{\"color\":[\"rgb(255, 153, 51)\",\"rgb(55, 128, 191)\",\"rgb(50, 171, 96)\",\"rgb(128, 0, 128)\",\"rgb(219, 64, 82)\",\"rgb(0, 128, 128)\",\"rgb(255, 255, 51)\",\"rgb(128, 128, 0)\",\"rgb(251, 128, 114)\",\"rgb(128, 177, 211)\"],\"line\":{\"width\":1.3},\"size\":[45,64,65,52,33,58,54,61,16,37,65,69,46,53,60,75,60,42,57,63,75,18,86,30,43,88,49,50,46,45,75,49,69,70,28,86,63,55,55,61,69,67,50,37,12,51,73,51,75,85,54,41,61,76,61,37,60,63,41,35,45,42,84,40,76,84,43,55,19,65,60,91,83,60,52,47,65,62,66,64,112,67,80,86,40,72,58,93,72,36,57,55,85,59,71,19,64,72,41,63],\"symbol\":\"circle\"},\"mode\":\"markers\",\"text\":\"\",\"x\":[0.880959023786186,0.33345468870373934,-0.7409452183565108,-1.0977254619292793,1.426956946279641,-0.40451770845568713,0.7724937627319252,0.644782086556282,-1.4869968168898273,0.37640996305940577,0.19241489957125432,-1.111594409266069,-1.5716846453869657,-0.36244462977814346,0.9744328917524051,0.343809552356227,-0.3080270466791063,-0.1950077347039267,-0.18910257491181054,-0.6381781064691867,0.5260265822330088,0.17218121992761243,0.1317493478999784,-1.0133952881868464,-0.16642802340778293,-0.644563294742128,0.7660731182339767,0.47884529664076686,-0.521733455462245,0.2847131403623892,1.5396458082150322,-0.4241727051938035,0.8362651765647242,-0.9500544906883717,1.4845688288335317,1.1664130670490056,-0.0973424642717085,0.10116897363812288,1.4395527944343374,-0.935803180624831,1.191156335436539,0.7008093119694427,-0.9877741095005993,-0.4067540719547818,-1.370266828503218,-1.5353289076252745,0.5156460626883984,0.4587356572312894,0.09260485165730781,-1.6636675799745504,-0.7290334138658231,2.3527806369229394,-0.02979154016277506,0.024883854810285724,0.1899346163866445,0.5236554909988752,-0.4997433251662194,-1.3642904785357,-0.29608229446459455,-0.6610346788287468,0.33500653513485135,1.1434766678809734,0.6274696800615975,0.16552222232531544,-0.20205077372308394,0.912181391847108,-0.5858661976669097,-0.3396202037385737,0.893157460815925,-0.03964706555960653,-1.3103665565452216,0.5145396422513303,0.4166449293411519,1.3876021868735242,-0.3566481515000294,1.2902317814630657,0.8846490176365839,-1.5320252852273633,0.24356536270953288,1.3827634187849156,1.1819807080169038,-0.9660934499810131,-0.14796198765918317,-0.29251024584393925,-1.2027691265328306,1.920477778045479,-0.4130477360151552,0.5202955950169208,1.455326064624853,-2.0227300702714315,-1.6256166848992932,0.07554860674090483,1.7989334075269259,-1.4357117254331069,-1.1162061239030632,1.2645613747776647,-0.05085065547567881,1.3957163268407782,0.24453545539482402,0.4271283479483513],\"y\":[-1.5991275929197728,-0.8139801222032823,0.8884921961412762,0.015894687243417947,-0.6325211178813915,-1.9991061820032472,-0.555553251851912,-0.35026738841258764,0.46336296385168246,-0.33200786419981354,-0.014622520917696516,-1.2701991072571905,2.0392368945542794,-0.2820636697677745,1.1342694570432095,1.561697756976798,1.0717177775448286,1.1522195478371517,0.7570476750581898,-0.09291807113560716,-1.6674145944274692,-0.6686748289046941,-0.979060347779246,0.8576553382435183,0.9156021630201164,1.0388677923626626,2.336127802368596,0.40685339783055247,0.5189884359989433,0.07478796476990413,-0.6238735508899921,0.6256175510166899,0.5922977782752936,-1.1265454524507295,1.4698329632388514,0.42799339053984825,0.8457940003940891,-0.1262185339529523,-0.25234556078581993,-1.1260192157045796,0.3835707132779261,-0.8314028714113617,0.8777179911373496,1.4463623493451832,3.1034799952860674,1.013634913867253,1.779853980511546,0.10860250518723495,0.22796974651343066,-1.0458153022900263,-1.131689781985826,2.7004697893450524,1.0334664852867421,-0.9288778444152588,0.4769366435803124,3.0211093187401215,1.0593724527376387,-0.6087819099103041,-0.2575805456381415,0.5066594778797082,1.4002989836878734,1.4411063346739925,0.04840543213115739,1.896847405157337,0.6338012305107075,-1.3562240913416577,0.4019154283115991,0.5629306992560655,-0.5792695927028133,1.1149305580150437,2.1164451210238098,-0.6520525930293237,-0.6584177578263147,0.9868904525143627,-0.41216520249140554,-0.27287903130401997,1.115666369860281,-0.39772904944217946,-0.4598852585159614,-1.7834138468017278,-0.2923694109708229,-1.8736668007494182,-0.36712341162900086,-1.0182841444821644,-0.3975773402120633,0.5562011702221297,0.3728989910009789,-1.1391381258104147,1.8661318239083446,1.1281553985958181,2.043942601739804,0.3751146032127571,0.06444449486988196,1.4759000232939212,-0.8826082038740967,-1.8309620572532959,-1.9116865067345703,1.3435903624112713,-0.3510226043980688,-1.336307829278521],\"type\":\"scatter\"}],                        {\"legend\":{\"bgcolor\":\"#F5F6F9\",\"font\":{\"color\":\"#4D5663\"}},\"paper_bgcolor\":\"#F5F6F9\",\"plot_bgcolor\":\"#F5F6F9\",\"template\":{\"data\":{\"barpolar\":[{\"marker\":{\"line\":{\"color\":\"#E5ECF6\",\"width\":0.5},\"pattern\":{\"fillmode\":\"overlay\",\"size\":10,\"solidity\":0.2}},\"type\":\"barpolar\"}],\"bar\":[{\"error_x\":{\"color\":\"#2a3f5f\"},\"error_y\":{\"color\":\"#2a3f5f\"},\"marker\":{\"line\":{\"color\":\"#E5ECF6\",\"width\":0.5},\"pattern\":{\"fillmode\":\"overlay\",\"size\":10,\"solidity\":0.2}},\"type\":\"bar\"}],\"carpet\":[{\"aaxis\":{\"endlinecolor\":\"#2a3f5f\",\"gridcolor\":\"white\",\"linecolor\":\"white\",\"minorgridcolor\":\"white\",\"startlinecolor\":\"#2a3f5f\"},\"baxis\":{\"endlinecolor\":\"#2a3f5f\",\"gridcolor\":\"white\",\"linecolor\":\"white\",\"minorgridcolor\":\"white\",\"startlinecolor\":\"#2a3f5f\"},\"type\":\"carpet\"}],\"choropleth\":[{\"colorbar\":{\"outlinewidth\":0,\"ticks\":\"\"},\"type\":\"choropleth\"}],\"contourcarpet\":[{\"colorbar\":{\"outlinewidth\":0,\"ticks\":\"\"},\"type\":\"contourcarpet\"}],\"contour\":[{\"colorbar\":{\"outlinewidth\":0,\"ticks\":\"\"},\"colorscale\":[[0.0,\"#0d0887\"],[0.1111111111111111,\"#46039f\"],[0.2222222222222222,\"#7201a8\"],[0.3333333333333333,\"#9c179e\"],[0.4444444444444444,\"#bd3786\"],[0.5555555555555556,\"#d8576b\"],[0.6666666666666666,\"#ed7953\"],[0.7777777777777778,\"#fb9f3a\"],[0.8888888888888888,\"#fdca26\"],[1.0,\"#f0f921\"]],\"type\":\"contour\"}],\"heatmapgl\":[{\"colorbar\":{\"outlinewidth\":0,\"ticks\":\"\"},\"colorscale\":[[0.0,\"#0d0887\"],[0.1111111111111111,\"#46039f\"],[0.2222222222222222,\"#7201a8\"],[0.3333333333333333,\"#9c179e\"],[0.4444444444444444,\"#bd3786\"],[0.5555555555555556,\"#d8576b\"],[0.6666666666666666,\"#ed7953\"],[0.7777777777777778,\"#fb9f3a\"],[0.8888888888888888,\"#fdca26\"],[1.0,\"#f0f921\"]],\"type\":\"heatmapgl\"}],\"heatmap\":[{\"colorbar\":{\"outlinewidth\":0,\"ticks\":\"\"},\"colorscale\":[[0.0,\"#0d0887\"],[0.1111111111111111,\"#46039f\"],[0.2222222222222222,\"#7201a8\"],[0.3333333333333333,\"#9c179e\"],[0.4444444444444444,\"#bd3786\"],[0.5555555555555556,\"#d8576b\"],[0.6666666666666666,\"#ed7953\"],[0.7777777777777778,\"#fb9f3a\"],[0.8888888888888888,\"#fdca26\"],[1.0,\"#f0f921\"]],\"type\":\"heatmap\"}],\"histogram2dcontour\":[{\"colorbar\":{\"outlinewidth\":0,\"ticks\":\"\"},\"colorscale\":[[0.0,\"#0d0887\"],[0.1111111111111111,\"#46039f\"],[0.2222222222222222,\"#7201a8\"],[0.3333333333333333,\"#9c179e\"],[0.4444444444444444,\"#bd3786\"],[0.5555555555555556,\"#d8576b\"],[0.6666666666666666,\"#ed7953\"],[0.7777777777777778,\"#fb9f3a\"],[0.8888888888888888,\"#fdca26\"],[1.0,\"#f0f921\"]],\"type\":\"histogram2dcontour\"}],\"histogram2d\":[{\"colorbar\":{\"outlinewidth\":0,\"ticks\":\"\"},\"colorscale\":[[0.0,\"#0d0887\"],[0.1111111111111111,\"#46039f\"],[0.2222222222222222,\"#7201a8\"],[0.3333333333333333,\"#9c179e\"],[0.4444444444444444,\"#bd3786\"],[0.5555555555555556,\"#d8576b\"],[0.6666666666666666,\"#ed7953\"],[0.7777777777777778,\"#fb9f3a\"],[0.8888888888888888,\"#fdca26\"],[1.0,\"#f0f921\"]],\"type\":\"histogram2d\"}],\"histogram\":[{\"marker\":{\"pattern\":{\"fillmode\":\"overlay\",\"size\":10,\"solidity\":0.2}},\"type\":\"histogram\"}],\"mesh3d\":[{\"colorbar\":{\"outlinewidth\":0,\"ticks\":\"\"},\"type\":\"mesh3d\"}],\"parcoords\":[{\"line\":{\"colorbar\":{\"outlinewidth\":0,\"ticks\":\"\"}},\"type\":\"parcoords\"}],\"pie\":[{\"automargin\":true,\"type\":\"pie\"}],\"scatter3d\":[{\"line\":{\"colorbar\":{\"outlinewidth\":0,\"ticks\":\"\"}},\"marker\":{\"colorbar\":{\"outlinewidth\":0,\"ticks\":\"\"}},\"type\":\"scatter3d\"}],\"scattercarpet\":[{\"marker\":{\"colorbar\":{\"outlinewidth\":0,\"ticks\":\"\"}},\"type\":\"scattercarpet\"}],\"scattergeo\":[{\"marker\":{\"colorbar\":{\"outlinewidth\":0,\"ticks\":\"\"}},\"type\":\"scattergeo\"}],\"scattergl\":[{\"marker\":{\"colorbar\":{\"outlinewidth\":0,\"ticks\":\"\"}},\"type\":\"scattergl\"}],\"scattermapbox\":[{\"marker\":{\"colorbar\":{\"outlinewidth\":0,\"ticks\":\"\"}},\"type\":\"scattermapbox\"}],\"scatterpolargl\":[{\"marker\":{\"colorbar\":{\"outlinewidth\":0,\"ticks\":\"\"}},\"type\":\"scatterpolargl\"}],\"scatterpolar\":[{\"marker\":{\"colorbar\":{\"outlinewidth\":0,\"ticks\":\"\"}},\"type\":\"scatterpolar\"}],\"scatter\":[{\"fillpattern\":{\"fillmode\":\"overlay\",\"size\":10,\"solidity\":0.2},\"type\":\"scatter\"}],\"scatterternary\":[{\"marker\":{\"colorbar\":{\"outlinewidth\":0,\"ticks\":\"\"}},\"type\":\"scatterternary\"}],\"surface\":[{\"colorbar\":{\"outlinewidth\":0,\"ticks\":\"\"},\"colorscale\":[[0.0,\"#0d0887\"],[0.1111111111111111,\"#46039f\"],[0.2222222222222222,\"#7201a8\"],[0.3333333333333333,\"#9c179e\"],[0.4444444444444444,\"#bd3786\"],[0.5555555555555556,\"#d8576b\"],[0.6666666666666666,\"#ed7953\"],[0.7777777777777778,\"#fb9f3a\"],[0.8888888888888888,\"#fdca26\"],[1.0,\"#f0f921\"]],\"type\":\"surface\"}],\"table\":[{\"cells\":{\"fill\":{\"color\":\"#EBF0F8\"},\"line\":{\"color\":\"white\"}},\"header\":{\"fill\":{\"color\":\"#C8D4E3\"},\"line\":{\"color\":\"white\"}},\"type\":\"table\"}]},\"layout\":{\"annotationdefaults\":{\"arrowcolor\":\"#2a3f5f\",\"arrowhead\":0,\"arrowwidth\":1},\"autotypenumbers\":\"strict\",\"coloraxis\":{\"colorbar\":{\"outlinewidth\":0,\"ticks\":\"\"}},\"colorscale\":{\"diverging\":[[0,\"#8e0152\"],[0.1,\"#c51b7d\"],[0.2,\"#de77ae\"],[0.3,\"#f1b6da\"],[0.4,\"#fde0ef\"],[0.5,\"#f7f7f7\"],[0.6,\"#e6f5d0\"],[0.7,\"#b8e186\"],[0.8,\"#7fbc41\"],[0.9,\"#4d9221\"],[1,\"#276419\"]],\"sequential\":[[0.0,\"#0d0887\"],[0.1111111111111111,\"#46039f\"],[0.2222222222222222,\"#7201a8\"],[0.3333333333333333,\"#9c179e\"],[0.4444444444444444,\"#bd3786\"],[0.5555555555555556,\"#d8576b\"],[0.6666666666666666,\"#ed7953\"],[0.7777777777777778,\"#fb9f3a\"],[0.8888888888888888,\"#fdca26\"],[1.0,\"#f0f921\"]],\"sequentialminus\":[[0.0,\"#0d0887\"],[0.1111111111111111,\"#46039f\"],[0.2222222222222222,\"#7201a8\"],[0.3333333333333333,\"#9c179e\"],[0.4444444444444444,\"#bd3786\"],[0.5555555555555556,\"#d8576b\"],[0.6666666666666666,\"#ed7953\"],[0.7777777777777778,\"#fb9f3a\"],[0.8888888888888888,\"#fdca26\"],[1.0,\"#f0f921\"]]},\"colorway\":[\"#636efa\",\"#EF553B\",\"#00cc96\",\"#ab63fa\",\"#FFA15A\",\"#19d3f3\",\"#FF6692\",\"#B6E880\",\"#FF97FF\",\"#FECB52\"],\"font\":{\"color\":\"#2a3f5f\"},\"geo\":{\"bgcolor\":\"white\",\"lakecolor\":\"white\",\"landcolor\":\"#E5ECF6\",\"showlakes\":true,\"showland\":true,\"subunitcolor\":\"white\"},\"hoverlabel\":{\"align\":\"left\"},\"hovermode\":\"closest\",\"mapbox\":{\"style\":\"light\"},\"paper_bgcolor\":\"white\",\"plot_bgcolor\":\"#E5ECF6\",\"polar\":{\"angularaxis\":{\"gridcolor\":\"white\",\"linecolor\":\"white\",\"ticks\":\"\"},\"bgcolor\":\"#E5ECF6\",\"radialaxis\":{\"gridcolor\":\"white\",\"linecolor\":\"white\",\"ticks\":\"\"}},\"scene\":{\"xaxis\":{\"backgroundcolor\":\"#E5ECF6\",\"gridcolor\":\"white\",\"gridwidth\":2,\"linecolor\":\"white\",\"showbackground\":true,\"ticks\":\"\",\"zerolinecolor\":\"white\"},\"yaxis\":{\"backgroundcolor\":\"#E5ECF6\",\"gridcolor\":\"white\",\"gridwidth\":2,\"linecolor\":\"white\",\"showbackground\":true,\"ticks\":\"\",\"zerolinecolor\":\"white\"},\"zaxis\":{\"backgroundcolor\":\"#E5ECF6\",\"gridcolor\":\"white\",\"gridwidth\":2,\"linecolor\":\"white\",\"showbackground\":true,\"ticks\":\"\",\"zerolinecolor\":\"white\"}},\"shapedefaults\":{\"line\":{\"color\":\"#2a3f5f\"}},\"ternary\":{\"aaxis\":{\"gridcolor\":\"white\",\"linecolor\":\"white\",\"ticks\":\"\"},\"baxis\":{\"gridcolor\":\"white\",\"linecolor\":\"white\",\"ticks\":\"\"},\"bgcolor\":\"#E5ECF6\",\"caxis\":{\"gridcolor\":\"white\",\"linecolor\":\"white\",\"ticks\":\"\"}},\"title\":{\"x\":0.05},\"xaxis\":{\"automargin\":true,\"gridcolor\":\"white\",\"linecolor\":\"white\",\"ticks\":\"\",\"title\":{\"standoff\":15},\"zerolinecolor\":\"white\",\"zerolinewidth\":2},\"yaxis\":{\"automargin\":true,\"gridcolor\":\"white\",\"linecolor\":\"white\",\"ticks\":\"\",\"title\":{\"standoff\":15},\"zerolinecolor\":\"white\",\"zerolinewidth\":2}}},\"title\":{\"font\":{\"color\":\"#4D5663\"}},\"xaxis\":{\"gridcolor\":\"#E1E5ED\",\"showgrid\":true,\"tickfont\":{\"color\":\"#4D5663\"},\"title\":{\"font\":{\"color\":\"#4D5663\"},\"text\":\"\"},\"zerolinecolor\":\"#E1E5ED\"},\"yaxis\":{\"gridcolor\":\"#E1E5ED\",\"showgrid\":true,\"tickfont\":{\"color\":\"#4D5663\"},\"title\":{\"font\":{\"color\":\"#4D5663\"},\"text\":\"\"},\"zerolinecolor\":\"#E1E5ED\"}},                        {\"showLink\": true, \"linkText\": \"Export to plot.ly\", \"plotlyServerURL\": \"https://plot.ly\", \"responsive\": true}                    ).then(function(){\n",
       "                            \n",
       "var gd = document.getElementById('c058f52e-b16a-42fb-9b0a-a1aa5f952987');\n",
       "var x = new MutationObserver(function (mutations, observer) {{\n",
       "        var display = window.getComputedStyle(gd).display;\n",
       "        if (!display || display === 'none') {{\n",
       "            console.log([gd, 'removed!']);\n",
       "            Plotly.purge(gd);\n",
       "            observer.disconnect();\n",
       "        }}\n",
       "}});\n",
       "\n",
       "// Listen for the removal of the full notebook cells\n",
       "var notebookContainer = gd.closest('#notebook-container');\n",
       "if (notebookContainer) {{\n",
       "    x.observe(notebookContainer, {childList: true});\n",
       "}}\n",
       "\n",
       "// Listen for the clearing of the current output cell\n",
       "var outputEl = gd.closest('.output');\n",
       "if (outputEl) {{\n",
       "    x.observe(outputEl, {childList: true});\n",
       "}}\n",
       "\n",
       "                        })                };                });            </script>        </div>"
      ]
     },
     "metadata": {},
     "output_type": "display_data"
    }
   ],
   "source": [
    "df.iplot(kind='bubble',x='A',y='B',size='C')"
   ]
  },
  {
   "cell_type": "markdown",
   "metadata": {},
   "source": [
    "## scatter_matrix()\n",
    "\n",
    "Similar to sns.pairplot()"
   ]
  },
  {
   "cell_type": "code",
   "execution_count": 20,
   "metadata": {},
   "outputs": [
    {
     "data": {
      "application/vnd.plotly.v1+json": {
       "config": {
        "linkText": "Export to plot.ly",
        "plotlyServerURL": "https://plot.ly",
        "showLink": true
       },
       "data": [
        {
         "histfunc": "count",
         "histnorm": "",
         "marker": {
          "color": "rgba(255, 153, 51, 1.0)",
          "line": {
           "color": "#4D5663",
           "width": 1.3
          }
         },
         "name": "A",
         "nbinsx": 10,
         "opacity": 0.8,
         "orientation": "v",
         "type": "histogram",
         "x": [
          0.880959023786186,
          0.33345468870373934,
          -0.7409452183565108,
          -1.0977254619292793,
          1.426956946279641,
          -0.40451770845568713,
          0.7724937627319252,
          0.644782086556282,
          -1.4869968168898273,
          0.37640996305940577,
          0.19241489957125432,
          -1.111594409266069,
          -1.5716846453869657,
          -0.36244462977814346,
          0.9744328917524051,
          0.343809552356227,
          -0.3080270466791063,
          -0.1950077347039267,
          -0.18910257491181054,
          -0.6381781064691867,
          0.5260265822330088,
          0.17218121992761243,
          0.1317493478999784,
          -1.0133952881868464,
          -0.16642802340778293,
          -0.644563294742128,
          0.7660731182339767,
          0.47884529664076686,
          -0.521733455462245,
          0.2847131403623892,
          1.5396458082150322,
          -0.4241727051938035,
          0.8362651765647242,
          -0.9500544906883717,
          1.4845688288335317,
          1.1664130670490056,
          -0.0973424642717085,
          0.10116897363812288,
          1.4395527944343374,
          -0.935803180624831,
          1.191156335436539,
          0.7008093119694427,
          -0.9877741095005993,
          -0.4067540719547818,
          -1.370266828503218,
          -1.5353289076252745,
          0.5156460626883984,
          0.4587356572312894,
          0.09260485165730781,
          -1.6636675799745504,
          -0.7290334138658231,
          2.3527806369229394,
          -0.02979154016277506,
          0.024883854810285724,
          0.1899346163866445,
          0.5236554909988752,
          -0.4997433251662194,
          -1.3642904785357,
          -0.29608229446459455,
          -0.6610346788287468,
          0.33500653513485135,
          1.1434766678809734,
          0.6274696800615975,
          0.16552222232531544,
          -0.20205077372308394,
          0.912181391847108,
          -0.5858661976669097,
          -0.3396202037385737,
          0.893157460815925,
          -0.03964706555960653,
          -1.3103665565452216,
          0.5145396422513303,
          0.4166449293411519,
          1.3876021868735242,
          -0.3566481515000294,
          1.2902317814630657,
          0.8846490176365839,
          -1.5320252852273633,
          0.24356536270953288,
          1.3827634187849156,
          1.1819807080169038,
          -0.9660934499810131,
          -0.14796198765918317,
          -0.29251024584393925,
          -1.2027691265328306,
          1.920477778045479,
          -0.4130477360151552,
          0.5202955950169208,
          1.455326064624853,
          -2.0227300702714315,
          -1.6256166848992932,
          0.07554860674090483,
          1.7989334075269259,
          -1.4357117254331069,
          -1.1162061239030632,
          1.2645613747776647,
          -0.05085065547567881,
          1.3957163268407782,
          0.24453545539482402,
          0.4271283479483513
         ],
         "xaxis": "x",
         "yaxis": "y"
        },
        {
         "line": {
          "color": "rgba(128, 128, 128, 1.0)",
          "dash": "solid",
          "shape": "linear",
          "width": 1.3
         },
         "marker": {
          "size": 2,
          "symbol": "circle"
         },
         "mode": "markers",
         "name": "A",
         "text": "",
         "type": "scatter",
         "x": [
          -1.5991275929197728,
          -0.8139801222032823,
          0.8884921961412762,
          0.015894687243417947,
          -0.6325211178813915,
          -1.9991061820032472,
          -0.555553251851912,
          -0.35026738841258764,
          0.46336296385168246,
          -0.33200786419981354,
          -0.014622520917696516,
          -1.2701991072571905,
          2.0392368945542794,
          -0.2820636697677745,
          1.1342694570432095,
          1.561697756976798,
          1.0717177775448286,
          1.1522195478371517,
          0.7570476750581898,
          -0.09291807113560716,
          -1.6674145944274692,
          -0.6686748289046941,
          -0.979060347779246,
          0.8576553382435183,
          0.9156021630201164,
          1.0388677923626626,
          2.336127802368596,
          0.40685339783055247,
          0.5189884359989433,
          0.07478796476990413,
          -0.6238735508899921,
          0.6256175510166899,
          0.5922977782752936,
          -1.1265454524507295,
          1.4698329632388514,
          0.42799339053984825,
          0.8457940003940891,
          -0.1262185339529523,
          -0.25234556078581993,
          -1.1260192157045796,
          0.3835707132779261,
          -0.8314028714113617,
          0.8777179911373496,
          1.4463623493451832,
          3.1034799952860674,
          1.013634913867253,
          1.779853980511546,
          0.10860250518723495,
          0.22796974651343066,
          -1.0458153022900263,
          -1.131689781985826,
          2.7004697893450524,
          1.0334664852867421,
          -0.9288778444152588,
          0.4769366435803124,
          3.0211093187401215,
          1.0593724527376387,
          -0.6087819099103041,
          -0.2575805456381415,
          0.5066594778797082,
          1.4002989836878734,
          1.4411063346739925,
          0.04840543213115739,
          1.896847405157337,
          0.6338012305107075,
          -1.3562240913416577,
          0.4019154283115991,
          0.5629306992560655,
          -0.5792695927028133,
          1.1149305580150437,
          2.1164451210238098,
          -0.6520525930293237,
          -0.6584177578263147,
          0.9868904525143627,
          -0.41216520249140554,
          -0.27287903130401997,
          1.115666369860281,
          -0.39772904944217946,
          -0.4598852585159614,
          -1.7834138468017278,
          -0.2923694109708229,
          -1.8736668007494182,
          -0.36712341162900086,
          -1.0182841444821644,
          -0.3975773402120633,
          0.5562011702221297,
          0.3728989910009789,
          -1.1391381258104147,
          1.8661318239083446,
          1.1281553985958181,
          2.043942601739804,
          0.3751146032127571,
          0.06444449486988196,
          1.4759000232939212,
          -0.8826082038740967,
          -1.8309620572532959,
          -1.9116865067345703,
          1.3435903624112713,
          -0.3510226043980688,
          -1.336307829278521
         ],
         "xaxis": "x2",
         "y": [
          0.880959023786186,
          0.33345468870373934,
          -0.7409452183565108,
          -1.0977254619292793,
          1.426956946279641,
          -0.40451770845568713,
          0.7724937627319252,
          0.644782086556282,
          -1.4869968168898273,
          0.37640996305940577,
          0.19241489957125432,
          -1.111594409266069,
          -1.5716846453869657,
          -0.36244462977814346,
          0.9744328917524051,
          0.343809552356227,
          -0.3080270466791063,
          -0.1950077347039267,
          -0.18910257491181054,
          -0.6381781064691867,
          0.5260265822330088,
          0.17218121992761243,
          0.1317493478999784,
          -1.0133952881868464,
          -0.16642802340778293,
          -0.644563294742128,
          0.7660731182339767,
          0.47884529664076686,
          -0.521733455462245,
          0.2847131403623892,
          1.5396458082150322,
          -0.4241727051938035,
          0.8362651765647242,
          -0.9500544906883717,
          1.4845688288335317,
          1.1664130670490056,
          -0.0973424642717085,
          0.10116897363812288,
          1.4395527944343374,
          -0.935803180624831,
          1.191156335436539,
          0.7008093119694427,
          -0.9877741095005993,
          -0.4067540719547818,
          -1.370266828503218,
          -1.5353289076252745,
          0.5156460626883984,
          0.4587356572312894,
          0.09260485165730781,
          -1.6636675799745504,
          -0.7290334138658231,
          2.3527806369229394,
          -0.02979154016277506,
          0.024883854810285724,
          0.1899346163866445,
          0.5236554909988752,
          -0.4997433251662194,
          -1.3642904785357,
          -0.29608229446459455,
          -0.6610346788287468,
          0.33500653513485135,
          1.1434766678809734,
          0.6274696800615975,
          0.16552222232531544,
          -0.20205077372308394,
          0.912181391847108,
          -0.5858661976669097,
          -0.3396202037385737,
          0.893157460815925,
          -0.03964706555960653,
          -1.3103665565452216,
          0.5145396422513303,
          0.4166449293411519,
          1.3876021868735242,
          -0.3566481515000294,
          1.2902317814630657,
          0.8846490176365839,
          -1.5320252852273633,
          0.24356536270953288,
          1.3827634187849156,
          1.1819807080169038,
          -0.9660934499810131,
          -0.14796198765918317,
          -0.29251024584393925,
          -1.2027691265328306,
          1.920477778045479,
          -0.4130477360151552,
          0.5202955950169208,
          1.455326064624853,
          -2.0227300702714315,
          -1.6256166848992932,
          0.07554860674090483,
          1.7989334075269259,
          -1.4357117254331069,
          -1.1162061239030632,
          1.2645613747776647,
          -0.05085065547567881,
          1.3957163268407782,
          0.24453545539482402,
          0.4271283479483513
         ],
         "yaxis": "y2"
        },
        {
         "line": {
          "color": "rgba(128, 128, 128, 1.0)",
          "dash": "solid",
          "shape": "linear",
          "width": 1.3
         },
         "marker": {
          "size": 2,
          "symbol": "circle"
         },
         "mode": "markers",
         "name": "A",
         "text": "",
         "type": "scatter",
         "x": [
          -0.5090506193568138,
          0.46783502064920096,
          0.5140140169099323,
          -0.135858190534951,
          -1.1120422809221553,
          0.19036939224164473,
          -0.03979712243952682,
          0.33296567649967906,
          -1.9898009642441512,
          -0.902537575842969,
          0.512370114531166,
          0.7457231798874311,
          -0.4599139337077797,
          -0.08329035539728351,
          0.2939914814897891,
          1.0397367809010714,
          0.26753779808456957,
          -0.6578224852206888,
          0.14082629103879815,
          0.41566371267221724,
          1.022721310170276,
          -1.860838307387713,
          1.5944326598969125,
          -1.2678740218410052,
          -0.5803517829706125,
          1.7185130952373155,
          -0.2770565620613567,
          -0.2174035320063592,
          -0.4464487113666228,
          -0.5193387558854705,
          1.0241756496954264,
          -0.2740642183840163,
          0.7501035573720817,
          0.8091131638344188,
          -1.3863291423546382,
          1.6225906991723393,
          0.40853475087480695,
          0.03205088916471121,
          -0.005833144026442187,
          0.34601231685819017,
          0.7348236411311267,
          0.6277203931914014,
          -0.2633724364374913,
          -0.920502242018471,
          -2.2069563296162458,
          -0.194494195736623,
          0.9327130181865532,
          -0.1733931402852244,
          1.0158625618450354,
          1.539902082125618,
          -0.05376573178868323,
          -0.6922588647787197,
          0.3037962419061943,
          1.1048652730300073,
          0.3038662067981688,
          -0.9185307726746565,
          0.25712963151031315,
          0.43889657467445065,
          -0.690794329118379,
          -0.9957969810098548,
          -0.49164947058854075,
          -0.6454940127383348,
          1.4888193820944833,
          -0.7290828678415429,
          1.083106495091023,
          1.521053498546015,
          -0.584366558587681,
          0.017737965521257622,
          -1.8226790982330792,
          0.5083992619503088,
          0.25765616875605013,
          1.8496015765740905,
          1.4472779923578751,
          0.29558928507376103,
          -0.12266302408527396,
          -0.3736704215085696,
          0.5045060169757424,
          0.36557750268798883,
          0.594394718574478,
          0.49295114743440466,
          2.9070038770508537,
          0.6185281046185005,
          1.3096511147374101,
          1.6268644901970832,
          -0.7709033259032211,
          0.8822290039516804,
          0.14807768446328531,
          1.943252534898724,
          0.8686695792913697,
          -0.9677240710412516,
          0.10579717107376764,
          0.03778346688749221,
          1.5544957242622193,
          0.21052048722692912,
          0.8376124681460906,
          -1.8103708705905752,
          0.45736288915641055,
          0.8671009267301292,
          -0.7153945627548396,
          0.4486740570690812
         ],
         "xaxis": "x3",
         "y": [
          0.880959023786186,
          0.33345468870373934,
          -0.7409452183565108,
          -1.0977254619292793,
          1.426956946279641,
          -0.40451770845568713,
          0.7724937627319252,
          0.644782086556282,
          -1.4869968168898273,
          0.37640996305940577,
          0.19241489957125432,
          -1.111594409266069,
          -1.5716846453869657,
          -0.36244462977814346,
          0.9744328917524051,
          0.343809552356227,
          -0.3080270466791063,
          -0.1950077347039267,
          -0.18910257491181054,
          -0.6381781064691867,
          0.5260265822330088,
          0.17218121992761243,
          0.1317493478999784,
          -1.0133952881868464,
          -0.16642802340778293,
          -0.644563294742128,
          0.7660731182339767,
          0.47884529664076686,
          -0.521733455462245,
          0.2847131403623892,
          1.5396458082150322,
          -0.4241727051938035,
          0.8362651765647242,
          -0.9500544906883717,
          1.4845688288335317,
          1.1664130670490056,
          -0.0973424642717085,
          0.10116897363812288,
          1.4395527944343374,
          -0.935803180624831,
          1.191156335436539,
          0.7008093119694427,
          -0.9877741095005993,
          -0.4067540719547818,
          -1.370266828503218,
          -1.5353289076252745,
          0.5156460626883984,
          0.4587356572312894,
          0.09260485165730781,
          -1.6636675799745504,
          -0.7290334138658231,
          2.3527806369229394,
          -0.02979154016277506,
          0.024883854810285724,
          0.1899346163866445,
          0.5236554909988752,
          -0.4997433251662194,
          -1.3642904785357,
          -0.29608229446459455,
          -0.6610346788287468,
          0.33500653513485135,
          1.1434766678809734,
          0.6274696800615975,
          0.16552222232531544,
          -0.20205077372308394,
          0.912181391847108,
          -0.5858661976669097,
          -0.3396202037385737,
          0.893157460815925,
          -0.03964706555960653,
          -1.3103665565452216,
          0.5145396422513303,
          0.4166449293411519,
          1.3876021868735242,
          -0.3566481515000294,
          1.2902317814630657,
          0.8846490176365839,
          -1.5320252852273633,
          0.24356536270953288,
          1.3827634187849156,
          1.1819807080169038,
          -0.9660934499810131,
          -0.14796198765918317,
          -0.29251024584393925,
          -1.2027691265328306,
          1.920477778045479,
          -0.4130477360151552,
          0.5202955950169208,
          1.455326064624853,
          -2.0227300702714315,
          -1.6256166848992932,
          0.07554860674090483,
          1.7989334075269259,
          -1.4357117254331069,
          -1.1162061239030632,
          1.2645613747776647,
          -0.05085065547567881,
          1.3957163268407782,
          0.24453545539482402,
          0.4271283479483513
         ],
         "yaxis": "y3"
        },
        {
         "line": {
          "color": "rgba(128, 128, 128, 1.0)",
          "dash": "solid",
          "shape": "linear",
          "width": 1.3
         },
         "marker": {
          "size": 2,
          "symbol": "circle"
         },
         "mode": "markers",
         "name": "A",
         "text": "",
         "type": "scatter",
         "x": [
          -0.9043521089077933,
          1.4126520248446917,
          0.015608708201911856,
          -0.5752355462883069,
          -2.272948276746747,
          1.3203900706416196,
          -2.230898899533376,
          0.22438129820470562,
          1.2490549803105375,
          -2.336596765497704,
          0.8174101824978081,
          -0.5956833597847471,
          0.8306951075365935,
          0.6042093052059592,
          -2.246940809702541,
          -0.15470726706638446,
          -0.008964251377927451,
          -0.3817142443178131,
          -0.6427627753846652,
          -1.2838575393277776,
          -0.3710064429112497,
          2.0522660728201556,
          1.005876636145941,
          2.0659670213503434,
          1.6234730288753514,
          0.09396042799024812,
          1.6479324559722837,
          -0.8313293070258346,
          -0.20041110399305048,
          -0.09722610598308987,
          0.5834894535754519,
          1.5753609002860787,
          -1.613499300383705,
          -0.1840892030742178,
          -1.4749279129444293,
          1.4013197965998834,
          -1.1976061033697114,
          -0.4129822037963091,
          -0.35850380531896736,
          0.0786530598906968,
          1.1528999573851861,
          0.2604220892617955,
          0.8379367990965246,
          -1.5454548756177453,
          0.01618998838375046,
          -1.7976039960822157,
          -0.21383226753443652,
          -0.8045216598108752,
          -2.144450573040715,
          1.2929354398268258,
          1.3515023005457099,
          0.32337749541065963,
          0.5050674795041893,
          0.3496208302770857,
          -0.8078009040674193,
          -0.9025483984595123,
          -0.5968115500744454,
          -2.105802710422677,
          0.5295346725256338,
          -0.2925482620132626,
          -1.7637327493020316,
          -0.7070451788823175,
          -0.02329149612738796,
          -0.3792157889939141,
          0.4584818326350015,
          -0.21035490252607428,
          0.3442686223433735,
          0.1089620955177308,
          1.4261858797405715,
          -1.1865870770467335,
          -2.075989907618423,
          1.4904877173585762,
          -1.3901437070696612,
          0.8769390701250268,
          -0.611487167754324,
          -0.2872921122157759,
          -0.46287543436419715,
          1.7926490254086715,
          1.1382122118892304,
          0.7531920375512052,
          0.15841147444526504,
          -1.27417087521861,
          -1.0103307940191708,
          0.6563776711573666,
          -0.07729188687001957,
          0.08087899046242757,
          -0.9297047164787704,
          -0.8404764747434706,
          0.03888362063569858,
          -1.0422470626956135,
          0.4037991563406125,
          -1.0989862827713213,
          0.799790414892631,
          1.3946745259718174,
          0.5085292317321647,
          -0.9797594818992357,
          0.5447244843241852,
          -0.5147254239232565,
          -0.31319707513158007,
          0.12620707747039064
         ],
         "xaxis": "x4",
         "y": [
          0.880959023786186,
          0.33345468870373934,
          -0.7409452183565108,
          -1.0977254619292793,
          1.426956946279641,
          -0.40451770845568713,
          0.7724937627319252,
          0.644782086556282,
          -1.4869968168898273,
          0.37640996305940577,
          0.19241489957125432,
          -1.111594409266069,
          -1.5716846453869657,
          -0.36244462977814346,
          0.9744328917524051,
          0.343809552356227,
          -0.3080270466791063,
          -0.1950077347039267,
          -0.18910257491181054,
          -0.6381781064691867,
          0.5260265822330088,
          0.17218121992761243,
          0.1317493478999784,
          -1.0133952881868464,
          -0.16642802340778293,
          -0.644563294742128,
          0.7660731182339767,
          0.47884529664076686,
          -0.521733455462245,
          0.2847131403623892,
          1.5396458082150322,
          -0.4241727051938035,
          0.8362651765647242,
          -0.9500544906883717,
          1.4845688288335317,
          1.1664130670490056,
          -0.0973424642717085,
          0.10116897363812288,
          1.4395527944343374,
          -0.935803180624831,
          1.191156335436539,
          0.7008093119694427,
          -0.9877741095005993,
          -0.4067540719547818,
          -1.370266828503218,
          -1.5353289076252745,
          0.5156460626883984,
          0.4587356572312894,
          0.09260485165730781,
          -1.6636675799745504,
          -0.7290334138658231,
          2.3527806369229394,
          -0.02979154016277506,
          0.024883854810285724,
          0.1899346163866445,
          0.5236554909988752,
          -0.4997433251662194,
          -1.3642904785357,
          -0.29608229446459455,
          -0.6610346788287468,
          0.33500653513485135,
          1.1434766678809734,
          0.6274696800615975,
          0.16552222232531544,
          -0.20205077372308394,
          0.912181391847108,
          -0.5858661976669097,
          -0.3396202037385737,
          0.893157460815925,
          -0.03964706555960653,
          -1.3103665565452216,
          0.5145396422513303,
          0.4166449293411519,
          1.3876021868735242,
          -0.3566481515000294,
          1.2902317814630657,
          0.8846490176365839,
          -1.5320252852273633,
          0.24356536270953288,
          1.3827634187849156,
          1.1819807080169038,
          -0.9660934499810131,
          -0.14796198765918317,
          -0.29251024584393925,
          -1.2027691265328306,
          1.920477778045479,
          -0.4130477360151552,
          0.5202955950169208,
          1.455326064624853,
          -2.0227300702714315,
          -1.6256166848992932,
          0.07554860674090483,
          1.7989334075269259,
          -1.4357117254331069,
          -1.1162061239030632,
          1.2645613747776647,
          -0.05085065547567881,
          1.3957163268407782,
          0.24453545539482402,
          0.4271283479483513
         ],
         "yaxis": "y4"
        },
        {
         "line": {
          "color": "rgba(128, 128, 128, 1.0)",
          "dash": "solid",
          "shape": "linear",
          "width": 1.3
         },
         "marker": {
          "size": 2,
          "symbol": "circle"
         },
         "mode": "markers",
         "name": "B",
         "text": "",
         "type": "scatter",
         "x": [
          0.880959023786186,
          0.33345468870373934,
          -0.7409452183565108,
          -1.0977254619292793,
          1.426956946279641,
          -0.40451770845568713,
          0.7724937627319252,
          0.644782086556282,
          -1.4869968168898273,
          0.37640996305940577,
          0.19241489957125432,
          -1.111594409266069,
          -1.5716846453869657,
          -0.36244462977814346,
          0.9744328917524051,
          0.343809552356227,
          -0.3080270466791063,
          -0.1950077347039267,
          -0.18910257491181054,
          -0.6381781064691867,
          0.5260265822330088,
          0.17218121992761243,
          0.1317493478999784,
          -1.0133952881868464,
          -0.16642802340778293,
          -0.644563294742128,
          0.7660731182339767,
          0.47884529664076686,
          -0.521733455462245,
          0.2847131403623892,
          1.5396458082150322,
          -0.4241727051938035,
          0.8362651765647242,
          -0.9500544906883717,
          1.4845688288335317,
          1.1664130670490056,
          -0.0973424642717085,
          0.10116897363812288,
          1.4395527944343374,
          -0.935803180624831,
          1.191156335436539,
          0.7008093119694427,
          -0.9877741095005993,
          -0.4067540719547818,
          -1.370266828503218,
          -1.5353289076252745,
          0.5156460626883984,
          0.4587356572312894,
          0.09260485165730781,
          -1.6636675799745504,
          -0.7290334138658231,
          2.3527806369229394,
          -0.02979154016277506,
          0.024883854810285724,
          0.1899346163866445,
          0.5236554909988752,
          -0.4997433251662194,
          -1.3642904785357,
          -0.29608229446459455,
          -0.6610346788287468,
          0.33500653513485135,
          1.1434766678809734,
          0.6274696800615975,
          0.16552222232531544,
          -0.20205077372308394,
          0.912181391847108,
          -0.5858661976669097,
          -0.3396202037385737,
          0.893157460815925,
          -0.03964706555960653,
          -1.3103665565452216,
          0.5145396422513303,
          0.4166449293411519,
          1.3876021868735242,
          -0.3566481515000294,
          1.2902317814630657,
          0.8846490176365839,
          -1.5320252852273633,
          0.24356536270953288,
          1.3827634187849156,
          1.1819807080169038,
          -0.9660934499810131,
          -0.14796198765918317,
          -0.29251024584393925,
          -1.2027691265328306,
          1.920477778045479,
          -0.4130477360151552,
          0.5202955950169208,
          1.455326064624853,
          -2.0227300702714315,
          -1.6256166848992932,
          0.07554860674090483,
          1.7989334075269259,
          -1.4357117254331069,
          -1.1162061239030632,
          1.2645613747776647,
          -0.05085065547567881,
          1.3957163268407782,
          0.24453545539482402,
          0.4271283479483513
         ],
         "xaxis": "x5",
         "y": [
          -1.5991275929197728,
          -0.8139801222032823,
          0.8884921961412762,
          0.015894687243417947,
          -0.6325211178813915,
          -1.9991061820032472,
          -0.555553251851912,
          -0.35026738841258764,
          0.46336296385168246,
          -0.33200786419981354,
          -0.014622520917696516,
          -1.2701991072571905,
          2.0392368945542794,
          -0.2820636697677745,
          1.1342694570432095,
          1.561697756976798,
          1.0717177775448286,
          1.1522195478371517,
          0.7570476750581898,
          -0.09291807113560716,
          -1.6674145944274692,
          -0.6686748289046941,
          -0.979060347779246,
          0.8576553382435183,
          0.9156021630201164,
          1.0388677923626626,
          2.336127802368596,
          0.40685339783055247,
          0.5189884359989433,
          0.07478796476990413,
          -0.6238735508899921,
          0.6256175510166899,
          0.5922977782752936,
          -1.1265454524507295,
          1.4698329632388514,
          0.42799339053984825,
          0.8457940003940891,
          -0.1262185339529523,
          -0.25234556078581993,
          -1.1260192157045796,
          0.3835707132779261,
          -0.8314028714113617,
          0.8777179911373496,
          1.4463623493451832,
          3.1034799952860674,
          1.013634913867253,
          1.779853980511546,
          0.10860250518723495,
          0.22796974651343066,
          -1.0458153022900263,
          -1.131689781985826,
          2.7004697893450524,
          1.0334664852867421,
          -0.9288778444152588,
          0.4769366435803124,
          3.0211093187401215,
          1.0593724527376387,
          -0.6087819099103041,
          -0.2575805456381415,
          0.5066594778797082,
          1.4002989836878734,
          1.4411063346739925,
          0.04840543213115739,
          1.896847405157337,
          0.6338012305107075,
          -1.3562240913416577,
          0.4019154283115991,
          0.5629306992560655,
          -0.5792695927028133,
          1.1149305580150437,
          2.1164451210238098,
          -0.6520525930293237,
          -0.6584177578263147,
          0.9868904525143627,
          -0.41216520249140554,
          -0.27287903130401997,
          1.115666369860281,
          -0.39772904944217946,
          -0.4598852585159614,
          -1.7834138468017278,
          -0.2923694109708229,
          -1.8736668007494182,
          -0.36712341162900086,
          -1.0182841444821644,
          -0.3975773402120633,
          0.5562011702221297,
          0.3728989910009789,
          -1.1391381258104147,
          1.8661318239083446,
          1.1281553985958181,
          2.043942601739804,
          0.3751146032127571,
          0.06444449486988196,
          1.4759000232939212,
          -0.8826082038740967,
          -1.8309620572532959,
          -1.9116865067345703,
          1.3435903624112713,
          -0.3510226043980688,
          -1.336307829278521
         ],
         "yaxis": "y5"
        },
        {
         "histfunc": "count",
         "histnorm": "",
         "marker": {
          "color": "rgba(55, 128, 191, 1.0)",
          "line": {
           "color": "#4D5663",
           "width": 1.3
          }
         },
         "name": "B",
         "nbinsx": 10,
         "opacity": 0.8,
         "orientation": "v",
         "type": "histogram",
         "x": [
          -1.5991275929197728,
          -0.8139801222032823,
          0.8884921961412762,
          0.015894687243417947,
          -0.6325211178813915,
          -1.9991061820032472,
          -0.555553251851912,
          -0.35026738841258764,
          0.46336296385168246,
          -0.33200786419981354,
          -0.014622520917696516,
          -1.2701991072571905,
          2.0392368945542794,
          -0.2820636697677745,
          1.1342694570432095,
          1.561697756976798,
          1.0717177775448286,
          1.1522195478371517,
          0.7570476750581898,
          -0.09291807113560716,
          -1.6674145944274692,
          -0.6686748289046941,
          -0.979060347779246,
          0.8576553382435183,
          0.9156021630201164,
          1.0388677923626626,
          2.336127802368596,
          0.40685339783055247,
          0.5189884359989433,
          0.07478796476990413,
          -0.6238735508899921,
          0.6256175510166899,
          0.5922977782752936,
          -1.1265454524507295,
          1.4698329632388514,
          0.42799339053984825,
          0.8457940003940891,
          -0.1262185339529523,
          -0.25234556078581993,
          -1.1260192157045796,
          0.3835707132779261,
          -0.8314028714113617,
          0.8777179911373496,
          1.4463623493451832,
          3.1034799952860674,
          1.013634913867253,
          1.779853980511546,
          0.10860250518723495,
          0.22796974651343066,
          -1.0458153022900263,
          -1.131689781985826,
          2.7004697893450524,
          1.0334664852867421,
          -0.9288778444152588,
          0.4769366435803124,
          3.0211093187401215,
          1.0593724527376387,
          -0.6087819099103041,
          -0.2575805456381415,
          0.5066594778797082,
          1.4002989836878734,
          1.4411063346739925,
          0.04840543213115739,
          1.896847405157337,
          0.6338012305107075,
          -1.3562240913416577,
          0.4019154283115991,
          0.5629306992560655,
          -0.5792695927028133,
          1.1149305580150437,
          2.1164451210238098,
          -0.6520525930293237,
          -0.6584177578263147,
          0.9868904525143627,
          -0.41216520249140554,
          -0.27287903130401997,
          1.115666369860281,
          -0.39772904944217946,
          -0.4598852585159614,
          -1.7834138468017278,
          -0.2923694109708229,
          -1.8736668007494182,
          -0.36712341162900086,
          -1.0182841444821644,
          -0.3975773402120633,
          0.5562011702221297,
          0.3728989910009789,
          -1.1391381258104147,
          1.8661318239083446,
          1.1281553985958181,
          2.043942601739804,
          0.3751146032127571,
          0.06444449486988196,
          1.4759000232939212,
          -0.8826082038740967,
          -1.8309620572532959,
          -1.9116865067345703,
          1.3435903624112713,
          -0.3510226043980688,
          -1.336307829278521
         ],
         "xaxis": "x6",
         "yaxis": "y6"
        },
        {
         "line": {
          "color": "rgba(128, 128, 128, 1.0)",
          "dash": "solid",
          "shape": "linear",
          "width": 1.3
         },
         "marker": {
          "size": 2,
          "symbol": "circle"
         },
         "mode": "markers",
         "name": "B",
         "text": "",
         "type": "scatter",
         "x": [
          -0.5090506193568138,
          0.46783502064920096,
          0.5140140169099323,
          -0.135858190534951,
          -1.1120422809221553,
          0.19036939224164473,
          -0.03979712243952682,
          0.33296567649967906,
          -1.9898009642441512,
          -0.902537575842969,
          0.512370114531166,
          0.7457231798874311,
          -0.4599139337077797,
          -0.08329035539728351,
          0.2939914814897891,
          1.0397367809010714,
          0.26753779808456957,
          -0.6578224852206888,
          0.14082629103879815,
          0.41566371267221724,
          1.022721310170276,
          -1.860838307387713,
          1.5944326598969125,
          -1.2678740218410052,
          -0.5803517829706125,
          1.7185130952373155,
          -0.2770565620613567,
          -0.2174035320063592,
          -0.4464487113666228,
          -0.5193387558854705,
          1.0241756496954264,
          -0.2740642183840163,
          0.7501035573720817,
          0.8091131638344188,
          -1.3863291423546382,
          1.6225906991723393,
          0.40853475087480695,
          0.03205088916471121,
          -0.005833144026442187,
          0.34601231685819017,
          0.7348236411311267,
          0.6277203931914014,
          -0.2633724364374913,
          -0.920502242018471,
          -2.2069563296162458,
          -0.194494195736623,
          0.9327130181865532,
          -0.1733931402852244,
          1.0158625618450354,
          1.539902082125618,
          -0.05376573178868323,
          -0.6922588647787197,
          0.3037962419061943,
          1.1048652730300073,
          0.3038662067981688,
          -0.9185307726746565,
          0.25712963151031315,
          0.43889657467445065,
          -0.690794329118379,
          -0.9957969810098548,
          -0.49164947058854075,
          -0.6454940127383348,
          1.4888193820944833,
          -0.7290828678415429,
          1.083106495091023,
          1.521053498546015,
          -0.584366558587681,
          0.017737965521257622,
          -1.8226790982330792,
          0.5083992619503088,
          0.25765616875605013,
          1.8496015765740905,
          1.4472779923578751,
          0.29558928507376103,
          -0.12266302408527396,
          -0.3736704215085696,
          0.5045060169757424,
          0.36557750268798883,
          0.594394718574478,
          0.49295114743440466,
          2.9070038770508537,
          0.6185281046185005,
          1.3096511147374101,
          1.6268644901970832,
          -0.7709033259032211,
          0.8822290039516804,
          0.14807768446328531,
          1.943252534898724,
          0.8686695792913697,
          -0.9677240710412516,
          0.10579717107376764,
          0.03778346688749221,
          1.5544957242622193,
          0.21052048722692912,
          0.8376124681460906,
          -1.8103708705905752,
          0.45736288915641055,
          0.8671009267301292,
          -0.7153945627548396,
          0.4486740570690812
         ],
         "xaxis": "x7",
         "y": [
          -1.5991275929197728,
          -0.8139801222032823,
          0.8884921961412762,
          0.015894687243417947,
          -0.6325211178813915,
          -1.9991061820032472,
          -0.555553251851912,
          -0.35026738841258764,
          0.46336296385168246,
          -0.33200786419981354,
          -0.014622520917696516,
          -1.2701991072571905,
          2.0392368945542794,
          -0.2820636697677745,
          1.1342694570432095,
          1.561697756976798,
          1.0717177775448286,
          1.1522195478371517,
          0.7570476750581898,
          -0.09291807113560716,
          -1.6674145944274692,
          -0.6686748289046941,
          -0.979060347779246,
          0.8576553382435183,
          0.9156021630201164,
          1.0388677923626626,
          2.336127802368596,
          0.40685339783055247,
          0.5189884359989433,
          0.07478796476990413,
          -0.6238735508899921,
          0.6256175510166899,
          0.5922977782752936,
          -1.1265454524507295,
          1.4698329632388514,
          0.42799339053984825,
          0.8457940003940891,
          -0.1262185339529523,
          -0.25234556078581993,
          -1.1260192157045796,
          0.3835707132779261,
          -0.8314028714113617,
          0.8777179911373496,
          1.4463623493451832,
          3.1034799952860674,
          1.013634913867253,
          1.779853980511546,
          0.10860250518723495,
          0.22796974651343066,
          -1.0458153022900263,
          -1.131689781985826,
          2.7004697893450524,
          1.0334664852867421,
          -0.9288778444152588,
          0.4769366435803124,
          3.0211093187401215,
          1.0593724527376387,
          -0.6087819099103041,
          -0.2575805456381415,
          0.5066594778797082,
          1.4002989836878734,
          1.4411063346739925,
          0.04840543213115739,
          1.896847405157337,
          0.6338012305107075,
          -1.3562240913416577,
          0.4019154283115991,
          0.5629306992560655,
          -0.5792695927028133,
          1.1149305580150437,
          2.1164451210238098,
          -0.6520525930293237,
          -0.6584177578263147,
          0.9868904525143627,
          -0.41216520249140554,
          -0.27287903130401997,
          1.115666369860281,
          -0.39772904944217946,
          -0.4598852585159614,
          -1.7834138468017278,
          -0.2923694109708229,
          -1.8736668007494182,
          -0.36712341162900086,
          -1.0182841444821644,
          -0.3975773402120633,
          0.5562011702221297,
          0.3728989910009789,
          -1.1391381258104147,
          1.8661318239083446,
          1.1281553985958181,
          2.043942601739804,
          0.3751146032127571,
          0.06444449486988196,
          1.4759000232939212,
          -0.8826082038740967,
          -1.8309620572532959,
          -1.9116865067345703,
          1.3435903624112713,
          -0.3510226043980688,
          -1.336307829278521
         ],
         "yaxis": "y7"
        },
        {
         "line": {
          "color": "rgba(128, 128, 128, 1.0)",
          "dash": "solid",
          "shape": "linear",
          "width": 1.3
         },
         "marker": {
          "size": 2,
          "symbol": "circle"
         },
         "mode": "markers",
         "name": "B",
         "text": "",
         "type": "scatter",
         "x": [
          -0.9043521089077933,
          1.4126520248446917,
          0.015608708201911856,
          -0.5752355462883069,
          -2.272948276746747,
          1.3203900706416196,
          -2.230898899533376,
          0.22438129820470562,
          1.2490549803105375,
          -2.336596765497704,
          0.8174101824978081,
          -0.5956833597847471,
          0.8306951075365935,
          0.6042093052059592,
          -2.246940809702541,
          -0.15470726706638446,
          -0.008964251377927451,
          -0.3817142443178131,
          -0.6427627753846652,
          -1.2838575393277776,
          -0.3710064429112497,
          2.0522660728201556,
          1.005876636145941,
          2.0659670213503434,
          1.6234730288753514,
          0.09396042799024812,
          1.6479324559722837,
          -0.8313293070258346,
          -0.20041110399305048,
          -0.09722610598308987,
          0.5834894535754519,
          1.5753609002860787,
          -1.613499300383705,
          -0.1840892030742178,
          -1.4749279129444293,
          1.4013197965998834,
          -1.1976061033697114,
          -0.4129822037963091,
          -0.35850380531896736,
          0.0786530598906968,
          1.1528999573851861,
          0.2604220892617955,
          0.8379367990965246,
          -1.5454548756177453,
          0.01618998838375046,
          -1.7976039960822157,
          -0.21383226753443652,
          -0.8045216598108752,
          -2.144450573040715,
          1.2929354398268258,
          1.3515023005457099,
          0.32337749541065963,
          0.5050674795041893,
          0.3496208302770857,
          -0.8078009040674193,
          -0.9025483984595123,
          -0.5968115500744454,
          -2.105802710422677,
          0.5295346725256338,
          -0.2925482620132626,
          -1.7637327493020316,
          -0.7070451788823175,
          -0.02329149612738796,
          -0.3792157889939141,
          0.4584818326350015,
          -0.21035490252607428,
          0.3442686223433735,
          0.1089620955177308,
          1.4261858797405715,
          -1.1865870770467335,
          -2.075989907618423,
          1.4904877173585762,
          -1.3901437070696612,
          0.8769390701250268,
          -0.611487167754324,
          -0.2872921122157759,
          -0.46287543436419715,
          1.7926490254086715,
          1.1382122118892304,
          0.7531920375512052,
          0.15841147444526504,
          -1.27417087521861,
          -1.0103307940191708,
          0.6563776711573666,
          -0.07729188687001957,
          0.08087899046242757,
          -0.9297047164787704,
          -0.8404764747434706,
          0.03888362063569858,
          -1.0422470626956135,
          0.4037991563406125,
          -1.0989862827713213,
          0.799790414892631,
          1.3946745259718174,
          0.5085292317321647,
          -0.9797594818992357,
          0.5447244843241852,
          -0.5147254239232565,
          -0.31319707513158007,
          0.12620707747039064
         ],
         "xaxis": "x8",
         "y": [
          -1.5991275929197728,
          -0.8139801222032823,
          0.8884921961412762,
          0.015894687243417947,
          -0.6325211178813915,
          -1.9991061820032472,
          -0.555553251851912,
          -0.35026738841258764,
          0.46336296385168246,
          -0.33200786419981354,
          -0.014622520917696516,
          -1.2701991072571905,
          2.0392368945542794,
          -0.2820636697677745,
          1.1342694570432095,
          1.561697756976798,
          1.0717177775448286,
          1.1522195478371517,
          0.7570476750581898,
          -0.09291807113560716,
          -1.6674145944274692,
          -0.6686748289046941,
          -0.979060347779246,
          0.8576553382435183,
          0.9156021630201164,
          1.0388677923626626,
          2.336127802368596,
          0.40685339783055247,
          0.5189884359989433,
          0.07478796476990413,
          -0.6238735508899921,
          0.6256175510166899,
          0.5922977782752936,
          -1.1265454524507295,
          1.4698329632388514,
          0.42799339053984825,
          0.8457940003940891,
          -0.1262185339529523,
          -0.25234556078581993,
          -1.1260192157045796,
          0.3835707132779261,
          -0.8314028714113617,
          0.8777179911373496,
          1.4463623493451832,
          3.1034799952860674,
          1.013634913867253,
          1.779853980511546,
          0.10860250518723495,
          0.22796974651343066,
          -1.0458153022900263,
          -1.131689781985826,
          2.7004697893450524,
          1.0334664852867421,
          -0.9288778444152588,
          0.4769366435803124,
          3.0211093187401215,
          1.0593724527376387,
          -0.6087819099103041,
          -0.2575805456381415,
          0.5066594778797082,
          1.4002989836878734,
          1.4411063346739925,
          0.04840543213115739,
          1.896847405157337,
          0.6338012305107075,
          -1.3562240913416577,
          0.4019154283115991,
          0.5629306992560655,
          -0.5792695927028133,
          1.1149305580150437,
          2.1164451210238098,
          -0.6520525930293237,
          -0.6584177578263147,
          0.9868904525143627,
          -0.41216520249140554,
          -0.27287903130401997,
          1.115666369860281,
          -0.39772904944217946,
          -0.4598852585159614,
          -1.7834138468017278,
          -0.2923694109708229,
          -1.8736668007494182,
          -0.36712341162900086,
          -1.0182841444821644,
          -0.3975773402120633,
          0.5562011702221297,
          0.3728989910009789,
          -1.1391381258104147,
          1.8661318239083446,
          1.1281553985958181,
          2.043942601739804,
          0.3751146032127571,
          0.06444449486988196,
          1.4759000232939212,
          -0.8826082038740967,
          -1.8309620572532959,
          -1.9116865067345703,
          1.3435903624112713,
          -0.3510226043980688,
          -1.336307829278521
         ],
         "yaxis": "y8"
        },
        {
         "line": {
          "color": "rgba(128, 128, 128, 1.0)",
          "dash": "solid",
          "shape": "linear",
          "width": 1.3
         },
         "marker": {
          "size": 2,
          "symbol": "circle"
         },
         "mode": "markers",
         "name": "C",
         "text": "",
         "type": "scatter",
         "x": [
          0.880959023786186,
          0.33345468870373934,
          -0.7409452183565108,
          -1.0977254619292793,
          1.426956946279641,
          -0.40451770845568713,
          0.7724937627319252,
          0.644782086556282,
          -1.4869968168898273,
          0.37640996305940577,
          0.19241489957125432,
          -1.111594409266069,
          -1.5716846453869657,
          -0.36244462977814346,
          0.9744328917524051,
          0.343809552356227,
          -0.3080270466791063,
          -0.1950077347039267,
          -0.18910257491181054,
          -0.6381781064691867,
          0.5260265822330088,
          0.17218121992761243,
          0.1317493478999784,
          -1.0133952881868464,
          -0.16642802340778293,
          -0.644563294742128,
          0.7660731182339767,
          0.47884529664076686,
          -0.521733455462245,
          0.2847131403623892,
          1.5396458082150322,
          -0.4241727051938035,
          0.8362651765647242,
          -0.9500544906883717,
          1.4845688288335317,
          1.1664130670490056,
          -0.0973424642717085,
          0.10116897363812288,
          1.4395527944343374,
          -0.935803180624831,
          1.191156335436539,
          0.7008093119694427,
          -0.9877741095005993,
          -0.4067540719547818,
          -1.370266828503218,
          -1.5353289076252745,
          0.5156460626883984,
          0.4587356572312894,
          0.09260485165730781,
          -1.6636675799745504,
          -0.7290334138658231,
          2.3527806369229394,
          -0.02979154016277506,
          0.024883854810285724,
          0.1899346163866445,
          0.5236554909988752,
          -0.4997433251662194,
          -1.3642904785357,
          -0.29608229446459455,
          -0.6610346788287468,
          0.33500653513485135,
          1.1434766678809734,
          0.6274696800615975,
          0.16552222232531544,
          -0.20205077372308394,
          0.912181391847108,
          -0.5858661976669097,
          -0.3396202037385737,
          0.893157460815925,
          -0.03964706555960653,
          -1.3103665565452216,
          0.5145396422513303,
          0.4166449293411519,
          1.3876021868735242,
          -0.3566481515000294,
          1.2902317814630657,
          0.8846490176365839,
          -1.5320252852273633,
          0.24356536270953288,
          1.3827634187849156,
          1.1819807080169038,
          -0.9660934499810131,
          -0.14796198765918317,
          -0.29251024584393925,
          -1.2027691265328306,
          1.920477778045479,
          -0.4130477360151552,
          0.5202955950169208,
          1.455326064624853,
          -2.0227300702714315,
          -1.6256166848992932,
          0.07554860674090483,
          1.7989334075269259,
          -1.4357117254331069,
          -1.1162061239030632,
          1.2645613747776647,
          -0.05085065547567881,
          1.3957163268407782,
          0.24453545539482402,
          0.4271283479483513
         ],
         "xaxis": "x9",
         "y": [
          -0.5090506193568138,
          0.46783502064920096,
          0.5140140169099323,
          -0.135858190534951,
          -1.1120422809221553,
          0.19036939224164473,
          -0.03979712243952682,
          0.33296567649967906,
          -1.9898009642441512,
          -0.902537575842969,
          0.512370114531166,
          0.7457231798874311,
          -0.4599139337077797,
          -0.08329035539728351,
          0.2939914814897891,
          1.0397367809010714,
          0.26753779808456957,
          -0.6578224852206888,
          0.14082629103879815,
          0.41566371267221724,
          1.022721310170276,
          -1.860838307387713,
          1.5944326598969125,
          -1.2678740218410052,
          -0.5803517829706125,
          1.7185130952373155,
          -0.2770565620613567,
          -0.2174035320063592,
          -0.4464487113666228,
          -0.5193387558854705,
          1.0241756496954264,
          -0.2740642183840163,
          0.7501035573720817,
          0.8091131638344188,
          -1.3863291423546382,
          1.6225906991723393,
          0.40853475087480695,
          0.03205088916471121,
          -0.005833144026442187,
          0.34601231685819017,
          0.7348236411311267,
          0.6277203931914014,
          -0.2633724364374913,
          -0.920502242018471,
          -2.2069563296162458,
          -0.194494195736623,
          0.9327130181865532,
          -0.1733931402852244,
          1.0158625618450354,
          1.539902082125618,
          -0.05376573178868323,
          -0.6922588647787197,
          0.3037962419061943,
          1.1048652730300073,
          0.3038662067981688,
          -0.9185307726746565,
          0.25712963151031315,
          0.43889657467445065,
          -0.690794329118379,
          -0.9957969810098548,
          -0.49164947058854075,
          -0.6454940127383348,
          1.4888193820944833,
          -0.7290828678415429,
          1.083106495091023,
          1.521053498546015,
          -0.584366558587681,
          0.017737965521257622,
          -1.8226790982330792,
          0.5083992619503088,
          0.25765616875605013,
          1.8496015765740905,
          1.4472779923578751,
          0.29558928507376103,
          -0.12266302408527396,
          -0.3736704215085696,
          0.5045060169757424,
          0.36557750268798883,
          0.594394718574478,
          0.49295114743440466,
          2.9070038770508537,
          0.6185281046185005,
          1.3096511147374101,
          1.6268644901970832,
          -0.7709033259032211,
          0.8822290039516804,
          0.14807768446328531,
          1.943252534898724,
          0.8686695792913697,
          -0.9677240710412516,
          0.10579717107376764,
          0.03778346688749221,
          1.5544957242622193,
          0.21052048722692912,
          0.8376124681460906,
          -1.8103708705905752,
          0.45736288915641055,
          0.8671009267301292,
          -0.7153945627548396,
          0.4486740570690812
         ],
         "yaxis": "y9"
        },
        {
         "line": {
          "color": "rgba(128, 128, 128, 1.0)",
          "dash": "solid",
          "shape": "linear",
          "width": 1.3
         },
         "marker": {
          "size": 2,
          "symbol": "circle"
         },
         "mode": "markers",
         "name": "C",
         "text": "",
         "type": "scatter",
         "x": [
          -1.5991275929197728,
          -0.8139801222032823,
          0.8884921961412762,
          0.015894687243417947,
          -0.6325211178813915,
          -1.9991061820032472,
          -0.555553251851912,
          -0.35026738841258764,
          0.46336296385168246,
          -0.33200786419981354,
          -0.014622520917696516,
          -1.2701991072571905,
          2.0392368945542794,
          -0.2820636697677745,
          1.1342694570432095,
          1.561697756976798,
          1.0717177775448286,
          1.1522195478371517,
          0.7570476750581898,
          -0.09291807113560716,
          -1.6674145944274692,
          -0.6686748289046941,
          -0.979060347779246,
          0.8576553382435183,
          0.9156021630201164,
          1.0388677923626626,
          2.336127802368596,
          0.40685339783055247,
          0.5189884359989433,
          0.07478796476990413,
          -0.6238735508899921,
          0.6256175510166899,
          0.5922977782752936,
          -1.1265454524507295,
          1.4698329632388514,
          0.42799339053984825,
          0.8457940003940891,
          -0.1262185339529523,
          -0.25234556078581993,
          -1.1260192157045796,
          0.3835707132779261,
          -0.8314028714113617,
          0.8777179911373496,
          1.4463623493451832,
          3.1034799952860674,
          1.013634913867253,
          1.779853980511546,
          0.10860250518723495,
          0.22796974651343066,
          -1.0458153022900263,
          -1.131689781985826,
          2.7004697893450524,
          1.0334664852867421,
          -0.9288778444152588,
          0.4769366435803124,
          3.0211093187401215,
          1.0593724527376387,
          -0.6087819099103041,
          -0.2575805456381415,
          0.5066594778797082,
          1.4002989836878734,
          1.4411063346739925,
          0.04840543213115739,
          1.896847405157337,
          0.6338012305107075,
          -1.3562240913416577,
          0.4019154283115991,
          0.5629306992560655,
          -0.5792695927028133,
          1.1149305580150437,
          2.1164451210238098,
          -0.6520525930293237,
          -0.6584177578263147,
          0.9868904525143627,
          -0.41216520249140554,
          -0.27287903130401997,
          1.115666369860281,
          -0.39772904944217946,
          -0.4598852585159614,
          -1.7834138468017278,
          -0.2923694109708229,
          -1.8736668007494182,
          -0.36712341162900086,
          -1.0182841444821644,
          -0.3975773402120633,
          0.5562011702221297,
          0.3728989910009789,
          -1.1391381258104147,
          1.8661318239083446,
          1.1281553985958181,
          2.043942601739804,
          0.3751146032127571,
          0.06444449486988196,
          1.4759000232939212,
          -0.8826082038740967,
          -1.8309620572532959,
          -1.9116865067345703,
          1.3435903624112713,
          -0.3510226043980688,
          -1.336307829278521
         ],
         "xaxis": "x10",
         "y": [
          -0.5090506193568138,
          0.46783502064920096,
          0.5140140169099323,
          -0.135858190534951,
          -1.1120422809221553,
          0.19036939224164473,
          -0.03979712243952682,
          0.33296567649967906,
          -1.9898009642441512,
          -0.902537575842969,
          0.512370114531166,
          0.7457231798874311,
          -0.4599139337077797,
          -0.08329035539728351,
          0.2939914814897891,
          1.0397367809010714,
          0.26753779808456957,
          -0.6578224852206888,
          0.14082629103879815,
          0.41566371267221724,
          1.022721310170276,
          -1.860838307387713,
          1.5944326598969125,
          -1.2678740218410052,
          -0.5803517829706125,
          1.7185130952373155,
          -0.2770565620613567,
          -0.2174035320063592,
          -0.4464487113666228,
          -0.5193387558854705,
          1.0241756496954264,
          -0.2740642183840163,
          0.7501035573720817,
          0.8091131638344188,
          -1.3863291423546382,
          1.6225906991723393,
          0.40853475087480695,
          0.03205088916471121,
          -0.005833144026442187,
          0.34601231685819017,
          0.7348236411311267,
          0.6277203931914014,
          -0.2633724364374913,
          -0.920502242018471,
          -2.2069563296162458,
          -0.194494195736623,
          0.9327130181865532,
          -0.1733931402852244,
          1.0158625618450354,
          1.539902082125618,
          -0.05376573178868323,
          -0.6922588647787197,
          0.3037962419061943,
          1.1048652730300073,
          0.3038662067981688,
          -0.9185307726746565,
          0.25712963151031315,
          0.43889657467445065,
          -0.690794329118379,
          -0.9957969810098548,
          -0.49164947058854075,
          -0.6454940127383348,
          1.4888193820944833,
          -0.7290828678415429,
          1.083106495091023,
          1.521053498546015,
          -0.584366558587681,
          0.017737965521257622,
          -1.8226790982330792,
          0.5083992619503088,
          0.25765616875605013,
          1.8496015765740905,
          1.4472779923578751,
          0.29558928507376103,
          -0.12266302408527396,
          -0.3736704215085696,
          0.5045060169757424,
          0.36557750268798883,
          0.594394718574478,
          0.49295114743440466,
          2.9070038770508537,
          0.6185281046185005,
          1.3096511147374101,
          1.6268644901970832,
          -0.7709033259032211,
          0.8822290039516804,
          0.14807768446328531,
          1.943252534898724,
          0.8686695792913697,
          -0.9677240710412516,
          0.10579717107376764,
          0.03778346688749221,
          1.5544957242622193,
          0.21052048722692912,
          0.8376124681460906,
          -1.8103708705905752,
          0.45736288915641055,
          0.8671009267301292,
          -0.7153945627548396,
          0.4486740570690812
         ],
         "yaxis": "y10"
        },
        {
         "histfunc": "count",
         "histnorm": "",
         "marker": {
          "color": "rgba(50, 171, 96, 1.0)",
          "line": {
           "color": "#4D5663",
           "width": 1.3
          }
         },
         "name": "C",
         "nbinsx": 10,
         "opacity": 0.8,
         "orientation": "v",
         "type": "histogram",
         "x": [
          -0.5090506193568138,
          0.46783502064920096,
          0.5140140169099323,
          -0.135858190534951,
          -1.1120422809221553,
          0.19036939224164473,
          -0.03979712243952682,
          0.33296567649967906,
          -1.9898009642441512,
          -0.902537575842969,
          0.512370114531166,
          0.7457231798874311,
          -0.4599139337077797,
          -0.08329035539728351,
          0.2939914814897891,
          1.0397367809010714,
          0.26753779808456957,
          -0.6578224852206888,
          0.14082629103879815,
          0.41566371267221724,
          1.022721310170276,
          -1.860838307387713,
          1.5944326598969125,
          -1.2678740218410052,
          -0.5803517829706125,
          1.7185130952373155,
          -0.2770565620613567,
          -0.2174035320063592,
          -0.4464487113666228,
          -0.5193387558854705,
          1.0241756496954264,
          -0.2740642183840163,
          0.7501035573720817,
          0.8091131638344188,
          -1.3863291423546382,
          1.6225906991723393,
          0.40853475087480695,
          0.03205088916471121,
          -0.005833144026442187,
          0.34601231685819017,
          0.7348236411311267,
          0.6277203931914014,
          -0.2633724364374913,
          -0.920502242018471,
          -2.2069563296162458,
          -0.194494195736623,
          0.9327130181865532,
          -0.1733931402852244,
          1.0158625618450354,
          1.539902082125618,
          -0.05376573178868323,
          -0.6922588647787197,
          0.3037962419061943,
          1.1048652730300073,
          0.3038662067981688,
          -0.9185307726746565,
          0.25712963151031315,
          0.43889657467445065,
          -0.690794329118379,
          -0.9957969810098548,
          -0.49164947058854075,
          -0.6454940127383348,
          1.4888193820944833,
          -0.7290828678415429,
          1.083106495091023,
          1.521053498546015,
          -0.584366558587681,
          0.017737965521257622,
          -1.8226790982330792,
          0.5083992619503088,
          0.25765616875605013,
          1.8496015765740905,
          1.4472779923578751,
          0.29558928507376103,
          -0.12266302408527396,
          -0.3736704215085696,
          0.5045060169757424,
          0.36557750268798883,
          0.594394718574478,
          0.49295114743440466,
          2.9070038770508537,
          0.6185281046185005,
          1.3096511147374101,
          1.6268644901970832,
          -0.7709033259032211,
          0.8822290039516804,
          0.14807768446328531,
          1.943252534898724,
          0.8686695792913697,
          -0.9677240710412516,
          0.10579717107376764,
          0.03778346688749221,
          1.5544957242622193,
          0.21052048722692912,
          0.8376124681460906,
          -1.8103708705905752,
          0.45736288915641055,
          0.8671009267301292,
          -0.7153945627548396,
          0.4486740570690812
         ],
         "xaxis": "x11",
         "yaxis": "y11"
        },
        {
         "line": {
          "color": "rgba(128, 128, 128, 1.0)",
          "dash": "solid",
          "shape": "linear",
          "width": 1.3
         },
         "marker": {
          "size": 2,
          "symbol": "circle"
         },
         "mode": "markers",
         "name": "C",
         "text": "",
         "type": "scatter",
         "x": [
          -0.9043521089077933,
          1.4126520248446917,
          0.015608708201911856,
          -0.5752355462883069,
          -2.272948276746747,
          1.3203900706416196,
          -2.230898899533376,
          0.22438129820470562,
          1.2490549803105375,
          -2.336596765497704,
          0.8174101824978081,
          -0.5956833597847471,
          0.8306951075365935,
          0.6042093052059592,
          -2.246940809702541,
          -0.15470726706638446,
          -0.008964251377927451,
          -0.3817142443178131,
          -0.6427627753846652,
          -1.2838575393277776,
          -0.3710064429112497,
          2.0522660728201556,
          1.005876636145941,
          2.0659670213503434,
          1.6234730288753514,
          0.09396042799024812,
          1.6479324559722837,
          -0.8313293070258346,
          -0.20041110399305048,
          -0.09722610598308987,
          0.5834894535754519,
          1.5753609002860787,
          -1.613499300383705,
          -0.1840892030742178,
          -1.4749279129444293,
          1.4013197965998834,
          -1.1976061033697114,
          -0.4129822037963091,
          -0.35850380531896736,
          0.0786530598906968,
          1.1528999573851861,
          0.2604220892617955,
          0.8379367990965246,
          -1.5454548756177453,
          0.01618998838375046,
          -1.7976039960822157,
          -0.21383226753443652,
          -0.8045216598108752,
          -2.144450573040715,
          1.2929354398268258,
          1.3515023005457099,
          0.32337749541065963,
          0.5050674795041893,
          0.3496208302770857,
          -0.8078009040674193,
          -0.9025483984595123,
          -0.5968115500744454,
          -2.105802710422677,
          0.5295346725256338,
          -0.2925482620132626,
          -1.7637327493020316,
          -0.7070451788823175,
          -0.02329149612738796,
          -0.3792157889939141,
          0.4584818326350015,
          -0.21035490252607428,
          0.3442686223433735,
          0.1089620955177308,
          1.4261858797405715,
          -1.1865870770467335,
          -2.075989907618423,
          1.4904877173585762,
          -1.3901437070696612,
          0.8769390701250268,
          -0.611487167754324,
          -0.2872921122157759,
          -0.46287543436419715,
          1.7926490254086715,
          1.1382122118892304,
          0.7531920375512052,
          0.15841147444526504,
          -1.27417087521861,
          -1.0103307940191708,
          0.6563776711573666,
          -0.07729188687001957,
          0.08087899046242757,
          -0.9297047164787704,
          -0.8404764747434706,
          0.03888362063569858,
          -1.0422470626956135,
          0.4037991563406125,
          -1.0989862827713213,
          0.799790414892631,
          1.3946745259718174,
          0.5085292317321647,
          -0.9797594818992357,
          0.5447244843241852,
          -0.5147254239232565,
          -0.31319707513158007,
          0.12620707747039064
         ],
         "xaxis": "x12",
         "y": [
          -0.5090506193568138,
          0.46783502064920096,
          0.5140140169099323,
          -0.135858190534951,
          -1.1120422809221553,
          0.19036939224164473,
          -0.03979712243952682,
          0.33296567649967906,
          -1.9898009642441512,
          -0.902537575842969,
          0.512370114531166,
          0.7457231798874311,
          -0.4599139337077797,
          -0.08329035539728351,
          0.2939914814897891,
          1.0397367809010714,
          0.26753779808456957,
          -0.6578224852206888,
          0.14082629103879815,
          0.41566371267221724,
          1.022721310170276,
          -1.860838307387713,
          1.5944326598969125,
          -1.2678740218410052,
          -0.5803517829706125,
          1.7185130952373155,
          -0.2770565620613567,
          -0.2174035320063592,
          -0.4464487113666228,
          -0.5193387558854705,
          1.0241756496954264,
          -0.2740642183840163,
          0.7501035573720817,
          0.8091131638344188,
          -1.3863291423546382,
          1.6225906991723393,
          0.40853475087480695,
          0.03205088916471121,
          -0.005833144026442187,
          0.34601231685819017,
          0.7348236411311267,
          0.6277203931914014,
          -0.2633724364374913,
          -0.920502242018471,
          -2.2069563296162458,
          -0.194494195736623,
          0.9327130181865532,
          -0.1733931402852244,
          1.0158625618450354,
          1.539902082125618,
          -0.05376573178868323,
          -0.6922588647787197,
          0.3037962419061943,
          1.1048652730300073,
          0.3038662067981688,
          -0.9185307726746565,
          0.25712963151031315,
          0.43889657467445065,
          -0.690794329118379,
          -0.9957969810098548,
          -0.49164947058854075,
          -0.6454940127383348,
          1.4888193820944833,
          -0.7290828678415429,
          1.083106495091023,
          1.521053498546015,
          -0.584366558587681,
          0.017737965521257622,
          -1.8226790982330792,
          0.5083992619503088,
          0.25765616875605013,
          1.8496015765740905,
          1.4472779923578751,
          0.29558928507376103,
          -0.12266302408527396,
          -0.3736704215085696,
          0.5045060169757424,
          0.36557750268798883,
          0.594394718574478,
          0.49295114743440466,
          2.9070038770508537,
          0.6185281046185005,
          1.3096511147374101,
          1.6268644901970832,
          -0.7709033259032211,
          0.8822290039516804,
          0.14807768446328531,
          1.943252534898724,
          0.8686695792913697,
          -0.9677240710412516,
          0.10579717107376764,
          0.03778346688749221,
          1.5544957242622193,
          0.21052048722692912,
          0.8376124681460906,
          -1.8103708705905752,
          0.45736288915641055,
          0.8671009267301292,
          -0.7153945627548396,
          0.4486740570690812
         ],
         "yaxis": "y12"
        },
        {
         "line": {
          "color": "rgba(128, 128, 128, 1.0)",
          "dash": "solid",
          "shape": "linear",
          "width": 1.3
         },
         "marker": {
          "size": 2,
          "symbol": "circle"
         },
         "mode": "markers",
         "name": "D",
         "text": "",
         "type": "scatter",
         "x": [
          0.880959023786186,
          0.33345468870373934,
          -0.7409452183565108,
          -1.0977254619292793,
          1.426956946279641,
          -0.40451770845568713,
          0.7724937627319252,
          0.644782086556282,
          -1.4869968168898273,
          0.37640996305940577,
          0.19241489957125432,
          -1.111594409266069,
          -1.5716846453869657,
          -0.36244462977814346,
          0.9744328917524051,
          0.343809552356227,
          -0.3080270466791063,
          -0.1950077347039267,
          -0.18910257491181054,
          -0.6381781064691867,
          0.5260265822330088,
          0.17218121992761243,
          0.1317493478999784,
          -1.0133952881868464,
          -0.16642802340778293,
          -0.644563294742128,
          0.7660731182339767,
          0.47884529664076686,
          -0.521733455462245,
          0.2847131403623892,
          1.5396458082150322,
          -0.4241727051938035,
          0.8362651765647242,
          -0.9500544906883717,
          1.4845688288335317,
          1.1664130670490056,
          -0.0973424642717085,
          0.10116897363812288,
          1.4395527944343374,
          -0.935803180624831,
          1.191156335436539,
          0.7008093119694427,
          -0.9877741095005993,
          -0.4067540719547818,
          -1.370266828503218,
          -1.5353289076252745,
          0.5156460626883984,
          0.4587356572312894,
          0.09260485165730781,
          -1.6636675799745504,
          -0.7290334138658231,
          2.3527806369229394,
          -0.02979154016277506,
          0.024883854810285724,
          0.1899346163866445,
          0.5236554909988752,
          -0.4997433251662194,
          -1.3642904785357,
          -0.29608229446459455,
          -0.6610346788287468,
          0.33500653513485135,
          1.1434766678809734,
          0.6274696800615975,
          0.16552222232531544,
          -0.20205077372308394,
          0.912181391847108,
          -0.5858661976669097,
          -0.3396202037385737,
          0.893157460815925,
          -0.03964706555960653,
          -1.3103665565452216,
          0.5145396422513303,
          0.4166449293411519,
          1.3876021868735242,
          -0.3566481515000294,
          1.2902317814630657,
          0.8846490176365839,
          -1.5320252852273633,
          0.24356536270953288,
          1.3827634187849156,
          1.1819807080169038,
          -0.9660934499810131,
          -0.14796198765918317,
          -0.29251024584393925,
          -1.2027691265328306,
          1.920477778045479,
          -0.4130477360151552,
          0.5202955950169208,
          1.455326064624853,
          -2.0227300702714315,
          -1.6256166848992932,
          0.07554860674090483,
          1.7989334075269259,
          -1.4357117254331069,
          -1.1162061239030632,
          1.2645613747776647,
          -0.05085065547567881,
          1.3957163268407782,
          0.24453545539482402,
          0.4271283479483513
         ],
         "xaxis": "x13",
         "y": [
          -0.9043521089077933,
          1.4126520248446917,
          0.015608708201911856,
          -0.5752355462883069,
          -2.272948276746747,
          1.3203900706416196,
          -2.230898899533376,
          0.22438129820470562,
          1.2490549803105375,
          -2.336596765497704,
          0.8174101824978081,
          -0.5956833597847471,
          0.8306951075365935,
          0.6042093052059592,
          -2.246940809702541,
          -0.15470726706638446,
          -0.008964251377927451,
          -0.3817142443178131,
          -0.6427627753846652,
          -1.2838575393277776,
          -0.3710064429112497,
          2.0522660728201556,
          1.005876636145941,
          2.0659670213503434,
          1.6234730288753514,
          0.09396042799024812,
          1.6479324559722837,
          -0.8313293070258346,
          -0.20041110399305048,
          -0.09722610598308987,
          0.5834894535754519,
          1.5753609002860787,
          -1.613499300383705,
          -0.1840892030742178,
          -1.4749279129444293,
          1.4013197965998834,
          -1.1976061033697114,
          -0.4129822037963091,
          -0.35850380531896736,
          0.0786530598906968,
          1.1528999573851861,
          0.2604220892617955,
          0.8379367990965246,
          -1.5454548756177453,
          0.01618998838375046,
          -1.7976039960822157,
          -0.21383226753443652,
          -0.8045216598108752,
          -2.144450573040715,
          1.2929354398268258,
          1.3515023005457099,
          0.32337749541065963,
          0.5050674795041893,
          0.3496208302770857,
          -0.8078009040674193,
          -0.9025483984595123,
          -0.5968115500744454,
          -2.105802710422677,
          0.5295346725256338,
          -0.2925482620132626,
          -1.7637327493020316,
          -0.7070451788823175,
          -0.02329149612738796,
          -0.3792157889939141,
          0.4584818326350015,
          -0.21035490252607428,
          0.3442686223433735,
          0.1089620955177308,
          1.4261858797405715,
          -1.1865870770467335,
          -2.075989907618423,
          1.4904877173585762,
          -1.3901437070696612,
          0.8769390701250268,
          -0.611487167754324,
          -0.2872921122157759,
          -0.46287543436419715,
          1.7926490254086715,
          1.1382122118892304,
          0.7531920375512052,
          0.15841147444526504,
          -1.27417087521861,
          -1.0103307940191708,
          0.6563776711573666,
          -0.07729188687001957,
          0.08087899046242757,
          -0.9297047164787704,
          -0.8404764747434706,
          0.03888362063569858,
          -1.0422470626956135,
          0.4037991563406125,
          -1.0989862827713213,
          0.799790414892631,
          1.3946745259718174,
          0.5085292317321647,
          -0.9797594818992357,
          0.5447244843241852,
          -0.5147254239232565,
          -0.31319707513158007,
          0.12620707747039064
         ],
         "yaxis": "y13"
        },
        {
         "line": {
          "color": "rgba(128, 128, 128, 1.0)",
          "dash": "solid",
          "shape": "linear",
          "width": 1.3
         },
         "marker": {
          "size": 2,
          "symbol": "circle"
         },
         "mode": "markers",
         "name": "D",
         "text": "",
         "type": "scatter",
         "x": [
          -1.5991275929197728,
          -0.8139801222032823,
          0.8884921961412762,
          0.015894687243417947,
          -0.6325211178813915,
          -1.9991061820032472,
          -0.555553251851912,
          -0.35026738841258764,
          0.46336296385168246,
          -0.33200786419981354,
          -0.014622520917696516,
          -1.2701991072571905,
          2.0392368945542794,
          -0.2820636697677745,
          1.1342694570432095,
          1.561697756976798,
          1.0717177775448286,
          1.1522195478371517,
          0.7570476750581898,
          -0.09291807113560716,
          -1.6674145944274692,
          -0.6686748289046941,
          -0.979060347779246,
          0.8576553382435183,
          0.9156021630201164,
          1.0388677923626626,
          2.336127802368596,
          0.40685339783055247,
          0.5189884359989433,
          0.07478796476990413,
          -0.6238735508899921,
          0.6256175510166899,
          0.5922977782752936,
          -1.1265454524507295,
          1.4698329632388514,
          0.42799339053984825,
          0.8457940003940891,
          -0.1262185339529523,
          -0.25234556078581993,
          -1.1260192157045796,
          0.3835707132779261,
          -0.8314028714113617,
          0.8777179911373496,
          1.4463623493451832,
          3.1034799952860674,
          1.013634913867253,
          1.779853980511546,
          0.10860250518723495,
          0.22796974651343066,
          -1.0458153022900263,
          -1.131689781985826,
          2.7004697893450524,
          1.0334664852867421,
          -0.9288778444152588,
          0.4769366435803124,
          3.0211093187401215,
          1.0593724527376387,
          -0.6087819099103041,
          -0.2575805456381415,
          0.5066594778797082,
          1.4002989836878734,
          1.4411063346739925,
          0.04840543213115739,
          1.896847405157337,
          0.6338012305107075,
          -1.3562240913416577,
          0.4019154283115991,
          0.5629306992560655,
          -0.5792695927028133,
          1.1149305580150437,
          2.1164451210238098,
          -0.6520525930293237,
          -0.6584177578263147,
          0.9868904525143627,
          -0.41216520249140554,
          -0.27287903130401997,
          1.115666369860281,
          -0.39772904944217946,
          -0.4598852585159614,
          -1.7834138468017278,
          -0.2923694109708229,
          -1.8736668007494182,
          -0.36712341162900086,
          -1.0182841444821644,
          -0.3975773402120633,
          0.5562011702221297,
          0.3728989910009789,
          -1.1391381258104147,
          1.8661318239083446,
          1.1281553985958181,
          2.043942601739804,
          0.3751146032127571,
          0.06444449486988196,
          1.4759000232939212,
          -0.8826082038740967,
          -1.8309620572532959,
          -1.9116865067345703,
          1.3435903624112713,
          -0.3510226043980688,
          -1.336307829278521
         ],
         "xaxis": "x14",
         "y": [
          -0.9043521089077933,
          1.4126520248446917,
          0.015608708201911856,
          -0.5752355462883069,
          -2.272948276746747,
          1.3203900706416196,
          -2.230898899533376,
          0.22438129820470562,
          1.2490549803105375,
          -2.336596765497704,
          0.8174101824978081,
          -0.5956833597847471,
          0.8306951075365935,
          0.6042093052059592,
          -2.246940809702541,
          -0.15470726706638446,
          -0.008964251377927451,
          -0.3817142443178131,
          -0.6427627753846652,
          -1.2838575393277776,
          -0.3710064429112497,
          2.0522660728201556,
          1.005876636145941,
          2.0659670213503434,
          1.6234730288753514,
          0.09396042799024812,
          1.6479324559722837,
          -0.8313293070258346,
          -0.20041110399305048,
          -0.09722610598308987,
          0.5834894535754519,
          1.5753609002860787,
          -1.613499300383705,
          -0.1840892030742178,
          -1.4749279129444293,
          1.4013197965998834,
          -1.1976061033697114,
          -0.4129822037963091,
          -0.35850380531896736,
          0.0786530598906968,
          1.1528999573851861,
          0.2604220892617955,
          0.8379367990965246,
          -1.5454548756177453,
          0.01618998838375046,
          -1.7976039960822157,
          -0.21383226753443652,
          -0.8045216598108752,
          -2.144450573040715,
          1.2929354398268258,
          1.3515023005457099,
          0.32337749541065963,
          0.5050674795041893,
          0.3496208302770857,
          -0.8078009040674193,
          -0.9025483984595123,
          -0.5968115500744454,
          -2.105802710422677,
          0.5295346725256338,
          -0.2925482620132626,
          -1.7637327493020316,
          -0.7070451788823175,
          -0.02329149612738796,
          -0.3792157889939141,
          0.4584818326350015,
          -0.21035490252607428,
          0.3442686223433735,
          0.1089620955177308,
          1.4261858797405715,
          -1.1865870770467335,
          -2.075989907618423,
          1.4904877173585762,
          -1.3901437070696612,
          0.8769390701250268,
          -0.611487167754324,
          -0.2872921122157759,
          -0.46287543436419715,
          1.7926490254086715,
          1.1382122118892304,
          0.7531920375512052,
          0.15841147444526504,
          -1.27417087521861,
          -1.0103307940191708,
          0.6563776711573666,
          -0.07729188687001957,
          0.08087899046242757,
          -0.9297047164787704,
          -0.8404764747434706,
          0.03888362063569858,
          -1.0422470626956135,
          0.4037991563406125,
          -1.0989862827713213,
          0.799790414892631,
          1.3946745259718174,
          0.5085292317321647,
          -0.9797594818992357,
          0.5447244843241852,
          -0.5147254239232565,
          -0.31319707513158007,
          0.12620707747039064
         ],
         "yaxis": "y14"
        },
        {
         "line": {
          "color": "rgba(128, 128, 128, 1.0)",
          "dash": "solid",
          "shape": "linear",
          "width": 1.3
         },
         "marker": {
          "size": 2,
          "symbol": "circle"
         },
         "mode": "markers",
         "name": "D",
         "text": "",
         "type": "scatter",
         "x": [
          -0.5090506193568138,
          0.46783502064920096,
          0.5140140169099323,
          -0.135858190534951,
          -1.1120422809221553,
          0.19036939224164473,
          -0.03979712243952682,
          0.33296567649967906,
          -1.9898009642441512,
          -0.902537575842969,
          0.512370114531166,
          0.7457231798874311,
          -0.4599139337077797,
          -0.08329035539728351,
          0.2939914814897891,
          1.0397367809010714,
          0.26753779808456957,
          -0.6578224852206888,
          0.14082629103879815,
          0.41566371267221724,
          1.022721310170276,
          -1.860838307387713,
          1.5944326598969125,
          -1.2678740218410052,
          -0.5803517829706125,
          1.7185130952373155,
          -0.2770565620613567,
          -0.2174035320063592,
          -0.4464487113666228,
          -0.5193387558854705,
          1.0241756496954264,
          -0.2740642183840163,
          0.7501035573720817,
          0.8091131638344188,
          -1.3863291423546382,
          1.6225906991723393,
          0.40853475087480695,
          0.03205088916471121,
          -0.005833144026442187,
          0.34601231685819017,
          0.7348236411311267,
          0.6277203931914014,
          -0.2633724364374913,
          -0.920502242018471,
          -2.2069563296162458,
          -0.194494195736623,
          0.9327130181865532,
          -0.1733931402852244,
          1.0158625618450354,
          1.539902082125618,
          -0.05376573178868323,
          -0.6922588647787197,
          0.3037962419061943,
          1.1048652730300073,
          0.3038662067981688,
          -0.9185307726746565,
          0.25712963151031315,
          0.43889657467445065,
          -0.690794329118379,
          -0.9957969810098548,
          -0.49164947058854075,
          -0.6454940127383348,
          1.4888193820944833,
          -0.7290828678415429,
          1.083106495091023,
          1.521053498546015,
          -0.584366558587681,
          0.017737965521257622,
          -1.8226790982330792,
          0.5083992619503088,
          0.25765616875605013,
          1.8496015765740905,
          1.4472779923578751,
          0.29558928507376103,
          -0.12266302408527396,
          -0.3736704215085696,
          0.5045060169757424,
          0.36557750268798883,
          0.594394718574478,
          0.49295114743440466,
          2.9070038770508537,
          0.6185281046185005,
          1.3096511147374101,
          1.6268644901970832,
          -0.7709033259032211,
          0.8822290039516804,
          0.14807768446328531,
          1.943252534898724,
          0.8686695792913697,
          -0.9677240710412516,
          0.10579717107376764,
          0.03778346688749221,
          1.5544957242622193,
          0.21052048722692912,
          0.8376124681460906,
          -1.8103708705905752,
          0.45736288915641055,
          0.8671009267301292,
          -0.7153945627548396,
          0.4486740570690812
         ],
         "xaxis": "x15",
         "y": [
          -0.9043521089077933,
          1.4126520248446917,
          0.015608708201911856,
          -0.5752355462883069,
          -2.272948276746747,
          1.3203900706416196,
          -2.230898899533376,
          0.22438129820470562,
          1.2490549803105375,
          -2.336596765497704,
          0.8174101824978081,
          -0.5956833597847471,
          0.8306951075365935,
          0.6042093052059592,
          -2.246940809702541,
          -0.15470726706638446,
          -0.008964251377927451,
          -0.3817142443178131,
          -0.6427627753846652,
          -1.2838575393277776,
          -0.3710064429112497,
          2.0522660728201556,
          1.005876636145941,
          2.0659670213503434,
          1.6234730288753514,
          0.09396042799024812,
          1.6479324559722837,
          -0.8313293070258346,
          -0.20041110399305048,
          -0.09722610598308987,
          0.5834894535754519,
          1.5753609002860787,
          -1.613499300383705,
          -0.1840892030742178,
          -1.4749279129444293,
          1.4013197965998834,
          -1.1976061033697114,
          -0.4129822037963091,
          -0.35850380531896736,
          0.0786530598906968,
          1.1528999573851861,
          0.2604220892617955,
          0.8379367990965246,
          -1.5454548756177453,
          0.01618998838375046,
          -1.7976039960822157,
          -0.21383226753443652,
          -0.8045216598108752,
          -2.144450573040715,
          1.2929354398268258,
          1.3515023005457099,
          0.32337749541065963,
          0.5050674795041893,
          0.3496208302770857,
          -0.8078009040674193,
          -0.9025483984595123,
          -0.5968115500744454,
          -2.105802710422677,
          0.5295346725256338,
          -0.2925482620132626,
          -1.7637327493020316,
          -0.7070451788823175,
          -0.02329149612738796,
          -0.3792157889939141,
          0.4584818326350015,
          -0.21035490252607428,
          0.3442686223433735,
          0.1089620955177308,
          1.4261858797405715,
          -1.1865870770467335,
          -2.075989907618423,
          1.4904877173585762,
          -1.3901437070696612,
          0.8769390701250268,
          -0.611487167754324,
          -0.2872921122157759,
          -0.46287543436419715,
          1.7926490254086715,
          1.1382122118892304,
          0.7531920375512052,
          0.15841147444526504,
          -1.27417087521861,
          -1.0103307940191708,
          0.6563776711573666,
          -0.07729188687001957,
          0.08087899046242757,
          -0.9297047164787704,
          -0.8404764747434706,
          0.03888362063569858,
          -1.0422470626956135,
          0.4037991563406125,
          -1.0989862827713213,
          0.799790414892631,
          1.3946745259718174,
          0.5085292317321647,
          -0.9797594818992357,
          0.5447244843241852,
          -0.5147254239232565,
          -0.31319707513158007,
          0.12620707747039064
         ],
         "yaxis": "y15"
        },
        {
         "histfunc": "count",
         "histnorm": "",
         "marker": {
          "color": "rgba(128, 0, 128, 1.0)",
          "line": {
           "color": "#4D5663",
           "width": 1.3
          }
         },
         "name": "D",
         "nbinsx": 10,
         "opacity": 0.8,
         "orientation": "v",
         "type": "histogram",
         "x": [
          -0.9043521089077933,
          1.4126520248446917,
          0.015608708201911856,
          -0.5752355462883069,
          -2.272948276746747,
          1.3203900706416196,
          -2.230898899533376,
          0.22438129820470562,
          1.2490549803105375,
          -2.336596765497704,
          0.8174101824978081,
          -0.5956833597847471,
          0.8306951075365935,
          0.6042093052059592,
          -2.246940809702541,
          -0.15470726706638446,
          -0.008964251377927451,
          -0.3817142443178131,
          -0.6427627753846652,
          -1.2838575393277776,
          -0.3710064429112497,
          2.0522660728201556,
          1.005876636145941,
          2.0659670213503434,
          1.6234730288753514,
          0.09396042799024812,
          1.6479324559722837,
          -0.8313293070258346,
          -0.20041110399305048,
          -0.09722610598308987,
          0.5834894535754519,
          1.5753609002860787,
          -1.613499300383705,
          -0.1840892030742178,
          -1.4749279129444293,
          1.4013197965998834,
          -1.1976061033697114,
          -0.4129822037963091,
          -0.35850380531896736,
          0.0786530598906968,
          1.1528999573851861,
          0.2604220892617955,
          0.8379367990965246,
          -1.5454548756177453,
          0.01618998838375046,
          -1.7976039960822157,
          -0.21383226753443652,
          -0.8045216598108752,
          -2.144450573040715,
          1.2929354398268258,
          1.3515023005457099,
          0.32337749541065963,
          0.5050674795041893,
          0.3496208302770857,
          -0.8078009040674193,
          -0.9025483984595123,
          -0.5968115500744454,
          -2.105802710422677,
          0.5295346725256338,
          -0.2925482620132626,
          -1.7637327493020316,
          -0.7070451788823175,
          -0.02329149612738796,
          -0.3792157889939141,
          0.4584818326350015,
          -0.21035490252607428,
          0.3442686223433735,
          0.1089620955177308,
          1.4261858797405715,
          -1.1865870770467335,
          -2.075989907618423,
          1.4904877173585762,
          -1.3901437070696612,
          0.8769390701250268,
          -0.611487167754324,
          -0.2872921122157759,
          -0.46287543436419715,
          1.7926490254086715,
          1.1382122118892304,
          0.7531920375512052,
          0.15841147444526504,
          -1.27417087521861,
          -1.0103307940191708,
          0.6563776711573666,
          -0.07729188687001957,
          0.08087899046242757,
          -0.9297047164787704,
          -0.8404764747434706,
          0.03888362063569858,
          -1.0422470626956135,
          0.4037991563406125,
          -1.0989862827713213,
          0.799790414892631,
          1.3946745259718174,
          0.5085292317321647,
          -0.9797594818992357,
          0.5447244843241852,
          -0.5147254239232565,
          -0.31319707513158007,
          0.12620707747039064
         ],
         "xaxis": "x16",
         "yaxis": "y16"
        }
       ],
       "layout": {
        "bargap": 0.02,
        "legend": {
         "bgcolor": "#F5F6F9",
         "font": {
          "color": "#4D5663"
         }
        },
        "paper_bgcolor": "#F5F6F9",
        "plot_bgcolor": "#F5F6F9",
        "showlegend": false,
        "template": {
         "data": {
          "bar": [
           {
            "error_x": {
             "color": "#2a3f5f"
            },
            "error_y": {
             "color": "#2a3f5f"
            },
            "marker": {
             "line": {
              "color": "#E5ECF6",
              "width": 0.5
             },
             "pattern": {
              "fillmode": "overlay",
              "size": 10,
              "solidity": 0.2
             }
            },
            "type": "bar"
           }
          ],
          "barpolar": [
           {
            "marker": {
             "line": {
              "color": "#E5ECF6",
              "width": 0.5
             },
             "pattern": {
              "fillmode": "overlay",
              "size": 10,
              "solidity": 0.2
             }
            },
            "type": "barpolar"
           }
          ],
          "carpet": [
           {
            "aaxis": {
             "endlinecolor": "#2a3f5f",
             "gridcolor": "white",
             "linecolor": "white",
             "minorgridcolor": "white",
             "startlinecolor": "#2a3f5f"
            },
            "baxis": {
             "endlinecolor": "#2a3f5f",
             "gridcolor": "white",
             "linecolor": "white",
             "minorgridcolor": "white",
             "startlinecolor": "#2a3f5f"
            },
            "type": "carpet"
           }
          ],
          "choropleth": [
           {
            "colorbar": {
             "outlinewidth": 0,
             "ticks": ""
            },
            "type": "choropleth"
           }
          ],
          "contour": [
           {
            "colorbar": {
             "outlinewidth": 0,
             "ticks": ""
            },
            "colorscale": [
             [
              0,
              "#0d0887"
             ],
             [
              0.1111111111111111,
              "#46039f"
             ],
             [
              0.2222222222222222,
              "#7201a8"
             ],
             [
              0.3333333333333333,
              "#9c179e"
             ],
             [
              0.4444444444444444,
              "#bd3786"
             ],
             [
              0.5555555555555556,
              "#d8576b"
             ],
             [
              0.6666666666666666,
              "#ed7953"
             ],
             [
              0.7777777777777778,
              "#fb9f3a"
             ],
             [
              0.8888888888888888,
              "#fdca26"
             ],
             [
              1,
              "#f0f921"
             ]
            ],
            "type": "contour"
           }
          ],
          "contourcarpet": [
           {
            "colorbar": {
             "outlinewidth": 0,
             "ticks": ""
            },
            "type": "contourcarpet"
           }
          ],
          "heatmap": [
           {
            "colorbar": {
             "outlinewidth": 0,
             "ticks": ""
            },
            "colorscale": [
             [
              0,
              "#0d0887"
             ],
             [
              0.1111111111111111,
              "#46039f"
             ],
             [
              0.2222222222222222,
              "#7201a8"
             ],
             [
              0.3333333333333333,
              "#9c179e"
             ],
             [
              0.4444444444444444,
              "#bd3786"
             ],
             [
              0.5555555555555556,
              "#d8576b"
             ],
             [
              0.6666666666666666,
              "#ed7953"
             ],
             [
              0.7777777777777778,
              "#fb9f3a"
             ],
             [
              0.8888888888888888,
              "#fdca26"
             ],
             [
              1,
              "#f0f921"
             ]
            ],
            "type": "heatmap"
           }
          ],
          "heatmapgl": [
           {
            "colorbar": {
             "outlinewidth": 0,
             "ticks": ""
            },
            "colorscale": [
             [
              0,
              "#0d0887"
             ],
             [
              0.1111111111111111,
              "#46039f"
             ],
             [
              0.2222222222222222,
              "#7201a8"
             ],
             [
              0.3333333333333333,
              "#9c179e"
             ],
             [
              0.4444444444444444,
              "#bd3786"
             ],
             [
              0.5555555555555556,
              "#d8576b"
             ],
             [
              0.6666666666666666,
              "#ed7953"
             ],
             [
              0.7777777777777778,
              "#fb9f3a"
             ],
             [
              0.8888888888888888,
              "#fdca26"
             ],
             [
              1,
              "#f0f921"
             ]
            ],
            "type": "heatmapgl"
           }
          ],
          "histogram": [
           {
            "marker": {
             "pattern": {
              "fillmode": "overlay",
              "size": 10,
              "solidity": 0.2
             }
            },
            "type": "histogram"
           }
          ],
          "histogram2d": [
           {
            "colorbar": {
             "outlinewidth": 0,
             "ticks": ""
            },
            "colorscale": [
             [
              0,
              "#0d0887"
             ],
             [
              0.1111111111111111,
              "#46039f"
             ],
             [
              0.2222222222222222,
              "#7201a8"
             ],
             [
              0.3333333333333333,
              "#9c179e"
             ],
             [
              0.4444444444444444,
              "#bd3786"
             ],
             [
              0.5555555555555556,
              "#d8576b"
             ],
             [
              0.6666666666666666,
              "#ed7953"
             ],
             [
              0.7777777777777778,
              "#fb9f3a"
             ],
             [
              0.8888888888888888,
              "#fdca26"
             ],
             [
              1,
              "#f0f921"
             ]
            ],
            "type": "histogram2d"
           }
          ],
          "histogram2dcontour": [
           {
            "colorbar": {
             "outlinewidth": 0,
             "ticks": ""
            },
            "colorscale": [
             [
              0,
              "#0d0887"
             ],
             [
              0.1111111111111111,
              "#46039f"
             ],
             [
              0.2222222222222222,
              "#7201a8"
             ],
             [
              0.3333333333333333,
              "#9c179e"
             ],
             [
              0.4444444444444444,
              "#bd3786"
             ],
             [
              0.5555555555555556,
              "#d8576b"
             ],
             [
              0.6666666666666666,
              "#ed7953"
             ],
             [
              0.7777777777777778,
              "#fb9f3a"
             ],
             [
              0.8888888888888888,
              "#fdca26"
             ],
             [
              1,
              "#f0f921"
             ]
            ],
            "type": "histogram2dcontour"
           }
          ],
          "mesh3d": [
           {
            "colorbar": {
             "outlinewidth": 0,
             "ticks": ""
            },
            "type": "mesh3d"
           }
          ],
          "parcoords": [
           {
            "line": {
             "colorbar": {
              "outlinewidth": 0,
              "ticks": ""
             }
            },
            "type": "parcoords"
           }
          ],
          "pie": [
           {
            "automargin": true,
            "type": "pie"
           }
          ],
          "scatter": [
           {
            "fillpattern": {
             "fillmode": "overlay",
             "size": 10,
             "solidity": 0.2
            },
            "type": "scatter"
           }
          ],
          "scatter3d": [
           {
            "line": {
             "colorbar": {
              "outlinewidth": 0,
              "ticks": ""
             }
            },
            "marker": {
             "colorbar": {
              "outlinewidth": 0,
              "ticks": ""
             }
            },
            "type": "scatter3d"
           }
          ],
          "scattercarpet": [
           {
            "marker": {
             "colorbar": {
              "outlinewidth": 0,
              "ticks": ""
             }
            },
            "type": "scattercarpet"
           }
          ],
          "scattergeo": [
           {
            "marker": {
             "colorbar": {
              "outlinewidth": 0,
              "ticks": ""
             }
            },
            "type": "scattergeo"
           }
          ],
          "scattergl": [
           {
            "marker": {
             "colorbar": {
              "outlinewidth": 0,
              "ticks": ""
             }
            },
            "type": "scattergl"
           }
          ],
          "scattermapbox": [
           {
            "marker": {
             "colorbar": {
              "outlinewidth": 0,
              "ticks": ""
             }
            },
            "type": "scattermapbox"
           }
          ],
          "scatterpolar": [
           {
            "marker": {
             "colorbar": {
              "outlinewidth": 0,
              "ticks": ""
             }
            },
            "type": "scatterpolar"
           }
          ],
          "scatterpolargl": [
           {
            "marker": {
             "colorbar": {
              "outlinewidth": 0,
              "ticks": ""
             }
            },
            "type": "scatterpolargl"
           }
          ],
          "scatterternary": [
           {
            "marker": {
             "colorbar": {
              "outlinewidth": 0,
              "ticks": ""
             }
            },
            "type": "scatterternary"
           }
          ],
          "surface": [
           {
            "colorbar": {
             "outlinewidth": 0,
             "ticks": ""
            },
            "colorscale": [
             [
              0,
              "#0d0887"
             ],
             [
              0.1111111111111111,
              "#46039f"
             ],
             [
              0.2222222222222222,
              "#7201a8"
             ],
             [
              0.3333333333333333,
              "#9c179e"
             ],
             [
              0.4444444444444444,
              "#bd3786"
             ],
             [
              0.5555555555555556,
              "#d8576b"
             ],
             [
              0.6666666666666666,
              "#ed7953"
             ],
             [
              0.7777777777777778,
              "#fb9f3a"
             ],
             [
              0.8888888888888888,
              "#fdca26"
             ],
             [
              1,
              "#f0f921"
             ]
            ],
            "type": "surface"
           }
          ],
          "table": [
           {
            "cells": {
             "fill": {
              "color": "#EBF0F8"
             },
             "line": {
              "color": "white"
             }
            },
            "header": {
             "fill": {
              "color": "#C8D4E3"
             },
             "line": {
              "color": "white"
             }
            },
            "type": "table"
           }
          ]
         },
         "layout": {
          "annotationdefaults": {
           "arrowcolor": "#2a3f5f",
           "arrowhead": 0,
           "arrowwidth": 1
          },
          "autotypenumbers": "strict",
          "coloraxis": {
           "colorbar": {
            "outlinewidth": 0,
            "ticks": ""
           }
          },
          "colorscale": {
           "diverging": [
            [
             0,
             "#8e0152"
            ],
            [
             0.1,
             "#c51b7d"
            ],
            [
             0.2,
             "#de77ae"
            ],
            [
             0.3,
             "#f1b6da"
            ],
            [
             0.4,
             "#fde0ef"
            ],
            [
             0.5,
             "#f7f7f7"
            ],
            [
             0.6,
             "#e6f5d0"
            ],
            [
             0.7,
             "#b8e186"
            ],
            [
             0.8,
             "#7fbc41"
            ],
            [
             0.9,
             "#4d9221"
            ],
            [
             1,
             "#276419"
            ]
           ],
           "sequential": [
            [
             0,
             "#0d0887"
            ],
            [
             0.1111111111111111,
             "#46039f"
            ],
            [
             0.2222222222222222,
             "#7201a8"
            ],
            [
             0.3333333333333333,
             "#9c179e"
            ],
            [
             0.4444444444444444,
             "#bd3786"
            ],
            [
             0.5555555555555556,
             "#d8576b"
            ],
            [
             0.6666666666666666,
             "#ed7953"
            ],
            [
             0.7777777777777778,
             "#fb9f3a"
            ],
            [
             0.8888888888888888,
             "#fdca26"
            ],
            [
             1,
             "#f0f921"
            ]
           ],
           "sequentialminus": [
            [
             0,
             "#0d0887"
            ],
            [
             0.1111111111111111,
             "#46039f"
            ],
            [
             0.2222222222222222,
             "#7201a8"
            ],
            [
             0.3333333333333333,
             "#9c179e"
            ],
            [
             0.4444444444444444,
             "#bd3786"
            ],
            [
             0.5555555555555556,
             "#d8576b"
            ],
            [
             0.6666666666666666,
             "#ed7953"
            ],
            [
             0.7777777777777778,
             "#fb9f3a"
            ],
            [
             0.8888888888888888,
             "#fdca26"
            ],
            [
             1,
             "#f0f921"
            ]
           ]
          },
          "colorway": [
           "#636efa",
           "#EF553B",
           "#00cc96",
           "#ab63fa",
           "#FFA15A",
           "#19d3f3",
           "#FF6692",
           "#B6E880",
           "#FF97FF",
           "#FECB52"
          ],
          "font": {
           "color": "#2a3f5f"
          },
          "geo": {
           "bgcolor": "white",
           "lakecolor": "white",
           "landcolor": "#E5ECF6",
           "showlakes": true,
           "showland": true,
           "subunitcolor": "white"
          },
          "hoverlabel": {
           "align": "left"
          },
          "hovermode": "closest",
          "mapbox": {
           "style": "light"
          },
          "paper_bgcolor": "white",
          "plot_bgcolor": "#E5ECF6",
          "polar": {
           "angularaxis": {
            "gridcolor": "white",
            "linecolor": "white",
            "ticks": ""
           },
           "bgcolor": "#E5ECF6",
           "radialaxis": {
            "gridcolor": "white",
            "linecolor": "white",
            "ticks": ""
           }
          },
          "scene": {
           "xaxis": {
            "backgroundcolor": "#E5ECF6",
            "gridcolor": "white",
            "gridwidth": 2,
            "linecolor": "white",
            "showbackground": true,
            "ticks": "",
            "zerolinecolor": "white"
           },
           "yaxis": {
            "backgroundcolor": "#E5ECF6",
            "gridcolor": "white",
            "gridwidth": 2,
            "linecolor": "white",
            "showbackground": true,
            "ticks": "",
            "zerolinecolor": "white"
           },
           "zaxis": {
            "backgroundcolor": "#E5ECF6",
            "gridcolor": "white",
            "gridwidth": 2,
            "linecolor": "white",
            "showbackground": true,
            "ticks": "",
            "zerolinecolor": "white"
           }
          },
          "shapedefaults": {
           "line": {
            "color": "#2a3f5f"
           }
          },
          "ternary": {
           "aaxis": {
            "gridcolor": "white",
            "linecolor": "white",
            "ticks": ""
           },
           "baxis": {
            "gridcolor": "white",
            "linecolor": "white",
            "ticks": ""
           },
           "bgcolor": "#E5ECF6",
           "caxis": {
            "gridcolor": "white",
            "linecolor": "white",
            "ticks": ""
           }
          },
          "title": {
           "x": 0.05
          },
          "xaxis": {
           "automargin": true,
           "gridcolor": "white",
           "linecolor": "white",
           "ticks": "",
           "title": {
            "standoff": 15
           },
           "zerolinecolor": "white",
           "zerolinewidth": 2
          },
          "yaxis": {
           "automargin": true,
           "gridcolor": "white",
           "linecolor": "white",
           "ticks": "",
           "title": {
            "standoff": 15
           },
           "zerolinecolor": "white",
           "zerolinewidth": 2
          }
         }
        },
        "title": {
         "font": {
          "color": "#4D5663"
         }
        },
        "xaxis": {
         "anchor": "y",
         "domain": [
          0,
          0.2125
         ],
         "gridcolor": "#E1E5ED",
         "showgrid": false,
         "tickfont": {
          "color": "#4D5663"
         },
         "title": {
          "font": {
           "color": "#4D5663"
          },
          "text": ""
         },
         "zerolinecolor": "#E1E5ED"
        },
        "xaxis10": {
         "anchor": "y10",
         "domain": [
          0.2625,
          0.475
         ],
         "gridcolor": "#E1E5ED",
         "showgrid": false,
         "tickfont": {
          "color": "#4D5663"
         },
         "title": {
          "font": {
           "color": "#4D5663"
          },
          "text": ""
         },
         "zerolinecolor": "#E1E5ED"
        },
        "xaxis11": {
         "anchor": "y11",
         "domain": [
          0.525,
          0.7375
         ],
         "gridcolor": "#E1E5ED",
         "showgrid": false,
         "tickfont": {
          "color": "#4D5663"
         },
         "title": {
          "font": {
           "color": "#4D5663"
          },
          "text": ""
         },
         "zerolinecolor": "#E1E5ED"
        },
        "xaxis12": {
         "anchor": "y12",
         "domain": [
          0.7875,
          1
         ],
         "gridcolor": "#E1E5ED",
         "showgrid": false,
         "tickfont": {
          "color": "#4D5663"
         },
         "title": {
          "font": {
           "color": "#4D5663"
          },
          "text": ""
         },
         "zerolinecolor": "#E1E5ED"
        },
        "xaxis13": {
         "anchor": "y13",
         "domain": [
          0,
          0.2125
         ],
         "gridcolor": "#E1E5ED",
         "showgrid": false,
         "tickfont": {
          "color": "#4D5663"
         },
         "title": {
          "font": {
           "color": "#4D5663"
          },
          "text": ""
         },
         "zerolinecolor": "#E1E5ED"
        },
        "xaxis14": {
         "anchor": "y14",
         "domain": [
          0.2625,
          0.475
         ],
         "gridcolor": "#E1E5ED",
         "showgrid": false,
         "tickfont": {
          "color": "#4D5663"
         },
         "title": {
          "font": {
           "color": "#4D5663"
          },
          "text": ""
         },
         "zerolinecolor": "#E1E5ED"
        },
        "xaxis15": {
         "anchor": "y15",
         "domain": [
          0.525,
          0.7375
         ],
         "gridcolor": "#E1E5ED",
         "showgrid": false,
         "tickfont": {
          "color": "#4D5663"
         },
         "title": {
          "font": {
           "color": "#4D5663"
          },
          "text": ""
         },
         "zerolinecolor": "#E1E5ED"
        },
        "xaxis16": {
         "anchor": "y16",
         "domain": [
          0.7875,
          1
         ],
         "gridcolor": "#E1E5ED",
         "showgrid": false,
         "tickfont": {
          "color": "#4D5663"
         },
         "title": {
          "font": {
           "color": "#4D5663"
          },
          "text": ""
         },
         "zerolinecolor": "#E1E5ED"
        },
        "xaxis2": {
         "anchor": "y2",
         "domain": [
          0.2625,
          0.475
         ],
         "gridcolor": "#E1E5ED",
         "showgrid": false,
         "tickfont": {
          "color": "#4D5663"
         },
         "title": {
          "font": {
           "color": "#4D5663"
          },
          "text": ""
         },
         "zerolinecolor": "#E1E5ED"
        },
        "xaxis3": {
         "anchor": "y3",
         "domain": [
          0.525,
          0.7375
         ],
         "gridcolor": "#E1E5ED",
         "showgrid": false,
         "tickfont": {
          "color": "#4D5663"
         },
         "title": {
          "font": {
           "color": "#4D5663"
          },
          "text": ""
         },
         "zerolinecolor": "#E1E5ED"
        },
        "xaxis4": {
         "anchor": "y4",
         "domain": [
          0.7875,
          1
         ],
         "gridcolor": "#E1E5ED",
         "showgrid": false,
         "tickfont": {
          "color": "#4D5663"
         },
         "title": {
          "font": {
           "color": "#4D5663"
          },
          "text": ""
         },
         "zerolinecolor": "#E1E5ED"
        },
        "xaxis5": {
         "anchor": "y5",
         "domain": [
          0,
          0.2125
         ],
         "gridcolor": "#E1E5ED",
         "showgrid": false,
         "tickfont": {
          "color": "#4D5663"
         },
         "title": {
          "font": {
           "color": "#4D5663"
          },
          "text": ""
         },
         "zerolinecolor": "#E1E5ED"
        },
        "xaxis6": {
         "anchor": "y6",
         "domain": [
          0.2625,
          0.475
         ],
         "gridcolor": "#E1E5ED",
         "showgrid": false,
         "tickfont": {
          "color": "#4D5663"
         },
         "title": {
          "font": {
           "color": "#4D5663"
          },
          "text": ""
         },
         "zerolinecolor": "#E1E5ED"
        },
        "xaxis7": {
         "anchor": "y7",
         "domain": [
          0.525,
          0.7375
         ],
         "gridcolor": "#E1E5ED",
         "showgrid": false,
         "tickfont": {
          "color": "#4D5663"
         },
         "title": {
          "font": {
           "color": "#4D5663"
          },
          "text": ""
         },
         "zerolinecolor": "#E1E5ED"
        },
        "xaxis8": {
         "anchor": "y8",
         "domain": [
          0.7875,
          1
         ],
         "gridcolor": "#E1E5ED",
         "showgrid": false,
         "tickfont": {
          "color": "#4D5663"
         },
         "title": {
          "font": {
           "color": "#4D5663"
          },
          "text": ""
         },
         "zerolinecolor": "#E1E5ED"
        },
        "xaxis9": {
         "anchor": "y9",
         "domain": [
          0,
          0.2125
         ],
         "gridcolor": "#E1E5ED",
         "showgrid": false,
         "tickfont": {
          "color": "#4D5663"
         },
         "title": {
          "font": {
           "color": "#4D5663"
          },
          "text": ""
         },
         "zerolinecolor": "#E1E5ED"
        },
        "yaxis": {
         "anchor": "x",
         "domain": [
          0.8025,
          1
         ],
         "gridcolor": "#E1E5ED",
         "showgrid": false,
         "tickfont": {
          "color": "#4D5663"
         },
         "title": {
          "font": {
           "color": "#4D5663"
          },
          "text": ""
         },
         "zerolinecolor": "#E1E5ED"
        },
        "yaxis10": {
         "anchor": "x10",
         "domain": [
          0.2675,
          0.465
         ],
         "gridcolor": "#E1E5ED",
         "showgrid": false,
         "tickfont": {
          "color": "#4D5663"
         },
         "title": {
          "font": {
           "color": "#4D5663"
          },
          "text": ""
         },
         "zerolinecolor": "#E1E5ED"
        },
        "yaxis11": {
         "anchor": "x11",
         "domain": [
          0.2675,
          0.465
         ],
         "gridcolor": "#E1E5ED",
         "showgrid": false,
         "tickfont": {
          "color": "#4D5663"
         },
         "title": {
          "font": {
           "color": "#4D5663"
          },
          "text": ""
         },
         "zerolinecolor": "#E1E5ED"
        },
        "yaxis12": {
         "anchor": "x12",
         "domain": [
          0.2675,
          0.465
         ],
         "gridcolor": "#E1E5ED",
         "showgrid": false,
         "tickfont": {
          "color": "#4D5663"
         },
         "title": {
          "font": {
           "color": "#4D5663"
          },
          "text": ""
         },
         "zerolinecolor": "#E1E5ED"
        },
        "yaxis13": {
         "anchor": "x13",
         "domain": [
          0,
          0.1975
         ],
         "gridcolor": "#E1E5ED",
         "showgrid": false,
         "tickfont": {
          "color": "#4D5663"
         },
         "title": {
          "font": {
           "color": "#4D5663"
          },
          "text": ""
         },
         "zerolinecolor": "#E1E5ED"
        },
        "yaxis14": {
         "anchor": "x14",
         "domain": [
          0,
          0.1975
         ],
         "gridcolor": "#E1E5ED",
         "showgrid": false,
         "tickfont": {
          "color": "#4D5663"
         },
         "title": {
          "font": {
           "color": "#4D5663"
          },
          "text": ""
         },
         "zerolinecolor": "#E1E5ED"
        },
        "yaxis15": {
         "anchor": "x15",
         "domain": [
          0,
          0.1975
         ],
         "gridcolor": "#E1E5ED",
         "showgrid": false,
         "tickfont": {
          "color": "#4D5663"
         },
         "title": {
          "font": {
           "color": "#4D5663"
          },
          "text": ""
         },
         "zerolinecolor": "#E1E5ED"
        },
        "yaxis16": {
         "anchor": "x16",
         "domain": [
          0,
          0.1975
         ],
         "gridcolor": "#E1E5ED",
         "showgrid": false,
         "tickfont": {
          "color": "#4D5663"
         },
         "title": {
          "font": {
           "color": "#4D5663"
          },
          "text": ""
         },
         "zerolinecolor": "#E1E5ED"
        },
        "yaxis2": {
         "anchor": "x2",
         "domain": [
          0.8025,
          1
         ],
         "gridcolor": "#E1E5ED",
         "showgrid": false,
         "tickfont": {
          "color": "#4D5663"
         },
         "title": {
          "font": {
           "color": "#4D5663"
          },
          "text": ""
         },
         "zerolinecolor": "#E1E5ED"
        },
        "yaxis3": {
         "anchor": "x3",
         "domain": [
          0.8025,
          1
         ],
         "gridcolor": "#E1E5ED",
         "showgrid": false,
         "tickfont": {
          "color": "#4D5663"
         },
         "title": {
          "font": {
           "color": "#4D5663"
          },
          "text": ""
         },
         "zerolinecolor": "#E1E5ED"
        },
        "yaxis4": {
         "anchor": "x4",
         "domain": [
          0.8025,
          1
         ],
         "gridcolor": "#E1E5ED",
         "showgrid": false,
         "tickfont": {
          "color": "#4D5663"
         },
         "title": {
          "font": {
           "color": "#4D5663"
          },
          "text": ""
         },
         "zerolinecolor": "#E1E5ED"
        },
        "yaxis5": {
         "anchor": "x5",
         "domain": [
          0.535,
          0.7325
         ],
         "gridcolor": "#E1E5ED",
         "showgrid": false,
         "tickfont": {
          "color": "#4D5663"
         },
         "title": {
          "font": {
           "color": "#4D5663"
          },
          "text": ""
         },
         "zerolinecolor": "#E1E5ED"
        },
        "yaxis6": {
         "anchor": "x6",
         "domain": [
          0.535,
          0.7325
         ],
         "gridcolor": "#E1E5ED",
         "showgrid": false,
         "tickfont": {
          "color": "#4D5663"
         },
         "title": {
          "font": {
           "color": "#4D5663"
          },
          "text": ""
         },
         "zerolinecolor": "#E1E5ED"
        },
        "yaxis7": {
         "anchor": "x7",
         "domain": [
          0.535,
          0.7325
         ],
         "gridcolor": "#E1E5ED",
         "showgrid": false,
         "tickfont": {
          "color": "#4D5663"
         },
         "title": {
          "font": {
           "color": "#4D5663"
          },
          "text": ""
         },
         "zerolinecolor": "#E1E5ED"
        },
        "yaxis8": {
         "anchor": "x8",
         "domain": [
          0.535,
          0.7325
         ],
         "gridcolor": "#E1E5ED",
         "showgrid": false,
         "tickfont": {
          "color": "#4D5663"
         },
         "title": {
          "font": {
           "color": "#4D5663"
          },
          "text": ""
         },
         "zerolinecolor": "#E1E5ED"
        },
        "yaxis9": {
         "anchor": "x9",
         "domain": [
          0.2675,
          0.465
         ],
         "gridcolor": "#E1E5ED",
         "showgrid": false,
         "tickfont": {
          "color": "#4D5663"
         },
         "title": {
          "font": {
           "color": "#4D5663"
          },
          "text": ""
         },
         "zerolinecolor": "#E1E5ED"
        }
       }
      },
      "text/html": [
       "<div>                            <div id=\"c745c480-991b-4367-aa1f-ee554c2cbc46\" class=\"plotly-graph-div\" style=\"height:525px; width:100%;\"></div>            <script type=\"text/javascript\">                require([\"plotly\"], function(Plotly) {                    window.PLOTLYENV=window.PLOTLYENV || {};\n",
       "                    window.PLOTLYENV.BASE_URL='https://plot.ly';                                    if (document.getElementById(\"c745c480-991b-4367-aa1f-ee554c2cbc46\")) {                    Plotly.newPlot(                        \"c745c480-991b-4367-aa1f-ee554c2cbc46\",                        [{\"histfunc\":\"count\",\"histnorm\":\"\",\"marker\":{\"color\":\"rgba(255, 153, 51, 1.0)\",\"line\":{\"color\":\"#4D5663\",\"width\":1.3}},\"name\":\"A\",\"nbinsx\":10,\"opacity\":0.8,\"orientation\":\"v\",\"x\":[0.880959023786186,0.33345468870373934,-0.7409452183565108,-1.0977254619292793,1.426956946279641,-0.40451770845568713,0.7724937627319252,0.644782086556282,-1.4869968168898273,0.37640996305940577,0.19241489957125432,-1.111594409266069,-1.5716846453869657,-0.36244462977814346,0.9744328917524051,0.343809552356227,-0.3080270466791063,-0.1950077347039267,-0.18910257491181054,-0.6381781064691867,0.5260265822330088,0.17218121992761243,0.1317493478999784,-1.0133952881868464,-0.16642802340778293,-0.644563294742128,0.7660731182339767,0.47884529664076686,-0.521733455462245,0.2847131403623892,1.5396458082150322,-0.4241727051938035,0.8362651765647242,-0.9500544906883717,1.4845688288335317,1.1664130670490056,-0.0973424642717085,0.10116897363812288,1.4395527944343374,-0.935803180624831,1.191156335436539,0.7008093119694427,-0.9877741095005993,-0.4067540719547818,-1.370266828503218,-1.5353289076252745,0.5156460626883984,0.4587356572312894,0.09260485165730781,-1.6636675799745504,-0.7290334138658231,2.3527806369229394,-0.02979154016277506,0.024883854810285724,0.1899346163866445,0.5236554909988752,-0.4997433251662194,-1.3642904785357,-0.29608229446459455,-0.6610346788287468,0.33500653513485135,1.1434766678809734,0.6274696800615975,0.16552222232531544,-0.20205077372308394,0.912181391847108,-0.5858661976669097,-0.3396202037385737,0.893157460815925,-0.03964706555960653,-1.3103665565452216,0.5145396422513303,0.4166449293411519,1.3876021868735242,-0.3566481515000294,1.2902317814630657,0.8846490176365839,-1.5320252852273633,0.24356536270953288,1.3827634187849156,1.1819807080169038,-0.9660934499810131,-0.14796198765918317,-0.29251024584393925,-1.2027691265328306,1.920477778045479,-0.4130477360151552,0.5202955950169208,1.455326064624853,-2.0227300702714315,-1.6256166848992932,0.07554860674090483,1.7989334075269259,-1.4357117254331069,-1.1162061239030632,1.2645613747776647,-0.05085065547567881,1.3957163268407782,0.24453545539482402,0.4271283479483513],\"xaxis\":\"x\",\"yaxis\":\"y\",\"type\":\"histogram\"},{\"line\":{\"color\":\"rgba(128, 128, 128, 1.0)\",\"dash\":\"solid\",\"shape\":\"linear\",\"width\":1.3},\"marker\":{\"size\":2,\"symbol\":\"circle\"},\"mode\":\"markers\",\"name\":\"A\",\"text\":\"\",\"x\":[-1.5991275929197728,-0.8139801222032823,0.8884921961412762,0.015894687243417947,-0.6325211178813915,-1.9991061820032472,-0.555553251851912,-0.35026738841258764,0.46336296385168246,-0.33200786419981354,-0.014622520917696516,-1.2701991072571905,2.0392368945542794,-0.2820636697677745,1.1342694570432095,1.561697756976798,1.0717177775448286,1.1522195478371517,0.7570476750581898,-0.09291807113560716,-1.6674145944274692,-0.6686748289046941,-0.979060347779246,0.8576553382435183,0.9156021630201164,1.0388677923626626,2.336127802368596,0.40685339783055247,0.5189884359989433,0.07478796476990413,-0.6238735508899921,0.6256175510166899,0.5922977782752936,-1.1265454524507295,1.4698329632388514,0.42799339053984825,0.8457940003940891,-0.1262185339529523,-0.25234556078581993,-1.1260192157045796,0.3835707132779261,-0.8314028714113617,0.8777179911373496,1.4463623493451832,3.1034799952860674,1.013634913867253,1.779853980511546,0.10860250518723495,0.22796974651343066,-1.0458153022900263,-1.131689781985826,2.7004697893450524,1.0334664852867421,-0.9288778444152588,0.4769366435803124,3.0211093187401215,1.0593724527376387,-0.6087819099103041,-0.2575805456381415,0.5066594778797082,1.4002989836878734,1.4411063346739925,0.04840543213115739,1.896847405157337,0.6338012305107075,-1.3562240913416577,0.4019154283115991,0.5629306992560655,-0.5792695927028133,1.1149305580150437,2.1164451210238098,-0.6520525930293237,-0.6584177578263147,0.9868904525143627,-0.41216520249140554,-0.27287903130401997,1.115666369860281,-0.39772904944217946,-0.4598852585159614,-1.7834138468017278,-0.2923694109708229,-1.8736668007494182,-0.36712341162900086,-1.0182841444821644,-0.3975773402120633,0.5562011702221297,0.3728989910009789,-1.1391381258104147,1.8661318239083446,1.1281553985958181,2.043942601739804,0.3751146032127571,0.06444449486988196,1.4759000232939212,-0.8826082038740967,-1.8309620572532959,-1.9116865067345703,1.3435903624112713,-0.3510226043980688,-1.336307829278521],\"xaxis\":\"x2\",\"y\":[0.880959023786186,0.33345468870373934,-0.7409452183565108,-1.0977254619292793,1.426956946279641,-0.40451770845568713,0.7724937627319252,0.644782086556282,-1.4869968168898273,0.37640996305940577,0.19241489957125432,-1.111594409266069,-1.5716846453869657,-0.36244462977814346,0.9744328917524051,0.343809552356227,-0.3080270466791063,-0.1950077347039267,-0.18910257491181054,-0.6381781064691867,0.5260265822330088,0.17218121992761243,0.1317493478999784,-1.0133952881868464,-0.16642802340778293,-0.644563294742128,0.7660731182339767,0.47884529664076686,-0.521733455462245,0.2847131403623892,1.5396458082150322,-0.4241727051938035,0.8362651765647242,-0.9500544906883717,1.4845688288335317,1.1664130670490056,-0.0973424642717085,0.10116897363812288,1.4395527944343374,-0.935803180624831,1.191156335436539,0.7008093119694427,-0.9877741095005993,-0.4067540719547818,-1.370266828503218,-1.5353289076252745,0.5156460626883984,0.4587356572312894,0.09260485165730781,-1.6636675799745504,-0.7290334138658231,2.3527806369229394,-0.02979154016277506,0.024883854810285724,0.1899346163866445,0.5236554909988752,-0.4997433251662194,-1.3642904785357,-0.29608229446459455,-0.6610346788287468,0.33500653513485135,1.1434766678809734,0.6274696800615975,0.16552222232531544,-0.20205077372308394,0.912181391847108,-0.5858661976669097,-0.3396202037385737,0.893157460815925,-0.03964706555960653,-1.3103665565452216,0.5145396422513303,0.4166449293411519,1.3876021868735242,-0.3566481515000294,1.2902317814630657,0.8846490176365839,-1.5320252852273633,0.24356536270953288,1.3827634187849156,1.1819807080169038,-0.9660934499810131,-0.14796198765918317,-0.29251024584393925,-1.2027691265328306,1.920477778045479,-0.4130477360151552,0.5202955950169208,1.455326064624853,-2.0227300702714315,-1.6256166848992932,0.07554860674090483,1.7989334075269259,-1.4357117254331069,-1.1162061239030632,1.2645613747776647,-0.05085065547567881,1.3957163268407782,0.24453545539482402,0.4271283479483513],\"yaxis\":\"y2\",\"type\":\"scatter\"},{\"line\":{\"color\":\"rgba(128, 128, 128, 1.0)\",\"dash\":\"solid\",\"shape\":\"linear\",\"width\":1.3},\"marker\":{\"size\":2,\"symbol\":\"circle\"},\"mode\":\"markers\",\"name\":\"A\",\"text\":\"\",\"x\":[-0.5090506193568138,0.46783502064920096,0.5140140169099323,-0.135858190534951,-1.1120422809221553,0.19036939224164473,-0.03979712243952682,0.33296567649967906,-1.9898009642441512,-0.902537575842969,0.512370114531166,0.7457231798874311,-0.4599139337077797,-0.08329035539728351,0.2939914814897891,1.0397367809010714,0.26753779808456957,-0.6578224852206888,0.14082629103879815,0.41566371267221724,1.022721310170276,-1.860838307387713,1.5944326598969125,-1.2678740218410052,-0.5803517829706125,1.7185130952373155,-0.2770565620613567,-0.2174035320063592,-0.4464487113666228,-0.5193387558854705,1.0241756496954264,-0.2740642183840163,0.7501035573720817,0.8091131638344188,-1.3863291423546382,1.6225906991723393,0.40853475087480695,0.03205088916471121,-0.005833144026442187,0.34601231685819017,0.7348236411311267,0.6277203931914014,-0.2633724364374913,-0.920502242018471,-2.2069563296162458,-0.194494195736623,0.9327130181865532,-0.1733931402852244,1.0158625618450354,1.539902082125618,-0.05376573178868323,-0.6922588647787197,0.3037962419061943,1.1048652730300073,0.3038662067981688,-0.9185307726746565,0.25712963151031315,0.43889657467445065,-0.690794329118379,-0.9957969810098548,-0.49164947058854075,-0.6454940127383348,1.4888193820944833,-0.7290828678415429,1.083106495091023,1.521053498546015,-0.584366558587681,0.017737965521257622,-1.8226790982330792,0.5083992619503088,0.25765616875605013,1.8496015765740905,1.4472779923578751,0.29558928507376103,-0.12266302408527396,-0.3736704215085696,0.5045060169757424,0.36557750268798883,0.594394718574478,0.49295114743440466,2.9070038770508537,0.6185281046185005,1.3096511147374101,1.6268644901970832,-0.7709033259032211,0.8822290039516804,0.14807768446328531,1.943252534898724,0.8686695792913697,-0.9677240710412516,0.10579717107376764,0.03778346688749221,1.5544957242622193,0.21052048722692912,0.8376124681460906,-1.8103708705905752,0.45736288915641055,0.8671009267301292,-0.7153945627548396,0.4486740570690812],\"xaxis\":\"x3\",\"y\":[0.880959023786186,0.33345468870373934,-0.7409452183565108,-1.0977254619292793,1.426956946279641,-0.40451770845568713,0.7724937627319252,0.644782086556282,-1.4869968168898273,0.37640996305940577,0.19241489957125432,-1.111594409266069,-1.5716846453869657,-0.36244462977814346,0.9744328917524051,0.343809552356227,-0.3080270466791063,-0.1950077347039267,-0.18910257491181054,-0.6381781064691867,0.5260265822330088,0.17218121992761243,0.1317493478999784,-1.0133952881868464,-0.16642802340778293,-0.644563294742128,0.7660731182339767,0.47884529664076686,-0.521733455462245,0.2847131403623892,1.5396458082150322,-0.4241727051938035,0.8362651765647242,-0.9500544906883717,1.4845688288335317,1.1664130670490056,-0.0973424642717085,0.10116897363812288,1.4395527944343374,-0.935803180624831,1.191156335436539,0.7008093119694427,-0.9877741095005993,-0.4067540719547818,-1.370266828503218,-1.5353289076252745,0.5156460626883984,0.4587356572312894,0.09260485165730781,-1.6636675799745504,-0.7290334138658231,2.3527806369229394,-0.02979154016277506,0.024883854810285724,0.1899346163866445,0.5236554909988752,-0.4997433251662194,-1.3642904785357,-0.29608229446459455,-0.6610346788287468,0.33500653513485135,1.1434766678809734,0.6274696800615975,0.16552222232531544,-0.20205077372308394,0.912181391847108,-0.5858661976669097,-0.3396202037385737,0.893157460815925,-0.03964706555960653,-1.3103665565452216,0.5145396422513303,0.4166449293411519,1.3876021868735242,-0.3566481515000294,1.2902317814630657,0.8846490176365839,-1.5320252852273633,0.24356536270953288,1.3827634187849156,1.1819807080169038,-0.9660934499810131,-0.14796198765918317,-0.29251024584393925,-1.2027691265328306,1.920477778045479,-0.4130477360151552,0.5202955950169208,1.455326064624853,-2.0227300702714315,-1.6256166848992932,0.07554860674090483,1.7989334075269259,-1.4357117254331069,-1.1162061239030632,1.2645613747776647,-0.05085065547567881,1.3957163268407782,0.24453545539482402,0.4271283479483513],\"yaxis\":\"y3\",\"type\":\"scatter\"},{\"line\":{\"color\":\"rgba(128, 128, 128, 1.0)\",\"dash\":\"solid\",\"shape\":\"linear\",\"width\":1.3},\"marker\":{\"size\":2,\"symbol\":\"circle\"},\"mode\":\"markers\",\"name\":\"A\",\"text\":\"\",\"x\":[-0.9043521089077933,1.4126520248446917,0.015608708201911856,-0.5752355462883069,-2.272948276746747,1.3203900706416196,-2.230898899533376,0.22438129820470562,1.2490549803105375,-2.336596765497704,0.8174101824978081,-0.5956833597847471,0.8306951075365935,0.6042093052059592,-2.246940809702541,-0.15470726706638446,-0.008964251377927451,-0.3817142443178131,-0.6427627753846652,-1.2838575393277776,-0.3710064429112497,2.0522660728201556,1.005876636145941,2.0659670213503434,1.6234730288753514,0.09396042799024812,1.6479324559722837,-0.8313293070258346,-0.20041110399305048,-0.09722610598308987,0.5834894535754519,1.5753609002860787,-1.613499300383705,-0.1840892030742178,-1.4749279129444293,1.4013197965998834,-1.1976061033697114,-0.4129822037963091,-0.35850380531896736,0.0786530598906968,1.1528999573851861,0.2604220892617955,0.8379367990965246,-1.5454548756177453,0.01618998838375046,-1.7976039960822157,-0.21383226753443652,-0.8045216598108752,-2.144450573040715,1.2929354398268258,1.3515023005457099,0.32337749541065963,0.5050674795041893,0.3496208302770857,-0.8078009040674193,-0.9025483984595123,-0.5968115500744454,-2.105802710422677,0.5295346725256338,-0.2925482620132626,-1.7637327493020316,-0.7070451788823175,-0.02329149612738796,-0.3792157889939141,0.4584818326350015,-0.21035490252607428,0.3442686223433735,0.1089620955177308,1.4261858797405715,-1.1865870770467335,-2.075989907618423,1.4904877173585762,-1.3901437070696612,0.8769390701250268,-0.611487167754324,-0.2872921122157759,-0.46287543436419715,1.7926490254086715,1.1382122118892304,0.7531920375512052,0.15841147444526504,-1.27417087521861,-1.0103307940191708,0.6563776711573666,-0.07729188687001957,0.08087899046242757,-0.9297047164787704,-0.8404764747434706,0.03888362063569858,-1.0422470626956135,0.4037991563406125,-1.0989862827713213,0.799790414892631,1.3946745259718174,0.5085292317321647,-0.9797594818992357,0.5447244843241852,-0.5147254239232565,-0.31319707513158007,0.12620707747039064],\"xaxis\":\"x4\",\"y\":[0.880959023786186,0.33345468870373934,-0.7409452183565108,-1.0977254619292793,1.426956946279641,-0.40451770845568713,0.7724937627319252,0.644782086556282,-1.4869968168898273,0.37640996305940577,0.19241489957125432,-1.111594409266069,-1.5716846453869657,-0.36244462977814346,0.9744328917524051,0.343809552356227,-0.3080270466791063,-0.1950077347039267,-0.18910257491181054,-0.6381781064691867,0.5260265822330088,0.17218121992761243,0.1317493478999784,-1.0133952881868464,-0.16642802340778293,-0.644563294742128,0.7660731182339767,0.47884529664076686,-0.521733455462245,0.2847131403623892,1.5396458082150322,-0.4241727051938035,0.8362651765647242,-0.9500544906883717,1.4845688288335317,1.1664130670490056,-0.0973424642717085,0.10116897363812288,1.4395527944343374,-0.935803180624831,1.191156335436539,0.7008093119694427,-0.9877741095005993,-0.4067540719547818,-1.370266828503218,-1.5353289076252745,0.5156460626883984,0.4587356572312894,0.09260485165730781,-1.6636675799745504,-0.7290334138658231,2.3527806369229394,-0.02979154016277506,0.024883854810285724,0.1899346163866445,0.5236554909988752,-0.4997433251662194,-1.3642904785357,-0.29608229446459455,-0.6610346788287468,0.33500653513485135,1.1434766678809734,0.6274696800615975,0.16552222232531544,-0.20205077372308394,0.912181391847108,-0.5858661976669097,-0.3396202037385737,0.893157460815925,-0.03964706555960653,-1.3103665565452216,0.5145396422513303,0.4166449293411519,1.3876021868735242,-0.3566481515000294,1.2902317814630657,0.8846490176365839,-1.5320252852273633,0.24356536270953288,1.3827634187849156,1.1819807080169038,-0.9660934499810131,-0.14796198765918317,-0.29251024584393925,-1.2027691265328306,1.920477778045479,-0.4130477360151552,0.5202955950169208,1.455326064624853,-2.0227300702714315,-1.6256166848992932,0.07554860674090483,1.7989334075269259,-1.4357117254331069,-1.1162061239030632,1.2645613747776647,-0.05085065547567881,1.3957163268407782,0.24453545539482402,0.4271283479483513],\"yaxis\":\"y4\",\"type\":\"scatter\"},{\"line\":{\"color\":\"rgba(128, 128, 128, 1.0)\",\"dash\":\"solid\",\"shape\":\"linear\",\"width\":1.3},\"marker\":{\"size\":2,\"symbol\":\"circle\"},\"mode\":\"markers\",\"name\":\"B\",\"text\":\"\",\"x\":[0.880959023786186,0.33345468870373934,-0.7409452183565108,-1.0977254619292793,1.426956946279641,-0.40451770845568713,0.7724937627319252,0.644782086556282,-1.4869968168898273,0.37640996305940577,0.19241489957125432,-1.111594409266069,-1.5716846453869657,-0.36244462977814346,0.9744328917524051,0.343809552356227,-0.3080270466791063,-0.1950077347039267,-0.18910257491181054,-0.6381781064691867,0.5260265822330088,0.17218121992761243,0.1317493478999784,-1.0133952881868464,-0.16642802340778293,-0.644563294742128,0.7660731182339767,0.47884529664076686,-0.521733455462245,0.2847131403623892,1.5396458082150322,-0.4241727051938035,0.8362651765647242,-0.9500544906883717,1.4845688288335317,1.1664130670490056,-0.0973424642717085,0.10116897363812288,1.4395527944343374,-0.935803180624831,1.191156335436539,0.7008093119694427,-0.9877741095005993,-0.4067540719547818,-1.370266828503218,-1.5353289076252745,0.5156460626883984,0.4587356572312894,0.09260485165730781,-1.6636675799745504,-0.7290334138658231,2.3527806369229394,-0.02979154016277506,0.024883854810285724,0.1899346163866445,0.5236554909988752,-0.4997433251662194,-1.3642904785357,-0.29608229446459455,-0.6610346788287468,0.33500653513485135,1.1434766678809734,0.6274696800615975,0.16552222232531544,-0.20205077372308394,0.912181391847108,-0.5858661976669097,-0.3396202037385737,0.893157460815925,-0.03964706555960653,-1.3103665565452216,0.5145396422513303,0.4166449293411519,1.3876021868735242,-0.3566481515000294,1.2902317814630657,0.8846490176365839,-1.5320252852273633,0.24356536270953288,1.3827634187849156,1.1819807080169038,-0.9660934499810131,-0.14796198765918317,-0.29251024584393925,-1.2027691265328306,1.920477778045479,-0.4130477360151552,0.5202955950169208,1.455326064624853,-2.0227300702714315,-1.6256166848992932,0.07554860674090483,1.7989334075269259,-1.4357117254331069,-1.1162061239030632,1.2645613747776647,-0.05085065547567881,1.3957163268407782,0.24453545539482402,0.4271283479483513],\"xaxis\":\"x5\",\"y\":[-1.5991275929197728,-0.8139801222032823,0.8884921961412762,0.015894687243417947,-0.6325211178813915,-1.9991061820032472,-0.555553251851912,-0.35026738841258764,0.46336296385168246,-0.33200786419981354,-0.014622520917696516,-1.2701991072571905,2.0392368945542794,-0.2820636697677745,1.1342694570432095,1.561697756976798,1.0717177775448286,1.1522195478371517,0.7570476750581898,-0.09291807113560716,-1.6674145944274692,-0.6686748289046941,-0.979060347779246,0.8576553382435183,0.9156021630201164,1.0388677923626626,2.336127802368596,0.40685339783055247,0.5189884359989433,0.07478796476990413,-0.6238735508899921,0.6256175510166899,0.5922977782752936,-1.1265454524507295,1.4698329632388514,0.42799339053984825,0.8457940003940891,-0.1262185339529523,-0.25234556078581993,-1.1260192157045796,0.3835707132779261,-0.8314028714113617,0.8777179911373496,1.4463623493451832,3.1034799952860674,1.013634913867253,1.779853980511546,0.10860250518723495,0.22796974651343066,-1.0458153022900263,-1.131689781985826,2.7004697893450524,1.0334664852867421,-0.9288778444152588,0.4769366435803124,3.0211093187401215,1.0593724527376387,-0.6087819099103041,-0.2575805456381415,0.5066594778797082,1.4002989836878734,1.4411063346739925,0.04840543213115739,1.896847405157337,0.6338012305107075,-1.3562240913416577,0.4019154283115991,0.5629306992560655,-0.5792695927028133,1.1149305580150437,2.1164451210238098,-0.6520525930293237,-0.6584177578263147,0.9868904525143627,-0.41216520249140554,-0.27287903130401997,1.115666369860281,-0.39772904944217946,-0.4598852585159614,-1.7834138468017278,-0.2923694109708229,-1.8736668007494182,-0.36712341162900086,-1.0182841444821644,-0.3975773402120633,0.5562011702221297,0.3728989910009789,-1.1391381258104147,1.8661318239083446,1.1281553985958181,2.043942601739804,0.3751146032127571,0.06444449486988196,1.4759000232939212,-0.8826082038740967,-1.8309620572532959,-1.9116865067345703,1.3435903624112713,-0.3510226043980688,-1.336307829278521],\"yaxis\":\"y5\",\"type\":\"scatter\"},{\"histfunc\":\"count\",\"histnorm\":\"\",\"marker\":{\"color\":\"rgba(55, 128, 191, 1.0)\",\"line\":{\"color\":\"#4D5663\",\"width\":1.3}},\"name\":\"B\",\"nbinsx\":10,\"opacity\":0.8,\"orientation\":\"v\",\"x\":[-1.5991275929197728,-0.8139801222032823,0.8884921961412762,0.015894687243417947,-0.6325211178813915,-1.9991061820032472,-0.555553251851912,-0.35026738841258764,0.46336296385168246,-0.33200786419981354,-0.014622520917696516,-1.2701991072571905,2.0392368945542794,-0.2820636697677745,1.1342694570432095,1.561697756976798,1.0717177775448286,1.1522195478371517,0.7570476750581898,-0.09291807113560716,-1.6674145944274692,-0.6686748289046941,-0.979060347779246,0.8576553382435183,0.9156021630201164,1.0388677923626626,2.336127802368596,0.40685339783055247,0.5189884359989433,0.07478796476990413,-0.6238735508899921,0.6256175510166899,0.5922977782752936,-1.1265454524507295,1.4698329632388514,0.42799339053984825,0.8457940003940891,-0.1262185339529523,-0.25234556078581993,-1.1260192157045796,0.3835707132779261,-0.8314028714113617,0.8777179911373496,1.4463623493451832,3.1034799952860674,1.013634913867253,1.779853980511546,0.10860250518723495,0.22796974651343066,-1.0458153022900263,-1.131689781985826,2.7004697893450524,1.0334664852867421,-0.9288778444152588,0.4769366435803124,3.0211093187401215,1.0593724527376387,-0.6087819099103041,-0.2575805456381415,0.5066594778797082,1.4002989836878734,1.4411063346739925,0.04840543213115739,1.896847405157337,0.6338012305107075,-1.3562240913416577,0.4019154283115991,0.5629306992560655,-0.5792695927028133,1.1149305580150437,2.1164451210238098,-0.6520525930293237,-0.6584177578263147,0.9868904525143627,-0.41216520249140554,-0.27287903130401997,1.115666369860281,-0.39772904944217946,-0.4598852585159614,-1.7834138468017278,-0.2923694109708229,-1.8736668007494182,-0.36712341162900086,-1.0182841444821644,-0.3975773402120633,0.5562011702221297,0.3728989910009789,-1.1391381258104147,1.8661318239083446,1.1281553985958181,2.043942601739804,0.3751146032127571,0.06444449486988196,1.4759000232939212,-0.8826082038740967,-1.8309620572532959,-1.9116865067345703,1.3435903624112713,-0.3510226043980688,-1.336307829278521],\"xaxis\":\"x6\",\"yaxis\":\"y6\",\"type\":\"histogram\"},{\"line\":{\"color\":\"rgba(128, 128, 128, 1.0)\",\"dash\":\"solid\",\"shape\":\"linear\",\"width\":1.3},\"marker\":{\"size\":2,\"symbol\":\"circle\"},\"mode\":\"markers\",\"name\":\"B\",\"text\":\"\",\"x\":[-0.5090506193568138,0.46783502064920096,0.5140140169099323,-0.135858190534951,-1.1120422809221553,0.19036939224164473,-0.03979712243952682,0.33296567649967906,-1.9898009642441512,-0.902537575842969,0.512370114531166,0.7457231798874311,-0.4599139337077797,-0.08329035539728351,0.2939914814897891,1.0397367809010714,0.26753779808456957,-0.6578224852206888,0.14082629103879815,0.41566371267221724,1.022721310170276,-1.860838307387713,1.5944326598969125,-1.2678740218410052,-0.5803517829706125,1.7185130952373155,-0.2770565620613567,-0.2174035320063592,-0.4464487113666228,-0.5193387558854705,1.0241756496954264,-0.2740642183840163,0.7501035573720817,0.8091131638344188,-1.3863291423546382,1.6225906991723393,0.40853475087480695,0.03205088916471121,-0.005833144026442187,0.34601231685819017,0.7348236411311267,0.6277203931914014,-0.2633724364374913,-0.920502242018471,-2.2069563296162458,-0.194494195736623,0.9327130181865532,-0.1733931402852244,1.0158625618450354,1.539902082125618,-0.05376573178868323,-0.6922588647787197,0.3037962419061943,1.1048652730300073,0.3038662067981688,-0.9185307726746565,0.25712963151031315,0.43889657467445065,-0.690794329118379,-0.9957969810098548,-0.49164947058854075,-0.6454940127383348,1.4888193820944833,-0.7290828678415429,1.083106495091023,1.521053498546015,-0.584366558587681,0.017737965521257622,-1.8226790982330792,0.5083992619503088,0.25765616875605013,1.8496015765740905,1.4472779923578751,0.29558928507376103,-0.12266302408527396,-0.3736704215085696,0.5045060169757424,0.36557750268798883,0.594394718574478,0.49295114743440466,2.9070038770508537,0.6185281046185005,1.3096511147374101,1.6268644901970832,-0.7709033259032211,0.8822290039516804,0.14807768446328531,1.943252534898724,0.8686695792913697,-0.9677240710412516,0.10579717107376764,0.03778346688749221,1.5544957242622193,0.21052048722692912,0.8376124681460906,-1.8103708705905752,0.45736288915641055,0.8671009267301292,-0.7153945627548396,0.4486740570690812],\"xaxis\":\"x7\",\"y\":[-1.5991275929197728,-0.8139801222032823,0.8884921961412762,0.015894687243417947,-0.6325211178813915,-1.9991061820032472,-0.555553251851912,-0.35026738841258764,0.46336296385168246,-0.33200786419981354,-0.014622520917696516,-1.2701991072571905,2.0392368945542794,-0.2820636697677745,1.1342694570432095,1.561697756976798,1.0717177775448286,1.1522195478371517,0.7570476750581898,-0.09291807113560716,-1.6674145944274692,-0.6686748289046941,-0.979060347779246,0.8576553382435183,0.9156021630201164,1.0388677923626626,2.336127802368596,0.40685339783055247,0.5189884359989433,0.07478796476990413,-0.6238735508899921,0.6256175510166899,0.5922977782752936,-1.1265454524507295,1.4698329632388514,0.42799339053984825,0.8457940003940891,-0.1262185339529523,-0.25234556078581993,-1.1260192157045796,0.3835707132779261,-0.8314028714113617,0.8777179911373496,1.4463623493451832,3.1034799952860674,1.013634913867253,1.779853980511546,0.10860250518723495,0.22796974651343066,-1.0458153022900263,-1.131689781985826,2.7004697893450524,1.0334664852867421,-0.9288778444152588,0.4769366435803124,3.0211093187401215,1.0593724527376387,-0.6087819099103041,-0.2575805456381415,0.5066594778797082,1.4002989836878734,1.4411063346739925,0.04840543213115739,1.896847405157337,0.6338012305107075,-1.3562240913416577,0.4019154283115991,0.5629306992560655,-0.5792695927028133,1.1149305580150437,2.1164451210238098,-0.6520525930293237,-0.6584177578263147,0.9868904525143627,-0.41216520249140554,-0.27287903130401997,1.115666369860281,-0.39772904944217946,-0.4598852585159614,-1.7834138468017278,-0.2923694109708229,-1.8736668007494182,-0.36712341162900086,-1.0182841444821644,-0.3975773402120633,0.5562011702221297,0.3728989910009789,-1.1391381258104147,1.8661318239083446,1.1281553985958181,2.043942601739804,0.3751146032127571,0.06444449486988196,1.4759000232939212,-0.8826082038740967,-1.8309620572532959,-1.9116865067345703,1.3435903624112713,-0.3510226043980688,-1.336307829278521],\"yaxis\":\"y7\",\"type\":\"scatter\"},{\"line\":{\"color\":\"rgba(128, 128, 128, 1.0)\",\"dash\":\"solid\",\"shape\":\"linear\",\"width\":1.3},\"marker\":{\"size\":2,\"symbol\":\"circle\"},\"mode\":\"markers\",\"name\":\"B\",\"text\":\"\",\"x\":[-0.9043521089077933,1.4126520248446917,0.015608708201911856,-0.5752355462883069,-2.272948276746747,1.3203900706416196,-2.230898899533376,0.22438129820470562,1.2490549803105375,-2.336596765497704,0.8174101824978081,-0.5956833597847471,0.8306951075365935,0.6042093052059592,-2.246940809702541,-0.15470726706638446,-0.008964251377927451,-0.3817142443178131,-0.6427627753846652,-1.2838575393277776,-0.3710064429112497,2.0522660728201556,1.005876636145941,2.0659670213503434,1.6234730288753514,0.09396042799024812,1.6479324559722837,-0.8313293070258346,-0.20041110399305048,-0.09722610598308987,0.5834894535754519,1.5753609002860787,-1.613499300383705,-0.1840892030742178,-1.4749279129444293,1.4013197965998834,-1.1976061033697114,-0.4129822037963091,-0.35850380531896736,0.0786530598906968,1.1528999573851861,0.2604220892617955,0.8379367990965246,-1.5454548756177453,0.01618998838375046,-1.7976039960822157,-0.21383226753443652,-0.8045216598108752,-2.144450573040715,1.2929354398268258,1.3515023005457099,0.32337749541065963,0.5050674795041893,0.3496208302770857,-0.8078009040674193,-0.9025483984595123,-0.5968115500744454,-2.105802710422677,0.5295346725256338,-0.2925482620132626,-1.7637327493020316,-0.7070451788823175,-0.02329149612738796,-0.3792157889939141,0.4584818326350015,-0.21035490252607428,0.3442686223433735,0.1089620955177308,1.4261858797405715,-1.1865870770467335,-2.075989907618423,1.4904877173585762,-1.3901437070696612,0.8769390701250268,-0.611487167754324,-0.2872921122157759,-0.46287543436419715,1.7926490254086715,1.1382122118892304,0.7531920375512052,0.15841147444526504,-1.27417087521861,-1.0103307940191708,0.6563776711573666,-0.07729188687001957,0.08087899046242757,-0.9297047164787704,-0.8404764747434706,0.03888362063569858,-1.0422470626956135,0.4037991563406125,-1.0989862827713213,0.799790414892631,1.3946745259718174,0.5085292317321647,-0.9797594818992357,0.5447244843241852,-0.5147254239232565,-0.31319707513158007,0.12620707747039064],\"xaxis\":\"x8\",\"y\":[-1.5991275929197728,-0.8139801222032823,0.8884921961412762,0.015894687243417947,-0.6325211178813915,-1.9991061820032472,-0.555553251851912,-0.35026738841258764,0.46336296385168246,-0.33200786419981354,-0.014622520917696516,-1.2701991072571905,2.0392368945542794,-0.2820636697677745,1.1342694570432095,1.561697756976798,1.0717177775448286,1.1522195478371517,0.7570476750581898,-0.09291807113560716,-1.6674145944274692,-0.6686748289046941,-0.979060347779246,0.8576553382435183,0.9156021630201164,1.0388677923626626,2.336127802368596,0.40685339783055247,0.5189884359989433,0.07478796476990413,-0.6238735508899921,0.6256175510166899,0.5922977782752936,-1.1265454524507295,1.4698329632388514,0.42799339053984825,0.8457940003940891,-0.1262185339529523,-0.25234556078581993,-1.1260192157045796,0.3835707132779261,-0.8314028714113617,0.8777179911373496,1.4463623493451832,3.1034799952860674,1.013634913867253,1.779853980511546,0.10860250518723495,0.22796974651343066,-1.0458153022900263,-1.131689781985826,2.7004697893450524,1.0334664852867421,-0.9288778444152588,0.4769366435803124,3.0211093187401215,1.0593724527376387,-0.6087819099103041,-0.2575805456381415,0.5066594778797082,1.4002989836878734,1.4411063346739925,0.04840543213115739,1.896847405157337,0.6338012305107075,-1.3562240913416577,0.4019154283115991,0.5629306992560655,-0.5792695927028133,1.1149305580150437,2.1164451210238098,-0.6520525930293237,-0.6584177578263147,0.9868904525143627,-0.41216520249140554,-0.27287903130401997,1.115666369860281,-0.39772904944217946,-0.4598852585159614,-1.7834138468017278,-0.2923694109708229,-1.8736668007494182,-0.36712341162900086,-1.0182841444821644,-0.3975773402120633,0.5562011702221297,0.3728989910009789,-1.1391381258104147,1.8661318239083446,1.1281553985958181,2.043942601739804,0.3751146032127571,0.06444449486988196,1.4759000232939212,-0.8826082038740967,-1.8309620572532959,-1.9116865067345703,1.3435903624112713,-0.3510226043980688,-1.336307829278521],\"yaxis\":\"y8\",\"type\":\"scatter\"},{\"line\":{\"color\":\"rgba(128, 128, 128, 1.0)\",\"dash\":\"solid\",\"shape\":\"linear\",\"width\":1.3},\"marker\":{\"size\":2,\"symbol\":\"circle\"},\"mode\":\"markers\",\"name\":\"C\",\"text\":\"\",\"x\":[0.880959023786186,0.33345468870373934,-0.7409452183565108,-1.0977254619292793,1.426956946279641,-0.40451770845568713,0.7724937627319252,0.644782086556282,-1.4869968168898273,0.37640996305940577,0.19241489957125432,-1.111594409266069,-1.5716846453869657,-0.36244462977814346,0.9744328917524051,0.343809552356227,-0.3080270466791063,-0.1950077347039267,-0.18910257491181054,-0.6381781064691867,0.5260265822330088,0.17218121992761243,0.1317493478999784,-1.0133952881868464,-0.16642802340778293,-0.644563294742128,0.7660731182339767,0.47884529664076686,-0.521733455462245,0.2847131403623892,1.5396458082150322,-0.4241727051938035,0.8362651765647242,-0.9500544906883717,1.4845688288335317,1.1664130670490056,-0.0973424642717085,0.10116897363812288,1.4395527944343374,-0.935803180624831,1.191156335436539,0.7008093119694427,-0.9877741095005993,-0.4067540719547818,-1.370266828503218,-1.5353289076252745,0.5156460626883984,0.4587356572312894,0.09260485165730781,-1.6636675799745504,-0.7290334138658231,2.3527806369229394,-0.02979154016277506,0.024883854810285724,0.1899346163866445,0.5236554909988752,-0.4997433251662194,-1.3642904785357,-0.29608229446459455,-0.6610346788287468,0.33500653513485135,1.1434766678809734,0.6274696800615975,0.16552222232531544,-0.20205077372308394,0.912181391847108,-0.5858661976669097,-0.3396202037385737,0.893157460815925,-0.03964706555960653,-1.3103665565452216,0.5145396422513303,0.4166449293411519,1.3876021868735242,-0.3566481515000294,1.2902317814630657,0.8846490176365839,-1.5320252852273633,0.24356536270953288,1.3827634187849156,1.1819807080169038,-0.9660934499810131,-0.14796198765918317,-0.29251024584393925,-1.2027691265328306,1.920477778045479,-0.4130477360151552,0.5202955950169208,1.455326064624853,-2.0227300702714315,-1.6256166848992932,0.07554860674090483,1.7989334075269259,-1.4357117254331069,-1.1162061239030632,1.2645613747776647,-0.05085065547567881,1.3957163268407782,0.24453545539482402,0.4271283479483513],\"xaxis\":\"x9\",\"y\":[-0.5090506193568138,0.46783502064920096,0.5140140169099323,-0.135858190534951,-1.1120422809221553,0.19036939224164473,-0.03979712243952682,0.33296567649967906,-1.9898009642441512,-0.902537575842969,0.512370114531166,0.7457231798874311,-0.4599139337077797,-0.08329035539728351,0.2939914814897891,1.0397367809010714,0.26753779808456957,-0.6578224852206888,0.14082629103879815,0.41566371267221724,1.022721310170276,-1.860838307387713,1.5944326598969125,-1.2678740218410052,-0.5803517829706125,1.7185130952373155,-0.2770565620613567,-0.2174035320063592,-0.4464487113666228,-0.5193387558854705,1.0241756496954264,-0.2740642183840163,0.7501035573720817,0.8091131638344188,-1.3863291423546382,1.6225906991723393,0.40853475087480695,0.03205088916471121,-0.005833144026442187,0.34601231685819017,0.7348236411311267,0.6277203931914014,-0.2633724364374913,-0.920502242018471,-2.2069563296162458,-0.194494195736623,0.9327130181865532,-0.1733931402852244,1.0158625618450354,1.539902082125618,-0.05376573178868323,-0.6922588647787197,0.3037962419061943,1.1048652730300073,0.3038662067981688,-0.9185307726746565,0.25712963151031315,0.43889657467445065,-0.690794329118379,-0.9957969810098548,-0.49164947058854075,-0.6454940127383348,1.4888193820944833,-0.7290828678415429,1.083106495091023,1.521053498546015,-0.584366558587681,0.017737965521257622,-1.8226790982330792,0.5083992619503088,0.25765616875605013,1.8496015765740905,1.4472779923578751,0.29558928507376103,-0.12266302408527396,-0.3736704215085696,0.5045060169757424,0.36557750268798883,0.594394718574478,0.49295114743440466,2.9070038770508537,0.6185281046185005,1.3096511147374101,1.6268644901970832,-0.7709033259032211,0.8822290039516804,0.14807768446328531,1.943252534898724,0.8686695792913697,-0.9677240710412516,0.10579717107376764,0.03778346688749221,1.5544957242622193,0.21052048722692912,0.8376124681460906,-1.8103708705905752,0.45736288915641055,0.8671009267301292,-0.7153945627548396,0.4486740570690812],\"yaxis\":\"y9\",\"type\":\"scatter\"},{\"line\":{\"color\":\"rgba(128, 128, 128, 1.0)\",\"dash\":\"solid\",\"shape\":\"linear\",\"width\":1.3},\"marker\":{\"size\":2,\"symbol\":\"circle\"},\"mode\":\"markers\",\"name\":\"C\",\"text\":\"\",\"x\":[-1.5991275929197728,-0.8139801222032823,0.8884921961412762,0.015894687243417947,-0.6325211178813915,-1.9991061820032472,-0.555553251851912,-0.35026738841258764,0.46336296385168246,-0.33200786419981354,-0.014622520917696516,-1.2701991072571905,2.0392368945542794,-0.2820636697677745,1.1342694570432095,1.561697756976798,1.0717177775448286,1.1522195478371517,0.7570476750581898,-0.09291807113560716,-1.6674145944274692,-0.6686748289046941,-0.979060347779246,0.8576553382435183,0.9156021630201164,1.0388677923626626,2.336127802368596,0.40685339783055247,0.5189884359989433,0.07478796476990413,-0.6238735508899921,0.6256175510166899,0.5922977782752936,-1.1265454524507295,1.4698329632388514,0.42799339053984825,0.8457940003940891,-0.1262185339529523,-0.25234556078581993,-1.1260192157045796,0.3835707132779261,-0.8314028714113617,0.8777179911373496,1.4463623493451832,3.1034799952860674,1.013634913867253,1.779853980511546,0.10860250518723495,0.22796974651343066,-1.0458153022900263,-1.131689781985826,2.7004697893450524,1.0334664852867421,-0.9288778444152588,0.4769366435803124,3.0211093187401215,1.0593724527376387,-0.6087819099103041,-0.2575805456381415,0.5066594778797082,1.4002989836878734,1.4411063346739925,0.04840543213115739,1.896847405157337,0.6338012305107075,-1.3562240913416577,0.4019154283115991,0.5629306992560655,-0.5792695927028133,1.1149305580150437,2.1164451210238098,-0.6520525930293237,-0.6584177578263147,0.9868904525143627,-0.41216520249140554,-0.27287903130401997,1.115666369860281,-0.39772904944217946,-0.4598852585159614,-1.7834138468017278,-0.2923694109708229,-1.8736668007494182,-0.36712341162900086,-1.0182841444821644,-0.3975773402120633,0.5562011702221297,0.3728989910009789,-1.1391381258104147,1.8661318239083446,1.1281553985958181,2.043942601739804,0.3751146032127571,0.06444449486988196,1.4759000232939212,-0.8826082038740967,-1.8309620572532959,-1.9116865067345703,1.3435903624112713,-0.3510226043980688,-1.336307829278521],\"xaxis\":\"x10\",\"y\":[-0.5090506193568138,0.46783502064920096,0.5140140169099323,-0.135858190534951,-1.1120422809221553,0.19036939224164473,-0.03979712243952682,0.33296567649967906,-1.9898009642441512,-0.902537575842969,0.512370114531166,0.7457231798874311,-0.4599139337077797,-0.08329035539728351,0.2939914814897891,1.0397367809010714,0.26753779808456957,-0.6578224852206888,0.14082629103879815,0.41566371267221724,1.022721310170276,-1.860838307387713,1.5944326598969125,-1.2678740218410052,-0.5803517829706125,1.7185130952373155,-0.2770565620613567,-0.2174035320063592,-0.4464487113666228,-0.5193387558854705,1.0241756496954264,-0.2740642183840163,0.7501035573720817,0.8091131638344188,-1.3863291423546382,1.6225906991723393,0.40853475087480695,0.03205088916471121,-0.005833144026442187,0.34601231685819017,0.7348236411311267,0.6277203931914014,-0.2633724364374913,-0.920502242018471,-2.2069563296162458,-0.194494195736623,0.9327130181865532,-0.1733931402852244,1.0158625618450354,1.539902082125618,-0.05376573178868323,-0.6922588647787197,0.3037962419061943,1.1048652730300073,0.3038662067981688,-0.9185307726746565,0.25712963151031315,0.43889657467445065,-0.690794329118379,-0.9957969810098548,-0.49164947058854075,-0.6454940127383348,1.4888193820944833,-0.7290828678415429,1.083106495091023,1.521053498546015,-0.584366558587681,0.017737965521257622,-1.8226790982330792,0.5083992619503088,0.25765616875605013,1.8496015765740905,1.4472779923578751,0.29558928507376103,-0.12266302408527396,-0.3736704215085696,0.5045060169757424,0.36557750268798883,0.594394718574478,0.49295114743440466,2.9070038770508537,0.6185281046185005,1.3096511147374101,1.6268644901970832,-0.7709033259032211,0.8822290039516804,0.14807768446328531,1.943252534898724,0.8686695792913697,-0.9677240710412516,0.10579717107376764,0.03778346688749221,1.5544957242622193,0.21052048722692912,0.8376124681460906,-1.8103708705905752,0.45736288915641055,0.8671009267301292,-0.7153945627548396,0.4486740570690812],\"yaxis\":\"y10\",\"type\":\"scatter\"},{\"histfunc\":\"count\",\"histnorm\":\"\",\"marker\":{\"color\":\"rgba(50, 171, 96, 1.0)\",\"line\":{\"color\":\"#4D5663\",\"width\":1.3}},\"name\":\"C\",\"nbinsx\":10,\"opacity\":0.8,\"orientation\":\"v\",\"x\":[-0.5090506193568138,0.46783502064920096,0.5140140169099323,-0.135858190534951,-1.1120422809221553,0.19036939224164473,-0.03979712243952682,0.33296567649967906,-1.9898009642441512,-0.902537575842969,0.512370114531166,0.7457231798874311,-0.4599139337077797,-0.08329035539728351,0.2939914814897891,1.0397367809010714,0.26753779808456957,-0.6578224852206888,0.14082629103879815,0.41566371267221724,1.022721310170276,-1.860838307387713,1.5944326598969125,-1.2678740218410052,-0.5803517829706125,1.7185130952373155,-0.2770565620613567,-0.2174035320063592,-0.4464487113666228,-0.5193387558854705,1.0241756496954264,-0.2740642183840163,0.7501035573720817,0.8091131638344188,-1.3863291423546382,1.6225906991723393,0.40853475087480695,0.03205088916471121,-0.005833144026442187,0.34601231685819017,0.7348236411311267,0.6277203931914014,-0.2633724364374913,-0.920502242018471,-2.2069563296162458,-0.194494195736623,0.9327130181865532,-0.1733931402852244,1.0158625618450354,1.539902082125618,-0.05376573178868323,-0.6922588647787197,0.3037962419061943,1.1048652730300073,0.3038662067981688,-0.9185307726746565,0.25712963151031315,0.43889657467445065,-0.690794329118379,-0.9957969810098548,-0.49164947058854075,-0.6454940127383348,1.4888193820944833,-0.7290828678415429,1.083106495091023,1.521053498546015,-0.584366558587681,0.017737965521257622,-1.8226790982330792,0.5083992619503088,0.25765616875605013,1.8496015765740905,1.4472779923578751,0.29558928507376103,-0.12266302408527396,-0.3736704215085696,0.5045060169757424,0.36557750268798883,0.594394718574478,0.49295114743440466,2.9070038770508537,0.6185281046185005,1.3096511147374101,1.6268644901970832,-0.7709033259032211,0.8822290039516804,0.14807768446328531,1.943252534898724,0.8686695792913697,-0.9677240710412516,0.10579717107376764,0.03778346688749221,1.5544957242622193,0.21052048722692912,0.8376124681460906,-1.8103708705905752,0.45736288915641055,0.8671009267301292,-0.7153945627548396,0.4486740570690812],\"xaxis\":\"x11\",\"yaxis\":\"y11\",\"type\":\"histogram\"},{\"line\":{\"color\":\"rgba(128, 128, 128, 1.0)\",\"dash\":\"solid\",\"shape\":\"linear\",\"width\":1.3},\"marker\":{\"size\":2,\"symbol\":\"circle\"},\"mode\":\"markers\",\"name\":\"C\",\"text\":\"\",\"x\":[-0.9043521089077933,1.4126520248446917,0.015608708201911856,-0.5752355462883069,-2.272948276746747,1.3203900706416196,-2.230898899533376,0.22438129820470562,1.2490549803105375,-2.336596765497704,0.8174101824978081,-0.5956833597847471,0.8306951075365935,0.6042093052059592,-2.246940809702541,-0.15470726706638446,-0.008964251377927451,-0.3817142443178131,-0.6427627753846652,-1.2838575393277776,-0.3710064429112497,2.0522660728201556,1.005876636145941,2.0659670213503434,1.6234730288753514,0.09396042799024812,1.6479324559722837,-0.8313293070258346,-0.20041110399305048,-0.09722610598308987,0.5834894535754519,1.5753609002860787,-1.613499300383705,-0.1840892030742178,-1.4749279129444293,1.4013197965998834,-1.1976061033697114,-0.4129822037963091,-0.35850380531896736,0.0786530598906968,1.1528999573851861,0.2604220892617955,0.8379367990965246,-1.5454548756177453,0.01618998838375046,-1.7976039960822157,-0.21383226753443652,-0.8045216598108752,-2.144450573040715,1.2929354398268258,1.3515023005457099,0.32337749541065963,0.5050674795041893,0.3496208302770857,-0.8078009040674193,-0.9025483984595123,-0.5968115500744454,-2.105802710422677,0.5295346725256338,-0.2925482620132626,-1.7637327493020316,-0.7070451788823175,-0.02329149612738796,-0.3792157889939141,0.4584818326350015,-0.21035490252607428,0.3442686223433735,0.1089620955177308,1.4261858797405715,-1.1865870770467335,-2.075989907618423,1.4904877173585762,-1.3901437070696612,0.8769390701250268,-0.611487167754324,-0.2872921122157759,-0.46287543436419715,1.7926490254086715,1.1382122118892304,0.7531920375512052,0.15841147444526504,-1.27417087521861,-1.0103307940191708,0.6563776711573666,-0.07729188687001957,0.08087899046242757,-0.9297047164787704,-0.8404764747434706,0.03888362063569858,-1.0422470626956135,0.4037991563406125,-1.0989862827713213,0.799790414892631,1.3946745259718174,0.5085292317321647,-0.9797594818992357,0.5447244843241852,-0.5147254239232565,-0.31319707513158007,0.12620707747039064],\"xaxis\":\"x12\",\"y\":[-0.5090506193568138,0.46783502064920096,0.5140140169099323,-0.135858190534951,-1.1120422809221553,0.19036939224164473,-0.03979712243952682,0.33296567649967906,-1.9898009642441512,-0.902537575842969,0.512370114531166,0.7457231798874311,-0.4599139337077797,-0.08329035539728351,0.2939914814897891,1.0397367809010714,0.26753779808456957,-0.6578224852206888,0.14082629103879815,0.41566371267221724,1.022721310170276,-1.860838307387713,1.5944326598969125,-1.2678740218410052,-0.5803517829706125,1.7185130952373155,-0.2770565620613567,-0.2174035320063592,-0.4464487113666228,-0.5193387558854705,1.0241756496954264,-0.2740642183840163,0.7501035573720817,0.8091131638344188,-1.3863291423546382,1.6225906991723393,0.40853475087480695,0.03205088916471121,-0.005833144026442187,0.34601231685819017,0.7348236411311267,0.6277203931914014,-0.2633724364374913,-0.920502242018471,-2.2069563296162458,-0.194494195736623,0.9327130181865532,-0.1733931402852244,1.0158625618450354,1.539902082125618,-0.05376573178868323,-0.6922588647787197,0.3037962419061943,1.1048652730300073,0.3038662067981688,-0.9185307726746565,0.25712963151031315,0.43889657467445065,-0.690794329118379,-0.9957969810098548,-0.49164947058854075,-0.6454940127383348,1.4888193820944833,-0.7290828678415429,1.083106495091023,1.521053498546015,-0.584366558587681,0.017737965521257622,-1.8226790982330792,0.5083992619503088,0.25765616875605013,1.8496015765740905,1.4472779923578751,0.29558928507376103,-0.12266302408527396,-0.3736704215085696,0.5045060169757424,0.36557750268798883,0.594394718574478,0.49295114743440466,2.9070038770508537,0.6185281046185005,1.3096511147374101,1.6268644901970832,-0.7709033259032211,0.8822290039516804,0.14807768446328531,1.943252534898724,0.8686695792913697,-0.9677240710412516,0.10579717107376764,0.03778346688749221,1.5544957242622193,0.21052048722692912,0.8376124681460906,-1.8103708705905752,0.45736288915641055,0.8671009267301292,-0.7153945627548396,0.4486740570690812],\"yaxis\":\"y12\",\"type\":\"scatter\"},{\"line\":{\"color\":\"rgba(128, 128, 128, 1.0)\",\"dash\":\"solid\",\"shape\":\"linear\",\"width\":1.3},\"marker\":{\"size\":2,\"symbol\":\"circle\"},\"mode\":\"markers\",\"name\":\"D\",\"text\":\"\",\"x\":[0.880959023786186,0.33345468870373934,-0.7409452183565108,-1.0977254619292793,1.426956946279641,-0.40451770845568713,0.7724937627319252,0.644782086556282,-1.4869968168898273,0.37640996305940577,0.19241489957125432,-1.111594409266069,-1.5716846453869657,-0.36244462977814346,0.9744328917524051,0.343809552356227,-0.3080270466791063,-0.1950077347039267,-0.18910257491181054,-0.6381781064691867,0.5260265822330088,0.17218121992761243,0.1317493478999784,-1.0133952881868464,-0.16642802340778293,-0.644563294742128,0.7660731182339767,0.47884529664076686,-0.521733455462245,0.2847131403623892,1.5396458082150322,-0.4241727051938035,0.8362651765647242,-0.9500544906883717,1.4845688288335317,1.1664130670490056,-0.0973424642717085,0.10116897363812288,1.4395527944343374,-0.935803180624831,1.191156335436539,0.7008093119694427,-0.9877741095005993,-0.4067540719547818,-1.370266828503218,-1.5353289076252745,0.5156460626883984,0.4587356572312894,0.09260485165730781,-1.6636675799745504,-0.7290334138658231,2.3527806369229394,-0.02979154016277506,0.024883854810285724,0.1899346163866445,0.5236554909988752,-0.4997433251662194,-1.3642904785357,-0.29608229446459455,-0.6610346788287468,0.33500653513485135,1.1434766678809734,0.6274696800615975,0.16552222232531544,-0.20205077372308394,0.912181391847108,-0.5858661976669097,-0.3396202037385737,0.893157460815925,-0.03964706555960653,-1.3103665565452216,0.5145396422513303,0.4166449293411519,1.3876021868735242,-0.3566481515000294,1.2902317814630657,0.8846490176365839,-1.5320252852273633,0.24356536270953288,1.3827634187849156,1.1819807080169038,-0.9660934499810131,-0.14796198765918317,-0.29251024584393925,-1.2027691265328306,1.920477778045479,-0.4130477360151552,0.5202955950169208,1.455326064624853,-2.0227300702714315,-1.6256166848992932,0.07554860674090483,1.7989334075269259,-1.4357117254331069,-1.1162061239030632,1.2645613747776647,-0.05085065547567881,1.3957163268407782,0.24453545539482402,0.4271283479483513],\"xaxis\":\"x13\",\"y\":[-0.9043521089077933,1.4126520248446917,0.015608708201911856,-0.5752355462883069,-2.272948276746747,1.3203900706416196,-2.230898899533376,0.22438129820470562,1.2490549803105375,-2.336596765497704,0.8174101824978081,-0.5956833597847471,0.8306951075365935,0.6042093052059592,-2.246940809702541,-0.15470726706638446,-0.008964251377927451,-0.3817142443178131,-0.6427627753846652,-1.2838575393277776,-0.3710064429112497,2.0522660728201556,1.005876636145941,2.0659670213503434,1.6234730288753514,0.09396042799024812,1.6479324559722837,-0.8313293070258346,-0.20041110399305048,-0.09722610598308987,0.5834894535754519,1.5753609002860787,-1.613499300383705,-0.1840892030742178,-1.4749279129444293,1.4013197965998834,-1.1976061033697114,-0.4129822037963091,-0.35850380531896736,0.0786530598906968,1.1528999573851861,0.2604220892617955,0.8379367990965246,-1.5454548756177453,0.01618998838375046,-1.7976039960822157,-0.21383226753443652,-0.8045216598108752,-2.144450573040715,1.2929354398268258,1.3515023005457099,0.32337749541065963,0.5050674795041893,0.3496208302770857,-0.8078009040674193,-0.9025483984595123,-0.5968115500744454,-2.105802710422677,0.5295346725256338,-0.2925482620132626,-1.7637327493020316,-0.7070451788823175,-0.02329149612738796,-0.3792157889939141,0.4584818326350015,-0.21035490252607428,0.3442686223433735,0.1089620955177308,1.4261858797405715,-1.1865870770467335,-2.075989907618423,1.4904877173585762,-1.3901437070696612,0.8769390701250268,-0.611487167754324,-0.2872921122157759,-0.46287543436419715,1.7926490254086715,1.1382122118892304,0.7531920375512052,0.15841147444526504,-1.27417087521861,-1.0103307940191708,0.6563776711573666,-0.07729188687001957,0.08087899046242757,-0.9297047164787704,-0.8404764747434706,0.03888362063569858,-1.0422470626956135,0.4037991563406125,-1.0989862827713213,0.799790414892631,1.3946745259718174,0.5085292317321647,-0.9797594818992357,0.5447244843241852,-0.5147254239232565,-0.31319707513158007,0.12620707747039064],\"yaxis\":\"y13\",\"type\":\"scatter\"},{\"line\":{\"color\":\"rgba(128, 128, 128, 1.0)\",\"dash\":\"solid\",\"shape\":\"linear\",\"width\":1.3},\"marker\":{\"size\":2,\"symbol\":\"circle\"},\"mode\":\"markers\",\"name\":\"D\",\"text\":\"\",\"x\":[-1.5991275929197728,-0.8139801222032823,0.8884921961412762,0.015894687243417947,-0.6325211178813915,-1.9991061820032472,-0.555553251851912,-0.35026738841258764,0.46336296385168246,-0.33200786419981354,-0.014622520917696516,-1.2701991072571905,2.0392368945542794,-0.2820636697677745,1.1342694570432095,1.561697756976798,1.0717177775448286,1.1522195478371517,0.7570476750581898,-0.09291807113560716,-1.6674145944274692,-0.6686748289046941,-0.979060347779246,0.8576553382435183,0.9156021630201164,1.0388677923626626,2.336127802368596,0.40685339783055247,0.5189884359989433,0.07478796476990413,-0.6238735508899921,0.6256175510166899,0.5922977782752936,-1.1265454524507295,1.4698329632388514,0.42799339053984825,0.8457940003940891,-0.1262185339529523,-0.25234556078581993,-1.1260192157045796,0.3835707132779261,-0.8314028714113617,0.8777179911373496,1.4463623493451832,3.1034799952860674,1.013634913867253,1.779853980511546,0.10860250518723495,0.22796974651343066,-1.0458153022900263,-1.131689781985826,2.7004697893450524,1.0334664852867421,-0.9288778444152588,0.4769366435803124,3.0211093187401215,1.0593724527376387,-0.6087819099103041,-0.2575805456381415,0.5066594778797082,1.4002989836878734,1.4411063346739925,0.04840543213115739,1.896847405157337,0.6338012305107075,-1.3562240913416577,0.4019154283115991,0.5629306992560655,-0.5792695927028133,1.1149305580150437,2.1164451210238098,-0.6520525930293237,-0.6584177578263147,0.9868904525143627,-0.41216520249140554,-0.27287903130401997,1.115666369860281,-0.39772904944217946,-0.4598852585159614,-1.7834138468017278,-0.2923694109708229,-1.8736668007494182,-0.36712341162900086,-1.0182841444821644,-0.3975773402120633,0.5562011702221297,0.3728989910009789,-1.1391381258104147,1.8661318239083446,1.1281553985958181,2.043942601739804,0.3751146032127571,0.06444449486988196,1.4759000232939212,-0.8826082038740967,-1.8309620572532959,-1.9116865067345703,1.3435903624112713,-0.3510226043980688,-1.336307829278521],\"xaxis\":\"x14\",\"y\":[-0.9043521089077933,1.4126520248446917,0.015608708201911856,-0.5752355462883069,-2.272948276746747,1.3203900706416196,-2.230898899533376,0.22438129820470562,1.2490549803105375,-2.336596765497704,0.8174101824978081,-0.5956833597847471,0.8306951075365935,0.6042093052059592,-2.246940809702541,-0.15470726706638446,-0.008964251377927451,-0.3817142443178131,-0.6427627753846652,-1.2838575393277776,-0.3710064429112497,2.0522660728201556,1.005876636145941,2.0659670213503434,1.6234730288753514,0.09396042799024812,1.6479324559722837,-0.8313293070258346,-0.20041110399305048,-0.09722610598308987,0.5834894535754519,1.5753609002860787,-1.613499300383705,-0.1840892030742178,-1.4749279129444293,1.4013197965998834,-1.1976061033697114,-0.4129822037963091,-0.35850380531896736,0.0786530598906968,1.1528999573851861,0.2604220892617955,0.8379367990965246,-1.5454548756177453,0.01618998838375046,-1.7976039960822157,-0.21383226753443652,-0.8045216598108752,-2.144450573040715,1.2929354398268258,1.3515023005457099,0.32337749541065963,0.5050674795041893,0.3496208302770857,-0.8078009040674193,-0.9025483984595123,-0.5968115500744454,-2.105802710422677,0.5295346725256338,-0.2925482620132626,-1.7637327493020316,-0.7070451788823175,-0.02329149612738796,-0.3792157889939141,0.4584818326350015,-0.21035490252607428,0.3442686223433735,0.1089620955177308,1.4261858797405715,-1.1865870770467335,-2.075989907618423,1.4904877173585762,-1.3901437070696612,0.8769390701250268,-0.611487167754324,-0.2872921122157759,-0.46287543436419715,1.7926490254086715,1.1382122118892304,0.7531920375512052,0.15841147444526504,-1.27417087521861,-1.0103307940191708,0.6563776711573666,-0.07729188687001957,0.08087899046242757,-0.9297047164787704,-0.8404764747434706,0.03888362063569858,-1.0422470626956135,0.4037991563406125,-1.0989862827713213,0.799790414892631,1.3946745259718174,0.5085292317321647,-0.9797594818992357,0.5447244843241852,-0.5147254239232565,-0.31319707513158007,0.12620707747039064],\"yaxis\":\"y14\",\"type\":\"scatter\"},{\"line\":{\"color\":\"rgba(128, 128, 128, 1.0)\",\"dash\":\"solid\",\"shape\":\"linear\",\"width\":1.3},\"marker\":{\"size\":2,\"symbol\":\"circle\"},\"mode\":\"markers\",\"name\":\"D\",\"text\":\"\",\"x\":[-0.5090506193568138,0.46783502064920096,0.5140140169099323,-0.135858190534951,-1.1120422809221553,0.19036939224164473,-0.03979712243952682,0.33296567649967906,-1.9898009642441512,-0.902537575842969,0.512370114531166,0.7457231798874311,-0.4599139337077797,-0.08329035539728351,0.2939914814897891,1.0397367809010714,0.26753779808456957,-0.6578224852206888,0.14082629103879815,0.41566371267221724,1.022721310170276,-1.860838307387713,1.5944326598969125,-1.2678740218410052,-0.5803517829706125,1.7185130952373155,-0.2770565620613567,-0.2174035320063592,-0.4464487113666228,-0.5193387558854705,1.0241756496954264,-0.2740642183840163,0.7501035573720817,0.8091131638344188,-1.3863291423546382,1.6225906991723393,0.40853475087480695,0.03205088916471121,-0.005833144026442187,0.34601231685819017,0.7348236411311267,0.6277203931914014,-0.2633724364374913,-0.920502242018471,-2.2069563296162458,-0.194494195736623,0.9327130181865532,-0.1733931402852244,1.0158625618450354,1.539902082125618,-0.05376573178868323,-0.6922588647787197,0.3037962419061943,1.1048652730300073,0.3038662067981688,-0.9185307726746565,0.25712963151031315,0.43889657467445065,-0.690794329118379,-0.9957969810098548,-0.49164947058854075,-0.6454940127383348,1.4888193820944833,-0.7290828678415429,1.083106495091023,1.521053498546015,-0.584366558587681,0.017737965521257622,-1.8226790982330792,0.5083992619503088,0.25765616875605013,1.8496015765740905,1.4472779923578751,0.29558928507376103,-0.12266302408527396,-0.3736704215085696,0.5045060169757424,0.36557750268798883,0.594394718574478,0.49295114743440466,2.9070038770508537,0.6185281046185005,1.3096511147374101,1.6268644901970832,-0.7709033259032211,0.8822290039516804,0.14807768446328531,1.943252534898724,0.8686695792913697,-0.9677240710412516,0.10579717107376764,0.03778346688749221,1.5544957242622193,0.21052048722692912,0.8376124681460906,-1.8103708705905752,0.45736288915641055,0.8671009267301292,-0.7153945627548396,0.4486740570690812],\"xaxis\":\"x15\",\"y\":[-0.9043521089077933,1.4126520248446917,0.015608708201911856,-0.5752355462883069,-2.272948276746747,1.3203900706416196,-2.230898899533376,0.22438129820470562,1.2490549803105375,-2.336596765497704,0.8174101824978081,-0.5956833597847471,0.8306951075365935,0.6042093052059592,-2.246940809702541,-0.15470726706638446,-0.008964251377927451,-0.3817142443178131,-0.6427627753846652,-1.2838575393277776,-0.3710064429112497,2.0522660728201556,1.005876636145941,2.0659670213503434,1.6234730288753514,0.09396042799024812,1.6479324559722837,-0.8313293070258346,-0.20041110399305048,-0.09722610598308987,0.5834894535754519,1.5753609002860787,-1.613499300383705,-0.1840892030742178,-1.4749279129444293,1.4013197965998834,-1.1976061033697114,-0.4129822037963091,-0.35850380531896736,0.0786530598906968,1.1528999573851861,0.2604220892617955,0.8379367990965246,-1.5454548756177453,0.01618998838375046,-1.7976039960822157,-0.21383226753443652,-0.8045216598108752,-2.144450573040715,1.2929354398268258,1.3515023005457099,0.32337749541065963,0.5050674795041893,0.3496208302770857,-0.8078009040674193,-0.9025483984595123,-0.5968115500744454,-2.105802710422677,0.5295346725256338,-0.2925482620132626,-1.7637327493020316,-0.7070451788823175,-0.02329149612738796,-0.3792157889939141,0.4584818326350015,-0.21035490252607428,0.3442686223433735,0.1089620955177308,1.4261858797405715,-1.1865870770467335,-2.075989907618423,1.4904877173585762,-1.3901437070696612,0.8769390701250268,-0.611487167754324,-0.2872921122157759,-0.46287543436419715,1.7926490254086715,1.1382122118892304,0.7531920375512052,0.15841147444526504,-1.27417087521861,-1.0103307940191708,0.6563776711573666,-0.07729188687001957,0.08087899046242757,-0.9297047164787704,-0.8404764747434706,0.03888362063569858,-1.0422470626956135,0.4037991563406125,-1.0989862827713213,0.799790414892631,1.3946745259718174,0.5085292317321647,-0.9797594818992357,0.5447244843241852,-0.5147254239232565,-0.31319707513158007,0.12620707747039064],\"yaxis\":\"y15\",\"type\":\"scatter\"},{\"histfunc\":\"count\",\"histnorm\":\"\",\"marker\":{\"color\":\"rgba(128, 0, 128, 1.0)\",\"line\":{\"color\":\"#4D5663\",\"width\":1.3}},\"name\":\"D\",\"nbinsx\":10,\"opacity\":0.8,\"orientation\":\"v\",\"x\":[-0.9043521089077933,1.4126520248446917,0.015608708201911856,-0.5752355462883069,-2.272948276746747,1.3203900706416196,-2.230898899533376,0.22438129820470562,1.2490549803105375,-2.336596765497704,0.8174101824978081,-0.5956833597847471,0.8306951075365935,0.6042093052059592,-2.246940809702541,-0.15470726706638446,-0.008964251377927451,-0.3817142443178131,-0.6427627753846652,-1.2838575393277776,-0.3710064429112497,2.0522660728201556,1.005876636145941,2.0659670213503434,1.6234730288753514,0.09396042799024812,1.6479324559722837,-0.8313293070258346,-0.20041110399305048,-0.09722610598308987,0.5834894535754519,1.5753609002860787,-1.613499300383705,-0.1840892030742178,-1.4749279129444293,1.4013197965998834,-1.1976061033697114,-0.4129822037963091,-0.35850380531896736,0.0786530598906968,1.1528999573851861,0.2604220892617955,0.8379367990965246,-1.5454548756177453,0.01618998838375046,-1.7976039960822157,-0.21383226753443652,-0.8045216598108752,-2.144450573040715,1.2929354398268258,1.3515023005457099,0.32337749541065963,0.5050674795041893,0.3496208302770857,-0.8078009040674193,-0.9025483984595123,-0.5968115500744454,-2.105802710422677,0.5295346725256338,-0.2925482620132626,-1.7637327493020316,-0.7070451788823175,-0.02329149612738796,-0.3792157889939141,0.4584818326350015,-0.21035490252607428,0.3442686223433735,0.1089620955177308,1.4261858797405715,-1.1865870770467335,-2.075989907618423,1.4904877173585762,-1.3901437070696612,0.8769390701250268,-0.611487167754324,-0.2872921122157759,-0.46287543436419715,1.7926490254086715,1.1382122118892304,0.7531920375512052,0.15841147444526504,-1.27417087521861,-1.0103307940191708,0.6563776711573666,-0.07729188687001957,0.08087899046242757,-0.9297047164787704,-0.8404764747434706,0.03888362063569858,-1.0422470626956135,0.4037991563406125,-1.0989862827713213,0.799790414892631,1.3946745259718174,0.5085292317321647,-0.9797594818992357,0.5447244843241852,-0.5147254239232565,-0.31319707513158007,0.12620707747039064],\"xaxis\":\"x16\",\"yaxis\":\"y16\",\"type\":\"histogram\"}],                        {\"bargap\":0.02,\"legend\":{\"bgcolor\":\"#F5F6F9\",\"font\":{\"color\":\"#4D5663\"}},\"paper_bgcolor\":\"#F5F6F9\",\"plot_bgcolor\":\"#F5F6F9\",\"showlegend\":false,\"template\":{\"data\":{\"barpolar\":[{\"marker\":{\"line\":{\"color\":\"#E5ECF6\",\"width\":0.5},\"pattern\":{\"fillmode\":\"overlay\",\"size\":10,\"solidity\":0.2}},\"type\":\"barpolar\"}],\"bar\":[{\"error_x\":{\"color\":\"#2a3f5f\"},\"error_y\":{\"color\":\"#2a3f5f\"},\"marker\":{\"line\":{\"color\":\"#E5ECF6\",\"width\":0.5},\"pattern\":{\"fillmode\":\"overlay\",\"size\":10,\"solidity\":0.2}},\"type\":\"bar\"}],\"carpet\":[{\"aaxis\":{\"endlinecolor\":\"#2a3f5f\",\"gridcolor\":\"white\",\"linecolor\":\"white\",\"minorgridcolor\":\"white\",\"startlinecolor\":\"#2a3f5f\"},\"baxis\":{\"endlinecolor\":\"#2a3f5f\",\"gridcolor\":\"white\",\"linecolor\":\"white\",\"minorgridcolor\":\"white\",\"startlinecolor\":\"#2a3f5f\"},\"type\":\"carpet\"}],\"choropleth\":[{\"colorbar\":{\"outlinewidth\":0,\"ticks\":\"\"},\"type\":\"choropleth\"}],\"contourcarpet\":[{\"colorbar\":{\"outlinewidth\":0,\"ticks\":\"\"},\"type\":\"contourcarpet\"}],\"contour\":[{\"colorbar\":{\"outlinewidth\":0,\"ticks\":\"\"},\"colorscale\":[[0.0,\"#0d0887\"],[0.1111111111111111,\"#46039f\"],[0.2222222222222222,\"#7201a8\"],[0.3333333333333333,\"#9c179e\"],[0.4444444444444444,\"#bd3786\"],[0.5555555555555556,\"#d8576b\"],[0.6666666666666666,\"#ed7953\"],[0.7777777777777778,\"#fb9f3a\"],[0.8888888888888888,\"#fdca26\"],[1.0,\"#f0f921\"]],\"type\":\"contour\"}],\"heatmapgl\":[{\"colorbar\":{\"outlinewidth\":0,\"ticks\":\"\"},\"colorscale\":[[0.0,\"#0d0887\"],[0.1111111111111111,\"#46039f\"],[0.2222222222222222,\"#7201a8\"],[0.3333333333333333,\"#9c179e\"],[0.4444444444444444,\"#bd3786\"],[0.5555555555555556,\"#d8576b\"],[0.6666666666666666,\"#ed7953\"],[0.7777777777777778,\"#fb9f3a\"],[0.8888888888888888,\"#fdca26\"],[1.0,\"#f0f921\"]],\"type\":\"heatmapgl\"}],\"heatmap\":[{\"colorbar\":{\"outlinewidth\":0,\"ticks\":\"\"},\"colorscale\":[[0.0,\"#0d0887\"],[0.1111111111111111,\"#46039f\"],[0.2222222222222222,\"#7201a8\"],[0.3333333333333333,\"#9c179e\"],[0.4444444444444444,\"#bd3786\"],[0.5555555555555556,\"#d8576b\"],[0.6666666666666666,\"#ed7953\"],[0.7777777777777778,\"#fb9f3a\"],[0.8888888888888888,\"#fdca26\"],[1.0,\"#f0f921\"]],\"type\":\"heatmap\"}],\"histogram2dcontour\":[{\"colorbar\":{\"outlinewidth\":0,\"ticks\":\"\"},\"colorscale\":[[0.0,\"#0d0887\"],[0.1111111111111111,\"#46039f\"],[0.2222222222222222,\"#7201a8\"],[0.3333333333333333,\"#9c179e\"],[0.4444444444444444,\"#bd3786\"],[0.5555555555555556,\"#d8576b\"],[0.6666666666666666,\"#ed7953\"],[0.7777777777777778,\"#fb9f3a\"],[0.8888888888888888,\"#fdca26\"],[1.0,\"#f0f921\"]],\"type\":\"histogram2dcontour\"}],\"histogram2d\":[{\"colorbar\":{\"outlinewidth\":0,\"ticks\":\"\"},\"colorscale\":[[0.0,\"#0d0887\"],[0.1111111111111111,\"#46039f\"],[0.2222222222222222,\"#7201a8\"],[0.3333333333333333,\"#9c179e\"],[0.4444444444444444,\"#bd3786\"],[0.5555555555555556,\"#d8576b\"],[0.6666666666666666,\"#ed7953\"],[0.7777777777777778,\"#fb9f3a\"],[0.8888888888888888,\"#fdca26\"],[1.0,\"#f0f921\"]],\"type\":\"histogram2d\"}],\"histogram\":[{\"marker\":{\"pattern\":{\"fillmode\":\"overlay\",\"size\":10,\"solidity\":0.2}},\"type\":\"histogram\"}],\"mesh3d\":[{\"colorbar\":{\"outlinewidth\":0,\"ticks\":\"\"},\"type\":\"mesh3d\"}],\"parcoords\":[{\"line\":{\"colorbar\":{\"outlinewidth\":0,\"ticks\":\"\"}},\"type\":\"parcoords\"}],\"pie\":[{\"automargin\":true,\"type\":\"pie\"}],\"scatter3d\":[{\"line\":{\"colorbar\":{\"outlinewidth\":0,\"ticks\":\"\"}},\"marker\":{\"colorbar\":{\"outlinewidth\":0,\"ticks\":\"\"}},\"type\":\"scatter3d\"}],\"scattercarpet\":[{\"marker\":{\"colorbar\":{\"outlinewidth\":0,\"ticks\":\"\"}},\"type\":\"scattercarpet\"}],\"scattergeo\":[{\"marker\":{\"colorbar\":{\"outlinewidth\":0,\"ticks\":\"\"}},\"type\":\"scattergeo\"}],\"scattergl\":[{\"marker\":{\"colorbar\":{\"outlinewidth\":0,\"ticks\":\"\"}},\"type\":\"scattergl\"}],\"scattermapbox\":[{\"marker\":{\"colorbar\":{\"outlinewidth\":0,\"ticks\":\"\"}},\"type\":\"scattermapbox\"}],\"scatterpolargl\":[{\"marker\":{\"colorbar\":{\"outlinewidth\":0,\"ticks\":\"\"}},\"type\":\"scatterpolargl\"}],\"scatterpolar\":[{\"marker\":{\"colorbar\":{\"outlinewidth\":0,\"ticks\":\"\"}},\"type\":\"scatterpolar\"}],\"scatter\":[{\"fillpattern\":{\"fillmode\":\"overlay\",\"size\":10,\"solidity\":0.2},\"type\":\"scatter\"}],\"scatterternary\":[{\"marker\":{\"colorbar\":{\"outlinewidth\":0,\"ticks\":\"\"}},\"type\":\"scatterternary\"}],\"surface\":[{\"colorbar\":{\"outlinewidth\":0,\"ticks\":\"\"},\"colorscale\":[[0.0,\"#0d0887\"],[0.1111111111111111,\"#46039f\"],[0.2222222222222222,\"#7201a8\"],[0.3333333333333333,\"#9c179e\"],[0.4444444444444444,\"#bd3786\"],[0.5555555555555556,\"#d8576b\"],[0.6666666666666666,\"#ed7953\"],[0.7777777777777778,\"#fb9f3a\"],[0.8888888888888888,\"#fdca26\"],[1.0,\"#f0f921\"]],\"type\":\"surface\"}],\"table\":[{\"cells\":{\"fill\":{\"color\":\"#EBF0F8\"},\"line\":{\"color\":\"white\"}},\"header\":{\"fill\":{\"color\":\"#C8D4E3\"},\"line\":{\"color\":\"white\"}},\"type\":\"table\"}]},\"layout\":{\"annotationdefaults\":{\"arrowcolor\":\"#2a3f5f\",\"arrowhead\":0,\"arrowwidth\":1},\"autotypenumbers\":\"strict\",\"coloraxis\":{\"colorbar\":{\"outlinewidth\":0,\"ticks\":\"\"}},\"colorscale\":{\"diverging\":[[0,\"#8e0152\"],[0.1,\"#c51b7d\"],[0.2,\"#de77ae\"],[0.3,\"#f1b6da\"],[0.4,\"#fde0ef\"],[0.5,\"#f7f7f7\"],[0.6,\"#e6f5d0\"],[0.7,\"#b8e186\"],[0.8,\"#7fbc41\"],[0.9,\"#4d9221\"],[1,\"#276419\"]],\"sequential\":[[0.0,\"#0d0887\"],[0.1111111111111111,\"#46039f\"],[0.2222222222222222,\"#7201a8\"],[0.3333333333333333,\"#9c179e\"],[0.4444444444444444,\"#bd3786\"],[0.5555555555555556,\"#d8576b\"],[0.6666666666666666,\"#ed7953\"],[0.7777777777777778,\"#fb9f3a\"],[0.8888888888888888,\"#fdca26\"],[1.0,\"#f0f921\"]],\"sequentialminus\":[[0.0,\"#0d0887\"],[0.1111111111111111,\"#46039f\"],[0.2222222222222222,\"#7201a8\"],[0.3333333333333333,\"#9c179e\"],[0.4444444444444444,\"#bd3786\"],[0.5555555555555556,\"#d8576b\"],[0.6666666666666666,\"#ed7953\"],[0.7777777777777778,\"#fb9f3a\"],[0.8888888888888888,\"#fdca26\"],[1.0,\"#f0f921\"]]},\"colorway\":[\"#636efa\",\"#EF553B\",\"#00cc96\",\"#ab63fa\",\"#FFA15A\",\"#19d3f3\",\"#FF6692\",\"#B6E880\",\"#FF97FF\",\"#FECB52\"],\"font\":{\"color\":\"#2a3f5f\"},\"geo\":{\"bgcolor\":\"white\",\"lakecolor\":\"white\",\"landcolor\":\"#E5ECF6\",\"showlakes\":true,\"showland\":true,\"subunitcolor\":\"white\"},\"hoverlabel\":{\"align\":\"left\"},\"hovermode\":\"closest\",\"mapbox\":{\"style\":\"light\"},\"paper_bgcolor\":\"white\",\"plot_bgcolor\":\"#E5ECF6\",\"polar\":{\"angularaxis\":{\"gridcolor\":\"white\",\"linecolor\":\"white\",\"ticks\":\"\"},\"bgcolor\":\"#E5ECF6\",\"radialaxis\":{\"gridcolor\":\"white\",\"linecolor\":\"white\",\"ticks\":\"\"}},\"scene\":{\"xaxis\":{\"backgroundcolor\":\"#E5ECF6\",\"gridcolor\":\"white\",\"gridwidth\":2,\"linecolor\":\"white\",\"showbackground\":true,\"ticks\":\"\",\"zerolinecolor\":\"white\"},\"yaxis\":{\"backgroundcolor\":\"#E5ECF6\",\"gridcolor\":\"white\",\"gridwidth\":2,\"linecolor\":\"white\",\"showbackground\":true,\"ticks\":\"\",\"zerolinecolor\":\"white\"},\"zaxis\":{\"backgroundcolor\":\"#E5ECF6\",\"gridcolor\":\"white\",\"gridwidth\":2,\"linecolor\":\"white\",\"showbackground\":true,\"ticks\":\"\",\"zerolinecolor\":\"white\"}},\"shapedefaults\":{\"line\":{\"color\":\"#2a3f5f\"}},\"ternary\":{\"aaxis\":{\"gridcolor\":\"white\",\"linecolor\":\"white\",\"ticks\":\"\"},\"baxis\":{\"gridcolor\":\"white\",\"linecolor\":\"white\",\"ticks\":\"\"},\"bgcolor\":\"#E5ECF6\",\"caxis\":{\"gridcolor\":\"white\",\"linecolor\":\"white\",\"ticks\":\"\"}},\"title\":{\"x\":0.05},\"xaxis\":{\"automargin\":true,\"gridcolor\":\"white\",\"linecolor\":\"white\",\"ticks\":\"\",\"title\":{\"standoff\":15},\"zerolinecolor\":\"white\",\"zerolinewidth\":2},\"yaxis\":{\"automargin\":true,\"gridcolor\":\"white\",\"linecolor\":\"white\",\"ticks\":\"\",\"title\":{\"standoff\":15},\"zerolinecolor\":\"white\",\"zerolinewidth\":2}}},\"title\":{\"font\":{\"color\":\"#4D5663\"}},\"xaxis\":{\"anchor\":\"y\",\"domain\":[0.0,0.2125],\"gridcolor\":\"#E1E5ED\",\"showgrid\":false,\"tickfont\":{\"color\":\"#4D5663\"},\"title\":{\"font\":{\"color\":\"#4D5663\"},\"text\":\"\"},\"zerolinecolor\":\"#E1E5ED\"},\"yaxis\":{\"anchor\":\"x\",\"domain\":[0.8025,1.0],\"gridcolor\":\"#E1E5ED\",\"showgrid\":false,\"tickfont\":{\"color\":\"#4D5663\"},\"title\":{\"font\":{\"color\":\"#4D5663\"},\"text\":\"\"},\"zerolinecolor\":\"#E1E5ED\"},\"xaxis2\":{\"anchor\":\"y2\",\"domain\":[0.2625,0.475],\"gridcolor\":\"#E1E5ED\",\"showgrid\":false,\"tickfont\":{\"color\":\"#4D5663\"},\"title\":{\"font\":{\"color\":\"#4D5663\"},\"text\":\"\"},\"zerolinecolor\":\"#E1E5ED\"},\"yaxis2\":{\"anchor\":\"x2\",\"domain\":[0.8025,1.0],\"gridcolor\":\"#E1E5ED\",\"showgrid\":false,\"tickfont\":{\"color\":\"#4D5663\"},\"title\":{\"font\":{\"color\":\"#4D5663\"},\"text\":\"\"},\"zerolinecolor\":\"#E1E5ED\"},\"xaxis3\":{\"anchor\":\"y3\",\"domain\":[0.525,0.7375],\"gridcolor\":\"#E1E5ED\",\"showgrid\":false,\"tickfont\":{\"color\":\"#4D5663\"},\"title\":{\"font\":{\"color\":\"#4D5663\"},\"text\":\"\"},\"zerolinecolor\":\"#E1E5ED\"},\"yaxis3\":{\"anchor\":\"x3\",\"domain\":[0.8025,1.0],\"gridcolor\":\"#E1E5ED\",\"showgrid\":false,\"tickfont\":{\"color\":\"#4D5663\"},\"title\":{\"font\":{\"color\":\"#4D5663\"},\"text\":\"\"},\"zerolinecolor\":\"#E1E5ED\"},\"xaxis4\":{\"anchor\":\"y4\",\"domain\":[0.7875,1.0],\"gridcolor\":\"#E1E5ED\",\"showgrid\":false,\"tickfont\":{\"color\":\"#4D5663\"},\"title\":{\"font\":{\"color\":\"#4D5663\"},\"text\":\"\"},\"zerolinecolor\":\"#E1E5ED\"},\"yaxis4\":{\"anchor\":\"x4\",\"domain\":[0.8025,1.0],\"gridcolor\":\"#E1E5ED\",\"showgrid\":false,\"tickfont\":{\"color\":\"#4D5663\"},\"title\":{\"font\":{\"color\":\"#4D5663\"},\"text\":\"\"},\"zerolinecolor\":\"#E1E5ED\"},\"xaxis5\":{\"anchor\":\"y5\",\"domain\":[0.0,0.2125],\"gridcolor\":\"#E1E5ED\",\"showgrid\":false,\"tickfont\":{\"color\":\"#4D5663\"},\"title\":{\"font\":{\"color\":\"#4D5663\"},\"text\":\"\"},\"zerolinecolor\":\"#E1E5ED\"},\"yaxis5\":{\"anchor\":\"x5\",\"domain\":[0.535,0.7325],\"gridcolor\":\"#E1E5ED\",\"showgrid\":false,\"tickfont\":{\"color\":\"#4D5663\"},\"title\":{\"font\":{\"color\":\"#4D5663\"},\"text\":\"\"},\"zerolinecolor\":\"#E1E5ED\"},\"xaxis6\":{\"anchor\":\"y6\",\"domain\":[0.2625,0.475],\"gridcolor\":\"#E1E5ED\",\"showgrid\":false,\"tickfont\":{\"color\":\"#4D5663\"},\"title\":{\"font\":{\"color\":\"#4D5663\"},\"text\":\"\"},\"zerolinecolor\":\"#E1E5ED\"},\"yaxis6\":{\"anchor\":\"x6\",\"domain\":[0.535,0.7325],\"gridcolor\":\"#E1E5ED\",\"showgrid\":false,\"tickfont\":{\"color\":\"#4D5663\"},\"title\":{\"font\":{\"color\":\"#4D5663\"},\"text\":\"\"},\"zerolinecolor\":\"#E1E5ED\"},\"xaxis7\":{\"anchor\":\"y7\",\"domain\":[0.525,0.7375],\"gridcolor\":\"#E1E5ED\",\"showgrid\":false,\"tickfont\":{\"color\":\"#4D5663\"},\"title\":{\"font\":{\"color\":\"#4D5663\"},\"text\":\"\"},\"zerolinecolor\":\"#E1E5ED\"},\"yaxis7\":{\"anchor\":\"x7\",\"domain\":[0.535,0.7325],\"gridcolor\":\"#E1E5ED\",\"showgrid\":false,\"tickfont\":{\"color\":\"#4D5663\"},\"title\":{\"font\":{\"color\":\"#4D5663\"},\"text\":\"\"},\"zerolinecolor\":\"#E1E5ED\"},\"xaxis8\":{\"anchor\":\"y8\",\"domain\":[0.7875,1.0],\"gridcolor\":\"#E1E5ED\",\"showgrid\":false,\"tickfont\":{\"color\":\"#4D5663\"},\"title\":{\"font\":{\"color\":\"#4D5663\"},\"text\":\"\"},\"zerolinecolor\":\"#E1E5ED\"},\"yaxis8\":{\"anchor\":\"x8\",\"domain\":[0.535,0.7325],\"gridcolor\":\"#E1E5ED\",\"showgrid\":false,\"tickfont\":{\"color\":\"#4D5663\"},\"title\":{\"font\":{\"color\":\"#4D5663\"},\"text\":\"\"},\"zerolinecolor\":\"#E1E5ED\"},\"xaxis9\":{\"anchor\":\"y9\",\"domain\":[0.0,0.2125],\"gridcolor\":\"#E1E5ED\",\"showgrid\":false,\"tickfont\":{\"color\":\"#4D5663\"},\"title\":{\"font\":{\"color\":\"#4D5663\"},\"text\":\"\"},\"zerolinecolor\":\"#E1E5ED\"},\"yaxis9\":{\"anchor\":\"x9\",\"domain\":[0.2675,0.465],\"gridcolor\":\"#E1E5ED\",\"showgrid\":false,\"tickfont\":{\"color\":\"#4D5663\"},\"title\":{\"font\":{\"color\":\"#4D5663\"},\"text\":\"\"},\"zerolinecolor\":\"#E1E5ED\"},\"xaxis10\":{\"anchor\":\"y10\",\"domain\":[0.2625,0.475],\"gridcolor\":\"#E1E5ED\",\"showgrid\":false,\"tickfont\":{\"color\":\"#4D5663\"},\"title\":{\"font\":{\"color\":\"#4D5663\"},\"text\":\"\"},\"zerolinecolor\":\"#E1E5ED\"},\"yaxis10\":{\"anchor\":\"x10\",\"domain\":[0.2675,0.465],\"gridcolor\":\"#E1E5ED\",\"showgrid\":false,\"tickfont\":{\"color\":\"#4D5663\"},\"title\":{\"font\":{\"color\":\"#4D5663\"},\"text\":\"\"},\"zerolinecolor\":\"#E1E5ED\"},\"xaxis11\":{\"anchor\":\"y11\",\"domain\":[0.525,0.7375],\"gridcolor\":\"#E1E5ED\",\"showgrid\":false,\"tickfont\":{\"color\":\"#4D5663\"},\"title\":{\"font\":{\"color\":\"#4D5663\"},\"text\":\"\"},\"zerolinecolor\":\"#E1E5ED\"},\"yaxis11\":{\"anchor\":\"x11\",\"domain\":[0.2675,0.465],\"gridcolor\":\"#E1E5ED\",\"showgrid\":false,\"tickfont\":{\"color\":\"#4D5663\"},\"title\":{\"font\":{\"color\":\"#4D5663\"},\"text\":\"\"},\"zerolinecolor\":\"#E1E5ED\"},\"xaxis12\":{\"anchor\":\"y12\",\"domain\":[0.7875,1.0],\"gridcolor\":\"#E1E5ED\",\"showgrid\":false,\"tickfont\":{\"color\":\"#4D5663\"},\"title\":{\"font\":{\"color\":\"#4D5663\"},\"text\":\"\"},\"zerolinecolor\":\"#E1E5ED\"},\"yaxis12\":{\"anchor\":\"x12\",\"domain\":[0.2675,0.465],\"gridcolor\":\"#E1E5ED\",\"showgrid\":false,\"tickfont\":{\"color\":\"#4D5663\"},\"title\":{\"font\":{\"color\":\"#4D5663\"},\"text\":\"\"},\"zerolinecolor\":\"#E1E5ED\"},\"xaxis13\":{\"anchor\":\"y13\",\"domain\":[0.0,0.2125],\"gridcolor\":\"#E1E5ED\",\"showgrid\":false,\"tickfont\":{\"color\":\"#4D5663\"},\"title\":{\"font\":{\"color\":\"#4D5663\"},\"text\":\"\"},\"zerolinecolor\":\"#E1E5ED\"},\"yaxis13\":{\"anchor\":\"x13\",\"domain\":[0.0,0.1975],\"gridcolor\":\"#E1E5ED\",\"showgrid\":false,\"tickfont\":{\"color\":\"#4D5663\"},\"title\":{\"font\":{\"color\":\"#4D5663\"},\"text\":\"\"},\"zerolinecolor\":\"#E1E5ED\"},\"xaxis14\":{\"anchor\":\"y14\",\"domain\":[0.2625,0.475],\"gridcolor\":\"#E1E5ED\",\"showgrid\":false,\"tickfont\":{\"color\":\"#4D5663\"},\"title\":{\"font\":{\"color\":\"#4D5663\"},\"text\":\"\"},\"zerolinecolor\":\"#E1E5ED\"},\"yaxis14\":{\"anchor\":\"x14\",\"domain\":[0.0,0.1975],\"gridcolor\":\"#E1E5ED\",\"showgrid\":false,\"tickfont\":{\"color\":\"#4D5663\"},\"title\":{\"font\":{\"color\":\"#4D5663\"},\"text\":\"\"},\"zerolinecolor\":\"#E1E5ED\"},\"xaxis15\":{\"anchor\":\"y15\",\"domain\":[0.525,0.7375],\"gridcolor\":\"#E1E5ED\",\"showgrid\":false,\"tickfont\":{\"color\":\"#4D5663\"},\"title\":{\"font\":{\"color\":\"#4D5663\"},\"text\":\"\"},\"zerolinecolor\":\"#E1E5ED\"},\"yaxis15\":{\"anchor\":\"x15\",\"domain\":[0.0,0.1975],\"gridcolor\":\"#E1E5ED\",\"showgrid\":false,\"tickfont\":{\"color\":\"#4D5663\"},\"title\":{\"font\":{\"color\":\"#4D5663\"},\"text\":\"\"},\"zerolinecolor\":\"#E1E5ED\"},\"xaxis16\":{\"anchor\":\"y16\",\"domain\":[0.7875,1.0],\"gridcolor\":\"#E1E5ED\",\"showgrid\":false,\"tickfont\":{\"color\":\"#4D5663\"},\"title\":{\"font\":{\"color\":\"#4D5663\"},\"text\":\"\"},\"zerolinecolor\":\"#E1E5ED\"},\"yaxis16\":{\"anchor\":\"x16\",\"domain\":[0.0,0.1975],\"gridcolor\":\"#E1E5ED\",\"showgrid\":false,\"tickfont\":{\"color\":\"#4D5663\"},\"title\":{\"font\":{\"color\":\"#4D5663\"},\"text\":\"\"},\"zerolinecolor\":\"#E1E5ED\"}},                        {\"showLink\": true, \"linkText\": \"Export to plot.ly\", \"plotlyServerURL\": \"https://plot.ly\", \"responsive\": true}                    ).then(function(){\n",
       "                            \n",
       "var gd = document.getElementById('c745c480-991b-4367-aa1f-ee554c2cbc46');\n",
       "var x = new MutationObserver(function (mutations, observer) {{\n",
       "        var display = window.getComputedStyle(gd).display;\n",
       "        if (!display || display === 'none') {{\n",
       "            console.log([gd, 'removed!']);\n",
       "            Plotly.purge(gd);\n",
       "            observer.disconnect();\n",
       "        }}\n",
       "}});\n",
       "\n",
       "// Listen for the removal of the full notebook cells\n",
       "var notebookContainer = gd.closest('#notebook-container');\n",
       "if (notebookContainer) {{\n",
       "    x.observe(notebookContainer, {childList: true});\n",
       "}}\n",
       "\n",
       "// Listen for the clearing of the current output cell\n",
       "var outputEl = gd.closest('.output');\n",
       "if (outputEl) {{\n",
       "    x.observe(outputEl, {childList: true});\n",
       "}}\n",
       "\n",
       "                        })                };                });            </script>        </div>"
      ]
     },
     "metadata": {},
     "output_type": "display_data"
    }
   ],
   "source": [
    "df.scatter_matrix()"
   ]
  },
  {
   "cell_type": "markdown",
   "metadata": {
    "collapsed": true
   },
   "source": [
    "# Great Job!"
   ]
  }
 ],
 "metadata": {
  "kernelspec": {
   "display_name": "Python 3 (ipykernel)",
   "language": "python",
   "name": "python3"
  },
  "language_info": {
   "codemirror_mode": {
    "name": "ipython",
    "version": 3
   },
   "file_extension": ".py",
   "mimetype": "text/x-python",
   "name": "python",
   "nbconvert_exporter": "python",
   "pygments_lexer": "ipython3",
   "version": "3.10.9"
  }
 },
 "nbformat": 4,
 "nbformat_minor": 1
}
