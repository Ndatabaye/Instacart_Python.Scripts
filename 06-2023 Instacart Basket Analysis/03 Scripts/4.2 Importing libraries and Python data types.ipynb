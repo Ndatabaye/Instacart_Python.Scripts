{
 "cells": [
  {
   "cell_type": "markdown",
   "id": "d12fa12d",
   "metadata": {},
   "source": [
    "# 01. Importing Libraries"
   ]
  },
  {
   "cell_type": "code",
   "execution_count": 2,
   "id": "65068c50",
   "metadata": {},
   "outputs": [],
   "source": [
    "# Import Libraries\n",
    "import pandas as pd\n",
    "import numpy as np\n",
    "import os"
   ]
  },
  {
   "cell_type": "markdown",
   "id": "e3385a79",
   "metadata": {},
   "source": [
    "# 02. Panda Data Types"
   ]
  },
  {
   "cell_type": "code",
   "execution_count": 3,
   "id": "9c7339d9",
   "metadata": {},
   "outputs": [],
   "source": [
    "a=50"
   ]
  },
  {
   "cell_type": "code",
   "execution_count": 4,
   "id": "0ebc701c",
   "metadata": {},
   "outputs": [],
   "source": [
    "b=50"
   ]
  },
  {
   "cell_type": "code",
   "execution_count": 5,
   "id": "a80cb6b9",
   "metadata": {},
   "outputs": [],
   "source": [
    "result=a+b"
   ]
  },
  {
   "cell_type": "code",
   "execution_count": 6,
   "id": "62e65830",
   "metadata": {},
   "outputs": [
    {
     "name": "stdout",
     "output_type": "stream",
     "text": [
      "100\n"
     ]
    }
   ],
   "source": [
    "print(result)"
   ]
  },
  {
   "cell_type": "code",
   "execution_count": 7,
   "id": "eab2a525",
   "metadata": {},
   "outputs": [],
   "source": [
    "a=250"
   ]
  },
  {
   "cell_type": "code",
   "execution_count": 8,
   "id": "7e4a469c",
   "metadata": {},
   "outputs": [],
   "source": [
    "b=50"
   ]
  },
  {
   "cell_type": "code",
   "execution_count": 9,
   "id": "b4df754d",
   "metadata": {},
   "outputs": [],
   "source": [
    "c=100"
   ]
  },
  {
   "cell_type": "code",
   "execution_count": 10,
   "id": "dc0ccc35",
   "metadata": {},
   "outputs": [],
   "source": [
    "result=a-b-c"
   ]
  },
  {
   "cell_type": "code",
   "execution_count": 11,
   "id": "13c789dd",
   "metadata": {},
   "outputs": [
    {
     "name": "stdout",
     "output_type": "stream",
     "text": [
      "100\n"
     ]
    }
   ],
   "source": [
    "print(result)"
   ]
  },
  {
   "cell_type": "code",
   "execution_count": 12,
   "id": "f17e45f4",
   "metadata": {},
   "outputs": [],
   "source": [
    "a=250"
   ]
  },
  {
   "cell_type": "code",
   "execution_count": 13,
   "id": "d17b3685",
   "metadata": {},
   "outputs": [],
   "source": [
    "b=50"
   ]
  },
  {
   "cell_type": "code",
   "execution_count": 14,
   "id": "c601e58a",
   "metadata": {},
   "outputs": [],
   "source": [
    "c=200"
   ]
  },
  {
   "cell_type": "code",
   "execution_count": 15,
   "id": "df514ad3",
   "metadata": {},
   "outputs": [],
   "source": [
    "result=(a+b)-c"
   ]
  },
  {
   "cell_type": "code",
   "execution_count": 16,
   "id": "4d13ce30",
   "metadata": {},
   "outputs": [
    {
     "name": "stdout",
     "output_type": "stream",
     "text": [
      "100\n"
     ]
    }
   ],
   "source": [
    "print(result)"
   ]
  },
  {
   "cell_type": "code",
   "execution_count": 17,
   "id": "efd44c8a",
   "metadata": {},
   "outputs": [],
   "source": [
    "d=75.50"
   ]
  },
  {
   "cell_type": "code",
   "execution_count": 18,
   "id": "e515d30a",
   "metadata": {},
   "outputs": [],
   "source": [
    "e=25.0"
   ]
  },
  {
   "cell_type": "code",
   "execution_count": 19,
   "id": "9e62fdbb",
   "metadata": {},
   "outputs": [],
   "source": [
    "result=d/e"
   ]
  },
  {
   "cell_type": "code",
   "execution_count": 20,
   "id": "0d75fb1a",
   "metadata": {},
   "outputs": [
    {
     "name": "stdout",
     "output_type": "stream",
     "text": [
      "3.02\n"
     ]
    }
   ],
   "source": [
    "print(result)"
   ]
  },
  {
   "cell_type": "code",
   "execution_count": 21,
   "id": "2b6bcc66",
   "metadata": {},
   "outputs": [],
   "source": [
    "f='da'"
   ]
  },
  {
   "cell_type": "code",
   "execution_count": 22,
   "id": "b94c3def",
   "metadata": {},
   "outputs": [],
   "source": [
    "g='ta'"
   ]
  },
  {
   "cell_type": "code",
   "execution_count": 23,
   "id": "871cd52d",
   "metadata": {},
   "outputs": [],
   "source": [
    "result=f+g"
   ]
  },
  {
   "cell_type": "code",
   "execution_count": 24,
   "id": "fbede6a6",
   "metadata": {},
   "outputs": [
    {
     "name": "stdout",
     "output_type": "stream",
     "text": [
      "data\n"
     ]
    }
   ],
   "source": [
    "print(result)"
   ]
  },
  {
   "cell_type": "code",
   "execution_count": 25,
   "id": "29b0680d",
   "metadata": {},
   "outputs": [],
   "source": [
    "h='I have to say,'"
   ]
  },
  {
   "cell_type": "code",
   "execution_count": 26,
   "id": "ef971130",
   "metadata": {},
   "outputs": [],
   "source": [
    "i='I find this new achievement interesting already.'"
   ]
  },
  {
   "cell_type": "code",
   "execution_count": 27,
   "id": "97e14086",
   "metadata": {},
   "outputs": [],
   "source": [
    "result=h+i"
   ]
  },
  {
   "cell_type": "code",
   "execution_count": 28,
   "id": "cf717205",
   "metadata": {},
   "outputs": [
    {
     "name": "stdout",
     "output_type": "stream",
     "text": [
      "I have to say,I find this new achievement interesting already.\n"
     ]
    }
   ],
   "source": [
    "print(result)"
   ]
  },
  {
   "cell_type": "code",
   "execution_count": 29,
   "id": "c3a4398d",
   "metadata": {},
   "outputs": [],
   "source": [
    "j='data'"
   ]
  },
  {
   "cell_type": "code",
   "execution_count": 30,
   "id": "c7db12e8",
   "metadata": {},
   "outputs": [],
   "source": [
    "result=j*100"
   ]
  },
  {
   "cell_type": "code",
   "execution_count": 31,
   "id": "9af99ec5",
   "metadata": {},
   "outputs": [
    {
     "name": "stdout",
     "output_type": "stream",
     "text": [
      "datadatadatadatadatadatadatadatadatadatadatadatadatadatadatadatadatadatadatadatadatadatadatadatadatadatadatadatadatadatadatadatadatadatadatadatadatadatadatadatadatadatadatadatadatadatadatadatadatadatadatadatadatadatadatadatadatadatadatadatadatadatadatadatadatadatadatadatadatadatadatadatadatadatadatadatadatadatadatadatadatadatadatadatadatadatadatadatadatadatadatadatadatadatadatadatadatadatadatadata\n"
     ]
    }
   ],
   "source": [
    "print(result)"
   ]
  },
  {
   "cell_type": "code",
   "execution_count": null,
   "id": "4598816b",
   "metadata": {},
   "outputs": [],
   "source": []
  }
 ],
 "metadata": {
  "kernelspec": {
   "display_name": "Python 3 (ipykernel)",
   "language": "python",
   "name": "python3"
  },
  "language_info": {
   "codemirror_mode": {
    "name": "ipython",
    "version": 3
   },
   "file_extension": ".py",
   "mimetype": "text/x-python",
   "name": "python",
   "nbconvert_exporter": "python",
   "pygments_lexer": "ipython3",
   "version": "3.10.9"
  }
 },
 "nbformat": 4,
 "nbformat_minor": 5
}
